{
 "cells": [
  {
   "cell_type": "markdown",
   "id": "b38116c4",
   "metadata": {},
   "source": [
    "# Import library"
   ]
  },
  {
   "cell_type": "markdown",
   "id": "57443fd7",
   "metadata": {},
   "source": [
    "# Data Preprocessing"
   ]
  },
  {
   "cell_type": "code",
   "execution_count": 4,
   "id": "61ce0bd7",
   "metadata": {},
   "outputs": [],
   "source": [
    "import numpy as np\n",
    "import pandas as pd\n",
    "import matplotlib.pyplot as plt\n",
    "import seaborn as sns\n",
    "\n",
    "from matplotlib import font_manager, rc\n",
    "%matplotlib inline\n",
    "\n",
    "import platform\n",
    "your_os = platform.system()\n",
    "if your_os == 'Linux':\n",
    "    rc('font', family='NanumGothic')\n",
    "elif your_os == 'Windows':\n",
    "    ttf = \"c:/Windows/Fonts/malgun.ttf\"\n",
    "    font_name = font_manager.FontProperties(fname=ttf).get_name()\n",
    "    rc('font', family=font_name)\n",
    "elif your_os == 'Darwin':\n",
    "    rc('font', family='AppleGothic')\n",
    "rc('axes', unicode_minus=False)\n",
    "\n",
    "\n",
    "# 배경색 흰색으로 맞춰줌\n",
    "import matplotlib as mpl\n",
    "mpl.rc('figure', facecolor = 'w', edgecolor ='w')"
   ]
  },
  {
   "cell_type": "code",
   "execution_count": 5,
   "id": "f866aaeb",
   "metadata": {},
   "outputs": [],
   "source": [
    "# Data Load\n",
    "demo = pd.read_csv('../data/LPOINT_BIG_COMP_01_DEMO.csv', low_memory=False)\n",
    "pdde = pd.read_csv('../data/LPOINT_BIG_COMP_02_PDDE.csv', low_memory=False)\n",
    "cop = pd.read_csv('../data/LPOINT_BIG_COMP_03_COP_U.csv', low_memory=False)\n",
    "clac = pd.read_csv('../data/LPOINT_BIG_COMP_04_PD_CLAC.csv', low_memory=False)\n",
    "br = pd.read_csv('../data/LPOINT_BIG_COMP_05_BR.csv', low_memory=False)\n",
    "lpay = pd.read_csv('../data/LPOINT_BIG_COMP_06_LPAY.csv', low_memory=False)\n",
    "\n",
    "# Column명 변경\n",
    "demo.columns = ['고객번호', '성별', '연령대', '거주지대분류코드']\n",
    "pdde.columns = ['고객번호', '영수증번호', '채널구분', '제휴사', '점포코드', '상품코드', '구매일자', '구매시간', '구매금액', '구매수량']\n",
    "cop.columns = ['고객번호', '영수증번호', '제휴사', '점포코드', '채널구분', '이용일자', '방문일자', '이용시간', '이용금액']\n",
    "clac.columns = ['상품코드', '소분류명', '대분류명', '중분류명']\n",
    "br.columns = ['점포코드', '제휴사', '점포대분류코드', '점포중분류코드']\n",
    "lpay.columns = ['고객번호', '영수증번호', '제휴사', '채널구분', '이용일자', '이용시간', '이용금액']"
   ]
  },
  {
   "cell_type": "markdown",
   "id": "2dc02e7b",
   "metadata": {},
   "source": [
    "### [1. demo]: Demo"
   ]
  },
  {
   "cell_type": "code",
   "execution_count": 6,
   "id": "45cf02e1",
   "metadata": {},
   "outputs": [],
   "source": [
    "# demo.head(3)"
   ]
  },
  {
   "cell_type": "code",
   "execution_count": 7,
   "id": "5ad9769e",
   "metadata": {},
   "outputs": [],
   "source": [
    "# # 데이터 타입 확인\n",
    "# demo.info()"
   ]
  },
  {
   "cell_type": "code",
   "execution_count": 8,
   "id": "5f855724",
   "metadata": {},
   "outputs": [],
   "source": [
    "# # 결측치 확인\n",
    "# demo.isna().sum()"
   ]
  },
  {
   "cell_type": "code",
   "execution_count": 9,
   "id": "2b8aa580",
   "metadata": {},
   "outputs": [],
   "source": [
    "# # 데이터 갯수 확인\n",
    "# demo.nunique()"
   ]
  },
  {
   "cell_type": "code",
   "execution_count": 10,
   "id": "ad8d0667",
   "metadata": {},
   "outputs": [],
   "source": [
    "# # 성별\n",
    "# plt.figure(figsize = (7, 4))\n",
    "# sns.countplot(x='성별', data=demo)\n",
    "# plt.show()"
   ]
  },
  {
   "cell_type": "code",
   "execution_count": 11,
   "id": "dbc9e665",
   "metadata": {},
   "outputs": [],
   "source": [
    "# # 연령대\n",
    "# plt.figure(figsize = (7, 4))\n",
    "# sns.countplot(x='연령대', data=demo)\n",
    "# plt.show()"
   ]
  },
  {
   "cell_type": "code",
   "execution_count": 12,
   "id": "50ecb80d",
   "metadata": {},
   "outputs": [],
   "source": [
    "# # 거주지대분류코드\n",
    "# plt.figure(figsize = (7, 4))\n",
    "# sns.countplot(x='거주지대분류코드', data=demo)\n",
    "# plt.show()"
   ]
  },
  {
   "cell_type": "markdown",
   "id": "d69bb365",
   "metadata": {},
   "source": [
    "### [2. pdde]: 상품 구매 정보"
   ]
  },
  {
   "cell_type": "code",
   "execution_count": 13,
   "id": "97045104",
   "metadata": {},
   "outputs": [],
   "source": [
    "# pdde.head(3)"
   ]
  },
  {
   "cell_type": "code",
   "execution_count": 14,
   "id": "154538ca",
   "metadata": {},
   "outputs": [],
   "source": [
    "# 중복되는 행 제거 -> 데이터 추출시 고객, 상품 각각 추출하여 중복이 발생한 것으로 판단함\n",
    "pdde.drop_duplicates(subset=None, keep='first', inplace=True, ignore_index=False)"
   ]
  },
  {
   "cell_type": "code",
   "execution_count": 15,
   "id": "57ce4ffd",
   "metadata": {},
   "outputs": [],
   "source": [
    "# # 데이터 타입 확인\n",
    "# pdde.info()"
   ]
  },
  {
   "cell_type": "code",
   "execution_count": 16,
   "id": "d9180f82",
   "metadata": {},
   "outputs": [],
   "source": [
    "# # 결측치 확인\n",
    "# pdde.isna().sum()"
   ]
  },
  {
   "cell_type": "code",
   "execution_count": 17,
   "id": "4e029d6f",
   "metadata": {},
   "outputs": [],
   "source": [
    "# # 상품 구매 정보 테이블 내에 점포 코드 결측치는 온라인으로 주문한 것을 확인할 수 있음. 온라인으로 주문한 뒤에 택배로 수령\n",
    "# pdde[pdde['점포코드'].isna()]['채널구분'].unique()"
   ]
  },
  {
   "cell_type": "code",
   "execution_count": 18,
   "id": "93c7dfc1",
   "metadata": {},
   "outputs": [],
   "source": [
    "# 결측치 치환 -> na값을 온라인으로 채워줌\n",
    "pdde['점포코드'] = pdde['점포코드'].fillna('온라인')"
   ]
  },
  {
   "cell_type": "code",
   "execution_count": 19,
   "id": "375ec87f",
   "metadata": {},
   "outputs": [],
   "source": [
    "# # 데이터 갯수 확인\n",
    "# pdde.nunique()"
   ]
  },
  {
   "cell_type": "code",
   "execution_count": 20,
   "id": "1416fd35",
   "metadata": {},
   "outputs": [],
   "source": [
    "# # 채널구분\n",
    "# plt.figure(figsize = (7, 4))\n",
    "# sns.countplot(x='채널구분', data=pdde)\n",
    "# plt.show()"
   ]
  },
  {
   "cell_type": "code",
   "execution_count": 21,
   "id": "01572d52",
   "metadata": {},
   "outputs": [],
   "source": [
    "# # 제휴사\n",
    "# plt.figure(figsize = (7, 4))\n",
    "# sns.countplot(x='제휴사', data=pdde)\n",
    "# plt.show()"
   ]
  },
  {
   "cell_type": "code",
   "execution_count": 22,
   "id": "ba055d2b",
   "metadata": {},
   "outputs": [],
   "source": [
    "# # 구매시간\n",
    "# plt.figure(figsize = (7, 4))\n",
    "# sns.countplot(x='구매시간', data=pdde)\n",
    "# plt.show()"
   ]
  },
  {
   "cell_type": "markdown",
   "id": "ca6088d3",
   "metadata": {},
   "source": [
    "### [3. cop]: 제휴사 이용 정보"
   ]
  },
  {
   "cell_type": "code",
   "execution_count": 23,
   "id": "8bb89c47",
   "metadata": {},
   "outputs": [],
   "source": [
    "# cop.head(3)"
   ]
  },
  {
   "cell_type": "code",
   "execution_count": 24,
   "id": "4823c9a8",
   "metadata": {},
   "outputs": [],
   "source": [
    "# # 데이터 타입 확인\n",
    "# cop.info()"
   ]
  },
  {
   "cell_type": "code",
   "execution_count": 25,
   "id": "5cfce343",
   "metadata": {},
   "outputs": [],
   "source": [
    "# # 결측치 확인\n",
    "# cop.isna().sum()"
   ]
  },
  {
   "cell_type": "code",
   "execution_count": 26,
   "id": "1e81a384",
   "metadata": {},
   "outputs": [],
   "source": [
    "# # 제휴사 이용 정보 테이블 내에 점포 코드 결측치는 온라인으로 주문한 것을 확인할 수 있음. 온라인으로 주문한 뒤에 택배로 수령\n",
    "# cop[cop['점포코드'].isna()]['채널구분'].unique()"
   ]
  },
  {
   "cell_type": "code",
   "execution_count": 24,
   "id": "d27ac9ca",
   "metadata": {},
   "outputs": [],
   "source": [
    "# 결측치 치환\n",
    "cop['점포코드'] = cop['점포코드'].fillna('온라인')"
   ]
  },
  {
   "cell_type": "code",
   "execution_count": 27,
   "id": "31d5f219",
   "metadata": {},
   "outputs": [],
   "source": [
    "# # 데이터 갯수 확인\n",
    "# cop.nunique()"
   ]
  },
  {
   "cell_type": "code",
   "execution_count": 28,
   "id": "38aa56ae",
   "metadata": {},
   "outputs": [],
   "source": [
    "# # 채널구분\n",
    "# plt.figure(figsize = (7, 4))\n",
    "# sns.countplot(x='채널구분', data=cop)\n",
    "# plt.show()"
   ]
  },
  {
   "cell_type": "code",
   "execution_count": 29,
   "id": "8887b51d",
   "metadata": {},
   "outputs": [],
   "source": [
    "# # 제휴사\n",
    "# plt.figure(figsize = (7, 4))\n",
    "# sns.countplot(x='제휴사', data=cop)\n",
    "# plt.show()"
   ]
  },
  {
   "cell_type": "code",
   "execution_count": 30,
   "id": "c18971f7",
   "metadata": {},
   "outputs": [],
   "source": [
    "# # 이용시간\n",
    "# plt.figure(figsize = (7, 4))\n",
    "# sns.countplot(x='이용시간', data=cop)\n",
    "# plt.show()"
   ]
  },
  {
   "cell_type": "markdown",
   "id": "c1ae4cd6",
   "metadata": {},
   "source": [
    "### [4. clac]: 상품 분류 정보"
   ]
  },
  {
   "cell_type": "code",
   "execution_count": 31,
   "id": "fc8349ca",
   "metadata": {},
   "outputs": [],
   "source": [
    "# clac.head(3)"
   ]
  },
  {
   "cell_type": "code",
   "execution_count": 32,
   "id": "65a02e86",
   "metadata": {},
   "outputs": [],
   "source": [
    "# # 데이터 타입 확인\n",
    "# clac.info()"
   ]
  },
  {
   "cell_type": "code",
   "execution_count": 33,
   "id": "a45f5e42",
   "metadata": {},
   "outputs": [],
   "source": [
    "# # 결측치 확인\n",
    "# clac.isna().sum()"
   ]
  },
  {
   "cell_type": "code",
   "execution_count": 34,
   "id": "9fcf7bb7",
   "metadata": {},
   "outputs": [],
   "source": [
    "# # 데이터 갯수 확인\n",
    "# clac.nunique()"
   ]
  },
  {
   "cell_type": "markdown",
   "id": "7f2c0e73",
   "metadata": {},
   "source": [
    "### [5. br]: 점포 정보"
   ]
  },
  {
   "cell_type": "code",
   "execution_count": 35,
   "id": "5b604039",
   "metadata": {},
   "outputs": [],
   "source": [
    "# br.head(3)"
   ]
  },
  {
   "cell_type": "code",
   "execution_count": 36,
   "id": "18e5c9c2",
   "metadata": {},
   "outputs": [],
   "source": [
    "# # 데이터 타입 확인\n",
    "# br.info()"
   ]
  },
  {
   "cell_type": "code",
   "execution_count": 37,
   "id": "1aa87240",
   "metadata": {},
   "outputs": [],
   "source": [
    "# # 결측치 확인\n",
    "# br.isna().sum()"
   ]
  },
  {
   "cell_type": "code",
   "execution_count": 38,
   "id": "d30b39eb",
   "metadata": {},
   "outputs": [],
   "source": [
    "# # 데이터 갯수 확인\n",
    "# br.nunique()"
   ]
  },
  {
   "cell_type": "code",
   "execution_count": 39,
   "id": "1d3c7cd9",
   "metadata": {},
   "outputs": [],
   "source": [
    "# # 제휴사\n",
    "# plt.figure(figsize = (7, 4))\n",
    "# sns.countplot(x='제휴사', data=br)\n",
    "# plt.show()"
   ]
  },
  {
   "cell_type": "code",
   "execution_count": 40,
   "id": "39f6558b",
   "metadata": {},
   "outputs": [],
   "source": [
    "# # 점포대분류코드\n",
    "# plt.figure(figsize = (7, 4))\n",
    "# sns.countplot(x='점포대분류코드', data=br)\n",
    "# plt.show()"
   ]
  },
  {
   "cell_type": "markdown",
   "id": "abfa38eb",
   "metadata": {},
   "source": [
    "### [6. lpay]: 엘페이 이용"
   ]
  },
  {
   "cell_type": "code",
   "execution_count": 41,
   "id": "6239703e",
   "metadata": {},
   "outputs": [],
   "source": [
    "# lpay.head(3)"
   ]
  },
  {
   "cell_type": "code",
   "execution_count": 42,
   "id": "c7667cea",
   "metadata": {},
   "outputs": [],
   "source": [
    "# # 데이터 타입 확인\n",
    "# lpay.info()"
   ]
  },
  {
   "cell_type": "code",
   "execution_count": 43,
   "id": "ed028118",
   "metadata": {},
   "outputs": [],
   "source": [
    "# # 결측치 확인\n",
    "# lpay.isna().sum()"
   ]
  },
  {
   "cell_type": "code",
   "execution_count": 44,
   "id": "3263eaa6",
   "metadata": {},
   "outputs": [],
   "source": [
    "# # 데이터 갯수 확인\n",
    "# lpay.nunique()"
   ]
  },
  {
   "cell_type": "code",
   "execution_count": 45,
   "id": "63766a5e",
   "metadata": {},
   "outputs": [],
   "source": [
    "# # 제휴사\n",
    "# plt.figure(figsize = (7, 4))\n",
    "# sns.countplot(x='제휴사', data=lpay)\n",
    "# plt.show()"
   ]
  },
  {
   "cell_type": "code",
   "execution_count": 46,
   "id": "c5918201",
   "metadata": {},
   "outputs": [],
   "source": [
    "# # 채널구분\n",
    "# plt.figure(figsize = (7, 4))\n",
    "# sns.countplot(x='채널구분', data=lpay)\n",
    "# plt.show()"
   ]
  },
  {
   "cell_type": "code",
   "execution_count": 47,
   "id": "a9e5faf8",
   "metadata": {},
   "outputs": [],
   "source": [
    "# # 이용시간\n",
    "# plt.figure(figsize = (7, 4))\n",
    "# sns.countplot(x='이용시간', data=lpay)\n",
    "# plt.show()"
   ]
  },
  {
   "cell_type": "markdown",
   "id": "df2c5ec6",
   "metadata": {},
   "source": [
    "# Data Merge"
   ]
  },
  {
   "cell_type": "code",
   "execution_count": 49,
   "id": "7b7881e8",
   "metadata": {},
   "outputs": [],
   "source": [
    "# # 데이터 크기 확인\n",
    "# print('pdde :',pdde.shape)\n",
    "# print('copu :',cop.shape)\n",
    "# print('lpay :',lpay.shape)"
   ]
  },
  {
   "cell_type": "code",
   "execution_count": 50,
   "id": "64fbe495",
   "metadata": {},
   "outputs": [],
   "source": [
    "# # 칼럼별 상관관계 확인\n",
    "# # 제휴사 테이블 중에서 방문일자와 이용일자는 상관관계가 상당히 높게 나타남을 확인\n",
    "# # 제휴사 테이블 내 방문일자 제거\n",
    "# plt.figure(figsize=(15,15))\n",
    "# sns.heatmap(data = cop.corr(), annot=True,fmt = '.2f', linewidths=.5, cmap='Blues')"
   ]
  },
  {
   "cell_type": "code",
   "execution_count": 51,
   "id": "b57c84f9",
   "metadata": {},
   "outputs": [],
   "source": [
    "# 데이터를 통합하기 위하여 칼럼 통합\n",
    "pdde['타입'] = 'Product'\n",
    "cop['타입'] = 'Affiliate'\n",
    "lpay['타입'] = 'Lpay'\n",
    "pdde['방문일자'] = 0\n",
    "lpay['방문일자'] = 0\n",
    "cop['구매수량'] = 0\n",
    "cop['상품코드'] = np.nan\n",
    "lpay['점포코드'] = np.nan\n",
    "lpay['상품코드'] = np.nan\n",
    "lpay['구매수량'] = 0"
   ]
  },
  {
   "cell_type": "code",
   "execution_count": 52,
   "id": "ae25f45d",
   "metadata": {},
   "outputs": [],
   "source": [
    "# 칼럼명을 새롭게 동일하게 통일\n",
    "cop.columns = ['고객번호', '영수증번호', '제휴사', '점포코드', '채널구분', '구매일자', '방문일자', '구매시간', '구매금액', '타입', '구매수량', '상품코드']\n",
    "lpay.columns = ['고객번호', '영수증번호', '제휴사', '채널구분', '구매일자', '구매시간', '구매금액', '타입', '방문일자', '점포코드', '상품코드', '구매수량']\n",
    "\n",
    "# 상품구매데이터를 기준으로 하여 열을 통일\n",
    "cop = cop[['고객번호', '영수증번호', '채널구분', '제휴사', '점포코드', '상품코드', '구매일자', '방문일자', '구매시간', '구매금액', '구매수량', '타입']]\n",
    "lpay = lpay[['고객번호', '영수증번호', '채널구분', '제휴사', '점포코드', '상품코드', '구매일자', '방문일자', '구매시간', '구매금액', '구매수량', '타입']]\n",
    "\n",
    "# 데이터 타입 변경\n",
    "lpay['영수증번호'] = lpay['영수증번호'].astype('object')\n",
    "lpay['점포코드'] = lpay['점포코드'].astype('object')\n",
    "cop['상품코드'] = cop['상품코드'].astype('object')\n",
    "lpay['상품코드'] = lpay['상품코드'].astype('object')\n",
    "pdde['구매금액'] = pdde['구매금액'].astype('int')\n",
    "pdde['방문일자'] = pdde['방문일자'].astype('int64')\n",
    "lpay['방문일자'] = lpay['방문일자'].astype('int64')"
   ]
  },
  {
   "cell_type": "code",
   "execution_count": 53,
   "id": "54609bc9",
   "metadata": {},
   "outputs": [],
   "source": [
    "# 데이터 concat\n",
    "df = pd.concat([pdde,cop,lpay])\n",
    "# 고객 정보 테이븛 통합\n",
    "df = pd.merge(df, demo, on = ['고객번호'], how = 'left')\n",
    "# 상품 분류 테이블 통합\n",
    "df = pd.merge(df, br, on = ['점포코드','제휴사'], how = 'left')\n",
    "# 점포 정보 테이블 통합\n",
    "df = pd.merge(df, clac, on = ['상품코드'], how = 'left')"
   ]
  },
  {
   "cell_type": "code",
   "execution_count": 54,
   "id": "68ee68e5",
   "metadata": {},
   "outputs": [
    {
     "data": {
      "text/plain": [
       "고객번호             0\n",
       "영수증번호            0\n",
       "채널구분             0\n",
       "제휴사              0\n",
       "점포코드        353239\n",
       "상품코드        601488\n",
       "구매일자             0\n",
       "구매시간             0\n",
       "구매금액             0\n",
       "구매수량             0\n",
       "타입               0\n",
       "방문일자             0\n",
       "성별               0\n",
       "연령대              0\n",
       "거주지대분류코드         0\n",
       "점포대분류코드     729023\n",
       "점포중분류코드     729023\n",
       "소분류명        601488\n",
       "대분류명        601488\n",
       "중분류명        601488\n",
       "dtype: int64"
      ]
     },
     "execution_count": 54,
     "metadata": {},
     "output_type": "execute_result"
    }
   ],
   "source": [
    "# 결측치 확인\n",
    "df.isnull().sum()"
   ]
  },
  {
   "cell_type": "code",
   "execution_count": 52,
   "id": "a0dde077",
   "metadata": {},
   "outputs": [],
   "source": [
    "# print('<엘페이>')\n",
    "# print(lpay.isnull().sum())\n",
    "# print('<제휴사>')\n",
    "# print(cop.isnull().sum())\n",
    "# print('<상품구매>')\n",
    "# print(pdde.isnull().sum())"
   ]
  },
  {
   "cell_type": "code",
   "execution_count": 53,
   "id": "7ebb755f",
   "metadata": {},
   "outputs": [],
   "source": [
    "# data = df.copy()"
   ]
  },
  {
   "cell_type": "code",
   "execution_count": 54,
   "id": "3d67e0bf",
   "metadata": {},
   "outputs": [],
   "source": [
    "# # 데이터 분리\n",
    "# df1 = data[data['타입']== 'Product']\n",
    "# df2 = data[data['타입']== 'Affiliate']\n",
    "# df3 = data[data['타입']== 'Lpay']"
   ]
  },
  {
   "cell_type": "code",
   "execution_count": 55,
   "id": "d907241f",
   "metadata": {},
   "outputs": [],
   "source": [
    "df['날짜'] = df['구매일자'].astype(str)\n",
    "df['날짜'] = pd.to_datetime(df['날짜'])\n",
    "# df['날짜'] = df['날짜'].dt.tz_localize('UTC')"
   ]
  },
  {
   "cell_type": "code",
   "execution_count": 56,
   "id": "1f5ad893",
   "metadata": {},
   "outputs": [],
   "source": [
    "df = df.sort_values(by=['날짜'], ascending=[True])\n",
    "df['diff'] = df.groupby('고객번호')['날짜'].diff().fillna('0').astype(str)\n",
    "df['diff'] = df['diff'].apply(lambda x: int(x.split()[0]))"
   ]
  },
  {
   "cell_type": "code",
   "execution_count": 57,
   "id": "86eb86df",
   "metadata": {},
   "outputs": [
    {
     "data": {
      "text/plain": [
       "321"
      ]
     },
     "execution_count": 57,
     "metadata": {},
     "output_type": "execute_result"
    }
   ],
   "source": [
    "df['diff'].nunique()"
   ]
  },
  {
   "cell_type": "code",
   "execution_count": 63,
   "id": "6bfd2423",
   "metadata": {},
   "outputs": [],
   "source": [
    "imp = df.groupby('고객번호')[['영수증번호']].count().reset_index()\n",
    "\n",
    "# 구매를 가장 많이한 고객의 고객번호\n",
    "# imp[imp['영수증번호']==13636]"
   ]
  },
  {
   "cell_type": "code",
   "execution_count": 197,
   "id": "b80192bc",
   "metadata": {},
   "outputs": [],
   "source": [
    "# # 구매횟수별로 정렬\n",
    "# imp.sort_values(by=['영수증번호'], ascending=[False])"
   ]
  },
  {
   "cell_type": "code",
   "execution_count": 66,
   "id": "64ad6a6a",
   "metadata": {},
   "outputs": [
    {
     "data": {
      "text/plain": [
       "count    29874.000000\n",
       "mean       158.863125\n",
       "std        226.480154\n",
       "min          1.000000\n",
       "25%         20.000000\n",
       "50%         83.000000\n",
       "75%        211.000000\n",
       "max      13120.000000\n",
       "Name: 영수증번호, dtype: float64"
      ]
     },
     "execution_count": 66,
     "metadata": {},
     "output_type": "execute_result"
    }
   ],
   "source": [
    "imp['영수증번호'].describe()"
   ]
  },
  {
   "cell_type": "markdown",
   "id": "3442b74f",
   "metadata": {},
   "source": [
    "### 3사분위 수 이상 구매한 고객 EDA"
   ]
  },
  {
   "cell_type": "markdown",
   "id": "22a9c112",
   "metadata": {},
   "source": [
    "- 연령대 -> 별다른 특이점 찾지 못함"
   ]
  },
  {
   "cell_type": "code",
   "execution_count": 78,
   "id": "96c97d64",
   "metadata": {},
   "outputs": [],
   "source": [
    "demo_high = demo.loc[demo['고객번호'].isin(imp[imp['영수증번호'] >= 211]['고객번호'].tolist())]"
   ]
  },
  {
   "cell_type": "code",
   "execution_count": 79,
   "id": "ba4cd9e7",
   "metadata": {},
   "outputs": [
    {
     "data": {
      "image/png": "[encoded data removed]",
      "text/plain": [
       "<Figure size 432x288 with 1 Axes>"
      ]
     },
     "metadata": {},
     "output_type": "display_data"
    }
   ],
   "source": [
    "# 3사분위수 이상 구매를 한 고객의 연령대\n",
    "plt.bar(demo_high.groupby('연령대').count()['고객번호'].reset_index()['연령대'], demo_high.groupby('연령대').count()['고객번호'].reset_index()['고객번호'])\n",
    "plt.title('3사분위 이상 구매고객 연령대')\n",
    "plt.show()"
   ]
  },
  {
   "cell_type": "code",
   "execution_count": 81,
   "id": "cc53cf6f",
   "metadata": {},
   "outputs": [
    {
     "data": {
      "image/png": "[encoded data removed]",
      "text/plain": [
       "<Figure size 432x288 with 1 Axes>"
      ]
     },
     "metadata": {},
     "output_type": "display_data"
    }
   ],
   "source": [
    "# 전체 고객의 연령대\n",
    "plt.bar(demo.groupby('연령대').count()['고객번호'].reset_index()['연령대'], demo.groupby('연령대').count()['고객번호'].reset_index()['고객번호'])\n",
    "plt.title('전체 고객 연령대')\n",
    "plt.show()"
   ]
  },
  {
   "cell_type": "markdown",
   "id": "9a11802b",
   "metadata": {},
   "source": [
    "- 성별 -> 별다른 특이점 찾지 못함"
   ]
  },
  {
   "cell_type": "code",
   "execution_count": 96,
   "id": "9cca0284",
   "metadata": {},
   "outputs": [
    {
     "data": {
      "text/plain": [
       "성별\n",
       "남성    0.279318\n",
       "여성    0.720682\n",
       "Name: 고객번호, dtype: float64"
      ]
     },
     "execution_count": 96,
     "metadata": {},
     "output_type": "execute_result"
    }
   ],
   "source": [
    "demo_high.groupby('성별').count()['고객번호'] / demo_high.groupby('성별').count()['고객번호'].sum()"
   ]
  },
  {
   "cell_type": "code",
   "execution_count": 97,
   "id": "2742a38c",
   "metadata": {},
   "outputs": [
    {
     "data": {
      "text/plain": [
       "성별\n",
       "남성    0.32862\n",
       "여성    0.67138\n",
       "Name: 고객번호, dtype: float64"
      ]
     },
     "execution_count": 97,
     "metadata": {},
     "output_type": "execute_result"
    }
   ],
   "source": [
    "demo.groupby('성별').count()['고객번호'] / demo.groupby('성별').count()['고객번호'].sum()"
   ]
  },
  {
   "cell_type": "markdown",
   "id": "f2293104",
   "metadata": {},
   "source": [
    "- 거주지 -> 의미없음"
   ]
  },
  {
   "cell_type": "code",
   "execution_count": 132,
   "id": "caa857c6",
   "metadata": {},
   "outputs": [
    {
     "data": {
      "image/png": "[encoded data removed]",
      "text/plain": [
       "<Figure size 720x576 with 1 Axes>"
      ]
     },
     "metadata": {},
     "output_type": "display_data"
    }
   ],
   "source": [
    "x = np.arange(len(demo.groupby('거주지대분류코드').count()))\n",
    "\n",
    "plt.figure(figsize=(10, 8))\n",
    "plt.bar(x-0.15, demo.groupby('거주지대분류코드').count().reset_index()['고객번호'] / demo.groupby('거주지대분류코드').count().reset_index()['고객번호'].sum(),0.4, label='all') \n",
    "plt.bar(x+0.15, demo_high.groupby('거주지대분류코드').count().reset_index()['고객번호'] / demo_high.groupby('거주지대분류코드').count().reset_index()['고객번호'].sum(),0.4, label='high') \n",
    "plt.xticks(x, demo.groupby('거주지대분류코드').count().reset_index()['거주지대분류코드'])\n",
    "plt.legend()\n",
    "plt.title('거주지 비교(비율)')\n",
    "plt.show()"
   ]
  },
  {
   "cell_type": "markdown",
   "id": "4ab67617",
   "metadata": {},
   "source": [
    "- *df에서 특이점을 찾아보자*"
   ]
  },
  {
   "cell_type": "code",
   "execution_count": 134,
   "id": "82345fc4",
   "metadata": {},
   "outputs": [],
   "source": [
    "df_high = df.loc[df['고객번호'].isin(imp[imp['영수증번호'] >= 211]['고객번호'].tolist())]"
   ]
  },
  {
   "cell_type": "markdown",
   "id": "50339cc8",
   "metadata": {},
   "source": [
    "- 주 구매 채널이 어떻게 되는지 판단"
   ]
  },
  {
   "cell_type": "markdown",
   "id": "161bcf17",
   "metadata": {},
   "source": [
    "    - 전체가 나열된 데이터에서 보았을때, 두 데이터 모두 오프라인에서 구매를 한 비율이 압도적임"
   ]
  },
  {
   "cell_type": "code",
   "execution_count": 159,
   "id": "4fc48436",
   "metadata": {},
   "outputs": [
    {
     "data": {
      "text/plain": [
       "채널구분\n",
       "1    0.860507\n",
       "2    0.139493\n",
       "Name: 고객번호, dtype: float64"
      ]
     },
     "execution_count": 159,
     "metadata": {},
     "output_type": "execute_result"
    }
   ],
   "source": [
    "# 과금러들\n",
    "df_high.groupby('채널구분').count()['고객번호'] / df_high.groupby('채널구분').count()['고객번호'].sum()"
   ]
  },
  {
   "cell_type": "code",
   "execution_count": 140,
   "id": "7a1748ea",
   "metadata": {},
   "outputs": [
    {
     "data": {
      "text/plain": [
       "채널구분\n",
       "1    0.87068\n",
       "2    0.12932\n",
       "Name: 고객번호, dtype: float64"
      ]
     },
     "execution_count": 140,
     "metadata": {},
     "output_type": "execute_result"
    }
   ],
   "source": [
    "# 전체 고객\n",
    "df.groupby('채널구분').count()['고객번호'] / df.groupby('채널구분').count()['고객번호'].sum()"
   ]
  },
  {
   "cell_type": "markdown",
   "id": "01257f0d",
   "metadata": {},
   "source": [
    "    - 주로 구매하는 채널이 어디인지를 판단해봄 (groupby와 max를 통해)"
   ]
  },
  {
   "cell_type": "markdown",
   "id": "4389c4f7",
   "metadata": {},
   "source": [
    "*드디어 나름 의미있는 결과가 나타남 -> 과금러들의 주구매 채널은 온라인인 것을 확인할 수 있음*"
   ]
  },
  {
   "cell_type": "code",
   "execution_count": 196,
   "id": "a25d7b28",
   "metadata": {},
   "outputs": [
    {
     "data": {
      "image/png": "[encoded data removed]",
      "text/plain": [
       "<Figure size 1080x1080 with 2 Axes>"
      ]
     },
     "metadata": {},
     "output_type": "display_data"
    }
   ],
   "source": [
    "plt.figure(figsize=(15,15))\n",
    "plt.subplot(2, 2, 1)\n",
    "patches_high, texts_high, autotexts_high = plt.pie(\n",
    "    df_high.groupby('고객번호')['채널구분'].max().reset_index().groupby('채널구분').count().reset_index()['고객번호'],\n",
    "    labels = ['오프라인', '온라인'],\n",
    "    labeldistance=1.1,## label이 파이로부터 얼마나 떨어지는가, 1일경우 딱 붙어있음. \n",
    "    explode=[0, 0.1], ##pie가 튀어나오는지 정해줌  \n",
    "    startangle=10,## 어디에서 시작할지, 정해줌  \n",
    "    shadow=True, ##그림자 \n",
    "    autopct='%1.1f%%', ## pi 위에 표시될 글자 형태, 또한 알아서 %로 변환해서 알려줌 \n",
    ")\n",
    "plt.title('과금러들', size = 20)\n",
    "plt.legend(loc = (1, 0.8), fontsize=15)\n",
    "\n",
    "plt.subplot(2, 2, 2)\n",
    "patches, texts, autotexts = plt.pie(\n",
    "    df.groupby('고객번호')['채널구분'].max().reset_index().groupby('채널구분').count().reset_index()['고객번호'],\n",
    "    labels = ['오프라인', '온라인'],\n",
    "    labeldistance=1.1,## label이 파이로부터 얼마나 떨어지는가, 1일경우 딱 붙어있음. \n",
    "    explode=[0, 0.1], ##pie가 튀어나오는지 정해줌  \n",
    "    startangle=10,## 어디에서 시작할지, 정해줌  \n",
    "    shadow=True, ##그림자 \n",
    "    autopct='%1.1f%%', ## pi 위에 표시될 글자 형태, 또한 알아서 %로 변환해서 알려줌 \n",
    ")\n",
    "plt.title('전체 고객', size = 20)\n",
    "\n",
    "for t in autotexts_high:\n",
    "    t.set_color(\"white\")\n",
    "    t.set_fontsize(25)\n",
    "\n",
    "for t in texts_high:\n",
    "    t.set_fontsize(20)\n",
    "\n",
    "for t in autotexts:\n",
    "    t.set_color(\"white\")\n",
    "    t.set_fontsize(25)\n",
    "    \n",
    "for t in texts:\n",
    "    t.set_fontsize(20)    \n",
    "\n",
    "plt.tight_layout()\n",
    "plt.show()"
   ]
  },
  {
   "cell_type": "markdown",
   "id": "8c9e94e8",
   "metadata": {},
   "source": [
    "- ing~"
   ]
  },
  {
   "cell_type": "code",
   "execution_count": 203,
   "id": "c2e93591",
   "metadata": {},
   "outputs": [
    {
     "data": {
      "text/plain": [
       "count    7.504000e+03\n",
       "mean     2.469288e+04\n",
       "std      6.354409e+04\n",
       "min      1.284488e+03\n",
       "25%      6.779114e+03\n",
       "50%      1.072608e+04\n",
       "75%      2.125653e+04\n",
       "max      2.413200e+06\n",
       "Name: 구매금액, dtype: float64"
      ]
     },
     "execution_count": 203,
     "metadata": {},
     "output_type": "execute_result"
    }
   ],
   "source": [
    "df_high.groupby('고객번호')['구매금액'].mean().describe()"
   ]
  },
  {
   "cell_type": "markdown",
   "id": "7ca9a066",
   "metadata": {},
   "source": [
    "## END"
   ]
  }
 ],
 "metadata": {
  "kernelspec": {
   "display_name": "Python 3",
   "language": "python",
   "name": "python3"
  },
  "language_info": {
   "codemirror_mode": {
    "name": "ipython",
    "version": 3
   },
   "file_extension": ".py",
   "mimetype": "text/x-python",
   "name": "python",
   "nbconvert_exporter": "python",
   "pygments_lexer": "ipython3",
   "version": "3.8.8"
  }
 },
 "nbformat": 4,
 "nbformat_minor": 5
}
