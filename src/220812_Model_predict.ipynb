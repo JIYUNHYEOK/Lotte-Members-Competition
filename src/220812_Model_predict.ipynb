{
 "cells": [
  {
   "cell_type": "markdown",
   "id": "b38116c4",
   "metadata": {},
   "source": [
    "# Import library"
   ]
  },
  {
   "cell_type": "code",
   "execution_count": 1,
   "id": "61ce0bd7",
   "metadata": {},
   "outputs": [
    {
     "name": "stdout",
     "output_type": "stream",
     "text": [
      "Pandas : 1.4.3\n",
      "Numpy : 1.23.1\n",
      "Scikit-Learn : 1.1.2\n",
      "seaborn : 0.11.2\n",
      "matplotlib : 3.5.3\n",
      "Python 3.9.12\n"
     ]
    }
   ],
   "source": [
    "# 기본 패키지\n",
    "import pandas as pd\n",
    "import numpy as np\n",
    "import os\n",
    "\n",
    "# 시각화 패키지\n",
    "import matplotlib.pyplot as plt\n",
    "import seaborn as sns\n",
    "plt.rc('font', family='NanumBarunGothic') \n",
    "plt.style.use(['ggplot'])\n",
    "\n",
    "# 모델링 패키지\n",
    "import sklearn\n",
    "import matplotlib\n",
    "# import pycaret\n",
    "from sklearn.preprocessing import LabelEncoder\n",
    "from sklearn.pipeline import make_pipeline\n",
    "from sklearn.tree import DecisionTreeRegressor\n",
    "from sklearn.ensemble import ExtraTreesRegressor\n",
    "from sklearn.ensemble import RandomForestRegressor\n",
    "from sklearn.model_selection import train_test_split\n",
    "from sklearn.model_selection import validation_curve\n",
    "from sklearn.metrics import mean_squared_log_error\n",
    "\n",
    "# 경고 메시지 무시\n",
    "import warnings\n",
    "warnings.filterwarnings(action='ignore') \n",
    "\n",
    "# 사용자 운영체제 확인\n",
    "import platform\n",
    "platform.system()\n",
    "\n",
    "# 운영체제별 한글 폰트 설정\n",
    "if platform.system() == 'Darwin': # Mac 환경 폰트 설정\n",
    "    plt.rc('font', family='AppleGothic')\n",
    "elif platform.system() == 'Windows': # Windows 환경 폰트 설정\n",
    "    plt.rc('font', family='Malgun Gothic')\n",
    "\n",
    "plt.rc('axes', unicode_minus=False) # 마이너스 폰트 설정\n",
    "\n",
    "\n",
    "# 글씨 선명하게 출력하는 설정\n",
    "%config InlineBackend.figure_format = 'retina'\n",
    "\n",
    "# 버전 확인\n",
    "print('Pandas : %s'%(pd.__version__))\n",
    "print('Numpy : %s'%(np.__version__))\n",
    "print('Scikit-Learn : %s'%(sklearn.__version__))\n",
    "print('seaborn : %s'%(sns.__version__))\n",
    "print('matplotlib : %s'%(matplotlib.__version__))\n",
    "# print('pycaret : %s'%(pycaret.__version__))\n",
    "!python --version"
   ]
  },
  {
   "cell_type": "markdown",
   "id": "57443fd7",
   "metadata": {},
   "source": [
    "# Preprocessing"
   ]
  },
  {
   "cell_type": "markdown",
   "id": "74275482",
   "metadata": {},
   "source": [
    "### Load Data"
   ]
  },
  {
   "cell_type": "code",
   "execution_count": 2,
   "id": "f866aaeb",
   "metadata": {},
   "outputs": [],
   "source": [
    "# Data Load\n",
    "demo = pd.read_csv('../data/LPOINT_BIG_COMP_01_DEMO.csv', low_memory=False)\n",
    "pdde = pd.read_csv('../data/LPOINT_BIG_COMP_02_PDDE.csv', low_memory=False)\n",
    "cop = pd.read_csv('../data/LPOINT_BIG_COMP_03_COP_U.csv', low_memory=False)\n",
    "clac = pd.read_csv('../data/LPOINT_BIG_COMP_04_PD_CLAC.csv', low_memory=False)\n",
    "br = pd.read_csv('../data/LPOINT_BIG_COMP_05_BR.csv', low_memory=False)\n",
    "lpay = pd.read_csv('../data/LPOINT_BIG_COMP_06_LPAY.csv', low_memory=False)\n",
    "covid19 = pd.read_csv(\"../data/[한국] 대한민국의 코로나19 총 누적 확진자와 사망자 _ 일간 (2022년 8월 9일).csv\", low_memory = False)\n",
    "\n",
    "# Column명 변경\n",
    "demo.columns = ['고객번호', '성별', '연령대', '거주지대분류코드']\n",
    "pdde.columns = ['고객번호', '영수증번호', '채널구분', '제휴사', '점포코드', '상품코드', '구매일자', '구매시간', '구매금액', '구매수량']\n",
    "cop.columns = ['고객번호', '영수증번호', '제휴사', '점포코드', '채널구분', '이용일자', '방문일자', '이용시간', '이용금액']\n",
    "clac.columns = ['상품코드', '소분류명', '대분류명', '중분류명']\n",
    "br.columns = ['점포코드', '제휴사', '점포대분류코드', '점포중분류코드']\n",
    "lpay.columns = ['고객번호', '영수증번호', '제휴사', '채널구분', '이용일자', '이용시간', '이용금액']"
   ]
  },
  {
   "cell_type": "markdown",
   "id": "2dc02e7b",
   "metadata": {},
   "source": [
    "### Data Preprocessing"
   ]
  },
  {
   "cell_type": "markdown",
   "id": "e6e67d3c",
   "metadata": {},
   "source": [
    "- 가독성을 위하여 불필요한 데이터 확인과정 삭제"
   ]
  },
  {
   "cell_type": "markdown",
   "id": "d69bb365",
   "metadata": {},
   "source": [
    "####  [2. pdde]: 상품 구매 정보"
   ]
  },
  {
   "cell_type": "code",
   "execution_count": 3,
   "id": "154538ca",
   "metadata": {},
   "outputs": [],
   "source": [
    "# 중복되는 행 제거 -> 데이터 추출시 고객, 상품 각각 추출하여 중복이 발생한 것으로 판단함\n",
    "pdde.drop_duplicates(subset=None, keep='first', inplace=True, ignore_index=False)\n",
    "\n",
    "# 결측치 치환 -> na값을 온라인으로 채워줌\n",
    "pdde['점포코드'] = pdde['점포코드'].fillna('온라인')"
   ]
  },
  {
   "cell_type": "markdown",
   "id": "ca6088d3",
   "metadata": {},
   "source": [
    "#### [3. cop]: 제휴사 이용 정보"
   ]
  },
  {
   "cell_type": "code",
   "execution_count": 4,
   "id": "d27ac9ca",
   "metadata": {},
   "outputs": [],
   "source": [
    "# 결측치 치환\n",
    "cop['점포코드'] = cop['점포코드'].fillna('온라인')"
   ]
  },
  {
   "cell_type": "markdown",
   "id": "8193a941",
   "metadata": {},
   "source": [
    "#### [외부데이터]: 일별 코로나 확진자 수"
   ]
  },
  {
   "cell_type": "code",
   "execution_count": 5,
   "id": "0a02b83a",
   "metadata": {},
   "outputs": [
    {
     "data": {
      "text/html": [
       "<div>\n",
       "<style scoped>\n",
       "    .dataframe tbody tr th:only-of-type {\n",
       "        vertical-align: middle;\n",
       "    }\n",
       "\n",
       "    .dataframe tbody tr th {\n",
       "        vertical-align: top;\n",
       "    }\n",
       "\n",
       "    .dataframe thead th {\n",
       "        text-align: right;\n",
       "    }\n",
       "</style>\n",
       "<table border=\"1\" class=\"dataframe\">\n",
       "  <thead>\n",
       "    <tr style=\"text-align: right;\">\n",
       "      <th></th>\n",
       "      <th>날짜</th>\n",
       "      <th>신규확진자</th>\n",
       "      <th>신규사망자</th>\n",
       "    </tr>\n",
       "  </thead>\n",
       "  <tbody>\n",
       "    <tr>\n",
       "      <th>585</th>\n",
       "      <td>2021-01-01</td>\n",
       "      <td>824</td>\n",
       "      <td>25</td>\n",
       "    </tr>\n",
       "    <tr>\n",
       "      <th>584</th>\n",
       "      <td>2021-01-02</td>\n",
       "      <td>651</td>\n",
       "      <td>20</td>\n",
       "    </tr>\n",
       "    <tr>\n",
       "      <th>583</th>\n",
       "      <td>2021-01-03</td>\n",
       "      <td>1020</td>\n",
       "      <td>19</td>\n",
       "    </tr>\n",
       "    <tr>\n",
       "      <th>582</th>\n",
       "      <td>2021-01-04</td>\n",
       "      <td>715</td>\n",
       "      <td>26</td>\n",
       "    </tr>\n",
       "    <tr>\n",
       "      <th>581</th>\n",
       "      <td>2021-01-05</td>\n",
       "      <td>839</td>\n",
       "      <td>20</td>\n",
       "    </tr>\n",
       "    <tr>\n",
       "      <th>...</th>\n",
       "      <td>...</td>\n",
       "      <td>...</td>\n",
       "      <td>...</td>\n",
       "    </tr>\n",
       "    <tr>\n",
       "      <th>4</th>\n",
       "      <td>2022-08-05</td>\n",
       "      <td>110610</td>\n",
       "      <td>45</td>\n",
       "    </tr>\n",
       "    <tr>\n",
       "      <th>3</th>\n",
       "      <td>2022-08-06</td>\n",
       "      <td>105507</td>\n",
       "      <td>27</td>\n",
       "    </tr>\n",
       "    <tr>\n",
       "      <th>2</th>\n",
       "      <td>2022-08-07</td>\n",
       "      <td>55292</td>\n",
       "      <td>29</td>\n",
       "    </tr>\n",
       "    <tr>\n",
       "      <th>1</th>\n",
       "      <td>2022-08-08</td>\n",
       "      <td>149819</td>\n",
       "      <td>40</td>\n",
       "    </tr>\n",
       "    <tr>\n",
       "      <th>0</th>\n",
       "      <td>2022-08-09</td>\n",
       "      <td>151734</td>\n",
       "      <td>50</td>\n",
       "    </tr>\n",
       "  </tbody>\n",
       "</table>\n",
       "<p>586 rows × 3 columns</p>\n",
       "</div>"
      ],
      "text/plain": [
       "            날짜   신규확진자  신규사망자\n",
       "585 2021-01-01     824     25\n",
       "584 2021-01-02     651     20\n",
       "583 2021-01-03    1020     19\n",
       "582 2021-01-04     715     26\n",
       "581 2021-01-05     839     20\n",
       "..         ...     ...    ...\n",
       "4   2022-08-05  110610     45\n",
       "3   2022-08-06  105507     27\n",
       "2   2022-08-07   55292     29\n",
       "1   2022-08-08  149819     40\n",
       "0   2022-08-09  151734     50\n",
       "\n",
       "[586 rows x 3 columns]"
      ]
     },
     "execution_count": 5,
     "metadata": {},
     "output_type": "execute_result"
    }
   ],
   "source": [
    "covid19 = covid19[['일자', '신규확진(명)', '신규사망(명)']]\n",
    "covid19.columns = ['날짜', '신규확진자', '신규사망자']\n",
    "covid19['날짜'] = covid19['날짜'].apply(lambda x: x.replace('/', '-')).astype(str)\n",
    "covid19['날짜'] = pd.to_datetime(covid19['날짜'])\n",
    "covid19 = covid19.sort_values(by = '날짜')\n",
    "covid19"
   ]
  },
  {
   "cell_type": "markdown",
   "id": "df2c5ec6",
   "metadata": {},
   "source": [
    "# Data Merge"
   ]
  },
  {
   "cell_type": "code",
   "execution_count": 6,
   "id": "b57c84f9",
   "metadata": {},
   "outputs": [],
   "source": [
    "# 데이터를 통합하기 위하여 칼럼 통합\n",
    "pdde['타입'] = 'Product'\n",
    "cop['타입'] = 'Affiliate'\n",
    "lpay['타입'] = 'Lpay'\n",
    "pdde['방문일자'] = 0\n",
    "lpay['방문일자'] = 0\n",
    "cop['구매수량'] = 0\n",
    "cop['상품코드'] = np.nan\n",
    "lpay['점포코드'] = np.nan\n",
    "lpay['상품코드'] = np.nan\n",
    "lpay['구매수량'] = 0"
   ]
  },
  {
   "cell_type": "code",
   "execution_count": 7,
   "id": "ae25f45d",
   "metadata": {},
   "outputs": [],
   "source": [
    "# 칼럼명을 새롭게 동일하게 통일\n",
    "cop.columns = ['고객번호', '영수증번호', '제휴사', '점포코드', '채널구분', '구매일자', '방문일자', '구매시간', '구매금액', '타입', '구매수량', '상품코드']\n",
    "lpay.columns = ['고객번호', '영수증번호', '제휴사', '채널구분', '구매일자', '구매시간', '구매금액', '타입', '방문일자', '점포코드', '상품코드', '구매수량']\n",
    "\n",
    "# 상품구매데이터를 기준으로 하여 열을 통일\n",
    "cop = cop[['고객번호', '영수증번호', '채널구분', '제휴사', '점포코드', '상품코드', '구매일자', '방문일자', '구매시간', '구매금액', '구매수량', '타입']]\n",
    "lpay = lpay[['고객번호', '영수증번호', '채널구분', '제휴사', '점포코드', '상품코드', '구매일자', '방문일자', '구매시간', '구매금액', '구매수량', '타입']]\n",
    "\n",
    "# 데이터 타입 변경\n",
    "lpay['영수증번호'] = lpay['영수증번호'].astype('object')\n",
    "lpay['점포코드'] = lpay['점포코드'].astype('object')\n",
    "cop['상품코드'] = cop['상품코드'].astype('object')\n",
    "lpay['상품코드'] = lpay['상품코드'].astype('object')\n",
    "pdde['구매금액'] = pdde['구매금액'].astype('int')\n",
    "pdde['방문일자'] = pdde['방문일자'].astype('int64')\n",
    "lpay['방문일자'] = lpay['방문일자'].astype('int64')"
   ]
  },
  {
   "cell_type": "code",
   "execution_count": 8,
   "id": "54609bc9",
   "metadata": {},
   "outputs": [],
   "source": [
    "# 데이터 concat\n",
    "df = pd.concat([pdde,cop,lpay])\n",
    "# 고객 정보 테이븛 통합\n",
    "df = pd.merge(df, demo, on = ['고객번호'], how = 'left')\n",
    "# 상품 분류 테이블 통합\n",
    "df = pd.merge(df, br, on = ['점포코드','제휴사'], how = 'left')\n",
    "# 점포 정보 테이블 통합\n",
    "df = pd.merge(df, clac, on = ['상품코드'], how = 'left')"
   ]
  },
  {
   "cell_type": "code",
   "execution_count": 9,
   "id": "68ee68e5",
   "metadata": {},
   "outputs": [
    {
     "data": {
      "text/plain": [
       "고객번호             0\n",
       "영수증번호            0\n",
       "채널구분             0\n",
       "제휴사              0\n",
       "점포코드        353184\n",
       "상품코드        601488\n",
       "구매일자             0\n",
       "구매시간             0\n",
       "구매금액             0\n",
       "구매수량             0\n",
       "타입               0\n",
       "방문일자             0\n",
       "성별               0\n",
       "연령대              0\n",
       "거주지대분류코드         0\n",
       "점포대분류코드     729023\n",
       "점포중분류코드     729023\n",
       "소분류명        601488\n",
       "대분류명        601488\n",
       "중분류명        601488\n",
       "dtype: int64"
      ]
     },
     "execution_count": 9,
     "metadata": {},
     "output_type": "execute_result"
    }
   ],
   "source": [
    "# 결측치 확인 -> 데이터를 합치면서 생기는 결측치만 존재\n",
    "df.isnull().sum()"
   ]
  },
  {
   "cell_type": "markdown",
   "id": "dd599560",
   "metadata": {},
   "source": [
    "## Train Test Split"
   ]
  },
  {
   "cell_type": "code",
   "execution_count": 10,
   "id": "d907241f",
   "metadata": {},
   "outputs": [],
   "source": [
    "# 날짜로 변경\n",
    "df['날짜'] = df['구매일자'].astype(str)\n",
    "df['날짜'] = pd.to_datetime(df['날짜'])\n",
    "# 각 거래일간의 차이를 구함\n",
    "df = df.sort_values(by=['날짜'], ascending=[True])\n",
    "df['diff'] = df.groupby('고객번호')['날짜'].diff().fillna('0').astype(str)\n",
    "df['diff'] = df['diff'].apply(lambda x: int(x.split()[0]))\n",
    "# 데이터를 거래횟수별로 나누기 위한 작업\n",
    "imp = df.groupby('고객번호')['영수증번호'].apply(set).reset_index()\n",
    "imp['거래횟수'] = imp['영수증번호'].apply(lambda x:len(list(x)))\n",
    "# 뉴비와 올드비를 구분해줌\n",
    "oldbie = imp[imp['거래횟수']>3]['고객번호'].tolist()\n",
    "newbie = imp[imp['거래횟수']<=3]['고객번호'].tolist()\n",
    "\n",
    "# 데이터 분리\n",
    "df_old = df[df['고객번호'].isin(oldbie)]\n",
    "df_new = df[df['고객번호'].isin(newbie)]"
   ]
  },
  {
   "cell_type": "markdown",
   "id": "8fdf3880",
   "metadata": {},
   "source": [
    "# RFM"
   ]
  },
  {
   "cell_type": "code",
   "execution_count": 11,
   "id": "aff55db9",
   "metadata": {},
   "outputs": [],
   "source": [
    "customer_id = df_old.groupby('고객번호')[['구매일자']].max().index.tolist()\n",
    "recency = df_old.groupby('고객번호')[['구매일자']].max()['구매일자'].tolist()\n",
    "freq = df_old.groupby('고객번호')['영수증번호'].apply(set).reset_index()\n",
    "frequency = freq['영수증번호'].apply(lambda x:len(list(x)))\n",
    "monetary = df_old.groupby('고객번호')[['구매금액']].sum()['구매금액'].tolist()\n",
    "\n",
    "train_rfm = pd.DataFrame({'Customer_ID': customer_id, 'Recency': recency, 'Frequency': frequency, 'Monetary': monetary})\n",
    "test_rfm = pd.DataFrame({'고객번호': df_new.groupby('고객번호')[['구매일자']].max().index.tolist()})"
   ]
  },
  {
   "cell_type": "code",
   "execution_count": 12,
   "id": "d558bed8",
   "metadata": {},
   "outputs": [
    {
     "data": {
      "text/html": [
       "<div>\n",
       "<style scoped>\n",
       "    .dataframe tbody tr th:only-of-type {\n",
       "        vertical-align: middle;\n",
       "    }\n",
       "\n",
       "    .dataframe tbody tr th {\n",
       "        vertical-align: top;\n",
       "    }\n",
       "\n",
       "    .dataframe thead th {\n",
       "        text-align: right;\n",
       "    }\n",
       "</style>\n",
       "<table border=\"1\" class=\"dataframe\">\n",
       "  <thead>\n",
       "    <tr style=\"text-align: right;\">\n",
       "      <th></th>\n",
       "      <th>Customer_ID</th>\n",
       "      <th>Recency</th>\n",
       "      <th>Frequency</th>\n",
       "      <th>Monetary</th>\n",
       "    </tr>\n",
       "  </thead>\n",
       "  <tbody>\n",
       "    <tr>\n",
       "      <th>0</th>\n",
       "      <td>M000034966</td>\n",
       "      <td>356</td>\n",
       "      <td>13</td>\n",
       "      <td>616240</td>\n",
       "    </tr>\n",
       "    <tr>\n",
       "      <th>1</th>\n",
       "      <td>M000136117</td>\n",
       "      <td>363</td>\n",
       "      <td>89</td>\n",
       "      <td>28697031</td>\n",
       "    </tr>\n",
       "    <tr>\n",
       "      <th>2</th>\n",
       "      <td>M000201112</td>\n",
       "      <td>331</td>\n",
       "      <td>5</td>\n",
       "      <td>51420</td>\n",
       "    </tr>\n",
       "    <tr>\n",
       "      <th>3</th>\n",
       "      <td>M000225114</td>\n",
       "      <td>364</td>\n",
       "      <td>88</td>\n",
       "      <td>2084270</td>\n",
       "    </tr>\n",
       "    <tr>\n",
       "      <th>4</th>\n",
       "      <td>M000261625</td>\n",
       "      <td>337</td>\n",
       "      <td>49</td>\n",
       "      <td>6072050</td>\n",
       "    </tr>\n",
       "    <tr>\n",
       "      <th>...</th>\n",
       "      <td>...</td>\n",
       "      <td>...</td>\n",
       "      <td>...</td>\n",
       "      <td>...</td>\n",
       "    </tr>\n",
       "    <tr>\n",
       "      <th>26207</th>\n",
       "      <td>M999673157</td>\n",
       "      <td>351</td>\n",
       "      <td>17</td>\n",
       "      <td>2851370</td>\n",
       "    </tr>\n",
       "    <tr>\n",
       "      <th>26208</th>\n",
       "      <td>M999770689</td>\n",
       "      <td>364</td>\n",
       "      <td>216</td>\n",
       "      <td>2078770</td>\n",
       "    </tr>\n",
       "    <tr>\n",
       "      <th>26209</th>\n",
       "      <td>M999849895</td>\n",
       "      <td>334</td>\n",
       "      <td>35</td>\n",
       "      <td>1095312</td>\n",
       "    </tr>\n",
       "    <tr>\n",
       "      <th>26210</th>\n",
       "      <td>M999926092</td>\n",
       "      <td>335</td>\n",
       "      <td>7</td>\n",
       "      <td>129500</td>\n",
       "    </tr>\n",
       "    <tr>\n",
       "      <th>26211</th>\n",
       "      <td>M999962961</td>\n",
       "      <td>364</td>\n",
       "      <td>154</td>\n",
       "      <td>15582194</td>\n",
       "    </tr>\n",
       "  </tbody>\n",
       "</table>\n",
       "<p>26212 rows × 4 columns</p>\n",
       "</div>"
      ],
      "text/plain": [
       "      Customer_ID  Recency  Frequency  Monetary\n",
       "0      M000034966      356         13    616240\n",
       "1      M000136117      363         89  28697031\n",
       "2      M000201112      331          5     51420\n",
       "3      M000225114      364         88   2084270\n",
       "4      M000261625      337         49   6072050\n",
       "...           ...      ...        ...       ...\n",
       "26207  M999673157      351         17   2851370\n",
       "26208  M999770689      364        216   2078770\n",
       "26209  M999849895      334         35   1095312\n",
       "26210  M999926092      335          7    129500\n",
       "26211  M999962961      364        154  15582194\n",
       "\n",
       "[26212 rows x 4 columns]"
      ]
     },
     "execution_count": 12,
     "metadata": {},
     "output_type": "execute_result"
    }
   ],
   "source": [
    "train_rfm['Recency'] = train_rfm['Recency'].astype(str)\n",
    "train_rfm['Recency'] = pd.to_datetime(train_rfm['Recency'])\n",
    "train_rfm['Recency'] = train_rfm['Recency'] - pd.to_datetime('20210101')\n",
    "# train_rfm['Recency'] = [x.total_seconds() for x in train_rfm['Recency']]\n",
    "\n",
    "train_rfm['Recency'] = train_rfm['Recency'].dt.days # days로\n",
    "train_rfm"
   ]
  },
  {
   "cell_type": "markdown",
   "id": "0e0712b0",
   "metadata": {},
   "source": [
    "# Data Clustering"
   ]
  },
  {
   "cell_type": "markdown",
   "id": "679caec5",
   "metadata": {},
   "source": [
    "- k-means를 위한 Scaling"
   ]
  },
  {
   "cell_type": "code",
   "execution_count": 13,
   "id": "02ab7eb8",
   "metadata": {},
   "outputs": [],
   "source": [
    "from sklearn.preprocessing import StandardScaler\n",
    "from sklearn.cluster import KMeans\n",
    "from yellowbrick.cluster import KElbowVisualizer, SilhouetteVisualizer\n",
    "from sklearn.metrics import silhouette_samples, silhouette_score\n",
    "import time\n",
    "from scipy.cluster.hierarchy import dendrogram, linkage\n",
    "from sklearn.cluster import AgglomerativeClustering\n",
    "from mpl_toolkits.mplot3d import Axes3D"
   ]
  },
  {
   "cell_type": "code",
   "execution_count": 14,
   "id": "a9fca11d",
   "metadata": {
    "scrolled": true
   },
   "outputs": [
    {
     "data": {
      "text/html": [
       "<style>#sk-container-id-1 {color: black;background-color: white;}#sk-container-id-1 pre{padding: 0;}#sk-container-id-1 div.sk-toggleable {background-color: white;}#sk-container-id-1 label.sk-toggleable__label {cursor: pointer;display: block;width: 100%;margin-bottom: 0;padding: 0.3em;box-sizing: border-box;text-align: center;}#sk-container-id-1 label.sk-toggleable__label-arrow:before {content: \"▸\";float: left;margin-right: 0.25em;color: #696969;}#sk-container-id-1 label.sk-toggleable__label-arrow:hover:before {color: black;}#sk-container-id-1 div.sk-estimator:hover label.sk-toggleable__label-arrow:before {color: black;}#sk-container-id-1 div.sk-toggleable__content {max-height: 0;max-width: 0;overflow: hidden;text-align: left;background-color: #f0f8ff;}#sk-container-id-1 div.sk-toggleable__content pre {margin: 0.2em;color: black;border-radius: 0.25em;background-color: #f0f8ff;}#sk-container-id-1 input.sk-toggleable__control:checked~div.sk-toggleable__content {max-height: 200px;max-width: 100%;overflow: auto;}#sk-container-id-1 input.sk-toggleable__control:checked~label.sk-toggleable__label-arrow:before {content: \"▾\";}#sk-container-id-1 div.sk-estimator input.sk-toggleable__control:checked~label.sk-toggleable__label {background-color: #d4ebff;}#sk-container-id-1 div.sk-label input.sk-toggleable__control:checked~label.sk-toggleable__label {background-color: #d4ebff;}#sk-container-id-1 input.sk-hidden--visually {border: 0;clip: rect(1px 1px 1px 1px);clip: rect(1px, 1px, 1px, 1px);height: 1px;margin: -1px;overflow: hidden;padding: 0;position: absolute;width: 1px;}#sk-container-id-1 div.sk-estimator {font-family: monospace;background-color: #f0f8ff;border: 1px dotted black;border-radius: 0.25em;box-sizing: border-box;margin-bottom: 0.5em;}#sk-container-id-1 div.sk-estimator:hover {background-color: #d4ebff;}#sk-container-id-1 div.sk-parallel-item::after {content: \"\";width: 100%;border-bottom: 1px solid gray;flex-grow: 1;}#sk-container-id-1 div.sk-label:hover label.sk-toggleable__label {background-color: #d4ebff;}#sk-container-id-1 div.sk-serial::before {content: \"\";position: absolute;border-left: 1px solid gray;box-sizing: border-box;top: 0;bottom: 0;left: 50%;z-index: 0;}#sk-container-id-1 div.sk-serial {display: flex;flex-direction: column;align-items: center;background-color: white;padding-right: 0.2em;padding-left: 0.2em;position: relative;}#sk-container-id-1 div.sk-item {position: relative;z-index: 1;}#sk-container-id-1 div.sk-parallel {display: flex;align-items: stretch;justify-content: center;background-color: white;position: relative;}#sk-container-id-1 div.sk-item::before, #sk-container-id-1 div.sk-parallel-item::before {content: \"\";position: absolute;border-left: 1px solid gray;box-sizing: border-box;top: 0;bottom: 0;left: 50%;z-index: -1;}#sk-container-id-1 div.sk-parallel-item {display: flex;flex-direction: column;z-index: 1;position: relative;background-color: white;}#sk-container-id-1 div.sk-parallel-item:first-child::after {align-self: flex-end;width: 50%;}#sk-container-id-1 div.sk-parallel-item:last-child::after {align-self: flex-start;width: 50%;}#sk-container-id-1 div.sk-parallel-item:only-child::after {width: 0;}#sk-container-id-1 div.sk-dashed-wrapped {border: 1px dashed gray;margin: 0 0.4em 0.5em 0.4em;box-sizing: border-box;padding-bottom: 0.4em;background-color: white;}#sk-container-id-1 div.sk-label label {font-family: monospace;font-weight: bold;display: inline-block;line-height: 1.2em;}#sk-container-id-1 div.sk-label-container {text-align: center;}#sk-container-id-1 div.sk-container {/* jupyter's `normalize.less` sets `[hidden] { display: none; }` but bootstrap.min.css set `[hidden] { display: none !important; }` so we also need the `!important` here to be able to override the default hidden behavior on the sphinx rendered scikit-learn.org. See: https://github.com/scikit-learn/scikit-learn/issues/21755 */display: inline-block !important;position: relative;}#sk-container-id-1 div.sk-text-repr-fallback {display: none;}</style><div id=\"sk-container-id-1\" class=\"sk-top-container\"><div class=\"sk-text-repr-fallback\"><pre>StandardScaler()</pre><b>In a Jupyter environment, please rerun this cell to show the HTML representation or trust the notebook. <br />On GitHub, the HTML representation is unable to render, please try loading this page with nbviewer.org.</b></div><div class=\"sk-container\" hidden><div class=\"sk-item\"><div class=\"sk-estimator sk-toggleable\"><input class=\"sk-toggleable__control sk-hidden--visually\" id=\"sk-estimator-id-1\" type=\"checkbox\" checked><label for=\"sk-estimator-id-1\" class=\"sk-toggleable__label sk-toggleable__label-arrow\">StandardScaler</label><div class=\"sk-toggleable__content\"><pre>StandardScaler()</pre></div></div></div></div></div>"
      ],
      "text/plain": [
       "StandardScaler()"
      ]
     },
     "execution_count": 14,
     "metadata": {},
     "output_type": "execute_result"
    }
   ],
   "source": [
    "scaler = StandardScaler()\n",
    "scaler.fit(train_rfm.iloc[:,1:])"
   ]
  },
  {
   "cell_type": "code",
   "execution_count": 15,
   "id": "d7ec19c4",
   "metadata": {},
   "outputs": [
    {
     "data": {
      "text/html": [
       "<div>\n",
       "<style scoped>\n",
       "    .dataframe tbody tr th:only-of-type {\n",
       "        vertical-align: middle;\n",
       "    }\n",
       "\n",
       "    .dataframe tbody tr th {\n",
       "        vertical-align: top;\n",
       "    }\n",
       "\n",
       "    .dataframe thead th {\n",
       "        text-align: right;\n",
       "    }\n",
       "</style>\n",
       "<table border=\"1\" class=\"dataframe\">\n",
       "  <thead>\n",
       "    <tr style=\"text-align: right;\">\n",
       "      <th></th>\n",
       "      <th>Customer_ID</th>\n",
       "      <th>Recency</th>\n",
       "      <th>Frequency</th>\n",
       "      <th>Monetary</th>\n",
       "    </tr>\n",
       "  </thead>\n",
       "  <tbody>\n",
       "    <tr>\n",
       "      <th>0</th>\n",
       "      <td>M000034966</td>\n",
       "      <td>0.388787</td>\n",
       "      <td>-0.682454</td>\n",
       "      <td>-0.292294</td>\n",
       "    </tr>\n",
       "    <tr>\n",
       "      <th>1</th>\n",
       "      <td>M000136117</td>\n",
       "      <td>0.549046</td>\n",
       "      <td>0.211318</td>\n",
       "      <td>1.677066</td>\n",
       "    </tr>\n",
       "    <tr>\n",
       "      <th>2</th>\n",
       "      <td>M000201112</td>\n",
       "      <td>-0.183566</td>\n",
       "      <td>-0.776535</td>\n",
       "      <td>-0.331906</td>\n",
       "    </tr>\n",
       "    <tr>\n",
       "      <th>3</th>\n",
       "      <td>M000225114</td>\n",
       "      <td>0.571940</td>\n",
       "      <td>0.199558</td>\n",
       "      <td>-0.189339</td>\n",
       "    </tr>\n",
       "    <tr>\n",
       "      <th>4</th>\n",
       "      <td>M000261625</td>\n",
       "      <td>-0.046201</td>\n",
       "      <td>-0.259088</td>\n",
       "      <td>0.090332</td>\n",
       "    </tr>\n",
       "    <tr>\n",
       "      <th>...</th>\n",
       "      <td>...</td>\n",
       "      <td>...</td>\n",
       "      <td>...</td>\n",
       "      <td>...</td>\n",
       "    </tr>\n",
       "    <tr>\n",
       "      <th>26207</th>\n",
       "      <td>M999673157</td>\n",
       "      <td>0.274316</td>\n",
       "      <td>-0.635413</td>\n",
       "      <td>-0.135540</td>\n",
       "    </tr>\n",
       "    <tr>\n",
       "      <th>26208</th>\n",
       "      <td>M999770689</td>\n",
       "      <td>0.571940</td>\n",
       "      <td>1.704857</td>\n",
       "      <td>-0.189724</td>\n",
       "    </tr>\n",
       "    <tr>\n",
       "      <th>26209</th>\n",
       "      <td>M999849895</td>\n",
       "      <td>-0.114884</td>\n",
       "      <td>-0.423730</td>\n",
       "      <td>-0.258696</td>\n",
       "    </tr>\n",
       "    <tr>\n",
       "      <th>26210</th>\n",
       "      <td>M999926092</td>\n",
       "      <td>-0.091990</td>\n",
       "      <td>-0.753015</td>\n",
       "      <td>-0.326430</td>\n",
       "    </tr>\n",
       "    <tr>\n",
       "      <th>26211</th>\n",
       "      <td>M999962961</td>\n",
       "      <td>0.571940</td>\n",
       "      <td>0.975728</td>\n",
       "      <td>0.757297</td>\n",
       "    </tr>\n",
       "  </tbody>\n",
       "</table>\n",
       "<p>26212 rows × 4 columns</p>\n",
       "</div>"
      ],
      "text/plain": [
       "      Customer_ID   Recency  Frequency  Monetary\n",
       "0      M000034966  0.388787  -0.682454 -0.292294\n",
       "1      M000136117  0.549046   0.211318  1.677066\n",
       "2      M000201112 -0.183566  -0.776535 -0.331906\n",
       "3      M000225114  0.571940   0.199558 -0.189339\n",
       "4      M000261625 -0.046201  -0.259088  0.090332\n",
       "...           ...       ...        ...       ...\n",
       "26207  M999673157  0.274316  -0.635413 -0.135540\n",
       "26208  M999770689  0.571940   1.704857 -0.189724\n",
       "26209  M999849895 -0.114884  -0.423730 -0.258696\n",
       "26210  M999926092 -0.091990  -0.753015 -0.326430\n",
       "26211  M999962961  0.571940   0.975728  0.757297\n",
       "\n",
       "[26212 rows x 4 columns]"
      ]
     },
     "execution_count": 15,
     "metadata": {},
     "output_type": "execute_result"
    }
   ],
   "source": [
    "rfm_scaled = scaler.transform(train_rfm.iloc[:,1:]) \n",
    "\n",
    "rfm_scaled_df = pd.DataFrame(rfm_scaled, columns = train_rfm.iloc[:,1:].columns) \n",
    "rfm_scaled_df.insert(0, 'Customer_ID', train_rfm['Customer_ID'])\n",
    "rfm_scaled_df"
   ]
  },
  {
   "cell_type": "markdown",
   "id": "babeb625",
   "metadata": {},
   "source": [
    "- Clustering"
   ]
  },
  {
   "cell_type": "code",
   "execution_count": 16,
   "id": "996cf1a6",
   "metadata": {},
   "outputs": [
    {
     "data": {
      "image/png": "[encoded data removed]",
      "text/plain": [
       "<Figure size 432x288 with 2 Axes>"
      ]
     },
     "metadata": {
      "image/png": {
       "height": 277,
       "width": 438
      }
     },
     "output_type": "display_data"
    },
    {
     "data": {
      "text/plain": [
       "<AxesSubplot:title={'center':'Distortion Score Elbow for KMeans Clustering'}, xlabel='k', ylabel='distortion score'>"
      ]
     },
     "execution_count": 16,
     "metadata": {},
     "output_type": "execute_result"
    }
   ],
   "source": [
    "kmeans = KMeans(random_state=np.random.RandomState(seed=42))\n",
    "\n",
    "elb_visualizer = KElbowVisualizer(kmeans, k=(2,11))\n",
    "elb_visualizer.fit(rfm_scaled_df.iloc[:,1:])\n",
    "elb_visualizer.show()"
   ]
  },
  {
   "cell_type": "markdown",
   "id": "6480721a",
   "metadata": {},
   "source": [
    "- 실루엣 계수 확인"
   ]
  },
  {
   "cell_type": "code",
   "execution_count": 17,
   "id": "b81dbfac",
   "metadata": {},
   "outputs": [
    {
     "data": {
      "image/png": "[encoded data removed]",
      "text/plain": [
       "<Figure size 432x288 with 1 Axes>"
      ]
     },
     "metadata": {
      "image/png": {
       "height": 277,
       "width": 392
      },
      "needs_background": "light"
     },
     "output_type": "display_data"
    },
    {
     "data": {
      "text/plain": [
       "<AxesSubplot:title={'center':'Silhouette Plot of KMeans Clustering for 26212 Samples in 4 Centers'}, xlabel='silhouette coefficient values', ylabel='cluster label'>"
      ]
     },
     "execution_count": 17,
     "metadata": {},
     "output_type": "execute_result"
    }
   ],
   "source": [
    "model_4clust = KMeans(n_clusters = 4, random_state=np.random.RandomState(seed=42))\n",
    "\n",
    "sil_visualizer = SilhouetteVisualizer(model_4clust)\n",
    "sil_visualizer.fit(rfm_scaled_df.iloc[:,1:])\n",
    "sil_visualizer.show()"
   ]
  },
  {
   "cell_type": "markdown",
   "id": "8f3eaf35",
   "metadata": {},
   "source": [
    "- 군집 라벨링"
   ]
  },
  {
   "cell_type": "code",
   "execution_count": 18,
   "id": "7d2e1aab",
   "metadata": {},
   "outputs": [],
   "source": [
    "kmeans = KMeans(n_clusters = 4, random_state=np.random.RandomState(seed=42))\n",
    "labels = kmeans.fit_predict(rfm_scaled_df.iloc[:,1:])"
   ]
  },
  {
   "cell_type": "code",
   "execution_count": 19,
   "id": "9a810aab",
   "metadata": {},
   "outputs": [
    {
     "data": {
      "text/plain": [
       "<mpl_toolkits.mplot3d.art3d.Path3DCollection at 0x2bb1339d2b0>"
      ]
     },
     "execution_count": 19,
     "metadata": {},
     "output_type": "execute_result"
    },
    {
     "data": {
      "image/png": "[encoded data removed]",
      "text/plain": [
       "<Figure size 720x720 with 1 Axes>"
      ]
     },
     "metadata": {
      "image/png": {
       "height": 558,
       "width": 563
      },
      "needs_background": "light"
     },
     "output_type": "display_data"
    }
   ],
   "source": [
    "fig = plt.figure(figsize=(10, 10))\n",
    "ax = fig.add_subplot(111, projection='3d') \n",
    "\n",
    "x = rfm_scaled_df['Recency']\n",
    "y = rfm_scaled_df['Frequency']\n",
    "z = rfm_scaled_df['Monetary']\n",
    "ax.scatter(x, y, z, c = labels, s= 20, alpha=0.5, cmap='rainbow')"
   ]
  },
  {
   "cell_type": "code",
   "execution_count": 20,
   "id": "83dc02f9",
   "metadata": {},
   "outputs": [
    {
     "data": {
      "text/html": [
       "<div>\n",
       "<style scoped>\n",
       "    .dataframe tbody tr th:only-of-type {\n",
       "        vertical-align: middle;\n",
       "    }\n",
       "\n",
       "    .dataframe tbody tr th {\n",
       "        vertical-align: top;\n",
       "    }\n",
       "\n",
       "    .dataframe thead th {\n",
       "        text-align: right;\n",
       "    }\n",
       "</style>\n",
       "<table border=\"1\" class=\"dataframe\">\n",
       "  <thead>\n",
       "    <tr style=\"text-align: right;\">\n",
       "      <th></th>\n",
       "      <th>고객번호</th>\n",
       "      <th>labels</th>\n",
       "    </tr>\n",
       "  </thead>\n",
       "  <tbody>\n",
       "    <tr>\n",
       "      <th>0</th>\n",
       "      <td>M000034966</td>\n",
       "      <td>0</td>\n",
       "    </tr>\n",
       "    <tr>\n",
       "      <th>1</th>\n",
       "      <td>M000136117</td>\n",
       "      <td>2</td>\n",
       "    </tr>\n",
       "    <tr>\n",
       "      <th>2</th>\n",
       "      <td>M000201112</td>\n",
       "      <td>0</td>\n",
       "    </tr>\n",
       "  </tbody>\n",
       "</table>\n",
       "</div>"
      ],
      "text/plain": [
       "         고객번호  labels\n",
       "0  M000034966       0\n",
       "1  M000136117       2\n",
       "2  M000201112       0"
      ]
     },
     "execution_count": 20,
     "metadata": {},
     "output_type": "execute_result"
    }
   ],
   "source": [
    "rfm_scaled_df['labels'] = labels\n",
    "train_rfm = rfm_scaled_df[['Customer_ID', 'labels']]\n",
    "train_rfm.columns = ['고객번호', 'labels']\n",
    "train_rfm.head(3)"
   ]
  },
  {
   "cell_type": "markdown",
   "id": "3d1c2a1a",
   "metadata": {},
   "source": [
    "- data merge"
   ]
  },
  {
   "cell_type": "code",
   "execution_count": null,
   "id": "8b95b059",
   "metadata": {},
   "outputs": [],
   "source": []
  },
  {
   "cell_type": "code",
   "execution_count": 21,
   "id": "02a4cce9",
   "metadata": {},
   "outputs": [
    {
     "data": {
      "text/html": [
       "<div>\n",
       "<style scoped>\n",
       "    .dataframe tbody tr th:only-of-type {\n",
       "        vertical-align: middle;\n",
       "    }\n",
       "\n",
       "    .dataframe tbody tr th {\n",
       "        vertical-align: top;\n",
       "    }\n",
       "\n",
       "    .dataframe thead th {\n",
       "        text-align: right;\n",
       "    }\n",
       "</style>\n",
       "<table border=\"1\" class=\"dataframe\">\n",
       "  <thead>\n",
       "    <tr style=\"text-align: right;\">\n",
       "      <th></th>\n",
       "      <th>고객번호</th>\n",
       "      <th>영수증번호</th>\n",
       "      <th>채널구분</th>\n",
       "      <th>제휴사</th>\n",
       "      <th>점포코드</th>\n",
       "      <th>상품코드</th>\n",
       "      <th>구매일자</th>\n",
       "      <th>구매시간</th>\n",
       "      <th>구매금액</th>\n",
       "      <th>구매수량</th>\n",
       "      <th>...</th>\n",
       "      <th>점포대분류코드</th>\n",
       "      <th>점포중분류코드</th>\n",
       "      <th>소분류명</th>\n",
       "      <th>대분류명</th>\n",
       "      <th>중분류명</th>\n",
       "      <th>날짜</th>\n",
       "      <th>diff</th>\n",
       "      <th>labels</th>\n",
       "      <th>신규확진자</th>\n",
       "      <th>신규사망자</th>\n",
       "    </tr>\n",
       "  </thead>\n",
       "  <tbody>\n",
       "    <tr>\n",
       "      <th>0</th>\n",
       "      <td>M495972460</td>\n",
       "      <td>20122713C012328716</td>\n",
       "      <td>2</td>\n",
       "      <td>C01</td>\n",
       "      <td>C010004</td>\n",
       "      <td>NaN</td>\n",
       "      <td>20201227</td>\n",
       "      <td>13</td>\n",
       "      <td>26000</td>\n",
       "      <td>0</td>\n",
       "      <td>...</td>\n",
       "      <td>Z17</td>\n",
       "      <td>Z17011</td>\n",
       "      <td>NaN</td>\n",
       "      <td>NaN</td>\n",
       "      <td>NaN</td>\n",
       "      <td>2020-12-27</td>\n",
       "      <td>0</td>\n",
       "      <td>0</td>\n",
       "      <td>NaN</td>\n",
       "      <td>NaN</td>\n",
       "    </tr>\n",
       "    <tr>\n",
       "      <th>1</th>\n",
       "      <td>M039320884</td>\n",
       "      <td>20122911C011862577</td>\n",
       "      <td>2</td>\n",
       "      <td>C01</td>\n",
       "      <td>C010117</td>\n",
       "      <td>NaN</td>\n",
       "      <td>20201229</td>\n",
       "      <td>11</td>\n",
       "      <td>6500</td>\n",
       "      <td>0</td>\n",
       "      <td>...</td>\n",
       "      <td>Z06</td>\n",
       "      <td>Z06013</td>\n",
       "      <td>NaN</td>\n",
       "      <td>NaN</td>\n",
       "      <td>NaN</td>\n",
       "      <td>2020-12-29</td>\n",
       "      <td>0</td>\n",
       "      <td>2</td>\n",
       "      <td>NaN</td>\n",
       "      <td>NaN</td>\n",
       "    </tr>\n",
       "    <tr>\n",
       "      <th>2</th>\n",
       "      <td>M192531170</td>\n",
       "      <td>20122900C013317930</td>\n",
       "      <td>2</td>\n",
       "      <td>C01</td>\n",
       "      <td>C010026</td>\n",
       "      <td>NaN</td>\n",
       "      <td>20201229</td>\n",
       "      <td>0</td>\n",
       "      <td>10000</td>\n",
       "      <td>0</td>\n",
       "      <td>...</td>\n",
       "      <td>Z10</td>\n",
       "      <td>Z10011</td>\n",
       "      <td>NaN</td>\n",
       "      <td>NaN</td>\n",
       "      <td>NaN</td>\n",
       "      <td>2020-12-29</td>\n",
       "      <td>0</td>\n",
       "      <td>0</td>\n",
       "      <td>NaN</td>\n",
       "      <td>NaN</td>\n",
       "    </tr>\n",
       "  </tbody>\n",
       "</table>\n",
       "<p>3 rows × 25 columns</p>\n",
       "</div>"
      ],
      "text/plain": [
       "         고객번호               영수증번호  채널구분  제휴사     점포코드 상품코드      구매일자  구매시간  \\\n",
       "0  M495972460  20122713C012328716     2  C01  C010004  NaN  20201227    13   \n",
       "1  M039320884  20122911C011862577     2  C01  C010117  NaN  20201229    11   \n",
       "2  M192531170  20122900C013317930     2  C01  C010026  NaN  20201229     0   \n",
       "\n",
       "    구매금액  구매수량  ... 점포대분류코드  점포중분류코드 소분류명 대분류명 중분류명         날짜 diff labels  \\\n",
       "0  26000     0  ...     Z17   Z17011  NaN  NaN  NaN 2020-12-27    0      0   \n",
       "1   6500     0  ...     Z06   Z06013  NaN  NaN  NaN 2020-12-29    0      2   \n",
       "2  10000     0  ...     Z10   Z10011  NaN  NaN  NaN 2020-12-29    0      0   \n",
       "\n",
       "  신규확진자 신규사망자  \n",
       "0   NaN   NaN  \n",
       "1   NaN   NaN  \n",
       "2   NaN   NaN  \n",
       "\n",
       "[3 rows x 25 columns]"
      ]
     },
     "metadata": {},
     "output_type": "display_data"
    },
    {
     "data": {
      "text/html": [
       "<div>\n",
       "<style scoped>\n",
       "    .dataframe tbody tr th:only-of-type {\n",
       "        vertical-align: middle;\n",
       "    }\n",
       "\n",
       "    .dataframe tbody tr th {\n",
       "        vertical-align: top;\n",
       "    }\n",
       "\n",
       "    .dataframe thead th {\n",
       "        text-align: right;\n",
       "    }\n",
       "</style>\n",
       "<table border=\"1\" class=\"dataframe\">\n",
       "  <thead>\n",
       "    <tr style=\"text-align: right;\">\n",
       "      <th></th>\n",
       "      <th>고객번호</th>\n",
       "      <th>영수증번호</th>\n",
       "      <th>채널구분</th>\n",
       "      <th>제휴사</th>\n",
       "      <th>점포코드</th>\n",
       "      <th>상품코드</th>\n",
       "      <th>구매일자</th>\n",
       "      <th>구매시간</th>\n",
       "      <th>구매금액</th>\n",
       "      <th>구매수량</th>\n",
       "      <th>...</th>\n",
       "      <th>거주지대분류코드</th>\n",
       "      <th>점포대분류코드</th>\n",
       "      <th>점포중분류코드</th>\n",
       "      <th>소분류명</th>\n",
       "      <th>대분류명</th>\n",
       "      <th>중분류명</th>\n",
       "      <th>날짜</th>\n",
       "      <th>diff</th>\n",
       "      <th>신규확진자</th>\n",
       "      <th>신규사망자</th>\n",
       "    </tr>\n",
       "  </thead>\n",
       "  <tbody>\n",
       "    <tr>\n",
       "      <th>0</th>\n",
       "      <td>M437975074</td>\n",
       "      <td>E02000030810</td>\n",
       "      <td>2</td>\n",
       "      <td>A02</td>\n",
       "      <td>온라인</td>\n",
       "      <td>PD1403</td>\n",
       "      <td>20210101</td>\n",
       "      <td>10</td>\n",
       "      <td>1194</td>\n",
       "      <td>3</td>\n",
       "      <td>...</td>\n",
       "      <td>Z12</td>\n",
       "      <td>NaN</td>\n",
       "      <td>NaN</td>\n",
       "      <td>당근</td>\n",
       "      <td>채소</td>\n",
       "      <td>뿌리채소</td>\n",
       "      <td>2021-01-01</td>\n",
       "      <td>0</td>\n",
       "      <td>824</td>\n",
       "      <td>25</td>\n",
       "    </tr>\n",
       "    <tr>\n",
       "      <th>1</th>\n",
       "      <td>M437975074</td>\n",
       "      <td>E02000030810</td>\n",
       "      <td>2</td>\n",
       "      <td>A02</td>\n",
       "      <td>온라인</td>\n",
       "      <td>PD1400</td>\n",
       "      <td>20210101</td>\n",
       "      <td>10</td>\n",
       "      <td>990</td>\n",
       "      <td>1</td>\n",
       "      <td>...</td>\n",
       "      <td>Z12</td>\n",
       "      <td>NaN</td>\n",
       "      <td>NaN</td>\n",
       "      <td>기타버섯류</td>\n",
       "      <td>채소</td>\n",
       "      <td>버섯류</td>\n",
       "      <td>2021-01-01</td>\n",
       "      <td>0</td>\n",
       "      <td>824</td>\n",
       "      <td>25</td>\n",
       "    </tr>\n",
       "    <tr>\n",
       "      <th>2</th>\n",
       "      <td>M437975074</td>\n",
       "      <td>E02000030810</td>\n",
       "      <td>2</td>\n",
       "      <td>A02</td>\n",
       "      <td>온라인</td>\n",
       "      <td>PD1511</td>\n",
       "      <td>20210101</td>\n",
       "      <td>10</td>\n",
       "      <td>12600</td>\n",
       "      <td>1</td>\n",
       "      <td>...</td>\n",
       "      <td>Z12</td>\n",
       "      <td>NaN</td>\n",
       "      <td>NaN</td>\n",
       "      <td>한우양지</td>\n",
       "      <td>축산물</td>\n",
       "      <td>국산소고기</td>\n",
       "      <td>2021-01-01</td>\n",
       "      <td>0</td>\n",
       "      <td>824</td>\n",
       "      <td>25</td>\n",
       "    </tr>\n",
       "  </tbody>\n",
       "</table>\n",
       "<p>3 rows × 24 columns</p>\n",
       "</div>"
      ],
      "text/plain": [
       "         고객번호         영수증번호  채널구분  제휴사 점포코드    상품코드      구매일자  구매시간   구매금액  \\\n",
       "0  M437975074  E02000030810     2  A02  온라인  PD1403  20210101    10   1194   \n",
       "1  M437975074  E02000030810     2  A02  온라인  PD1400  20210101    10    990   \n",
       "2  M437975074  E02000030810     2  A02  온라인  PD1511  20210101    10  12600   \n",
       "\n",
       "   구매수량  ... 거주지대분류코드  점포대분류코드 점포중분류코드   소분류명 대분류명   중분류명         날짜 diff  \\\n",
       "0     3  ...      Z12      NaN     NaN     당근   채소   뿌리채소 2021-01-01    0   \n",
       "1     1  ...      Z12      NaN     NaN  기타버섯류   채소    버섯류 2021-01-01    0   \n",
       "2     1  ...      Z12      NaN     NaN   한우양지  축산물  국산소고기 2021-01-01    0   \n",
       "\n",
       "  신규확진자 신규사망자  \n",
       "0   824    25  \n",
       "1   824    25  \n",
       "2   824    25  \n",
       "\n",
       "[3 rows x 24 columns]"
      ]
     },
     "metadata": {},
     "output_type": "display_data"
    }
   ],
   "source": [
    "df_old = pd.merge(df_old, train_rfm, on = ['고객번호'], how = 'left')\n",
    "df_old = pd.merge(df_old, covid19, on = ['날짜'], how = 'left')\n",
    "df_new = pd.merge(df_new, covid19, on = ['날짜'], how = 'left')\n",
    "display(df_old.head(3))\n",
    "display(df_new.head(3))"
   ]
  },
  {
   "cell_type": "code",
   "execution_count": 22,
   "id": "55aa590e",
   "metadata": {},
   "outputs": [],
   "source": [
    "# 코로나 확진자수의 데이터가 2021년 부터 존재하기 때문에 2020년의 5일간의 데이터는 2021년 1월 1일의 데이터 값으로 대체\n",
    "df_old['신규확진자'].fillna(824, inplace = True)\n",
    "df_old['신규사망자'].fillna(25, inplace = True)\n",
    "df_new['신규확진자'].fillna(824, inplace = True)\n",
    "df_new['신규사망자'].fillna(25, inplace = True)"
   ]
  },
  {
   "cell_type": "code",
   "execution_count": 23,
   "id": "ce7904a7",
   "metadata": {},
   "outputs": [],
   "source": [
    "train_rfm = pd.merge(train_rfm, demo[demo['고객번호'].isin(oldbie)].reset_index(drop=True), how='inner',on='고객번호')\n",
    "test_rfm = pd.merge(test_rfm, demo[demo['고객번호'].isin(newbie)].reset_index(drop=True), how='inner',on='고객번호')"
   ]
  },
  {
   "cell_type": "code",
   "execution_count": 24,
   "id": "b8346453",
   "metadata": {},
   "outputs": [],
   "source": [
    "# 열 순서 변경\n",
    "train_rfm = train_rfm[['고객번호', '성별', '연령대', '거주지대분류코드', 'labels']]"
   ]
  },
  {
   "cell_type": "markdown",
   "id": "67d32e30",
   "metadata": {},
   "source": [
    "## 파생변수 생성"
   ]
  },
  {
   "cell_type": "markdown",
   "id": "7005da1f",
   "metadata": {},
   "source": [
    "- 영수증 번호의 길이"
   ]
  },
  {
   "cell_type": "code",
   "execution_count": 25,
   "id": "7e98cb35",
   "metadata": {},
   "outputs": [
    {
     "data": {
      "text/plain": [
       "12    4134942\n",
       "15     353002\n",
       "18     245778\n",
       "Name: 영수증번호길이, dtype: int64"
      ]
     },
     "execution_count": 25,
     "metadata": {},
     "output_type": "execute_result"
    }
   ],
   "source": [
    "# 영수증 번호의 길이가 12, 15, 18 3가지로 나누어지는데 이는 각 다른 점포에서 결제한 것을 의미할 것이라고 판단하여 새로운 파생변수로 생성\n",
    "df_old['영수증번호길이'] = df_old['영수증번호'].apply(lambda x: len(str(x)))\n",
    "df_new['영수증번호길이'] = df_new['영수증번호'].apply(lambda x: len(str(x)))\n",
    "df_old['영수증번호길이'].value_counts()"
   ]
  },
  {
   "cell_type": "code",
   "execution_count": 26,
   "id": "880ace78",
   "metadata": {},
   "outputs": [],
   "source": [
    "train_rfm['영수증번호길이평균'] = df_old.groupby('고객번호')[['영수증번호길이']].mean()['영수증번호길이'].tolist()\n",
    "train_rfm['영수증번호길이최대'] = df_old.groupby('고객번호')['영수증번호길이'].agg(lambda x:x.value_counts().index[0]).tolist()\n",
    "test_rfm['영수증번호길이평균'] = df_new.groupby('고객번호')[['영수증번호길이']].mean()['영수증번호길이'].tolist()\n",
    "test_rfm['영수증번호길이최대'] = df_new.groupby('고객번호')['영수증번호길이'].agg(lambda x:x.value_counts().index[0]).tolist()"
   ]
  },
  {
   "cell_type": "markdown",
   "id": "f588780b",
   "metadata": {},
   "source": [
    "- 영수증의 타입"
   ]
  },
  {
   "cell_type": "code",
   "execution_count": 27,
   "id": "bca51089",
   "metadata": {},
   "outputs": [],
   "source": [
    "# 영수증 번호의 타입을 생성하는 함수\n",
    "def receipt_type(x):\n",
    "    if len(str(x)) == 18:\n",
    "        return str(x)[8]\n",
    "    elif len(str(x)) == 15:\n",
    "        return 'number'\n",
    "    elif len(str(x)) == 12:\n",
    "        return str(x)[0]"
   ]
  },
  {
   "cell_type": "code",
   "execution_count": 28,
   "id": "204c7566",
   "metadata": {},
   "outputs": [
    {
     "data": {
      "text/plain": [
       "A         3760036\n",
       "E          381115\n",
       "number     353002\n",
       "D          154419\n",
       "C           77108\n",
       "B            8042\n",
       "Name: 영수증타입, dtype: int64"
      ]
     },
     "execution_count": 28,
     "metadata": {},
     "output_type": "execute_result"
    }
   ],
   "source": [
    "# 영수증마다 하나의 영어를 포함하거나, 모두 숫자로 이루어져있기 때문에 이러한 타입을 나타내는 파생변수를 생성\n",
    "df_old['영수증타입'] = df_old['영수증번호'].apply(receipt_type)\n",
    "df_new['영수증타입'] = df_new['영수증번호'].apply(receipt_type)\n",
    "df_old['영수증타입'].value_counts()"
   ]
  },
  {
   "cell_type": "code",
   "execution_count": 29,
   "id": "fae4a094",
   "metadata": {},
   "outputs": [],
   "source": [
    "train_rfm['영수증타입최대값'] = df_old.groupby('고객번호')['영수증타입'].agg(lambda x:x.value_counts().index[0]).tolist()\n",
    "test_rfm['영수증타입최대값'] = df_new.groupby('고객번호')['영수증타입'].agg(lambda x:x.value_counts().index[0]).tolist()"
   ]
  },
  {
   "cell_type": "markdown",
   "id": "b19bf92c",
   "metadata": {},
   "source": [
    "- 최대 구매 경로"
   ]
  },
  {
   "cell_type": "code",
   "execution_count": 30,
   "id": "1d217d38",
   "metadata": {},
   "outputs": [
    {
     "data": {
      "text/plain": [
       "1    4122105\n",
       "2     611617\n",
       "Name: 채널구분, dtype: int64"
      ]
     },
     "execution_count": 30,
     "metadata": {},
     "output_type": "execute_result"
    }
   ],
   "source": [
    "df_old['채널구분'].value_counts()"
   ]
  },
  {
   "cell_type": "code",
   "execution_count": 31,
   "id": "5af45603",
   "metadata": {},
   "outputs": [],
   "source": [
    "def buy_root(x):\n",
    "    if x == 1:\n",
    "        return '오프라인'\n",
    "    elif x == 2:\n",
    "        return '온라인'"
   ]
  },
  {
   "cell_type": "code",
   "execution_count": 32,
   "id": "ec84085c",
   "metadata": {},
   "outputs": [],
   "source": [
    "train_rfm['최다구매경로'] = df_old.groupby('고객번호')['채널구분'].agg(lambda x:x.value_counts().index[0]).tolist()\n",
    "train_rfm['최다구매경로'] = train_rfm['최다구매경로'].apply(buy_root)\n",
    "test_rfm['최다구매경로'] = df_new.groupby('고객번호')['채널구분'].agg(lambda x:x.value_counts().index[0]).tolist()\n",
    "test_rfm['최다구매경로'] = test_rfm['최다구매경로'].apply(buy_root)"
   ]
  },
  {
   "cell_type": "markdown",
   "id": "bcc2def4",
   "metadata": {},
   "source": [
    "- 제휴사의 타입"
   ]
  },
  {
   "cell_type": "code",
   "execution_count": 33,
   "id": "febbc465",
   "metadata": {},
   "outputs": [
    {
     "data": {
      "text/plain": [
       "A    4362804\n",
       "D     171769\n",
       "L      93429\n",
       "C      90236\n",
       "B       8811\n",
       "E       6673\n",
       "Name: 제휴사타입, dtype: int64"
      ]
     },
     "execution_count": 33,
     "metadata": {},
     "output_type": "execute_result"
    }
   ],
   "source": [
    "# 제휴사의 제일 앞에 알파벳의 경우에는 제휴사의 타입을 나타낼 수 있기 때문에 파생변수로 생성\n",
    "df_old['제휴사타입'] = df_old['제휴사'].apply(lambda x: str(x)[0])\n",
    "df_new['제휴사타입'] = df_new['제휴사'].apply(lambda x: str(x)[0])\n",
    "df_old['제휴사타입'].value_counts()"
   ]
  },
  {
   "cell_type": "code",
   "execution_count": 34,
   "id": "0ebada10",
   "metadata": {},
   "outputs": [],
   "source": [
    "train_rfm['최다제휴사타입'] = df_old.groupby('고객번호')['제휴사타입'].agg(lambda x:x.value_counts().index[0]).tolist()\n",
    "train_rfm['최다제휴사'] = df_old.groupby('고객번호')['제휴사'].agg(lambda x:x.value_counts().index[0]).tolist()\n",
    "test_rfm['최다제휴사타입'] = df_new.groupby('고객번호')['제휴사타입'].agg(lambda x:x.value_counts().index[0]).tolist()\n",
    "test_rfm['최다제휴사'] = df_new.groupby('고객번호')['제휴사'].agg(lambda x:x.value_counts().index[0]).tolist()"
   ]
  },
  {
   "cell_type": "markdown",
   "id": "519d3a89",
   "metadata": {},
   "source": [
    "- 상품코드와 점포코드의 경우는 파생변수 생성 보류"
   ]
  },
  {
   "cell_type": "markdown",
   "id": "e24a0caf",
   "metadata": {},
   "source": [
    "- 구매일자관련 파생변수"
   ]
  },
  {
   "cell_type": "code",
   "execution_count": 35,
   "id": "773c10ee",
   "metadata": {},
   "outputs": [],
   "source": [
    "df_old['구매일자'] = pd.to_datetime(df_old['구매일자'].astype(str))\n",
    "df_old['구매년도'] = df_old['구매일자'].dt.year\n",
    "df_old['구매월'] = df_old['구매일자'].dt.month\n",
    "df_old['구매일'] = df_old['구매일자'].dt.day\n",
    "df_old['구매요일'] = df_old['구매일자'].dt.weekday\n",
    "df_new['구매일자'] = pd.to_datetime(df_new['구매일자'].astype(str))\n",
    "df_new['구매년도'] = df_new['구매일자'].dt.year\n",
    "df_new['구매월'] = df_new['구매일자'].dt.month\n",
    "df_new['구매일'] = df_new['구매일자'].dt.day\n",
    "df_new['구매요일'] = df_new['구매일자'].dt.weekday"
   ]
  },
  {
   "cell_type": "markdown",
   "id": "dd840e4c",
   "metadata": {},
   "source": [
    "- 구매년도"
   ]
  },
  {
   "cell_type": "code",
   "execution_count": 36,
   "id": "e6bbe81c",
   "metadata": {},
   "outputs": [],
   "source": [
    "train_rfm['최다구매년도'] = df_old.groupby('고객번호')['구매년도'].agg(lambda x:x.value_counts().index[0]).tolist()\n",
    "test_rfm['최다구매년도'] = df_new.groupby('고객번호')['구매년도'].agg(lambda x:x.value_counts().index[0]).tolist()"
   ]
  },
  {
   "cell_type": "markdown",
   "id": "884f95c4",
   "metadata": {},
   "source": [
    "- 구매월"
   ]
  },
  {
   "cell_type": "code",
   "execution_count": 37,
   "id": "8164fc1c",
   "metadata": {},
   "outputs": [],
   "source": [
    "train_rfm['평균구매월'] = df_old.groupby('고객번호')[['구매월']].mean()['구매월'].tolist()\n",
    "train_rfm['최다구매월'] = df_old.groupby('고객번호')['구매월'].agg(lambda x:x.value_counts().index[0]).tolist()\n",
    "test_rfm['평균구매월'] = df_new.groupby('고객번호')[['구매월']].mean()['구매월'].tolist()\n",
    "test_rfm['최다구매월'] = df_new.groupby('고객번호')['구매월'].agg(lambda x:x.value_counts().index[0]).tolist()"
   ]
  },
  {
   "cell_type": "code",
   "execution_count": 38,
   "id": "caf2599b",
   "metadata": {},
   "outputs": [],
   "source": [
    "# 최다 구매 계절의 파생변수를 만들기 위해 계절을 나누는 파생변수 생성\n",
    "def season(x):\n",
    "    if x >= 3 and x <= 5:\n",
    "        return '봄'\n",
    "    elif x >= 6 and x <= 7:\n",
    "        return '여름'\n",
    "    elif x >= 8 and x <= 11:\n",
    "        return '가을'\n",
    "    else:\n",
    "        return '겨울'"
   ]
  },
  {
   "cell_type": "code",
   "execution_count": 39,
   "id": "ad1884b0",
   "metadata": {},
   "outputs": [],
   "source": [
    "df_old['구매계절'] = df_old['구매월'].apply(season)\n",
    "train_rfm['최다구매계절'] = df_old.groupby('고객번호')['구매계절'].agg(lambda x:x.value_counts().index[0]).tolist()\n",
    "df_new['구매계절'] = df_new['구매월'].apply(season)\n",
    "test_rfm['최다구매계절'] = df_new.groupby('고객번호')['구매계절'].agg(lambda x:x.value_counts().index[0]).tolist()"
   ]
  },
  {
   "cell_type": "code",
   "execution_count": 40,
   "id": "4a521928",
   "metadata": {},
   "outputs": [],
   "source": [
    "train_rfm['평균구매일'] = df_old.groupby('고객번호')[['구매일']].mean()['구매일'].tolist()\n",
    "test_rfm['평균구매일'] = df_new.groupby('고객번호')[['구매일']].mean()['구매일'].tolist()"
   ]
  },
  {
   "cell_type": "code",
   "execution_count": 41,
   "id": "42096fd3",
   "metadata": {},
   "outputs": [],
   "source": [
    "# 요일을 만드는 파생변수 생성\n",
    "def dayofweek(x):\n",
    "    if x == 0:\n",
    "        return '월요일'\n",
    "    elif x == 1:\n",
    "        return '화요일'\n",
    "    elif x == 2:\n",
    "        return '수요일'\n",
    "    elif x == 3:\n",
    "        return '목요일'\n",
    "    elif x == 4:\n",
    "        return '금요일'\n",
    "    elif x == 5:\n",
    "        return '토요일'\n",
    "    elif x == 6:\n",
    "        return '일요일'"
   ]
  },
  {
   "cell_type": "code",
   "execution_count": 42,
   "id": "4758d9a0",
   "metadata": {},
   "outputs": [],
   "source": [
    "df_old['구매요일'] = df_old['구매요일'].apply(dayofweek)\n",
    "train_rfm['구매요일최대값'] = df_old.groupby('고객번호')[['구매요일']].max()['구매요일'].tolist()\n",
    "train_rfm['최다구매요일'] = df_old.groupby('고객번호')['구매요일'].agg(lambda x:x.value_counts().index[0]).tolist()\n",
    "df_new['구매요일'] = df_new['구매요일'].apply(dayofweek)\n",
    "test_rfm['구매요일최대값'] = df_new.groupby('고객번호')[['구매요일']].max()['구매요일'].tolist()\n",
    "test_rfm['최다구매요일'] = df_new.groupby('고객번호')['구매요일'].agg(lambda x:x.value_counts().index[0]).tolist()"
   ]
  },
  {
   "cell_type": "code",
   "execution_count": 43,
   "id": "fa6d8dd8",
   "metadata": {},
   "outputs": [],
   "source": [
    "def weekday(x):\n",
    "    if x == '토요일' or x == '일요일':\n",
    "        return '주말'\n",
    "    else:\n",
    "        return '주중'"
   ]
  },
  {
   "cell_type": "code",
   "execution_count": 44,
   "id": "7e7ab7bf",
   "metadata": {},
   "outputs": [],
   "source": [
    "df_old['주중주말여부'] = df_old['구매요일'].apply(weekday)\n",
    "train_rfm['주중주말선호도'] = df_old.groupby('고객번호')['주중주말여부'].agg(lambda x:x.value_counts().index[0]).tolist()\n",
    "df_new['주중주말여부'] = df_new['구매요일'].apply(weekday)\n",
    "test_rfm['주중주말선호도'] = df_new.groupby('고객번호')['주중주말여부'].agg(lambda x:x.value_counts().index[0]).tolist()"
   ]
  },
  {
   "cell_type": "markdown",
   "id": "a827743e",
   "metadata": {},
   "source": [
    "- 구매시간 관련 파생변수"
   ]
  },
  {
   "cell_type": "code",
   "execution_count": 45,
   "id": "58acda11",
   "metadata": {},
   "outputs": [],
   "source": [
    "train_rfm['평균구매시간'] = df_old.groupby('고객번호')[['구매시간']].mean()['구매시간'].tolist()\n",
    "train_rfm['최다구매시간'] = df_old.groupby('고객번호')['구매시간'].agg(lambda x:x.value_counts().index[0]).tolist()\n",
    "test_rfm['평균구매시간'] = df_new.groupby('고객번호')[['구매시간']].mean()['구매시간'].tolist()\n",
    "test_rfm['최다구매시간'] = df_new.groupby('고객번호')['구매시간'].agg(lambda x:x.value_counts().index[0]).tolist()"
   ]
  },
  {
   "cell_type": "code",
   "execution_count": 46,
   "id": "263faf19",
   "metadata": {},
   "outputs": [],
   "source": [
    "def hour_type(x):\n",
    "    if x < 6:\n",
    "        return '새벽'\n",
    "    elif x >= 6 and x < 12:\n",
    "        return '오전'\n",
    "    elif x < 18 and x >= 12:\n",
    "        return '오후'\n",
    "    else:\n",
    "        return '저녁'"
   ]
  },
  {
   "cell_type": "code",
   "execution_count": 47,
   "id": "8ee4a2d7",
   "metadata": {},
   "outputs": [],
   "source": [
    "df_old['구매시간분류'] = df_old['구매시간'].apply(hour_type)\n",
    "train_rfm['주구매시간분류'] = df_old.groupby('고객번호')['구매시간분류'].agg(lambda x:x.value_counts().index[0]).tolist()\n",
    "df_new['구매시간분류'] = df_new['구매시간'].apply(hour_type)\n",
    "test_rfm['주구매시간분류'] = df_new.groupby('고객번호')['구매시간분류'].agg(lambda x:x.value_counts().index[0]).tolist()"
   ]
  },
  {
   "cell_type": "markdown",
   "id": "09852567",
   "metadata": {},
   "source": [
    "- 구매금액 관련 파생변수"
   ]
  },
  {
   "cell_type": "code",
   "execution_count": 48,
   "id": "bb3da227",
   "metadata": {},
   "outputs": [],
   "source": [
    "train_rfm['평균구매금액'] = df_old.groupby('고객번호')[['구매금액']].mean()['구매금액'].tolist()\n",
    "train_rfm['최대구매금액'] = df_old.groupby('고객번호')['구매금액'].agg(lambda x:x.value_counts().index[0]).tolist()\n",
    "train_rfm['최소구매금액'] = df_old.groupby('고객번호')[['구매금액']].min()['구매금액'].tolist()\n",
    "test_rfm['평균구매금액'] = df_new.groupby('고객번호')[['구매금액']].mean()['구매금액'].tolist()\n",
    "test_rfm['최대구매금액'] = df_new.groupby('고객번호')['구매금액'].agg(lambda x:x.value_counts().index[0]).tolist()\n",
    "test_rfm['최소구매금액'] = df_new.groupby('고객번호')[['구매금액']].min()['구매금액'].tolist()"
   ]
  },
  {
   "cell_type": "markdown",
   "id": "0f66e1d1",
   "metadata": {},
   "source": [
    "- 구매수량 관련 파생변수"
   ]
  },
  {
   "cell_type": "code",
   "execution_count": 49,
   "id": "fc9e5d3f",
   "metadata": {},
   "outputs": [],
   "source": [
    "train_rfm['평균구매수량'] = df_old.groupby('고객번호')[['구매수량']].mean()['구매수량'].tolist()\n",
    "train_rfm['최대구매수량'] = df_old.groupby('고객번호')['구매수량'].agg(lambda x:x.value_counts().index[0]).tolist()\n",
    "train_rfm['최소구매수량'] = df_old.groupby('고객번호')[['구매수량']].min()['구매수량'].tolist()\n",
    "train_rfm['평균낱개구매금액'] = [(x/y) if y != 0 else 0 for x,y in zip(train_rfm['평균구매금액'], train_rfm['평균구매수량'])]\n",
    "test_rfm['평균구매수량'] = df_new.groupby('고객번호')[['구매수량']].mean()['구매수량'].tolist()\n",
    "test_rfm['최대구매수량'] = df_new.groupby('고객번호')['구매수량'].agg(lambda x:x.value_counts().index[0]).tolist()\n",
    "test_rfm['최소구매수량'] = df_new.groupby('고객번호')[['구매수량']].min()['구매수량'].tolist()\n",
    "test_rfm['평균낱개구매금액'] = [(x/y) if y != 0 else 0 for x,y in zip(test_rfm['평균구매금액'], test_rfm['평균구매수량'])]"
   ]
  },
  {
   "cell_type": "markdown",
   "id": "7ee2a46c",
   "metadata": {},
   "source": [
    "- 구매품목수의 경우 신규 고객은 모두 적은 수가 되기 때문에 모델을 사용하지 못하는 문제가 생길 수 있으므로 제거하는 것이 좋다고 판단됨"
   ]
  },
  {
   "cell_type": "code",
   "execution_count": 50,
   "id": "d9af0da4",
   "metadata": {},
   "outputs": [],
   "source": [
    "# train_rfm['구매품목수'] = df_old.groupby('고객번호')[['영수증번호']].count()['영수증번호'].tolist()"
   ]
  },
  {
   "cell_type": "markdown",
   "id": "d338687b",
   "metadata": {},
   "source": [
    "## 피처 추가_찬진\n",
    "    - EDA 결과 나타난 유형별 특징을 바탕으로 특징을 잘 잡을 수 있는 파생변수 생성"
   ]
  },
  {
   "cell_type": "code",
   "execution_count": 51,
   "id": "23e19d8c",
   "metadata": {},
   "outputs": [],
   "source": [
    "# 온라인, 오프라인, 둘다\n",
    "def div_ch(x):\n",
    "    if set(x) == {1}: # 오프라인만 이용하는 경우\n",
    "        return '오프라인'\n",
    "    elif set(x) == {2}: # 온라인만 이용\n",
    "        return '온라인'\n",
    "    else: # 둘다이용\n",
    "        return '둘다이용'\n",
    "\n",
    "# 이용채널과 이용 횟수를 구해줌\n",
    "train_rfm['이용채널'] = df_old.groupby('고객번호')['채널구분'].apply(list).reset_index()['채널구분'].apply(div_ch)\n",
    "test_rfm['이용채널'] = df_new.groupby('고객번호')['채널구분'].apply(list).reset_index()['채널구분'].apply(div_ch)"
   ]
  },
  {
   "cell_type": "code",
   "execution_count": 52,
   "id": "00deceb4",
   "metadata": {},
   "outputs": [],
   "source": [
    "# 엘페이 이용 여부\n",
    "lpay_user_old = df_old[df_old['타입'] == 'Lpay']['고객번호'].unique()\n",
    "train_rfm['Lpay이용여부'] = train_rfm['고객번호'].apply(lambda x:'Lpay사용' if x in lpay_user_old else 'Lpay미사용')\n",
    "lpay_user_new = df_new[df_new['타입'] == 'Lpay']['고객번호'].unique()\n",
    "test_rfm['Lpay이용여부'] = test_rfm['고객번호'].apply(lambda x:'Lpay사용' if x in lpay_user_new else 'Lpay미사용')"
   ]
  },
  {
   "cell_type": "code",
   "execution_count": 53,
   "id": "3b854aa6",
   "metadata": {},
   "outputs": [],
   "source": [
    "# # 최다구매 중분류명, 대분류명\n",
    "# train_rfm['최다구매중분류명'] = df_old.groupby('고객번호')['중분류명'].apply(list).apply(lambda x:max(x, key = x.count)).reset_index()['중분류명']\n",
    "# train_rfm['최다구매대분류명'] = df_old.groupby('고객번호')['대분류명'].apply(list).apply(lambda x:max(x, key = x.count)).reset_index()['대분류명']"
   ]
  },
  {
   "cell_type": "markdown",
   "id": "9d31d4e5",
   "metadata": {},
   "source": [
    "## 피처 추가_코로나\n",
    "    - 일별 코로나 확진자 및 사망자의 외부데이터를 이용하여 새로운 파생변수를 추가"
   ]
  },
  {
   "cell_type": "code",
   "execution_count": 54,
   "id": "7b0396bf",
   "metadata": {},
   "outputs": [],
   "source": [
    "train_rfm['코로나신규확진자수평균'] = df_old.groupby('고객번호', as_index = False)['신규확진자'].mean()['신규확진자']\n",
    "train_rfm['코로나신규사망자수평균'] = df_old.groupby('고객번호', as_index = False)['신규사망자'].mean()['신규사망자']\n",
    "test_rfm['코로나신규확진자수평균'] = df_new.groupby('고객번호', as_index = False)['신규확진자'].mean()['신규확진자']\n",
    "test_rfm['코로나신규사망자수평균'] = df_new.groupby('고객번호', as_index = False)['신규사망자'].mean()['신규사망자']"
   ]
  },
  {
   "cell_type": "code",
   "execution_count": 55,
   "id": "49ce8f8e",
   "metadata": {},
   "outputs": [
    {
     "data": {
      "text/html": [
       "<div>\n",
       "<style scoped>\n",
       "    .dataframe tbody tr th:only-of-type {\n",
       "        vertical-align: middle;\n",
       "    }\n",
       "\n",
       "    .dataframe tbody tr th {\n",
       "        vertical-align: top;\n",
       "    }\n",
       "\n",
       "    .dataframe thead th {\n",
       "        text-align: right;\n",
       "    }\n",
       "</style>\n",
       "<table border=\"1\" class=\"dataframe\">\n",
       "  <thead>\n",
       "    <tr style=\"text-align: right;\">\n",
       "      <th></th>\n",
       "      <th>고객번호</th>\n",
       "      <th>성별</th>\n",
       "      <th>연령대</th>\n",
       "      <th>거주지대분류코드</th>\n",
       "      <th>labels</th>\n",
       "      <th>영수증번호길이평균</th>\n",
       "      <th>영수증번호길이최대</th>\n",
       "      <th>영수증타입최대값</th>\n",
       "      <th>최다구매경로</th>\n",
       "      <th>최다제휴사타입</th>\n",
       "      <th>...</th>\n",
       "      <th>최대구매금액</th>\n",
       "      <th>최소구매금액</th>\n",
       "      <th>평균구매수량</th>\n",
       "      <th>최대구매수량</th>\n",
       "      <th>최소구매수량</th>\n",
       "      <th>평균낱개구매금액</th>\n",
       "      <th>이용채널</th>\n",
       "      <th>Lpay이용여부</th>\n",
       "      <th>코로나신규확진자수평균</th>\n",
       "      <th>코로나신규사망자수평균</th>\n",
       "    </tr>\n",
       "  </thead>\n",
       "  <tbody>\n",
       "    <tr>\n",
       "      <th>0</th>\n",
       "      <td>M000034966</td>\n",
       "      <td>여성</td>\n",
       "      <td>40대</td>\n",
       "      <td>Z07</td>\n",
       "      <td>0</td>\n",
       "      <td>12.122449</td>\n",
       "      <td>12</td>\n",
       "      <td>A</td>\n",
       "      <td>오프라인</td>\n",
       "      <td>A</td>\n",
       "      <td>...</td>\n",
       "      <td>1980</td>\n",
       "      <td>100</td>\n",
       "      <td>1.224490</td>\n",
       "      <td>1</td>\n",
       "      <td>0</td>\n",
       "      <td>10270.666667</td>\n",
       "      <td>오프라인</td>\n",
       "      <td>Lpay미사용</td>\n",
       "      <td>2052.224490</td>\n",
       "      <td>14.612245</td>\n",
       "    </tr>\n",
       "    <tr>\n",
       "      <th>1</th>\n",
       "      <td>M000136117</td>\n",
       "      <td>여성</td>\n",
       "      <td>30대</td>\n",
       "      <td>Z11</td>\n",
       "      <td>2</td>\n",
       "      <td>12.842975</td>\n",
       "      <td>12</td>\n",
       "      <td>A</td>\n",
       "      <td>오프라인</td>\n",
       "      <td>A</td>\n",
       "      <td>...</td>\n",
       "      <td>14300</td>\n",
       "      <td>100</td>\n",
       "      <td>0.884298</td>\n",
       "      <td>1</td>\n",
       "      <td>0</td>\n",
       "      <td>268196.551402</td>\n",
       "      <td>둘다이용</td>\n",
       "      <td>Lpay사용</td>\n",
       "      <td>1571.099174</td>\n",
       "      <td>15.553719</td>\n",
       "    </tr>\n",
       "    <tr>\n",
       "      <th>2</th>\n",
       "      <td>M000201112</td>\n",
       "      <td>여성</td>\n",
       "      <td>50대</td>\n",
       "      <td>Z17</td>\n",
       "      <td>0</td>\n",
       "      <td>12.000000</td>\n",
       "      <td>12</td>\n",
       "      <td>A</td>\n",
       "      <td>오프라인</td>\n",
       "      <td>A</td>\n",
       "      <td>...</td>\n",
       "      <td>1700</td>\n",
       "      <td>20</td>\n",
       "      <td>1.450000</td>\n",
       "      <td>1</td>\n",
       "      <td>1</td>\n",
       "      <td>1773.103448</td>\n",
       "      <td>오프라인</td>\n",
       "      <td>Lpay미사용</td>\n",
       "      <td>1775.500000</td>\n",
       "      <td>6.650000</td>\n",
       "    </tr>\n",
       "  </tbody>\n",
       "</table>\n",
       "<p>3 rows × 33 columns</p>\n",
       "</div>"
      ],
      "text/plain": [
       "         고객번호  성별  연령대 거주지대분류코드  labels  영수증번호길이평균  영수증번호길이최대 영수증타입최대값 최다구매경로  \\\n",
       "0  M000034966  여성  40대      Z07       0  12.122449         12        A   오프라인   \n",
       "1  M000136117  여성  30대      Z11       2  12.842975         12        A   오프라인   \n",
       "2  M000201112  여성  50대      Z17       0  12.000000         12        A   오프라인   \n",
       "\n",
       "  최다제휴사타입  ... 최대구매금액  최소구매금액    평균구매수량  최대구매수량 최소구매수량       평균낱개구매금액  이용채널  \\\n",
       "0       A  ...   1980     100  1.224490       1      0   10270.666667  오프라인   \n",
       "1       A  ...  14300     100  0.884298       1      0  268196.551402  둘다이용   \n",
       "2       A  ...   1700      20  1.450000       1      1    1773.103448  오프라인   \n",
       "\n",
       "  Lpay이용여부  코로나신규확진자수평균  코로나신규사망자수평균  \n",
       "0  Lpay미사용  2052.224490    14.612245  \n",
       "1   Lpay사용  1571.099174    15.553719  \n",
       "2  Lpay미사용  1775.500000     6.650000  \n",
       "\n",
       "[3 rows x 33 columns]"
      ]
     },
     "execution_count": 55,
     "metadata": {},
     "output_type": "execute_result"
    }
   ],
   "source": [
    "train_rfm.head(3)"
   ]
  },
  {
   "cell_type": "code",
   "execution_count": 56,
   "id": "525f9df6",
   "metadata": {},
   "outputs": [
    {
     "data": {
      "text/html": [
       "<div>\n",
       "<style scoped>\n",
       "    .dataframe tbody tr th:only-of-type {\n",
       "        vertical-align: middle;\n",
       "    }\n",
       "\n",
       "    .dataframe tbody tr th {\n",
       "        vertical-align: top;\n",
       "    }\n",
       "\n",
       "    .dataframe thead th {\n",
       "        text-align: right;\n",
       "    }\n",
       "</style>\n",
       "<table border=\"1\" class=\"dataframe\">\n",
       "  <thead>\n",
       "    <tr style=\"text-align: right;\">\n",
       "      <th></th>\n",
       "      <th>고객번호</th>\n",
       "      <th>성별</th>\n",
       "      <th>연령대</th>\n",
       "      <th>거주지대분류코드</th>\n",
       "      <th>영수증번호길이평균</th>\n",
       "      <th>영수증번호길이최대</th>\n",
       "      <th>영수증타입최대값</th>\n",
       "      <th>최다구매경로</th>\n",
       "      <th>최다제휴사타입</th>\n",
       "      <th>최다제휴사</th>\n",
       "      <th>...</th>\n",
       "      <th>최대구매금액</th>\n",
       "      <th>최소구매금액</th>\n",
       "      <th>평균구매수량</th>\n",
       "      <th>최대구매수량</th>\n",
       "      <th>최소구매수량</th>\n",
       "      <th>평균낱개구매금액</th>\n",
       "      <th>이용채널</th>\n",
       "      <th>Lpay이용여부</th>\n",
       "      <th>코로나신규확진자수평균</th>\n",
       "      <th>코로나신규사망자수평균</th>\n",
       "    </tr>\n",
       "  </thead>\n",
       "  <tbody>\n",
       "    <tr>\n",
       "      <th>0</th>\n",
       "      <td>M000059535</td>\n",
       "      <td>여성</td>\n",
       "      <td>30대</td>\n",
       "      <td>Z12</td>\n",
       "      <td>18.0</td>\n",
       "      <td>18</td>\n",
       "      <td>C</td>\n",
       "      <td>온라인</td>\n",
       "      <td>C</td>\n",
       "      <td>C01</td>\n",
       "      <td>...</td>\n",
       "      <td>46000</td>\n",
       "      <td>46000</td>\n",
       "      <td>0.0</td>\n",
       "      <td>0</td>\n",
       "      <td>0</td>\n",
       "      <td>0.0</td>\n",
       "      <td>온라인</td>\n",
       "      <td>Lpay미사용</td>\n",
       "      <td>424.0</td>\n",
       "      <td>7.0</td>\n",
       "    </tr>\n",
       "    <tr>\n",
       "      <th>1</th>\n",
       "      <td>M000658311</td>\n",
       "      <td>여성</td>\n",
       "      <td>20대</td>\n",
       "      <td>Z16</td>\n",
       "      <td>12.0</td>\n",
       "      <td>12</td>\n",
       "      <td>A</td>\n",
       "      <td>오프라인</td>\n",
       "      <td>A</td>\n",
       "      <td>A01</td>\n",
       "      <td>...</td>\n",
       "      <td>7900</td>\n",
       "      <td>100</td>\n",
       "      <td>1.0</td>\n",
       "      <td>1</td>\n",
       "      <td>1</td>\n",
       "      <td>14450.0</td>\n",
       "      <td>오프라인</td>\n",
       "      <td>Lpay미사용</td>\n",
       "      <td>1324.0</td>\n",
       "      <td>5.0</td>\n",
       "    </tr>\n",
       "    <tr>\n",
       "      <th>2</th>\n",
       "      <td>M000713279</td>\n",
       "      <td>여성</td>\n",
       "      <td>50대</td>\n",
       "      <td>Z12</td>\n",
       "      <td>12.0</td>\n",
       "      <td>12</td>\n",
       "      <td>A</td>\n",
       "      <td>오프라인</td>\n",
       "      <td>A</td>\n",
       "      <td>A05</td>\n",
       "      <td>...</td>\n",
       "      <td>39000</td>\n",
       "      <td>39000</td>\n",
       "      <td>1.0</td>\n",
       "      <td>1</td>\n",
       "      <td>1</td>\n",
       "      <td>39000.0</td>\n",
       "      <td>오프라인</td>\n",
       "      <td>Lpay미사용</td>\n",
       "      <td>357.0</td>\n",
       "      <td>2.0</td>\n",
       "    </tr>\n",
       "  </tbody>\n",
       "</table>\n",
       "<p>3 rows × 32 columns</p>\n",
       "</div>"
      ],
      "text/plain": [
       "         고객번호  성별  연령대 거주지대분류코드  영수증번호길이평균  영수증번호길이최대 영수증타입최대값 최다구매경로 최다제휴사타입  \\\n",
       "0  M000059535  여성  30대      Z12       18.0         18        C    온라인       C   \n",
       "1  M000658311  여성  20대      Z16       12.0         12        A   오프라인       A   \n",
       "2  M000713279  여성  50대      Z12       12.0         12        A   오프라인       A   \n",
       "\n",
       "  최다제휴사  ...  최대구매금액  최소구매금액  평균구매수량 최대구매수량  최소구매수량 평균낱개구매금액  이용채널 Lpay이용여부  \\\n",
       "0   C01  ...   46000   46000     0.0      0       0      0.0   온라인  Lpay미사용   \n",
       "1   A01  ...    7900     100     1.0      1       1  14450.0  오프라인  Lpay미사용   \n",
       "2   A05  ...   39000   39000     1.0      1       1  39000.0  오프라인  Lpay미사용   \n",
       "\n",
       "   코로나신규확진자수평균  코로나신규사망자수평균  \n",
       "0        424.0          7.0  \n",
       "1       1324.0          5.0  \n",
       "2        357.0          2.0  \n",
       "\n",
       "[3 rows x 32 columns]"
      ]
     },
     "execution_count": 56,
     "metadata": {},
     "output_type": "execute_result"
    }
   ],
   "source": [
    "test_rfm.head(3)"
   ]
  },
  {
   "cell_type": "markdown",
   "id": "f2eb9117",
   "metadata": {},
   "source": [
    "- 주구매 대분류, 중분류, 소분류"
   ]
  },
  {
   "cell_type": "code",
   "execution_count": 57,
   "id": "8abf3d76",
   "metadata": {},
   "outputs": [],
   "source": [
    "df_old['대분류명'].fillna('없음', inplace = True)\n",
    "df_old['중분류명'].fillna('없음', inplace = True)\n",
    "df_old['소분류명'].fillna('없음', inplace = True)\n",
    "df_new['대분류명'].fillna('없음', inplace = True)\n",
    "df_new['중분류명'].fillna('없음', inplace = True)\n",
    "df_new['소분류명'].fillna('없음', inplace = True)"
   ]
  },
  {
   "cell_type": "code",
   "execution_count": 58,
   "id": "2ed9298f",
   "metadata": {},
   "outputs": [],
   "source": [
    "# # Data Leakage로 인하여 임시적으로 제거\n",
    "# train_rfm['주구매대분류'] = df_old.groupby('고객번호')['대분류명'].agg(lambda x:x.value_counts().index[0]).tolist()\n",
    "# train_rfm['주구매중분류'] = df_old.groupby('고객번호')['중분류명'].agg(lambda x:x.value_counts().index[0]).tolist()\n",
    "# train_rfm['주구매소분류'] = df_old.groupby('고객번호')['소분류명'].agg(lambda x:x.value_counts().index[0]).tolist()\n",
    "# train_rfm"
   ]
  },
  {
   "cell_type": "markdown",
   "id": "698873f6",
   "metadata": {},
   "source": [
    "## Modeling"
   ]
  },
  {
   "cell_type": "code",
   "execution_count": 59,
   "id": "05ae3d1f",
   "metadata": {},
   "outputs": [],
   "source": [
    "target = train_rfm['labels']\n",
    "data = train_rfm.drop(columns='labels')\n",
    "x_test = test_rfm\n",
    "\n",
    "# train_test_split\n",
    "x_train, x_valid, y_train, y_valid = train_test_split(data, target, test_size=0.2, shuffle=True, stratify=target, random_state=42)\n",
    "# 인덱스를 지워줌\n",
    "x_train, x_valid, y_train, y_valid = x_train.reset_index(drop=True), x_valid.reset_index(drop=True), y_train.reset_index(drop=True), y_valid.reset_index(drop=True)"
   ]
  },
  {
   "cell_type": "markdown",
   "id": "9d12ffd1",
   "metadata": {},
   "source": [
    "- Preprocessing"
   ]
  },
  {
   "cell_type": "code",
   "execution_count": 60,
   "id": "4dbf957f",
   "metadata": {},
   "outputs": [],
   "source": [
    "# encoder\n",
    "from sklearn.preprocessing import LabelEncoder\n",
    "from sklearn.preprocessing import OneHotEncoder\n",
    "# eval\n",
    "from sklearn.model_selection import cross_val_score\n",
    "from sklearn.metrics import make_scorer\n",
    "from sklearn.metrics import f1_score, accuracy_score\n",
    "# model\n",
    "from sklearn.ensemble import RandomForestClassifier\n",
    "from catboost import CatBoostClassifier"
   ]
  },
  {
   "cell_type": "code",
   "execution_count": 61,
   "id": "c223a414",
   "metadata": {},
   "outputs": [],
   "source": [
    "# 범주형 변수와 수치형 변수를 분리\n",
    "## train\n",
    "cat_feature_tr = x_train.iloc[:,1:].select_dtypes(include=['object']).columns.to_list()\n",
    "num_feature_tr = x_train.iloc[:,1:].select_dtypes(exclude='object').columns.to_list()\n",
    "## test\n",
    "cat_feature_val = x_valid.iloc[:,1:].select_dtypes(include=['object']).columns.to_list()\n",
    "num_feature_val = x_valid.iloc[:,1:].select_dtypes(exclude='object').columns.to_list() \n",
    "## test\n",
    "cat_feature_te = x_test.iloc[:,1:].select_dtypes(include=['object']).columns.to_list()\n",
    "num_feature_te = x_test.iloc[:,1:].select_dtypes(exclude='object').columns.to_list() "
   ]
  },
  {
   "cell_type": "code",
   "execution_count": 62,
   "id": "76840e1e",
   "metadata": {},
   "outputs": [],
   "source": [
    "# standard scaler\n",
    "from sklearn.preprocessing import StandardScaler\n",
    "scaler = StandardScaler()\n",
    "x_train[num_feature_tr] = scaler.fit_transform(x_train[num_feature_tr])\n",
    "x_valid[num_feature_val] = scaler.transform(x_valid[num_feature_val])\n",
    "x_test[num_feature_te] = scaler.transform(x_test[num_feature_te])"
   ]
  },
  {
   "cell_type": "markdown",
   "id": "de99ab28",
   "metadata": {},
   "source": [
    "    -  인코딩 시 test에만 있고 train에는 없는 컬럼 처리가 힘든 문제가 생김\n",
    "    -> 임시로 해결을 위해 train과 test를 합쳐서 인코딩해줌"
   ]
  },
  {
   "cell_type": "code",
   "execution_count": 63,
   "id": "eba20e25",
   "metadata": {},
   "outputs": [],
   "source": [
    "# #onehotencoder\n",
    "# ohe = OneHotEncoder(sparse=False)\n",
    "\n",
    "# # fit_transform은 train에만 사용하고 test에는 학습된 인코더에 fit만 해야한다\n",
    "# ohe_ = ohe.fit(pd.concat([x_train, x_test]).reset_index(drop=True)[cat_feature_tr])\n",
    "# one_cat_tr = ohe_.transform(x_train[cat_feature_tr])\n",
    "# one_cat_te = ohe_.transform(x_test[cat_feature_te])\n",
    "\n",
    "# cat_tr = pd.DataFrame(one_cat_tr, columns = ohe.get_feature_names(cat_feature_tr)) # train\n",
    "# cat_te = pd.DataFrame(one_cat_te, columns = ohe.get_feature_names(cat_feature_te)) # test"
   ]
  },
  {
   "cell_type": "code",
   "execution_count": 64,
   "id": "d9317b33",
   "metadata": {},
   "outputs": [],
   "source": [
    "# Labelencoder\n",
    "encoder = LabelEncoder()\n",
    "encoded_cat_tr = []\n",
    "encoded_cat_val = []\n",
    "encoded_cat_te = []\n",
    "for f in cat_feature_tr:\n",
    "    encoder = encoder.fit(pd.concat([x_train, x_test]).reset_index(drop=True)[f])\n",
    "    encoded_cat_tr.append(pd.DataFrame(encoder.transform(x_train[f]),columns = [f])) # train\n",
    "    encoded_cat_val.append(pd.DataFrame(encoder.transform(x_valid[f]),columns = [f]))\t# valid\n",
    "    encoded_cat_te.append(pd.DataFrame(encoder.transform(x_test[f]),columns = [f]))\t# test\n",
    "\n",
    "# 합쳐줌\n",
    "cat_tr = pd.concat(encoded_cat_tr, axis = 1) # train\n",
    "cat_val = pd.concat(encoded_cat_val, axis = 1) # test\n",
    "cat_te = pd.concat(encoded_cat_te, axis = 1) # test"
   ]
  },
  {
   "cell_type": "code",
   "execution_count": 65,
   "id": "1447a3b5",
   "metadata": {},
   "outputs": [],
   "source": [
    "x_train_imp = pd.concat([x_train['고객번호'], cat_tr], axis=1)\n",
    "x_valid_imp = pd.concat([x_valid['고객번호'], cat_val], axis=1)\n",
    "x_test_imp = pd.concat([x_test['고객번호'], cat_te], axis=1)\n",
    "\n",
    "x_train = pd.concat([x_train_imp, x_train[num_feature_tr]], axis=1)\n",
    "x_valid = pd.concat([x_valid_imp, x_valid[num_feature_val]], axis=1)\n",
    "x_test = pd.concat([x_test_imp, x_test[num_feature_te]], axis=1)"
   ]
  },
  {
   "cell_type": "markdown",
   "id": "471061d1",
   "metadata": {},
   "source": [
    "- catboost modeling"
   ]
  },
  {
   "cell_type": "code",
   "execution_count": 66,
   "id": "0c11975a",
   "metadata": {
    "scrolled": false
   },
   "outputs": [
    {
     "data": {
      "text/plain": [
       "0.6272595023024413"
      ]
     },
     "execution_count": 66,
     "metadata": {},
     "output_type": "execute_result"
    }
   ],
   "source": [
    "# model = RandomForestClassifier(random_state=42)\n",
    "cat = CatBoostClassifier(random_state=42, verbose=0)\n",
    "\n",
    "score = np.mean(cross_val_score(cat, x_train.iloc[:,1:], y_train, cv=5, scoring = 'f1_macro')) # 모델의 성능 확인 -> cv\n",
    "score"
   ]
  },
  {
   "cell_type": "markdown",
   "id": "133c77f9",
   "metadata": {},
   "source": [
    "- catboost inference"
   ]
  },
  {
   "cell_type": "code",
   "execution_count": 67,
   "id": "a9906a0a",
   "metadata": {},
   "outputs": [
    {
     "name": "stdout",
     "output_type": "stream",
     "text": [
      "f1_score: 0.6161944861037384\n",
      "acc_score: 0.8527560556933054\n"
     ]
    }
   ],
   "source": [
    "cat.fit(x_train.iloc[:,1:], y_train)\n",
    "pred_cat = cat.predict(x_valid.iloc[:,1:])\n",
    "\n",
    "print(f'f1_score: {f1_score(y_valid, pred_cat, average=\"macro\")}')\n",
    "print(f'acc_score: {accuracy_score(y_valid, pred_cat)}')"
   ]
  },
  {
   "cell_type": "code",
   "execution_count": 68,
   "id": "8a4181b2",
   "metadata": {},
   "outputs": [
    {
     "data": {
      "text/html": [
       "<div>\n",
       "<style scoped>\n",
       "    .dataframe tbody tr th:only-of-type {\n",
       "        vertical-align: middle;\n",
       "    }\n",
       "\n",
       "    .dataframe tbody tr th {\n",
       "        vertical-align: top;\n",
       "    }\n",
       "\n",
       "    .dataframe thead th {\n",
       "        text-align: right;\n",
       "    }\n",
       "</style>\n",
       "<table border=\"1\" class=\"dataframe\">\n",
       "  <thead>\n",
       "    <tr style=\"text-align: right;\">\n",
       "      <th></th>\n",
       "      <th>고객번호</th>\n",
       "      <th>예측유형</th>\n",
       "    </tr>\n",
       "  </thead>\n",
       "  <tbody>\n",
       "    <tr>\n",
       "      <th>0</th>\n",
       "      <td>M000059535</td>\n",
       "      <td>1</td>\n",
       "    </tr>\n",
       "    <tr>\n",
       "      <th>1</th>\n",
       "      <td>M000658311</td>\n",
       "      <td>0</td>\n",
       "    </tr>\n",
       "    <tr>\n",
       "      <th>2</th>\n",
       "      <td>M000713279</td>\n",
       "      <td>1</td>\n",
       "    </tr>\n",
       "    <tr>\n",
       "      <th>3</th>\n",
       "      <td>M000859319</td>\n",
       "      <td>1</td>\n",
       "    </tr>\n",
       "    <tr>\n",
       "      <th>4</th>\n",
       "      <td>M001080017</td>\n",
       "      <td>1</td>\n",
       "    </tr>\n",
       "    <tr>\n",
       "      <th>...</th>\n",
       "      <td>...</td>\n",
       "      <td>...</td>\n",
       "    </tr>\n",
       "    <tr>\n",
       "      <th>3657</th>\n",
       "      <td>M998572907</td>\n",
       "      <td>1</td>\n",
       "    </tr>\n",
       "    <tr>\n",
       "      <th>3658</th>\n",
       "      <td>M999340261</td>\n",
       "      <td>1</td>\n",
       "    </tr>\n",
       "    <tr>\n",
       "      <th>3659</th>\n",
       "      <td>M999492154</td>\n",
       "      <td>0</td>\n",
       "    </tr>\n",
       "    <tr>\n",
       "      <th>3660</th>\n",
       "      <td>M999493501</td>\n",
       "      <td>1</td>\n",
       "    </tr>\n",
       "    <tr>\n",
       "      <th>3661</th>\n",
       "      <td>M999708287</td>\n",
       "      <td>1</td>\n",
       "    </tr>\n",
       "  </tbody>\n",
       "</table>\n",
       "<p>3662 rows × 2 columns</p>\n",
       "</div>"
      ],
      "text/plain": [
       "            고객번호  예측유형\n",
       "0     M000059535     1\n",
       "1     M000658311     0\n",
       "2     M000713279     1\n",
       "3     M000859319     1\n",
       "4     M001080017     1\n",
       "...          ...   ...\n",
       "3657  M998572907     1\n",
       "3658  M999340261     1\n",
       "3659  M999492154     0\n",
       "3660  M999493501     1\n",
       "3661  M999708287     1\n",
       "\n",
       "[3662 rows x 2 columns]"
      ]
     },
     "execution_count": 68,
     "metadata": {},
     "output_type": "execute_result"
    }
   ],
   "source": [
    "test_pred = cat.predict(x_test.iloc[:,1:])\n",
    "cat_pred = pd.DataFrame({'고객번호': x_test.iloc[:,0], '예측유형': pd.DataFrame(test_pred)[0]})\n",
    "cat_pred"
   ]
  },
  {
   "cell_type": "markdown",
   "id": "1bd93d96",
   "metadata": {},
   "source": [
    "- randomforest modeling"
   ]
  },
  {
   "cell_type": "code",
   "execution_count": 69,
   "id": "99b16963",
   "metadata": {},
   "outputs": [
    {
     "data": {
      "text/plain": [
       "0.5575773074737178"
      ]
     },
     "execution_count": 69,
     "metadata": {},
     "output_type": "execute_result"
    }
   ],
   "source": [
    "rf = RandomForestClassifier(random_state=42)\n",
    "score = np.mean(cross_val_score(rf, x_train.iloc[:,1:], y_train, cv=5, scoring = 'f1_macro')) # 모델의 성능 확인 -> cv\n",
    "score"
   ]
  },
  {
   "cell_type": "markdown",
   "id": "06b7cbab",
   "metadata": {},
   "source": [
    "- randomforest inference"
   ]
  },
  {
   "cell_type": "code",
   "execution_count": 70,
   "id": "e512a277",
   "metadata": {},
   "outputs": [
    {
     "name": "stdout",
     "output_type": "stream",
     "text": [
      "f1_score: 0.6404725945752017\n",
      "acc_score: 0.8483692542437535\n"
     ]
    }
   ],
   "source": [
    "rf.fit(x_train.iloc[:,1:], y_train)\n",
    "pred_rf = rf.predict(x_valid.iloc[:,1:])\n",
    "\n",
    "print(f'f1_score: {f1_score(y_valid, pred_rf, average=\"macro\")}')\n",
    "print(f'acc_score: {accuracy_score(y_valid, pred_rf)}')"
   ]
  },
  {
   "cell_type": "code",
   "execution_count": 71,
   "id": "e76d4aab",
   "metadata": {},
   "outputs": [
    {
     "data": {
      "text/html": [
       "<div>\n",
       "<style scoped>\n",
       "    .dataframe tbody tr th:only-of-type {\n",
       "        vertical-align: middle;\n",
       "    }\n",
       "\n",
       "    .dataframe tbody tr th {\n",
       "        vertical-align: top;\n",
       "    }\n",
       "\n",
       "    .dataframe thead th {\n",
       "        text-align: right;\n",
       "    }\n",
       "</style>\n",
       "<table border=\"1\" class=\"dataframe\">\n",
       "  <thead>\n",
       "    <tr style=\"text-align: right;\">\n",
       "      <th></th>\n",
       "      <th>고객번호</th>\n",
       "      <th>예측유형</th>\n",
       "    </tr>\n",
       "  </thead>\n",
       "  <tbody>\n",
       "    <tr>\n",
       "      <th>0</th>\n",
       "      <td>M000059535</td>\n",
       "      <td>1</td>\n",
       "    </tr>\n",
       "    <tr>\n",
       "      <th>1</th>\n",
       "      <td>M000658311</td>\n",
       "      <td>0</td>\n",
       "    </tr>\n",
       "    <tr>\n",
       "      <th>2</th>\n",
       "      <td>M000713279</td>\n",
       "      <td>1</td>\n",
       "    </tr>\n",
       "    <tr>\n",
       "      <th>3</th>\n",
       "      <td>M000859319</td>\n",
       "      <td>1</td>\n",
       "    </tr>\n",
       "    <tr>\n",
       "      <th>4</th>\n",
       "      <td>M001080017</td>\n",
       "      <td>1</td>\n",
       "    </tr>\n",
       "    <tr>\n",
       "      <th>...</th>\n",
       "      <td>...</td>\n",
       "      <td>...</td>\n",
       "    </tr>\n",
       "    <tr>\n",
       "      <th>3657</th>\n",
       "      <td>M998572907</td>\n",
       "      <td>1</td>\n",
       "    </tr>\n",
       "    <tr>\n",
       "      <th>3658</th>\n",
       "      <td>M999340261</td>\n",
       "      <td>1</td>\n",
       "    </tr>\n",
       "    <tr>\n",
       "      <th>3659</th>\n",
       "      <td>M999492154</td>\n",
       "      <td>0</td>\n",
       "    </tr>\n",
       "    <tr>\n",
       "      <th>3660</th>\n",
       "      <td>M999493501</td>\n",
       "      <td>1</td>\n",
       "    </tr>\n",
       "    <tr>\n",
       "      <th>3661</th>\n",
       "      <td>M999708287</td>\n",
       "      <td>1</td>\n",
       "    </tr>\n",
       "  </tbody>\n",
       "</table>\n",
       "<p>3662 rows × 2 columns</p>\n",
       "</div>"
      ],
      "text/plain": [
       "            고객번호  예측유형\n",
       "0     M000059535     1\n",
       "1     M000658311     0\n",
       "2     M000713279     1\n",
       "3     M000859319     1\n",
       "4     M001080017     1\n",
       "...          ...   ...\n",
       "3657  M998572907     1\n",
       "3658  M999340261     1\n",
       "3659  M999492154     0\n",
       "3660  M999493501     1\n",
       "3661  M999708287     1\n",
       "\n",
       "[3662 rows x 2 columns]"
      ]
     },
     "execution_count": 71,
     "metadata": {},
     "output_type": "execute_result"
    }
   ],
   "source": [
    "test_pred = rf.predict(x_test.iloc[:,1:])\n",
    "rf_pred = pd.DataFrame({'고객번호': x_test.iloc[:,0], '예측유형': pd.DataFrame(test_pred)[0]})\n",
    "rf_pred"
   ]
  },
  {
   "cell_type": "markdown",
   "id": "010e8fac",
   "metadata": {},
   "source": [
    "- LGBM"
   ]
  },
  {
   "cell_type": "code",
   "execution_count": 72,
   "id": "85c93c58",
   "metadata": {},
   "outputs": [
    {
     "data": {
      "text/plain": [
       "0.6651474309939744"
      ]
     },
     "execution_count": 72,
     "metadata": {},
     "output_type": "execute_result"
    }
   ],
   "source": [
    "from lightgbm import LGBMClassifier\n",
    "\n",
    "lgbm = LGBMClassifier(random_state=42)\n",
    "score = np.mean(cross_val_score(lgbm, x_train.iloc[:,1:], y_train, cv=5, scoring = 'f1_macro')) # 모델의 성능 확인 -> cv\n",
    "score"
   ]
  },
  {
   "cell_type": "code",
   "execution_count": 73,
   "id": "1f588f21",
   "metadata": {},
   "outputs": [
    {
     "name": "stdout",
     "output_type": "stream",
     "text": [
      "f1_score: 0.7139765455021255\n",
      "acc_score: 0.8556170131604044\n"
     ]
    }
   ],
   "source": [
    "lgbm.fit(x_train.iloc[:,1:], y_train)\n",
    "pred_lgbm = lgbm.predict(x_valid.iloc[:,1:])\n",
    "\n",
    "print(f'f1_score: {f1_score(y_valid, pred_lgbm, average=\"macro\")}')\n",
    "print(f'acc_score: {accuracy_score(y_valid, pred_lgbm)}')"
   ]
  },
  {
   "cell_type": "code",
   "execution_count": 84,
   "id": "161f212f",
   "metadata": {},
   "outputs": [
    {
     "data": {
      "text/html": [
       "<div>\n",
       "<style scoped>\n",
       "    .dataframe tbody tr th:only-of-type {\n",
       "        vertical-align: middle;\n",
       "    }\n",
       "\n",
       "    .dataframe tbody tr th {\n",
       "        vertical-align: top;\n",
       "    }\n",
       "\n",
       "    .dataframe thead th {\n",
       "        text-align: right;\n",
       "    }\n",
       "</style>\n",
       "<table border=\"1\" class=\"dataframe\">\n",
       "  <thead>\n",
       "    <tr style=\"text-align: right;\">\n",
       "      <th></th>\n",
       "      <th>고객번호</th>\n",
       "      <th>예측유형</th>\n",
       "    </tr>\n",
       "  </thead>\n",
       "  <tbody>\n",
       "    <tr>\n",
       "      <th>0</th>\n",
       "      <td>M000059535</td>\n",
       "      <td>1</td>\n",
       "    </tr>\n",
       "    <tr>\n",
       "      <th>1</th>\n",
       "      <td>M000658311</td>\n",
       "      <td>0</td>\n",
       "    </tr>\n",
       "    <tr>\n",
       "      <th>2</th>\n",
       "      <td>M000713279</td>\n",
       "      <td>1</td>\n",
       "    </tr>\n",
       "    <tr>\n",
       "      <th>3</th>\n",
       "      <td>M000859319</td>\n",
       "      <td>1</td>\n",
       "    </tr>\n",
       "    <tr>\n",
       "      <th>4</th>\n",
       "      <td>M001080017</td>\n",
       "      <td>1</td>\n",
       "    </tr>\n",
       "    <tr>\n",
       "      <th>...</th>\n",
       "      <td>...</td>\n",
       "      <td>...</td>\n",
       "    </tr>\n",
       "    <tr>\n",
       "      <th>3657</th>\n",
       "      <td>M998572907</td>\n",
       "      <td>1</td>\n",
       "    </tr>\n",
       "    <tr>\n",
       "      <th>3658</th>\n",
       "      <td>M999340261</td>\n",
       "      <td>1</td>\n",
       "    </tr>\n",
       "    <tr>\n",
       "      <th>3659</th>\n",
       "      <td>M999492154</td>\n",
       "      <td>0</td>\n",
       "    </tr>\n",
       "    <tr>\n",
       "      <th>3660</th>\n",
       "      <td>M999493501</td>\n",
       "      <td>1</td>\n",
       "    </tr>\n",
       "    <tr>\n",
       "      <th>3661</th>\n",
       "      <td>M999708287</td>\n",
       "      <td>1</td>\n",
       "    </tr>\n",
       "  </tbody>\n",
       "</table>\n",
       "<p>3662 rows × 2 columns</p>\n",
       "</div>"
      ],
      "text/plain": [
       "            고객번호  예측유형\n",
       "0     M000059535     1\n",
       "1     M000658311     0\n",
       "2     M000713279     1\n",
       "3     M000859319     1\n",
       "4     M001080017     1\n",
       "...          ...   ...\n",
       "3657  M998572907     1\n",
       "3658  M999340261     1\n",
       "3659  M999492154     0\n",
       "3660  M999493501     1\n",
       "3661  M999708287     1\n",
       "\n",
       "[3662 rows x 2 columns]"
      ]
     },
     "execution_count": 84,
     "metadata": {},
     "output_type": "execute_result"
    }
   ],
   "source": [
    "test_pred = lgbm.predict(x_test.iloc[:,1:])\n",
    "lgbm_pred = pd.DataFrame({'고객번호': x_test.iloc[:,0], '예측유형': pd.DataFrame(test_pred)[0]})\n",
    "lgbm_pred.to_csv(\"../submissions/lgbm_predict.csv\")\n",
    "lgbm_pred"
   ]
  },
  {
   "cell_type": "markdown",
   "id": "698caa3c",
   "metadata": {},
   "source": [
    "## Importance"
   ]
  },
  {
   "cell_type": "code",
   "execution_count": 75,
   "id": "04633a60",
   "metadata": {},
   "outputs": [],
   "source": [
    "# 운영체제별 한글 폰트 설정\n",
    "if platform.system() == 'Darwin': # Mac 환경 폰트 설정\n",
    "    plt.rc('font', family='AppleGothic')\n",
    "elif platform.system() == 'Windows': # Windows 환경 폰트 설정\n",
    "    plt.rc('font', family='Malgun Gothic')\n",
    "\n",
    "plt.rc('axes', unicode_minus=False) # 마이너스 폰트 설정"
   ]
  },
  {
   "cell_type": "markdown",
   "id": "888aac35",
   "metadata": {},
   "source": [
    "    - lgbm"
   ]
  },
  {
   "cell_type": "code",
   "execution_count": 76,
   "id": "0b580691",
   "metadata": {
    "scrolled": false
   },
   "outputs": [
    {
     "data": {
      "text/plain": [
       "<AxesSubplot:title={'center':'Feature importance'}, xlabel='Feature importance', ylabel='Features'>"
      ]
     },
     "execution_count": 76,
     "metadata": {},
     "output_type": "execute_result"
    },
    {
     "data": {
      "image/png": "[encoded data removed]",
      "text/plain": [
       "<Figure size 720x576 with 1 Axes>"
      ]
     },
     "metadata": {
      "image/png": {
       "height": 497,
       "width": 712
      },
      "needs_background": "light"
     },
     "output_type": "display_data"
    }
   ],
   "source": [
    "# lgbm\n",
    "from lightgbm import plot_importance\n",
    "\n",
    "plot_importance(lgbm, figsize=(10, 8), max_num_features=10)"
   ]
  },
  {
   "cell_type": "markdown",
   "id": "193010cd",
   "metadata": {},
   "source": [
    "    - rf"
   ]
  },
  {
   "cell_type": "code",
   "execution_count": 77,
   "id": "1b56eb77",
   "metadata": {},
   "outputs": [],
   "source": [
    "# feature_name = list(x_train.columns)[1:]\n",
    "# n_feature = x_train.shape[1]-1\n",
    "# idx = np.arange(n_feature)\n",
    "\n",
    "# plt.figure(figsize=(12, 8))\n",
    "# plt.barh(idx, rf.feature_importances_, align='center')\n",
    "# plt.title('RandomFroest Feature Importance', fontsize=20)\n",
    "\n",
    "# plt.yticks(idx, feature_name, fontsize = 5)\n",
    "# plt.xlabel('feature importance', size = 15)\n",
    "# plt.ylabel('feature', size = 15)\n",
    "# plt.show()"
   ]
  },
  {
   "cell_type": "code",
   "execution_count": 78,
   "id": "92ea1552",
   "metadata": {},
   "outputs": [],
   "source": [
    "# sorted({x:y for x,y in zip(feature_name, rf.feature_importances_)}.items(),key=lambda x: x[1], reverse=True)"
   ]
  },
  {
   "cell_type": "markdown",
   "id": "1ad0e481",
   "metadata": {},
   "source": [
    "- permutation importance\n",
    "    - 위의 Feature importance 방식과 다르게 변수의 독립적인 중요도룰 판단하는 방식\n",
    "    - 다른 변수와의 상호작용으로 인하여 변수의 중요도를 높게 판단하는 경우를 방지해줌 ( 독립 변수 자체의 변수 중요도룰 판단할 수 있음 )"
   ]
  },
  {
   "cell_type": "code",
   "execution_count": 79,
   "id": "a6e800c1",
   "metadata": {},
   "outputs": [],
   "source": [
    "import eli5 \n",
    "from eli5.sklearn import PermutationImportance"
   ]
  },
  {
   "cell_type": "code",
   "execution_count": 80,
   "id": "94f850aa",
   "metadata": {},
   "outputs": [],
   "source": [
    "# # permutation importance \n",
    "# # 검증할 모델설정\n",
    "# model = cat\n",
    "# # permutation importance 확인\n",
    "# perm = PermutationImportance(model, scoring = \"f1_macro\", random_state = 42).fit(x_train.iloc[:,1:], y_train) \n",
    "# eli5.show_weights(perm,top=10, feature_names = x_train.iloc[:,1:].columns.tolist())"
   ]
  },
  {
   "cell_type": "markdown",
   "id": "bf6b138b",
   "metadata": {},
   "source": [
    "    - 예상대로 구매금액 변수가 중요도가 높음을 알 수 있음"
   ]
  },
  {
   "cell_type": "code",
   "execution_count": 81,
   "id": "33ff33f9",
   "metadata": {},
   "outputs": [],
   "source": [
    "# # permutation importance \n",
    "# # 검증할 모델설정\n",
    "# model = rf\n",
    "# # permutation importance 확인\n",
    "# perm = PermutationImportance(model, scoring = \"f1_macro\", random_state = 42).fit(x_train.iloc[:,1:], y_train) \n",
    "# eli5.show_weights(perm,top=10, feature_names = x_train.iloc[:,1:].columns.tolist())"
   ]
  },
  {
   "cell_type": "code",
   "execution_count": 82,
   "id": "f1d34a08",
   "metadata": {},
   "outputs": [
    {
     "data": {
      "text/html": [
       "\n",
       "    <style>\n",
       "    table.eli5-weights tr:hover {\n",
       "        filter: brightness(85%);\n",
       "    }\n",
       "</style>\n",
       "\n",
       "\n",
       "\n",
       "    \n",
       "\n",
       "    \n",
       "\n",
       "    \n",
       "\n",
       "    \n",
       "\n",
       "    \n",
       "\n",
       "    \n",
       "\n",
       "\n",
       "    \n",
       "\n",
       "    \n",
       "\n",
       "    \n",
       "\n",
       "    \n",
       "\n",
       "    \n",
       "\n",
       "    \n",
       "\n",
       "\n",
       "    \n",
       "\n",
       "    \n",
       "\n",
       "    \n",
       "\n",
       "    \n",
       "\n",
       "    \n",
       "        <table class=\"eli5-weights eli5-feature-importances\" style=\"border-collapse: collapse; border: none; margin-top: 0em; table-layout: auto;\">\n",
       "    <thead>\n",
       "    <tr style=\"border: none;\">\n",
       "        <th style=\"padding: 0 1em 0 0.5em; text-align: right; border: none;\">Weight</th>\n",
       "        <th style=\"padding: 0 0.5em 0 0.5em; text-align: left; border: none;\">Feature</th>\n",
       "    </tr>\n",
       "    </thead>\n",
       "    <tbody>\n",
       "    \n",
       "        <tr style=\"background-color: hsl(120, 100.00%, 80.00%); border: none;\">\n",
       "            <td style=\"padding: 0 1em 0 0.5em; text-align: right; border: none;\">\n",
       "                0.2715\n",
       "                \n",
       "                    &plusmn; 0.0069\n",
       "                \n",
       "            </td>\n",
       "            <td style=\"padding: 0 0.5em 0 0.5em; text-align: left; border: none;\">\n",
       "                평균구매금액\n",
       "            </td>\n",
       "        </tr>\n",
       "    \n",
       "        <tr style=\"background-color: hsl(120, 100.00%, 84.10%); border: none;\">\n",
       "            <td style=\"padding: 0 1em 0 0.5em; text-align: right; border: none;\">\n",
       "                0.1957\n",
       "                \n",
       "                    &plusmn; 0.0060\n",
       "                \n",
       "            </td>\n",
       "            <td style=\"padding: 0 0.5em 0 0.5em; text-align: left; border: none;\">\n",
       "                코로나신규사망자수평균\n",
       "            </td>\n",
       "        </tr>\n",
       "    \n",
       "        <tr style=\"background-color: hsl(120, 100.00%, 84.75%); border: none;\">\n",
       "            <td style=\"padding: 0 1em 0 0.5em; text-align: right; border: none;\">\n",
       "                0.1842\n",
       "                \n",
       "                    &plusmn; 0.0257\n",
       "                \n",
       "            </td>\n",
       "            <td style=\"padding: 0 0.5em 0 0.5em; text-align: left; border: none;\">\n",
       "                평균낱개구매금액\n",
       "            </td>\n",
       "        </tr>\n",
       "    \n",
       "        <tr style=\"background-color: hsl(120, 100.00%, 86.13%); border: none;\">\n",
       "            <td style=\"padding: 0 1em 0 0.5em; text-align: right; border: none;\">\n",
       "                0.1609\n",
       "                \n",
       "                    &plusmn; 0.0275\n",
       "                \n",
       "            </td>\n",
       "            <td style=\"padding: 0 0.5em 0 0.5em; text-align: left; border: none;\">\n",
       "                최소구매금액\n",
       "            </td>\n",
       "        </tr>\n",
       "    \n",
       "        <tr style=\"background-color: hsl(120, 100.00%, 89.25%); border: none;\">\n",
       "            <td style=\"padding: 0 1em 0 0.5em; text-align: right; border: none;\">\n",
       "                0.1118\n",
       "                \n",
       "                    &plusmn; 0.0025\n",
       "                \n",
       "            </td>\n",
       "            <td style=\"padding: 0 0.5em 0 0.5em; text-align: left; border: none;\">\n",
       "                평균구매월\n",
       "            </td>\n",
       "        </tr>\n",
       "    \n",
       "        <tr style=\"background-color: hsl(120, 100.00%, 90.26%); border: none;\">\n",
       "            <td style=\"padding: 0 1em 0 0.5em; text-align: right; border: none;\">\n",
       "                0.0972\n",
       "                \n",
       "                    &plusmn; 0.0026\n",
       "                \n",
       "            </td>\n",
       "            <td style=\"padding: 0 0.5em 0 0.5em; text-align: left; border: none;\">\n",
       "                Lpay이용여부\n",
       "            </td>\n",
       "        </tr>\n",
       "    \n",
       "        <tr style=\"background-color: hsl(120, 100.00%, 90.74%); border: none;\">\n",
       "            <td style=\"padding: 0 1em 0 0.5em; text-align: right; border: none;\">\n",
       "                0.0904\n",
       "                \n",
       "                    &plusmn; 0.0114\n",
       "                \n",
       "            </td>\n",
       "            <td style=\"padding: 0 0.5em 0 0.5em; text-align: left; border: none;\">\n",
       "                평균구매일\n",
       "            </td>\n",
       "        </tr>\n",
       "    \n",
       "        <tr style=\"background-color: hsl(120, 100.00%, 91.19%); border: none;\">\n",
       "            <td style=\"padding: 0 1em 0 0.5em; text-align: right; border: none;\">\n",
       "                0.0842\n",
       "                \n",
       "                    &plusmn; 0.0037\n",
       "                \n",
       "            </td>\n",
       "            <td style=\"padding: 0 0.5em 0 0.5em; text-align: left; border: none;\">\n",
       "                코로나신규확진자수평균\n",
       "            </td>\n",
       "        </tr>\n",
       "    \n",
       "        <tr style=\"background-color: hsl(120, 100.00%, 92.85%); border: none;\">\n",
       "            <td style=\"padding: 0 1em 0 0.5em; text-align: right; border: none;\">\n",
       "                0.0624\n",
       "                \n",
       "                    &plusmn; 0.0027\n",
       "                \n",
       "            </td>\n",
       "            <td style=\"padding: 0 0.5em 0 0.5em; text-align: left; border: none;\">\n",
       "                영수증번호길이평균\n",
       "            </td>\n",
       "        </tr>\n",
       "    \n",
       "        <tr style=\"background-color: hsl(120, 100.00%, 93.65%); border: none;\">\n",
       "            <td style=\"padding: 0 1em 0 0.5em; text-align: right; border: none;\">\n",
       "                0.0527\n",
       "                \n",
       "                    &plusmn; 0.0148\n",
       "                \n",
       "            </td>\n",
       "            <td style=\"padding: 0 0.5em 0 0.5em; text-align: left; border: none;\">\n",
       "                구매요일최대값\n",
       "            </td>\n",
       "        </tr>\n",
       "    \n",
       "    \n",
       "        \n",
       "            <tr style=\"background-color: hsl(120, 100.00%, 93.65%); border: none;\">\n",
       "                <td colspan=\"2\" style=\"padding: 0 0.5em 0 0.5em; text-align: center; border: none; white-space: nowrap;\">\n",
       "                    <i>&hellip; 21 more &hellip;</i>\n",
       "                </td>\n",
       "            </tr>\n",
       "        \n",
       "    \n",
       "    </tbody>\n",
       "</table>\n",
       "    \n",
       "\n",
       "    \n",
       "\n",
       "\n",
       "    \n",
       "\n",
       "    \n",
       "\n",
       "    \n",
       "\n",
       "    \n",
       "\n",
       "    \n",
       "\n",
       "    \n",
       "\n",
       "\n",
       "\n"
      ],
      "text/plain": [
       "<IPython.core.display.HTML object>"
      ]
     },
     "execution_count": 82,
     "metadata": {},
     "output_type": "execute_result"
    }
   ],
   "source": [
    "# permutation importance \n",
    "# 검증할 모델설정\n",
    "model = lgbm\n",
    "# permutation importance 확인\n",
    "perm = PermutationImportance(model, scoring = \"f1_macro\", random_state = 42).fit(x_train.iloc[:,1:], y_train) \n",
    "eli5.show_weights(perm,top=10, feature_names = x_train.iloc[:,1:].columns.tolist())"
   ]
  },
  {
   "cell_type": "markdown",
   "id": "de1d846d",
   "metadata": {},
   "source": [
    "    - EDA 결과에서 확인했듯 Lpay이용 여부에 따라 유형을 잘 분류할 수 있음"
   ]
  },
  {
   "cell_type": "markdown",
   "id": "e4a7b75d",
   "metadata": {},
   "source": [
    "## END"
   ]
  }
 ],
 "metadata": {
  "kernelspec": {
   "display_name": "Pyhon3.9_spare",
   "language": "python",
   "name": "spare"
  },
  "language_info": {
   "codemirror_mode": {
    "name": "ipython",
    "version": 3
   },
   "file_extension": ".py",
   "mimetype": "text/x-python",
   "name": "python",
   "nbconvert_exporter": "python",
   "pygments_lexer": "ipython3",
   "version": "3.9.12"
  },
  "vscode": {
   "interpreter": {
    "hash": "93c970a1fdbd47e24786044b44a9e33cce2c61698b6a8742685f2df39696c10e"
   }
  }
 },
 "nbformat": 4,
 "nbformat_minor": 5
}
