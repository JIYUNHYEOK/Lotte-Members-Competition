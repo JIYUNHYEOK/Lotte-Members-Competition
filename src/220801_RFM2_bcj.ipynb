{
 "cells": [
  {
   "cell_type": "markdown",
   "id": "b38116c4",
   "metadata": {},
   "source": [
    "# Import library"
   ]
  },
  {
   "cell_type": "code",
   "execution_count": 1,
   "id": "61ce0bd7",
   "metadata": {},
   "outputs": [],
   "source": [
    "import numpy as np\n",
    "import pandas as pd\n",
    "import matplotlib.pyplot as plt\n",
    "import seaborn as sns\n",
    "from tqdm import tqdm\n",
    "\n",
    "from matplotlib import font_manager, rc\n",
    "%matplotlib inline\n",
    "\n",
    "import platform\n",
    "your_os = platform.system()\n",
    "if your_os == 'Linux':\n",
    "    rc('font', family='NanumGothic')\n",
    "elif your_os == 'Windows':\n",
    "    ttf = \"c:/Windows/Fonts/malgun.ttf\"\n",
    "    font_name = font_manager.FontProperties(fname=ttf).get_name()\n",
    "    rc('font', family=font_name)\n",
    "elif your_os == 'Darwin':\n",
    "    rc('font', family='AppleGothic')\n",
    "rc('axes', unicode_minus=False)\n",
    "\n",
    "\n",
    "# 배경색 흰색으로 맞춰줌\n",
    "import matplotlib as mpl\n",
    "mpl.rc('figure', facecolor = 'w', edgecolor ='w')"
   ]
  },
  {
   "cell_type": "markdown",
   "id": "57443fd7",
   "metadata": {},
   "source": [
    "# Preprocessing"
   ]
  },
  {
   "cell_type": "markdown",
   "id": "74275482",
   "metadata": {},
   "source": [
    "### Load Data"
   ]
  },
  {
   "cell_type": "code",
   "execution_count": 2,
   "id": "f866aaeb",
   "metadata": {},
   "outputs": [],
   "source": [
    "# Data Load\n",
    "demo = pd.read_csv('../data/LPOINT_BIG_COMP_01_DEMO.csv', low_memory=False)\n",
    "pdde = pd.read_csv('../data/LPOINT_BIG_COMP_02_PDDE.csv', low_memory=False)\n",
    "cop = pd.read_csv('../data/LPOINT_BIG_COMP_03_COP_U.csv', low_memory=False)\n",
    "clac = pd.read_csv('../data/LPOINT_BIG_COMP_04_PD_CLAC.csv', low_memory=False)\n",
    "br = pd.read_csv('../data/LPOINT_BIG_COMP_05_BR.csv', low_memory=False)\n",
    "lpay = pd.read_csv('../data/LPOINT_BIG_COMP_06_LPAY.csv', low_memory=False)\n",
    "\n",
    "# Column명 변경\n",
    "demo.columns = ['고객번호', '성별', '연령대', '거주지대분류코드']\n",
    "pdde.columns = ['고객번호', '영수증번호', '채널구분', '제휴사', '점포코드', '상품코드', '구매일자', '구매시간', '구매금액', '구매수량']\n",
    "cop.columns = ['고객번호', '영수증번호', '제휴사', '점포코드', '채널구분', '이용일자', '방문일자', '이용시간', '이용금액']\n",
    "clac.columns = ['상품코드', '소분류명', '대분류명', '중분류명']\n",
    "br.columns = ['점포코드', '제휴사', '점포대분류코드', '점포중분류코드']\n",
    "lpay.columns = ['고객번호', '영수증번호', '제휴사', '채널구분', '이용일자', '이용시간', '이용금액']"
   ]
  },
  {
   "cell_type": "markdown",
   "id": "2dc02e7b",
   "metadata": {},
   "source": [
    "### Data Preprocessing"
   ]
  },
  {
   "cell_type": "markdown",
   "id": "e6e67d3c",
   "metadata": {},
   "source": [
    "- 가독성을 위하여 불필요한 데이터 확인과정 삭제"
   ]
  },
  {
   "cell_type": "markdown",
   "id": "d69bb365",
   "metadata": {},
   "source": [
    "####  [2. pdde]: 상품 구매 정보"
   ]
  },
  {
   "cell_type": "code",
   "execution_count": 3,
   "id": "154538ca",
   "metadata": {},
   "outputs": [],
   "source": [
    "# 중복되는 행 제거 -> 데이터 추출시 고객, 상품 각각 추출하여 중복이 발생한 것으로 판단함\n",
    "pdde.drop_duplicates(subset=None, keep='first', inplace=True, ignore_index=False)\n",
    "\n",
    "# 결측치 치환 -> na값을 온라인으로 채워줌\n",
    "pdde['점포코드'] = pdde['점포코드'].fillna('온라인')"
   ]
  },
  {
   "cell_type": "markdown",
   "id": "ca6088d3",
   "metadata": {},
   "source": [
    "#### [3. cop]: 제휴사 이용 정보"
   ]
  },
  {
   "cell_type": "code",
   "execution_count": 4,
   "id": "d27ac9ca",
   "metadata": {},
   "outputs": [],
   "source": [
    "# 결측치 치환\n",
    "cop['점포코드'] = cop['점포코드'].fillna('온라인')"
   ]
  },
  {
   "cell_type": "markdown",
   "id": "df2c5ec6",
   "metadata": {},
   "source": [
    "# Data Merge"
   ]
  },
  {
   "cell_type": "code",
   "execution_count": 5,
   "id": "b57c84f9",
   "metadata": {},
   "outputs": [],
   "source": [
    "# 데이터를 통합하기 위하여 칼럼 통합\n",
    "pdde['타입'] = 'Product'\n",
    "cop['타입'] = 'Affiliate'\n",
    "lpay['타입'] = 'Lpay'\n",
    "pdde['방문일자'] = 0\n",
    "lpay['방문일자'] = 0\n",
    "cop['구매수량'] = 0\n",
    "cop['상품코드'] = np.nan\n",
    "lpay['점포코드'] = np.nan\n",
    "lpay['상품코드'] = np.nan\n",
    "lpay['구매수량'] = 0"
   ]
  },
  {
   "cell_type": "code",
   "execution_count": 6,
   "id": "ae25f45d",
   "metadata": {},
   "outputs": [],
   "source": [
    "# 칼럼명을 새롭게 동일하게 통일\n",
    "cop.columns = ['고객번호', '영수증번호', '제휴사', '점포코드', '채널구분', '구매일자', '방문일자', '구매시간', '구매금액', '타입', '구매수량', '상품코드']\n",
    "lpay.columns = ['고객번호', '영수증번호', '제휴사', '채널구분', '구매일자', '구매시간', '구매금액', '타입', '방문일자', '점포코드', '상품코드', '구매수량']\n",
    "\n",
    "# 상품구매데이터를 기준으로 하여 열을 통일\n",
    "cop = cop[['고객번호', '영수증번호', '채널구분', '제휴사', '점포코드', '상품코드', '구매일자', '방문일자', '구매시간', '구매금액', '구매수량', '타입']]\n",
    "lpay = lpay[['고객번호', '영수증번호', '채널구분', '제휴사', '점포코드', '상품코드', '구매일자', '방문일자', '구매시간', '구매금액', '구매수량', '타입']]\n",
    "\n",
    "# 데이터 타입 변경\n",
    "lpay['영수증번호'] = lpay['영수증번호'].astype('object')\n",
    "lpay['점포코드'] = lpay['점포코드'].astype('object')\n",
    "cop['상품코드'] = cop['상품코드'].astype('object')\n",
    "lpay['상품코드'] = lpay['상품코드'].astype('object')\n",
    "pdde['구매금액'] = pdde['구매금액'].astype('int')\n",
    "pdde['방문일자'] = pdde['방문일자'].astype('int64')\n",
    "lpay['방문일자'] = lpay['방문일자'].astype('int64')"
   ]
  },
  {
   "cell_type": "code",
   "execution_count": 7,
   "id": "54609bc9",
   "metadata": {},
   "outputs": [],
   "source": [
    "# 데이터 concat\n",
    "df = pd.concat([pdde,cop,lpay])\n",
    "# 고객 정보 테이븛 통합\n",
    "df = pd.merge(df, demo, on = ['고객번호'], how = 'left')\n",
    "# 상품 분류 테이블 통합\n",
    "df = pd.merge(df, br, on = ['점포코드','제휴사'], how = 'left')\n",
    "# 점포 정보 테이블 통합\n",
    "df = pd.merge(df, clac, on = ['상품코드'], how = 'left')"
   ]
  },
  {
   "cell_type": "code",
   "execution_count": 8,
   "id": "68ee68e5",
   "metadata": {},
   "outputs": [
    {
     "data": {
      "text/plain": [
       "고객번호             0\n",
       "영수증번호            0\n",
       "채널구분             0\n",
       "제휴사              0\n",
       "점포코드        353184\n",
       "상품코드        601488\n",
       "구매일자             0\n",
       "구매시간             0\n",
       "구매금액             0\n",
       "구매수량             0\n",
       "타입               0\n",
       "방문일자             0\n",
       "성별               0\n",
       "연령대              0\n",
       "거주지대분류코드         0\n",
       "점포대분류코드     729023\n",
       "점포중분류코드     729023\n",
       "소분류명        601488\n",
       "대분류명        601488\n",
       "중분류명        601488\n",
       "dtype: int64"
      ]
     },
     "execution_count": 8,
     "metadata": {},
     "output_type": "execute_result"
    }
   ],
   "source": [
    "# 결측치 확인 -> 데이터를 합치면서 생기는 결측치만 존재\n",
    "df.isnull().sum()"
   ]
  },
  {
   "cell_type": "markdown",
   "id": "dd599560",
   "metadata": {},
   "source": [
    "- 고객별 구매일자간의 차이 집계"
   ]
  },
  {
   "cell_type": "code",
   "execution_count": 9,
   "id": "d907241f",
   "metadata": {},
   "outputs": [],
   "source": [
    "df['날짜'] = df['구매일자'].astype(str)\n",
    "df['날짜'] = pd.to_datetime(df['날짜'])\n",
    "# df['날짜'] = df['날짜'].dt.tz_localize('UTC')"
   ]
  },
  {
   "cell_type": "code",
   "execution_count": 10,
   "id": "1f5ad893",
   "metadata": {},
   "outputs": [],
   "source": [
    "df = df.sort_values(by=['날짜'], ascending=[True])\n",
    "df['diff'] = df.groupby('고객번호')['날짜'].diff().fillna('0').astype(str)\n",
    "df['diff'] = df['diff'].apply(lambda x: int(x.split()[0]))"
   ]
  },
  {
   "cell_type": "code",
   "execution_count": 11,
   "id": "86eb86df",
   "metadata": {},
   "outputs": [
    {
     "data": {
      "text/plain": [
       "321"
      ]
     },
     "execution_count": 11,
     "metadata": {},
     "output_type": "execute_result"
    }
   ],
   "source": [
    "df['diff'].nunique()"
   ]
  },
  {
   "cell_type": "code",
   "execution_count": 12,
   "id": "2e352f35",
   "metadata": {},
   "outputs": [],
   "source": [
    "imp = df.groupby('고객번호')[['영수증번호']].count().reset_index()\n",
    "\n",
    "# 구매를 가장 많이한 고객의 고객번호\n",
    "# imp[imp['영수증번호']==13636]"
   ]
  },
  {
   "cell_type": "code",
   "execution_count": 13,
   "id": "b80192bc",
   "metadata": {},
   "outputs": [],
   "source": [
    "# # 구매횟수별로 정렬\n",
    "# imp.sort_values(by=['영수증번호'], ascending=[False])"
   ]
  },
  {
   "cell_type": "code",
   "execution_count": 14,
   "id": "64ad6a6a",
   "metadata": {},
   "outputs": [
    {
     "data": {
      "text/plain": [
       "count    29874.000000\n",
       "mean       158.863125\n",
       "std        226.480154\n",
       "min          1.000000\n",
       "25%         20.000000\n",
       "50%         83.000000\n",
       "75%        211.000000\n",
       "max      13120.000000\n",
       "Name: 영수증번호, dtype: float64"
      ]
     },
     "execution_count": 14,
     "metadata": {},
     "output_type": "execute_result"
    }
   ],
   "source": [
    "imp['영수증번호'].describe()"
   ]
  },
  {
   "cell_type": "markdown",
   "id": "8fdf3880",
   "metadata": {},
   "source": [
    "# RFM"
   ]
  },
  {
   "cell_type": "code",
   "execution_count": 15,
   "id": "aff55db9",
   "metadata": {},
   "outputs": [],
   "source": [
    "customer_id = df.groupby('고객번호')[['구매일자']].max().index.tolist()\n",
    "recency = df.groupby('고객번호')[['구매일자']].max()['구매일자'].tolist()\n",
    "frequency = df.groupby('고객번호')[['영수증번호']].count()['영수증번호'].tolist()\n",
    "monetary = df.groupby('고객번호')[['구매금액']].sum()['구매금액'].tolist()\n",
    "\n",
    "df_rfm = pd.DataFrame({'Customer_ID': customer_id, 'Recency': recency, 'Frequency': frequency, 'Monetary': monetary})"
   ]
  },
  {
   "cell_type": "code",
   "execution_count": 16,
   "id": "d558bed8",
   "metadata": {},
   "outputs": [
    {
     "data": {
      "text/html": [
       "<div>\n",
       "<style scoped>\n",
       "    .dataframe tbody tr th:only-of-type {\n",
       "        vertical-align: middle;\n",
       "    }\n",
       "\n",
       "    .dataframe tbody tr th {\n",
       "        vertical-align: top;\n",
       "    }\n",
       "\n",
       "    .dataframe thead th {\n",
       "        text-align: right;\n",
       "    }\n",
       "</style>\n",
       "<table border=\"1\" class=\"dataframe\">\n",
       "  <thead>\n",
       "    <tr style=\"text-align: right;\">\n",
       "      <th></th>\n",
       "      <th>Customer_ID</th>\n",
       "      <th>Recency</th>\n",
       "      <th>Frequency</th>\n",
       "      <th>Monetary</th>\n",
       "    </tr>\n",
       "  </thead>\n",
       "  <tbody>\n",
       "    <tr>\n",
       "      <th>0</th>\n",
       "      <td>M000034966</td>\n",
       "      <td>356</td>\n",
       "      <td>49</td>\n",
       "      <td>616240</td>\n",
       "    </tr>\n",
       "    <tr>\n",
       "      <th>1</th>\n",
       "      <td>M000059535</td>\n",
       "      <td>61</td>\n",
       "      <td>1</td>\n",
       "      <td>46000</td>\n",
       "    </tr>\n",
       "    <tr>\n",
       "      <th>2</th>\n",
       "      <td>M000136117</td>\n",
       "      <td>363</td>\n",
       "      <td>121</td>\n",
       "      <td>28697031</td>\n",
       "    </tr>\n",
       "    <tr>\n",
       "      <th>3</th>\n",
       "      <td>M000201112</td>\n",
       "      <td>331</td>\n",
       "      <td>20</td>\n",
       "      <td>51420</td>\n",
       "    </tr>\n",
       "    <tr>\n",
       "      <th>4</th>\n",
       "      <td>M000225114</td>\n",
       "      <td>364</td>\n",
       "      <td>163</td>\n",
       "      <td>2084270</td>\n",
       "    </tr>\n",
       "    <tr>\n",
       "      <th>...</th>\n",
       "      <td>...</td>\n",
       "      <td>...</td>\n",
       "      <td>...</td>\n",
       "      <td>...</td>\n",
       "    </tr>\n",
       "    <tr>\n",
       "      <th>29869</th>\n",
       "      <td>M999708287</td>\n",
       "      <td>244</td>\n",
       "      <td>2</td>\n",
       "      <td>60000</td>\n",
       "    </tr>\n",
       "    <tr>\n",
       "      <th>29870</th>\n",
       "      <td>M999770689</td>\n",
       "      <td>364</td>\n",
       "      <td>402</td>\n",
       "      <td>2078770</td>\n",
       "    </tr>\n",
       "    <tr>\n",
       "      <th>29871</th>\n",
       "      <td>M999849895</td>\n",
       "      <td>334</td>\n",
       "      <td>70</td>\n",
       "      <td>1095312</td>\n",
       "    </tr>\n",
       "    <tr>\n",
       "      <th>29872</th>\n",
       "      <td>M999926092</td>\n",
       "      <td>335</td>\n",
       "      <td>7</td>\n",
       "      <td>129500</td>\n",
       "    </tr>\n",
       "    <tr>\n",
       "      <th>29873</th>\n",
       "      <td>M999962961</td>\n",
       "      <td>364</td>\n",
       "      <td>359</td>\n",
       "      <td>15582194</td>\n",
       "    </tr>\n",
       "  </tbody>\n",
       "</table>\n",
       "<p>29874 rows × 4 columns</p>\n",
       "</div>"
      ],
      "text/plain": [
       "      Customer_ID  Recency  Frequency  Monetary\n",
       "0      M000034966      356         49    616240\n",
       "1      M000059535       61          1     46000\n",
       "2      M000136117      363        121  28697031\n",
       "3      M000201112      331         20     51420\n",
       "4      M000225114      364        163   2084270\n",
       "...           ...      ...        ...       ...\n",
       "29869  M999708287      244          2     60000\n",
       "29870  M999770689      364        402   2078770\n",
       "29871  M999849895      334         70   1095312\n",
       "29872  M999926092      335          7    129500\n",
       "29873  M999962961      364        359  15582194\n",
       "\n",
       "[29874 rows x 4 columns]"
      ]
     },
     "execution_count": 16,
     "metadata": {},
     "output_type": "execute_result"
    }
   ],
   "source": [
    "df_rfm['Recency'] = df_rfm['Recency'].astype(str)\n",
    "df_rfm['Recency'] = pd.to_datetime(df_rfm['Recency'])\n",
    "df_rfm['Recency'] = df_rfm['Recency'] - pd.to_datetime('20210101')\n",
    "# df_rfm['Recency'] = [x.total_seconds() for x in df_rfm['Recency']]\n",
    "\n",
    "df_rfm['Recency'] = df_rfm['Recency'].dt.days # days로\n",
    "df_rfm"
   ]
  },
  {
   "cell_type": "markdown",
   "id": "178b6e6d",
   "metadata": {},
   "source": [
    "- 그래프로 분포를 확인"
   ]
  },
  {
   "cell_type": "code",
   "execution_count": 17,
   "id": "b851c8a4",
   "metadata": {},
   "outputs": [
    {
     "data": {
      "text/plain": [
       "array([[<AxesSubplot:title={'center':'Recency'}>,\n",
       "        <AxesSubplot:title={'center':'Frequency'}>],\n",
       "       [<AxesSubplot:title={'center':'Monetary'}>, <AxesSubplot:>]],\n",
       "      dtype=object)"
      ]
     },
     "execution_count": 17,
     "metadata": {},
     "output_type": "execute_result"
    },
    {
     "data": {
      "image/png": "[encoded data removed]",
      "text/plain": [
       "<Figure size 432x288 with 4 Axes>"
      ]
     },
     "metadata": {},
     "output_type": "display_data"
    }
   ],
   "source": [
    "df_rfm.hist()"
   ]
  },
  {
   "cell_type": "markdown",
   "id": "1fa938aa",
   "metadata": {},
   "source": [
    "    - 그래프를 보았을 때, Recency의 경우 오른쪽으로, 나머지의 경우 왼쪽으로 치우친 것을 볼 수 있음\n",
    "    - 대부분의 고객들은 최근에 방문을 한 경험이 있고, 대부분의 고객들은 구매를 적게하고, 구매금액 또한 적다\n",
    "    - 최근에 거래를 한 뉴비들의 데이터로 보아도 무방할듯..?"
   ]
  },
  {
   "cell_type": "markdown",
   "id": "834d9be5",
   "metadata": {},
   "source": [
    "- Recency를 어떤 기준으로 나눌 것인가?\n",
    "    - 히스토그램과 분위수를 확인하여 임의로 나누어줌 -> 이후에 변경해야될듯"
   ]
  },
  {
   "cell_type": "code",
   "execution_count": 18,
   "id": "70562c26",
   "metadata": {
    "scrolled": true
   },
   "outputs": [
    {
     "data": {
      "text/plain": [
       "count    29874.000000\n",
       "mean       323.643570\n",
       "std         68.386009\n",
       "min          0.000000\n",
       "25%        322.000000\n",
       "50%        354.000000\n",
       "75%        361.000000\n",
       "max        364.000000\n",
       "Name: Recency, dtype: float64"
      ]
     },
     "execution_count": 18,
     "metadata": {},
     "output_type": "execute_result"
    }
   ],
   "source": [
    "df_rfm['Recency'].describe()"
   ]
  },
  {
   "cell_type": "code",
   "execution_count": 19,
   "id": "9174cfae",
   "metadata": {},
   "outputs": [
    {
     "data": {
      "text/plain": [
       "count    5605.000000\n",
       "mean      204.179304\n",
       "std        79.642820\n",
       "min         0.000000\n",
       "25%       152.000000\n",
       "50%       226.000000\n",
       "75%       272.000000\n",
       "max       300.000000\n",
       "Name: Recency, dtype: float64"
      ]
     },
     "execution_count": 19,
     "metadata": {},
     "output_type": "execute_result"
    }
   ],
   "source": [
    "df_rfm[df_rfm['Recency'] <= 300]['Recency'].describe()"
   ]
  },
  {
   "cell_type": "code",
   "execution_count": 20,
   "id": "8a404332",
   "metadata": {},
   "outputs": [],
   "source": [
    "# 등급을 계산해줌\n",
    "def recency(r):\n",
    "    if r >= 300:\n",
    "        return 5\n",
    "    elif r >= 272:\n",
    "        return 4\n",
    "    elif r >= 226:\n",
    "        return 3\n",
    "    elif r >= 152:\n",
    "        return 2\n",
    "    else:\n",
    "        return 1\n",
    "\n",
    "# 개별 값에 대해 반복하기 때문에 map 함수\n",
    "df_rfm['R'] = df_rfm['Recency'].map(lambda x: recency(x))"
   ]
  },
  {
   "cell_type": "markdown",
   "id": "02b6b498",
   "metadata": {},
   "source": [
    "- Frequency\n",
    "    - Ted Miglautsch의 방법을 사용\n",
    "        - 1. 1회 구매자들에게는 1등급을 준다.\n",
    "        - 2. 1등급을 제외하고, 남은 고객들의 빈도를 평균내어 평균보다 낮은 그룹에게 2등급을 준다.\n",
    "        - 3. 반복하여 4등급까지 만들고, 남은 고객들은 5등급을 할당한다."
   ]
  },
  {
   "cell_type": "code",
   "execution_count": 21,
   "id": "69c20a9e",
   "metadata": {},
   "outputs": [],
   "source": [
    "def frequency(f):\n",
    "    # 원본을 건드리지 않기 위해 새로 만듦\n",
    "    s = pd.Series([0 for _ in range(len(f))])\n",
    "\n",
    "    # 빈도가 1이면 1등급을 준다\n",
    "    s[f == 1] = 1\n",
    "    state = 2\n",
    "    while state <= 4:\n",
    "        # 아직 등급이 부여되지 않은 값들에 대해(값이 0), 평균보다 작은 값에 등급을 부여한다\n",
    "        s[(s == 0) & (f < f[s == 0].mean())] = state\n",
    "        state += 1\n",
    "\n",
    "    # 남은 것들은 5등급을 준다\n",
    "    s[s==0] = 5\n",
    "\n",
    "    return s\n",
    "\n",
    "# 전체 값에 대해 접근하기 때문에 Series 전체를 함수에 넘김\n",
    "df_rfm['F'] = frequency(df_rfm['Frequency'])"
   ]
  },
  {
   "cell_type": "markdown",
   "id": "f1a74484",
   "metadata": {},
   "source": [
    "- Monetary \n",
    "    - Monetary 5등급에 속한 5명의 고객이 총 100만원의 매출을 만들었다면 1등급은 100명의 고객이 100만원의 매출을 만드는 식으로 할당"
   ]
  },
  {
   "cell_type": "code",
   "execution_count": 22,
   "id": "7d5da800",
   "metadata": {},
   "outputs": [],
   "source": [
    "def monetary(m):\n",
    "    # copy를 만들어서 오름차순 정렬한다\n",
    "    s = m.copy()\n",
    "    qc = pd.qcut(s, 5, labels=False)\n",
    "\n",
    "    return (qc + 1)\n",
    "\n",
    "df_rfm['M'] = monetary(df_rfm['Monetary'])"
   ]
  },
  {
   "cell_type": "code",
   "execution_count": 23,
   "id": "bb720b5a",
   "metadata": {},
   "outputs": [
    {
     "data": {
      "text/html": [
       "<div>\n",
       "<style scoped>\n",
       "    .dataframe tbody tr th:only-of-type {\n",
       "        vertical-align: middle;\n",
       "    }\n",
       "\n",
       "    .dataframe tbody tr th {\n",
       "        vertical-align: top;\n",
       "    }\n",
       "\n",
       "    .dataframe thead th {\n",
       "        text-align: right;\n",
       "    }\n",
       "</style>\n",
       "<table border=\"1\" class=\"dataframe\">\n",
       "  <thead>\n",
       "    <tr style=\"text-align: right;\">\n",
       "      <th></th>\n",
       "      <th>Customer_ID</th>\n",
       "      <th>Recency</th>\n",
       "      <th>Frequency</th>\n",
       "      <th>Monetary</th>\n",
       "      <th>R</th>\n",
       "      <th>F</th>\n",
       "      <th>M</th>\n",
       "    </tr>\n",
       "  </thead>\n",
       "  <tbody>\n",
       "    <tr>\n",
       "      <th>0</th>\n",
       "      <td>M000034966</td>\n",
       "      <td>356</td>\n",
       "      <td>49</td>\n",
       "      <td>616240</td>\n",
       "      <td>5</td>\n",
       "      <td>2</td>\n",
       "      <td>2</td>\n",
       "    </tr>\n",
       "    <tr>\n",
       "      <th>1</th>\n",
       "      <td>M000059535</td>\n",
       "      <td>61</td>\n",
       "      <td>1</td>\n",
       "      <td>46000</td>\n",
       "      <td>1</td>\n",
       "      <td>1</td>\n",
       "      <td>1</td>\n",
       "    </tr>\n",
       "    <tr>\n",
       "      <th>2</th>\n",
       "      <td>M000136117</td>\n",
       "      <td>363</td>\n",
       "      <td>121</td>\n",
       "      <td>28697031</td>\n",
       "      <td>5</td>\n",
       "      <td>2</td>\n",
       "      <td>5</td>\n",
       "    </tr>\n",
       "  </tbody>\n",
       "</table>\n",
       "</div>"
      ],
      "text/plain": [
       "  Customer_ID  Recency  Frequency  Monetary  R  F  M\n",
       "0  M000034966      356         49    616240  5  2  2\n",
       "1  M000059535       61          1     46000  1  1  1\n",
       "2  M000136117      363        121  28697031  5  2  5"
      ]
     },
     "execution_count": 23,
     "metadata": {},
     "output_type": "execute_result"
    }
   ],
   "source": [
    "# 확인\n",
    "df_rfm.head(3)"
   ]
  },
  {
   "cell_type": "markdown",
   "id": "945f581b",
   "metadata": {},
   "source": [
    "- 분포 확인"
   ]
  },
  {
   "cell_type": "code",
   "execution_count": 24,
   "id": "f46d1bc7",
   "metadata": {},
   "outputs": [
    {
     "data": {
      "text/html": [
       "<div>\n",
       "<style scoped>\n",
       "    .dataframe tbody tr th:only-of-type {\n",
       "        vertical-align: middle;\n",
       "    }\n",
       "\n",
       "    .dataframe tbody tr th {\n",
       "        vertical-align: top;\n",
       "    }\n",
       "\n",
       "    .dataframe thead th {\n",
       "        text-align: right;\n",
       "    }\n",
       "</style>\n",
       "<table border=\"1\" class=\"dataframe\">\n",
       "  <thead>\n",
       "    <tr style=\"text-align: right;\">\n",
       "      <th></th>\n",
       "      <th>Customer_ID</th>\n",
       "    </tr>\n",
       "    <tr>\n",
       "      <th>R</th>\n",
       "      <th></th>\n",
       "    </tr>\n",
       "  </thead>\n",
       "  <tbody>\n",
       "    <tr>\n",
       "      <th>1</th>\n",
       "      <td>1399</td>\n",
       "    </tr>\n",
       "    <tr>\n",
       "      <th>2</th>\n",
       "      <td>1398</td>\n",
       "    </tr>\n",
       "    <tr>\n",
       "      <th>3</th>\n",
       "      <td>1397</td>\n",
       "    </tr>\n",
       "    <tr>\n",
       "      <th>4</th>\n",
       "      <td>1370</td>\n",
       "    </tr>\n",
       "    <tr>\n",
       "      <th>5</th>\n",
       "      <td>24310</td>\n",
       "    </tr>\n",
       "  </tbody>\n",
       "</table>\n",
       "</div>"
      ],
      "text/plain": [
       "   Customer_ID\n",
       "R             \n",
       "1         1399\n",
       "2         1398\n",
       "3         1397\n",
       "4         1370\n",
       "5        24310"
      ]
     },
     "execution_count": 24,
     "metadata": {},
     "output_type": "execute_result"
    }
   ],
   "source": [
    "df_rfm.groupby(['R']).agg({'Customer_ID': 'count'})"
   ]
  },
  {
   "cell_type": "code",
   "execution_count": 25,
   "id": "c05980ed",
   "metadata": {},
   "outputs": [
    {
     "data": {
      "text/html": [
       "<div>\n",
       "<style scoped>\n",
       "    .dataframe tbody tr th:only-of-type {\n",
       "        vertical-align: middle;\n",
       "    }\n",
       "\n",
       "    .dataframe tbody tr th {\n",
       "        vertical-align: top;\n",
       "    }\n",
       "\n",
       "    .dataframe thead th {\n",
       "        text-align: right;\n",
       "    }\n",
       "</style>\n",
       "<table border=\"1\" class=\"dataframe\">\n",
       "  <thead>\n",
       "    <tr style=\"text-align: right;\">\n",
       "      <th></th>\n",
       "      <th>Customer_ID</th>\n",
       "    </tr>\n",
       "    <tr>\n",
       "      <th>F</th>\n",
       "      <th></th>\n",
       "    </tr>\n",
       "  </thead>\n",
       "  <tbody>\n",
       "    <tr>\n",
       "      <th>1</th>\n",
       "      <td>1529</td>\n",
       "    </tr>\n",
       "    <tr>\n",
       "      <th>2</th>\n",
       "      <td>19030</td>\n",
       "    </tr>\n",
       "    <tr>\n",
       "      <th>3</th>\n",
       "      <td>6004</td>\n",
       "    </tr>\n",
       "    <tr>\n",
       "      <th>4</th>\n",
       "      <td>2152</td>\n",
       "    </tr>\n",
       "    <tr>\n",
       "      <th>5</th>\n",
       "      <td>1159</td>\n",
       "    </tr>\n",
       "  </tbody>\n",
       "</table>\n",
       "</div>"
      ],
      "text/plain": [
       "   Customer_ID\n",
       "F             \n",
       "1         1529\n",
       "2        19030\n",
       "3         6004\n",
       "4         2152\n",
       "5         1159"
      ]
     },
     "execution_count": 25,
     "metadata": {},
     "output_type": "execute_result"
    }
   ],
   "source": [
    "# 1회 구매 고객이 생각보다 많이 적은 모습을 보임 -> 수정 필요\n",
    "df_rfm.groupby(['F']).agg({'Customer_ID': 'count'})"
   ]
  },
  {
   "cell_type": "code",
   "execution_count": 26,
   "id": "d4c82162",
   "metadata": {},
   "outputs": [
    {
     "data": {
      "text/html": [
       "<div>\n",
       "<style scoped>\n",
       "    .dataframe tbody tr th:only-of-type {\n",
       "        vertical-align: middle;\n",
       "    }\n",
       "\n",
       "    .dataframe tbody tr th {\n",
       "        vertical-align: top;\n",
       "    }\n",
       "\n",
       "    .dataframe thead th {\n",
       "        text-align: right;\n",
       "    }\n",
       "</style>\n",
       "<table border=\"1\" class=\"dataframe\">\n",
       "  <thead>\n",
       "    <tr style=\"text-align: right;\">\n",
       "      <th></th>\n",
       "      <th>Customer_ID</th>\n",
       "    </tr>\n",
       "    <tr>\n",
       "      <th>M</th>\n",
       "      <th></th>\n",
       "    </tr>\n",
       "  </thead>\n",
       "  <tbody>\n",
       "    <tr>\n",
       "      <th>1</th>\n",
       "      <td>5976</td>\n",
       "    </tr>\n",
       "    <tr>\n",
       "      <th>2</th>\n",
       "      <td>5974</td>\n",
       "    </tr>\n",
       "    <tr>\n",
       "      <th>3</th>\n",
       "      <td>5974</td>\n",
       "    </tr>\n",
       "    <tr>\n",
       "      <th>4</th>\n",
       "      <td>5975</td>\n",
       "    </tr>\n",
       "    <tr>\n",
       "      <th>5</th>\n",
       "      <td>5975</td>\n",
       "    </tr>\n",
       "  </tbody>\n",
       "</table>\n",
       "</div>"
      ],
      "text/plain": [
       "   Customer_ID\n",
       "M             \n",
       "1         5976\n",
       "2         5974\n",
       "3         5974\n",
       "4         5975\n",
       "5         5975"
      ]
     },
     "execution_count": 26,
     "metadata": {},
     "output_type": "execute_result"
    }
   ],
   "source": [
    "df_rfm.groupby(['M']).agg({'Customer_ID': 'count'})"
   ]
  },
  {
   "cell_type": "markdown",
   "id": "7b63618f",
   "metadata": {},
   "source": [
    "- RFM시각화\n",
    "    - 3차원을 2차원으로 시각화해서 확인"
   ]
  },
  {
   "cell_type": "markdown",
   "id": "c85533c7",
   "metadata": {},
   "source": [
    "    - R과 F에 따른 고객의 수를 확인해봄"
   ]
  },
  {
   "cell_type": "code",
   "execution_count": 27,
   "id": "edba0bbb",
   "metadata": {},
   "outputs": [],
   "source": [
    "# 3차원을 수와 Momentary를 2차원으로 하여 시각화\n",
    "rf_matrix = df_rfm.groupby(['R', 'F']).agg({\n",
    "    'Customer_ID': 'count', \n",
    "    'Monetary': 'sum'}).reset_index()\n",
    "rf_matrix['avg_sales'] = rf_matrix['Monetary']/rf_matrix['Customer_ID']"
   ]
  },
  {
   "cell_type": "code",
   "execution_count": 28,
   "id": "66e3e252",
   "metadata": {},
   "outputs": [
    {
     "data": {
      "text/html": [
       "<style  type=\"text/css\" >\n",
       "#T_947af_row0_col0,#T_947af_row0_col1,#T_947af_row0_col2,#T_947af_row0_col3,#T_947af_row1_col0,#T_947af_row1_col1,#T_947af_row1_col2,#T_947af_row1_col3,#T_947af_row2_col0,#T_947af_row2_col1{\n",
       "            background-color:  #d6e6f4;\n",
       "            color:  #000000;\n",
       "        }#T_947af_row0_col4,#T_947af_row3_col2{\n",
       "            background-color:  #caddf0;\n",
       "            color:  #000000;\n",
       "        }#T_947af_row1_col4{\n",
       "            background-color:  #bad6eb;\n",
       "            color:  #000000;\n",
       "        }#T_947af_row2_col2,#T_947af_row2_col3{\n",
       "            background-color:  #d6e5f4;\n",
       "            color:  #000000;\n",
       "        }#T_947af_row2_col4{\n",
       "            background-color:  #6caed6;\n",
       "            color:  #000000;\n",
       "        }#T_947af_row3_col0{\n",
       "            background-color:  #cde0f1;\n",
       "            color:  #000000;\n",
       "        }#T_947af_row3_col1{\n",
       "            background-color:  #cbdef1;\n",
       "            color:  #000000;\n",
       "        }#T_947af_row3_col3{\n",
       "            background-color:  #c9ddf0;\n",
       "            color:  #000000;\n",
       "        }#T_947af_row3_col4{\n",
       "            background-color:  #08306b;\n",
       "            color:  #f1f1f1;\n",
       "        }#T_947af_row4_col0{\n",
       "            background-color:  #d0e2f2;\n",
       "            color:  #000000;\n",
       "        }#T_947af_row4_col1,#T_947af_row4_col4{\n",
       "            background-color:  #d3e3f3;\n",
       "            color:  #000000;\n",
       "        }#T_947af_row4_col2{\n",
       "            background-color:  #d4e4f4;\n",
       "            color:  #000000;\n",
       "        }#T_947af_row4_col3{\n",
       "            background-color:  #d5e5f4;\n",
       "            color:  #000000;\n",
       "        }</style><table id=\"T_947af_\" ><thead>    <tr>        <th class=\"index_name level0\" >R</th>        <th class=\"col_heading level0 col0\" >1</th>        <th class=\"col_heading level0 col1\" >2</th>        <th class=\"col_heading level0 col2\" >3</th>        <th class=\"col_heading level0 col3\" >4</th>        <th class=\"col_heading level0 col4\" >5</th>    </tr>    <tr>        <th class=\"index_name level0\" >F</th>        <th class=\"blank\" ></th>        <th class=\"blank\" ></th>        <th class=\"blank\" ></th>        <th class=\"blank\" ></th>        <th class=\"blank\" ></th>    </tr></thead><tbody>\n",
       "                <tr>\n",
       "                        <th id=\"T_947af_level0_row0\" class=\"row_heading level0 row0\" >5</th>\n",
       "                        <td id=\"T_947af_row0_col0\" class=\"data row0 col0\" >0.000000</td>\n",
       "                        <td id=\"T_947af_row0_col1\" class=\"data row0 col1\" >0.000000</td>\n",
       "                        <td id=\"T_947af_row0_col2\" class=\"data row0 col2\" >4.000000</td>\n",
       "                        <td id=\"T_947af_row0_col3\" class=\"data row0 col3\" >2.000000</td>\n",
       "                        <td id=\"T_947af_row0_col4\" class=\"data row0 col4\" >1153.000000</td>\n",
       "            </tr>\n",
       "            <tr>\n",
       "                        <th id=\"T_947af_level0_row1\" class=\"row_heading level0 row1\" >4</th>\n",
       "                        <td id=\"T_947af_row1_col0\" class=\"data row1 col0\" >2.000000</td>\n",
       "                        <td id=\"T_947af_row1_col1\" class=\"data row1 col1\" >4.000000</td>\n",
       "                        <td id=\"T_947af_row1_col2\" class=\"data row1 col2\" >6.000000</td>\n",
       "                        <td id=\"T_947af_row1_col3\" class=\"data row1 col3\" >8.000000</td>\n",
       "                        <td id=\"T_947af_row1_col4\" class=\"data row1 col4\" >2132.000000</td>\n",
       "            </tr>\n",
       "            <tr>\n",
       "                        <th id=\"T_947af_level0_row2\" class=\"row_heading level0 row2\" >3</th>\n",
       "                        <td id=\"T_947af_row2_col0\" class=\"data row2 col0\" >6.000000</td>\n",
       "                        <td id=\"T_947af_row2_col1\" class=\"data row2 col1\" >17.000000</td>\n",
       "                        <td id=\"T_947af_row2_col2\" class=\"data row2 col2\" >36.000000</td>\n",
       "                        <td id=\"T_947af_row2_col3\" class=\"data row2 col3\" >48.000000</td>\n",
       "                        <td id=\"T_947af_row2_col4\" class=\"data row2 col4\" >5897.000000</td>\n",
       "            </tr>\n",
       "            <tr>\n",
       "                        <th id=\"T_947af_level0_row3\" class=\"row_heading level0 row3\" >2</th>\n",
       "                        <td id=\"T_947af_row3_col0\" class=\"data row3 col0\" >818.000000</td>\n",
       "                        <td id=\"T_947af_row3_col1\" class=\"data row3 col1\" >1047.000000</td>\n",
       "                        <td id=\"T_947af_row3_col2\" class=\"data row3 col2\" >1159.000000</td>\n",
       "                        <td id=\"T_947af_row3_col3\" class=\"data row3 col3\" >1218.000000</td>\n",
       "                        <td id=\"T_947af_row3_col4\" class=\"data row3 col4\" >14788.000000</td>\n",
       "            </tr>\n",
       "            <tr>\n",
       "                        <th id=\"T_947af_level0_row4\" class=\"row_heading level0 row4\" >1</th>\n",
       "                        <td id=\"T_947af_row4_col0\" class=\"data row4 col0\" >573.000000</td>\n",
       "                        <td id=\"T_947af_row4_col1\" class=\"data row4 col1\" >330.000000</td>\n",
       "                        <td id=\"T_947af_row4_col2\" class=\"data row4 col2\" >192.000000</td>\n",
       "                        <td id=\"T_947af_row4_col3\" class=\"data row4 col3\" >94.000000</td>\n",
       "                        <td id=\"T_947af_row4_col4\" class=\"data row4 col4\" >340.000000</td>\n",
       "            </tr>\n",
       "    </tbody></table>"
      ],
      "text/plain": [
       "<pandas.io.formats.style.Styler at 0x241369ef160>"
      ]
     },
     "execution_count": 28,
     "metadata": {},
     "output_type": "execute_result"
    }
   ],
   "source": [
    "# R과 F에 따른 고객의 수를 확인해봄\n",
    "rf_pivot = rf_matrix\\\n",
    "    .pivot(index='F', columns='R', values='Customer_ID')\\\n",
    "    .fillna(0)\\\n",
    "    .sort_index(ascending=False)\n",
    "    \n",
    "rf_pivot\\\n",
    "    .style\\\n",
    "    .background_gradient(cmap ='Blues', axis=None, low=0.2)"
   ]
  },
  {
   "cell_type": "markdown",
   "id": "59af6361",
   "metadata": {},
   "source": [
    "    - R-F 등급별 평균 구매 금액 확인"
   ]
  },
  {
   "cell_type": "code",
   "execution_count": 29,
   "id": "afe62df8",
   "metadata": {},
   "outputs": [
    {
     "data": {
      "text/html": [
       "<style  type=\"text/css\" >\n",
       "#T_23405_row0_col0,#T_23405_row0_col1{\n",
       "            background-color:  #d6e6f4;\n",
       "            color:  #000000;\n",
       "        }#T_23405_row0_col2{\n",
       "            background-color:  #083b7c;\n",
       "            color:  #f1f1f1;\n",
       "        }#T_23405_row0_col3{\n",
       "            background-color:  #8dc1dd;\n",
       "            color:  #000000;\n",
       "        }#T_23405_row0_col4{\n",
       "            background-color:  #08306b;\n",
       "            color:  #f1f1f1;\n",
       "        }#T_23405_row1_col0{\n",
       "            background-color:  #a5cde3;\n",
       "            color:  #000000;\n",
       "        }#T_23405_row1_col1{\n",
       "            background-color:  #84bcdb;\n",
       "            color:  #000000;\n",
       "        }#T_23405_row1_col2,#T_23405_row2_col1,#T_23405_row3_col4{\n",
       "            background-color:  #a8cee4;\n",
       "            color:  #000000;\n",
       "        }#T_23405_row1_col3{\n",
       "            background-color:  #71b1d7;\n",
       "            color:  #000000;\n",
       "        }#T_23405_row1_col4{\n",
       "            background-color:  #084082;\n",
       "            color:  #f1f1f1;\n",
       "        }#T_23405_row2_col0{\n",
       "            background-color:  #bad6eb;\n",
       "            color:  #000000;\n",
       "        }#T_23405_row2_col2{\n",
       "            background-color:  #b0d2e7;\n",
       "            color:  #000000;\n",
       "        }#T_23405_row2_col3{\n",
       "            background-color:  #6fb0d7;\n",
       "            color:  #000000;\n",
       "        }#T_23405_row2_col4{\n",
       "            background-color:  #3484bf;\n",
       "            color:  #000000;\n",
       "        }#T_23405_row3_col0{\n",
       "            background-color:  #d1e2f3;\n",
       "            color:  #000000;\n",
       "        }#T_23405_row3_col1{\n",
       "            background-color:  #d0e1f2;\n",
       "            color:  #000000;\n",
       "        }#T_23405_row3_col2{\n",
       "            background-color:  #ccdff1;\n",
       "            color:  #000000;\n",
       "        }#T_23405_row3_col3{\n",
       "            background-color:  #caddf0;\n",
       "            color:  #000000;\n",
       "        }#T_23405_row4_col0{\n",
       "            background-color:  #d5e5f4;\n",
       "            color:  #000000;\n",
       "        }#T_23405_row4_col1,#T_23405_row4_col2,#T_23405_row4_col3,#T_23405_row4_col4{\n",
       "            background-color:  #d6e5f4;\n",
       "            color:  #000000;\n",
       "        }</style><table id=\"T_23405_\" ><thead>    <tr>        <th class=\"index_name level0\" >R</th>        <th class=\"col_heading level0 col0\" >1</th>        <th class=\"col_heading level0 col1\" >2</th>        <th class=\"col_heading level0 col2\" >3</th>        <th class=\"col_heading level0 col3\" >4</th>        <th class=\"col_heading level0 col4\" >5</th>    </tr>    <tr>        <th class=\"index_name level0\" >F</th>        <th class=\"blank\" ></th>        <th class=\"blank\" ></th>        <th class=\"blank\" ></th>        <th class=\"blank\" ></th>        <th class=\"blank\" ></th>    </tr></thead><tbody>\n",
       "                <tr>\n",
       "                        <th id=\"T_23405_level0_row0\" class=\"row_heading level0 row0\" >5</th>\n",
       "                        <td id=\"T_23405_row0_col0\" class=\"data row0 col0\" >0.000000</td>\n",
       "                        <td id=\"T_23405_row0_col1\" class=\"data row0 col1\" >0.000000</td>\n",
       "                        <td id=\"T_23405_row0_col2\" class=\"data row0 col2\" >11619460.250000</td>\n",
       "                        <td id=\"T_23405_row0_col3\" class=\"data row0 col3\" >3688824.000000</td>\n",
       "                        <td id=\"T_23405_row0_col4\" class=\"data row0 col4\" >12311170.093669</td>\n",
       "            </tr>\n",
       "            <tr>\n",
       "                        <th id=\"T_23405_level0_row1\" class=\"row_heading level0 row1\" >4</th>\n",
       "                        <td id=\"T_23405_row1_col0\" class=\"data row1 col0\" >2749411.500000</td>\n",
       "                        <td id=\"T_23405_row1_col1\" class=\"data row1 col1\" >4030574.250000</td>\n",
       "                        <td id=\"T_23405_row1_col2\" class=\"data row1 col2\" >2636045.000000</td>\n",
       "                        <td id=\"T_23405_row1_col3\" class=\"data row1 col3\" >4736241.125000</td>\n",
       "                        <td id=\"T_23405_row1_col4\" class=\"data row1 col4\" >11431215.671670</td>\n",
       "            </tr>\n",
       "            <tr>\n",
       "                        <th id=\"T_23405_level0_row2\" class=\"row_heading level0 row2\" >3</th>\n",
       "                        <td id=\"T_23405_row2_col0\" class=\"data row2 col0\" >1805887.166667</td>\n",
       "                        <td id=\"T_23405_row2_col1\" class=\"data row2 col1\" >2669036.058824</td>\n",
       "                        <td id=\"T_23405_row2_col2\" class=\"data row2 col2\" >2245242.666667</td>\n",
       "                        <td id=\"T_23405_row2_col3\" class=\"data row2 col3\" >4780557.354167</td>\n",
       "                        <td id=\"T_23405_row2_col4\" class=\"data row2 col4\" >7553354.285060</td>\n",
       "            </tr>\n",
       "            <tr>\n",
       "                        <th id=\"T_23405_level0_row3\" class=\"row_heading level0 row3\" >2</th>\n",
       "                        <td id=\"T_23405_row3_col0\" class=\"data row3 col0\" >400631.812958</td>\n",
       "                        <td id=\"T_23405_row3_col1\" class=\"data row3 col1\" >500746.073543</td>\n",
       "                        <td id=\"T_23405_row3_col2\" class=\"data row3 col2\" >774192.134599</td>\n",
       "                        <td id=\"T_23405_row3_col3\" class=\"data row3 col3\" >972383.567323</td>\n",
       "                        <td id=\"T_23405_row3_col4\" class=\"data row3 col4\" >2658943.465580</td>\n",
       "            </tr>\n",
       "            <tr>\n",
       "                        <th id=\"T_23405_level0_row4\" class=\"row_heading level0 row4\" >1</th>\n",
       "                        <td id=\"T_23405_row4_col0\" class=\"data row4 col0\" >92586.221640</td>\n",
       "                        <td id=\"T_23405_row4_col1\" class=\"data row4 col1\" >63786.027273</td>\n",
       "                        <td id=\"T_23405_row4_col2\" class=\"data row4 col2\" >66274.911458</td>\n",
       "                        <td id=\"T_23405_row4_col3\" class=\"data row4 col3\" >66688.457447</td>\n",
       "                        <td id=\"T_23405_row4_col4\" class=\"data row4 col4\" >63252.682353</td>\n",
       "            </tr>\n",
       "    </tbody></table>"
      ],
      "text/plain": [
       "<pandas.io.formats.style.Styler at 0x2412e723a30>"
      ]
     },
     "execution_count": 29,
     "metadata": {},
     "output_type": "execute_result"
    }
   ],
   "source": [
    "rf_pivot = rf_matrix\\\n",
    "    .pivot(index='F', columns='R', values='avg_sales')\\\n",
    "    .fillna(0)\\\n",
    "    .sort_index(ascending=False)\n",
    "    \n",
    "rf_pivot\\\n",
    "    .style\\\n",
    "    .background_gradient(cmap ='Blues', axis=None, low=0.2)"
   ]
  },
  {
   "cell_type": "markdown",
   "id": "c9f9a11a",
   "metadata": {},
   "source": [
    "- 가중치 해보자"
   ]
  },
  {
   "cell_type": "code",
   "execution_count": 30,
   "id": "e6b0eeae",
   "metadata": {},
   "outputs": [],
   "source": [
    "def get_score(level, data, reverse = False):\n",
    "    '''\n",
    "    Description :\n",
    "    level안에 있는 원소를 기준으로\n",
    "    1 ~ len(level)+ 1 까지 점수를 부여하는 함수\n",
    "    \n",
    "    Parameters :\n",
    "    level = 튜플 또는 리스트 타입의 숫자형 데이터이며 반드시 오름차순으로 정렬되어 있어야함.\n",
    "    예 - [1,2,3,4,5] O, [5,4,3,2,1] X, [1,3,2,10,4] X \n",
    "    data = 점수를 부여할 데이터. 순회가능한(iterable) 데이터 형식\n",
    "    reverse = 점수가 높을 때 그에 해당하는 값을 낮게 설정하고 싶을 때 True\n",
    "    return :\n",
    "    점수를 담고 있는 리스트 반환\n",
    "    '''\n",
    "    score = [] \n",
    "    for j in range(len(data)): \n",
    "        for i in range(len(level)): \n",
    "            if data[j] <= level[i]: \n",
    "                score.append(i+1) \n",
    "                break \n",
    "            elif data[j] > max(level): \n",
    "                score.append(len(level)+1) \n",
    "                break \n",
    "            else: \n",
    "                continue\n",
    "    if reverse:\n",
    "        return [len(level)+2-x for x in score]\n",
    "    else:\n",
    "        return score"
   ]
  },
  {
   "cell_type": "code",
   "execution_count": 31,
   "id": "7c10dfdd",
   "metadata": {},
   "outputs": [],
   "source": [
    "grid_number = 100 ## 눈금 개수, 너무 크게 잡으면 메모리 문제가 발생할 수 있음.\n",
    "weights = []\n",
    "for j in range(grid_number+1):\n",
    "    weights += [(i/grid_number,j/grid_number,(grid_number-i-j)/grid_number)\n",
    "                  for i in range(grid_number+1-j)]\n",
    "num_class = 5 ## 클래스 개수\n",
    "class_level = np.linspace(1,5,num_class+1)[1:-1] ## 클래스를 나누는 지점을 정한다.\n",
    "total_amount_of_sales = df_rfm['Monetary'].sum() ## 구매금액 총합 = 총 매출"
   ]
  },
  {
   "cell_type": "code",
   "execution_count": 32,
   "id": "630415b8",
   "metadata": {},
   "outputs": [
    {
     "name": "stderr",
     "output_type": "stream",
     "text": [
      "[Finding Optimal weights]: 100%|███████████████████████████████████████████████████| 5151/5151 [30:08<00:00,  2.85it/s]\n"
     ]
    }
   ],
   "source": [
    "max_std = 0 ## 표준편차 초기값\n",
    "for w in tqdm(weights,position=0,desc = '[Finding Optimal weights]'):\n",
    "    ## 주어진 가중치에 따른 고객별 점수 계산\n",
    "    score = w[0]*df_rfm['R'] + \\\n",
    "                        w[1]*df_rfm['F'] + \\\n",
    "                        w[2]*df_rfm['M'] \n",
    "    df_rfm['Class'] = get_score(class_level,score,True) ## 점수를 이용하여 고객별 등급 부여\n",
    "    ## 등급별로 구매금액을 집계한다.\n",
    "    grouped_result = df_rfm.groupby('Class')['Monetary'].sum().reset_index()\n",
    "    \n",
    "    ## 제약조건 추가 - 등급이 높은 고객들의 매출이 낮은 등급의 고객들보다 커야한다.\n",
    "    grouped_result = grouped_result.sort_values('Class')\n",
    "    \n",
    "    temp_monetary = list(grouped_result['Monetary'])\n",
    "    if temp_monetary != sorted(temp_monetary,reverse=True):\n",
    "        continue\n",
    "    \n",
    "    ## 클래스별 구매금액을 총구매금액으로 나누어 클래스별 매출 기여도 계산\n",
    "    grouped_result['Monetary'] = grouped_result['Monetary'].map(lambda x : x/total_amount_of_sales)\n",
    "    std_sales = grouped_result['Monetary'].std() ## 매출 기여도의 표준편차 계산\n",
    "    if max_std <= std_sales:\n",
    "        max_std = std_sales ## 표준편차 최대값 업데이트\n",
    "        optimal_weights = w  ## 가중치 업데이트"
   ]
  },
  {
   "cell_type": "code",
   "execution_count": 37,
   "id": "9e4277a3",
   "metadata": {},
   "outputs": [
    {
     "name": "stdout",
     "output_type": "stream",
     "text": [
      "(0.76, 0.01, 0.23)\n"
     ]
    }
   ],
   "source": [
    "print(optimal_weights)"
   ]
  },
  {
   "cell_type": "code",
   "execution_count": 38,
   "id": "9f56d432",
   "metadata": {},
   "outputs": [
    {
     "data": {
      "text/html": [
       "<div>\n",
       "<style scoped>\n",
       "    .dataframe tbody tr th:only-of-type {\n",
       "        vertical-align: middle;\n",
       "    }\n",
       "\n",
       "    .dataframe tbody tr th {\n",
       "        vertical-align: top;\n",
       "    }\n",
       "\n",
       "    .dataframe thead th {\n",
       "        text-align: right;\n",
       "    }\n",
       "</style>\n",
       "<table border=\"1\" class=\"dataframe\">\n",
       "  <thead>\n",
       "    <tr style=\"text-align: right;\">\n",
       "      <th></th>\n",
       "      <th>Customer_ID</th>\n",
       "      <th>Recency</th>\n",
       "      <th>Frequency</th>\n",
       "      <th>Monetary</th>\n",
       "      <th>R</th>\n",
       "      <th>F</th>\n",
       "      <th>M</th>\n",
       "      <th>Class</th>\n",
       "    </tr>\n",
       "  </thead>\n",
       "  <tbody>\n",
       "    <tr>\n",
       "      <th>0</th>\n",
       "      <td>M000034966</td>\n",
       "      <td>356</td>\n",
       "      <td>49</td>\n",
       "      <td>616240</td>\n",
       "      <td>5</td>\n",
       "      <td>2</td>\n",
       "      <td>2</td>\n",
       "      <td>4</td>\n",
       "    </tr>\n",
       "    <tr>\n",
       "      <th>1</th>\n",
       "      <td>M000059535</td>\n",
       "      <td>61</td>\n",
       "      <td>1</td>\n",
       "      <td>46000</td>\n",
       "      <td>1</td>\n",
       "      <td>1</td>\n",
       "      <td>1</td>\n",
       "      <td>5</td>\n",
       "    </tr>\n",
       "    <tr>\n",
       "      <th>2</th>\n",
       "      <td>M000136117</td>\n",
       "      <td>363</td>\n",
       "      <td>121</td>\n",
       "      <td>28697031</td>\n",
       "      <td>5</td>\n",
       "      <td>2</td>\n",
       "      <td>5</td>\n",
       "      <td>4</td>\n",
       "    </tr>\n",
       "    <tr>\n",
       "      <th>3</th>\n",
       "      <td>M000201112</td>\n",
       "      <td>331</td>\n",
       "      <td>20</td>\n",
       "      <td>51420</td>\n",
       "      <td>5</td>\n",
       "      <td>2</td>\n",
       "      <td>1</td>\n",
       "      <td>4</td>\n",
       "    </tr>\n",
       "    <tr>\n",
       "      <th>4</th>\n",
       "      <td>M000225114</td>\n",
       "      <td>364</td>\n",
       "      <td>163</td>\n",
       "      <td>2084270</td>\n",
       "      <td>5</td>\n",
       "      <td>2</td>\n",
       "      <td>4</td>\n",
       "      <td>4</td>\n",
       "    </tr>\n",
       "    <tr>\n",
       "      <th>...</th>\n",
       "      <td>...</td>\n",
       "      <td>...</td>\n",
       "      <td>...</td>\n",
       "      <td>...</td>\n",
       "      <td>...</td>\n",
       "      <td>...</td>\n",
       "      <td>...</td>\n",
       "      <td>...</td>\n",
       "    </tr>\n",
       "    <tr>\n",
       "      <th>29869</th>\n",
       "      <td>M999708287</td>\n",
       "      <td>244</td>\n",
       "      <td>2</td>\n",
       "      <td>60000</td>\n",
       "      <td>3</td>\n",
       "      <td>2</td>\n",
       "      <td>1</td>\n",
       "      <td>4</td>\n",
       "    </tr>\n",
       "    <tr>\n",
       "      <th>29870</th>\n",
       "      <td>M999770689</td>\n",
       "      <td>364</td>\n",
       "      <td>402</td>\n",
       "      <td>2078770</td>\n",
       "      <td>5</td>\n",
       "      <td>4</td>\n",
       "      <td>4</td>\n",
       "      <td>2</td>\n",
       "    </tr>\n",
       "    <tr>\n",
       "      <th>29871</th>\n",
       "      <td>M999849895</td>\n",
       "      <td>334</td>\n",
       "      <td>70</td>\n",
       "      <td>1095312</td>\n",
       "      <td>5</td>\n",
       "      <td>2</td>\n",
       "      <td>3</td>\n",
       "      <td>4</td>\n",
       "    </tr>\n",
       "    <tr>\n",
       "      <th>29872</th>\n",
       "      <td>M999926092</td>\n",
       "      <td>335</td>\n",
       "      <td>7</td>\n",
       "      <td>129500</td>\n",
       "      <td>5</td>\n",
       "      <td>2</td>\n",
       "      <td>1</td>\n",
       "      <td>4</td>\n",
       "    </tr>\n",
       "    <tr>\n",
       "      <th>29873</th>\n",
       "      <td>M999962961</td>\n",
       "      <td>364</td>\n",
       "      <td>359</td>\n",
       "      <td>15582194</td>\n",
       "      <td>5</td>\n",
       "      <td>3</td>\n",
       "      <td>5</td>\n",
       "      <td>3</td>\n",
       "    </tr>\n",
       "  </tbody>\n",
       "</table>\n",
       "<p>29874 rows × 8 columns</p>\n",
       "</div>"
      ],
      "text/plain": [
       "      Customer_ID  Recency  Frequency  Monetary  R  F  M  Class\n",
       "0      M000034966      356         49    616240  5  2  2      4\n",
       "1      M000059535       61          1     46000  1  1  1      5\n",
       "2      M000136117      363        121  28697031  5  2  5      4\n",
       "3      M000201112      331         20     51420  5  2  1      4\n",
       "4      M000225114      364        163   2084270  5  2  4      4\n",
       "...           ...      ...        ...       ... .. .. ..    ...\n",
       "29869  M999708287      244          2     60000  3  2  1      4\n",
       "29870  M999770689      364        402   2078770  5  4  4      2\n",
       "29871  M999849895      334         70   1095312  5  2  3      4\n",
       "29872  M999926092      335          7    129500  5  2  1      4\n",
       "29873  M999962961      364        359  15582194  5  3  5      3\n",
       "\n",
       "[29874 rows x 8 columns]"
      ]
     },
     "execution_count": 38,
     "metadata": {},
     "output_type": "execute_result"
    }
   ],
   "source": [
    "df_rfm"
   ]
  },
  {
   "cell_type": "code",
   "execution_count": null,
   "id": "61110e18",
   "metadata": {},
   "outputs": [],
   "source": []
  },
  {
   "cell_type": "code",
   "execution_count": null,
   "id": "d030d167",
   "metadata": {},
   "outputs": [],
   "source": []
  },
  {
   "cell_type": "markdown",
   "id": "7ca9a066",
   "metadata": {},
   "source": [
    "## END"
   ]
  }
 ],
 "metadata": {
  "kernelspec": {
   "display_name": "Python 3",
   "language": "python",
   "name": "python3"
  },
  "language_info": {
   "codemirror_mode": {
    "name": "ipython",
    "version": 3
   },
   "file_extension": ".py",
   "mimetype": "text/x-python",
   "name": "python",
   "nbconvert_exporter": "python",
   "pygments_lexer": "ipython3",
   "version": "3.8.8"
  }
 },
 "nbformat": 4,
 "nbformat_minor": 5
}
