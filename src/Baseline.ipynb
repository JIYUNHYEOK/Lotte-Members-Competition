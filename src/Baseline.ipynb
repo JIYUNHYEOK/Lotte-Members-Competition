{
 "cells": [
  {
   "cell_type": "markdown",
   "id": "b38116c4",
   "metadata": {},
   "source": [
    "# Import library"
   ]
  },
  {
   "cell_type": "markdown",
   "id": "57443fd7",
   "metadata": {},
   "source": [
    "# Data Preprocessing"
   ]
  },
  {
   "cell_type": "code",
   "execution_count": 1,
   "id": "61ce0bd7",
   "metadata": {},
   "outputs": [],
   "source": [
    "import numpy as np\n",
    "import pandas as pd\n",
    "import matplotlib.pyplot as plt\n",
    "import seaborn as sns\n",
    "\n",
    "from matplotlib import font_manager, rc\n",
    "%matplotlib inline\n",
    "\n",
    "import platform\n",
    "your_os = platform.system()\n",
    "if your_os == 'Linux':\n",
    "    rc('font', family='NanumGothic')\n",
    "elif your_os == 'Windows':\n",
    "    ttf = \"c:/Windows/Fonts/malgun.ttf\"\n",
    "    font_name = font_manager.FontProperties(fname=ttf).get_name()\n",
    "    rc('font', family=font_name)\n",
    "elif your_os == 'Darwin':\n",
    "    rc('font', family='AppleGothic')\n",
    "rc('axes', unicode_minus=False)\n",
    "\n",
    "\n",
    "# 배경색 흰색으로 맞춰줌\n",
    "import matplotlib as mpl\n",
    "mpl.rc('figure', facecolor = 'w', edgecolor ='w')"
   ]
  },
  {
   "cell_type": "code",
   "execution_count": 2,
   "id": "f866aaeb",
   "metadata": {},
   "outputs": [],
   "source": [
    "# Data Load\n",
    "demo = pd.read_csv('data/LPOINT_BIG_COMP_01_DEMO.csv', low_memory=False)\n",
    "pdde = pd.read_csv('data/LPOINT_BIG_COMP_02_PDDE.csv', low_memory=False)\n",
    "cop = pd.read_csv('data/LPOINT_BIG_COMP_03_COP_U.csv', low_memory=False)\n",
    "clac = pd.read_csv('data/LPOINT_BIG_COMP_04_PD_CLAC.csv', low_memory=False)\n",
    "br = pd.read_csv('data/LPOINT_BIG_COMP_05_BR.csv', low_memory=False)\n",
    "lpay = pd.read_csv('data/LPOINT_BIG_COMP_06_LPAY.csv', low_memory=False)\n",
    "\n",
    "# Column명 변경\n",
    "demo.columns = ['고객번호', '성별', '연령대', '거주지대분류코드']\n",
    "pdde.columns = ['고객번호', '영수증번호', '채널구분', '제휴사', '점포코드', '상품코드', '구매일자', '구매시간', '구매금액', '구매수량']\n",
    "cop.columns = ['고객번호', '영수증번호', '제휴사', '점포코드', '채널구분', '이용일자', '방문일자', '이용시간', '이용금액']\n",
    "clac.columns = ['상품코드', '소분류명', '대분류명', '중분류명']\n",
    "br.columns = ['점포코드', '제휴사', '점포대분류코드', '점포중분류코드']\n",
    "lpay.columns = ['고객번호', '영수증번호', '제휴사', '채널구분', '이용일자', '이용시간', '이용금액']"
   ]
  },
  {
   "cell_type": "markdown",
   "id": "2dc02e7b",
   "metadata": {},
   "source": [
    "### [1. demo]: Demo"
   ]
  },
  {
   "cell_type": "code",
   "execution_count": 3,
   "id": "45cf02e1",
   "metadata": {},
   "outputs": [
    {
     "data": {
      "text/html": [
       "<div>\n",
       "<style scoped>\n",
       "    .dataframe tbody tr th:only-of-type {\n",
       "        vertical-align: middle;\n",
       "    }\n",
       "\n",
       "    .dataframe tbody tr th {\n",
       "        vertical-align: top;\n",
       "    }\n",
       "\n",
       "    .dataframe thead th {\n",
       "        text-align: right;\n",
       "    }\n",
       "</style>\n",
       "<table border=\"1\" class=\"dataframe\">\n",
       "  <thead>\n",
       "    <tr style=\"text-align: right;\">\n",
       "      <th></th>\n",
       "      <th>고객번호</th>\n",
       "      <th>성별</th>\n",
       "      <th>연령대</th>\n",
       "      <th>거주지대분류코드</th>\n",
       "    </tr>\n",
       "  </thead>\n",
       "  <tbody>\n",
       "    <tr>\n",
       "      <th>0</th>\n",
       "      <td>M000034966</td>\n",
       "      <td>여성</td>\n",
       "      <td>40대</td>\n",
       "      <td>Z07</td>\n",
       "    </tr>\n",
       "    <tr>\n",
       "      <th>1</th>\n",
       "      <td>M000059535</td>\n",
       "      <td>여성</td>\n",
       "      <td>30대</td>\n",
       "      <td>Z12</td>\n",
       "    </tr>\n",
       "    <tr>\n",
       "      <th>2</th>\n",
       "      <td>M000136117</td>\n",
       "      <td>여성</td>\n",
       "      <td>30대</td>\n",
       "      <td>Z11</td>\n",
       "    </tr>\n",
       "  </tbody>\n",
       "</table>\n",
       "</div>"
      ],
      "text/plain": [
       "         고객번호  성별  연령대 거주지대분류코드\n",
       "0  M000034966  여성  40대      Z07\n",
       "1  M000059535  여성  30대      Z12\n",
       "2  M000136117  여성  30대      Z11"
      ]
     },
     "execution_count": 3,
     "metadata": {},
     "output_type": "execute_result"
    }
   ],
   "source": [
    "demo.head(3)"
   ]
  },
  {
   "cell_type": "code",
   "execution_count": 4,
   "id": "5ad9769e",
   "metadata": {},
   "outputs": [
    {
     "name": "stdout",
     "output_type": "stream",
     "text": [
      "<class 'pandas.core.frame.DataFrame'>\n",
      "RangeIndex: 29913 entries, 0 to 29912\n",
      "Data columns (total 4 columns):\n",
      " #   Column    Non-Null Count  Dtype \n",
      "---  ------    --------------  ----- \n",
      " 0   고객번호      29913 non-null  object\n",
      " 1   성별        29913 non-null  object\n",
      " 2   연령대       29913 non-null  object\n",
      " 3   거주지대분류코드  29913 non-null  object\n",
      "dtypes: object(4)\n",
      "memory usage: 934.9+ KB\n"
     ]
    }
   ],
   "source": [
    "# 데이터 타입 확인\n",
    "demo.info()"
   ]
  },
  {
   "cell_type": "code",
   "execution_count": 5,
   "id": "5f855724",
   "metadata": {},
   "outputs": [
    {
     "data": {
      "text/plain": [
       "고객번호        0\n",
       "성별          0\n",
       "연령대         0\n",
       "거주지대분류코드    0\n",
       "dtype: int64"
      ]
     },
     "execution_count": 5,
     "metadata": {},
     "output_type": "execute_result"
    }
   ],
   "source": [
    "# 결측치 확인\n",
    "demo.isna().sum()"
   ]
  },
  {
   "cell_type": "code",
   "execution_count": 6,
   "id": "2b8aa580",
   "metadata": {},
   "outputs": [
    {
     "data": {
      "text/plain": [
       "고객번호        29913\n",
       "성별              2\n",
       "연령대             6\n",
       "거주지대분류코드       17\n",
       "dtype: int64"
      ]
     },
     "execution_count": 6,
     "metadata": {},
     "output_type": "execute_result"
    }
   ],
   "source": [
    "# 데이터 갯수 확인\n",
    "demo.nunique()"
   ]
  },
  {
   "cell_type": "code",
   "execution_count": 7,
   "id": "ad8d0667",
   "metadata": {},
   "outputs": [
    {
     "data": {
      "image/png": "[encoded data removed]",
      "text/plain": [
       "<Figure size 504x288 with 1 Axes>"
      ]
     },
     "metadata": {},
     "output_type": "display_data"
    }
   ],
   "source": [
    "# 성별\n",
    "plt.figure(figsize = (7, 4))\n",
    "sns.countplot(x='성별', data=demo)\n",
    "plt.show()"
   ]
  },
  {
   "cell_type": "code",
   "execution_count": 8,
   "id": "dbc9e665",
   "metadata": {},
   "outputs": [
    {
     "data": {
      "image/png": "[encoded data removed]",
      "text/plain": [
       "<Figure size 504x288 with 1 Axes>"
      ]
     },
     "metadata": {},
     "output_type": "display_data"
    }
   ],
   "source": [
    "# 연령대\n",
    "plt.figure(figsize = (7, 4))\n",
    "sns.countplot(x='연령대', data=demo)\n",
    "plt.show()"
   ]
  },
  {
   "cell_type": "code",
   "execution_count": 9,
   "id": "50ecb80d",
   "metadata": {},
   "outputs": [
    {
     "data": {
      "image/png": "[encoded data removed]",
      "text/plain": [
       "<Figure size 504x288 with 1 Axes>"
      ]
     },
     "metadata": {},
     "output_type": "display_data"
    }
   ],
   "source": [
    "# 거주지대분류코드\n",
    "plt.figure(figsize = (7, 4))\n",
    "sns.countplot(x='거주지대분류코드', data=demo)\n",
    "plt.show()"
   ]
  },
  {
   "cell_type": "markdown",
   "id": "d69bb365",
   "metadata": {},
   "source": [
    "### [2. pdde]: 상품 구매 정보"
   ]
  },
  {
   "cell_type": "code",
   "execution_count": 10,
   "id": "97045104",
   "metadata": {},
   "outputs": [
    {
     "data": {
      "text/html": [
       "<div>\n",
       "<style scoped>\n",
       "    .dataframe tbody tr th:only-of-type {\n",
       "        vertical-align: middle;\n",
       "    }\n",
       "\n",
       "    .dataframe tbody tr th {\n",
       "        vertical-align: top;\n",
       "    }\n",
       "\n",
       "    .dataframe thead th {\n",
       "        text-align: right;\n",
       "    }\n",
       "</style>\n",
       "<table border=\"1\" class=\"dataframe\">\n",
       "  <thead>\n",
       "    <tr style=\"text-align: right;\">\n",
       "      <th></th>\n",
       "      <th>고객번호</th>\n",
       "      <th>영수증번호</th>\n",
       "      <th>채널구분</th>\n",
       "      <th>제휴사</th>\n",
       "      <th>점포코드</th>\n",
       "      <th>상품코드</th>\n",
       "      <th>구매일자</th>\n",
       "      <th>구매시간</th>\n",
       "      <th>구매금액</th>\n",
       "      <th>구매수량</th>\n",
       "    </tr>\n",
       "  </thead>\n",
       "  <tbody>\n",
       "    <tr>\n",
       "      <th>0</th>\n",
       "      <td>M430112881</td>\n",
       "      <td>A01000001113</td>\n",
       "      <td>1</td>\n",
       "      <td>A01</td>\n",
       "      <td>A010039</td>\n",
       "      <td>PD0290</td>\n",
       "      <td>20210101</td>\n",
       "      <td>10</td>\n",
       "      <td>15000.0</td>\n",
       "      <td>1</td>\n",
       "    </tr>\n",
       "    <tr>\n",
       "      <th>1</th>\n",
       "      <td>M646853852</td>\n",
       "      <td>A01000002265</td>\n",
       "      <td>1</td>\n",
       "      <td>A01</td>\n",
       "      <td>A010025</td>\n",
       "      <td>PD1369</td>\n",
       "      <td>20210101</td>\n",
       "      <td>10</td>\n",
       "      <td>79700.0</td>\n",
       "      <td>1</td>\n",
       "    </tr>\n",
       "    <tr>\n",
       "      <th>2</th>\n",
       "      <td>M430112881</td>\n",
       "      <td>A01000003148</td>\n",
       "      <td>1</td>\n",
       "      <td>A01</td>\n",
       "      <td>A010039</td>\n",
       "      <td>PD0290</td>\n",
       "      <td>20210101</td>\n",
       "      <td>10</td>\n",
       "      <td>19000.0</td>\n",
       "      <td>1</td>\n",
       "    </tr>\n",
       "  </tbody>\n",
       "</table>\n",
       "</div>"
      ],
      "text/plain": [
       "         고객번호         영수증번호  채널구분  제휴사     점포코드    상품코드      구매일자  구매시간  \\\n",
       "0  M430112881  A01000001113     1  A01  A010039  PD0290  20210101    10   \n",
       "1  M646853852  A01000002265     1  A01  A010025  PD1369  20210101    10   \n",
       "2  M430112881  A01000003148     1  A01  A010039  PD0290  20210101    10   \n",
       "\n",
       "      구매금액  구매수량  \n",
       "0  15000.0     1  \n",
       "1  79700.0     1  \n",
       "2  19000.0     1  "
      ]
     },
     "execution_count": 10,
     "metadata": {},
     "output_type": "execute_result"
    }
   ],
   "source": [
    "pdde.head(3)"
   ]
  },
  {
   "cell_type": "code",
   "execution_count": 11,
   "id": "154538ca",
   "metadata": {},
   "outputs": [],
   "source": [
    "# 중복되는 행 제거 -> 데이터 추출시 고객, 상품 각각 추출하여 중복이 발생한 것으로 판단함\n",
    "pdde.drop_duplicates(subset=None, keep='first', inplace=True, ignore_index=False)"
   ]
  },
  {
   "cell_type": "code",
   "execution_count": 12,
   "id": "57ce4ffd",
   "metadata": {},
   "outputs": [
    {
     "name": "stdout",
     "output_type": "stream",
     "text": [
      "<class 'pandas.core.frame.DataFrame'>\n",
      "Int64Index: 4144389 entries, 0 to 4381733\n",
      "Data columns (total 10 columns):\n",
      " #   Column  Dtype  \n",
      "---  ------  -----  \n",
      " 0   고객번호    object \n",
      " 1   영수증번호   object \n",
      " 2   채널구분    int64  \n",
      " 3   제휴사     object \n",
      " 4   점포코드    object \n",
      " 5   상품코드    object \n",
      " 6   구매일자    int64  \n",
      " 7   구매시간    int64  \n",
      " 8   구매금액    float64\n",
      " 9   구매수량    int64  \n",
      "dtypes: float64(1), int64(4), object(5)\n",
      "memory usage: 347.8+ MB\n"
     ]
    }
   ],
   "source": [
    "# 데이터 타입 확인\n",
    "pdde.info()"
   ]
  },
  {
   "cell_type": "code",
   "execution_count": 13,
   "id": "d9180f82",
   "metadata": {},
   "outputs": [
    {
     "data": {
      "text/plain": [
       "고객번호          0\n",
       "영수증번호         0\n",
       "채널구분          0\n",
       "제휴사           0\n",
       "점포코드     375784\n",
       "상품코드          0\n",
       "구매일자          0\n",
       "구매시간          0\n",
       "구매금액          0\n",
       "구매수량          0\n",
       "dtype: int64"
      ]
     },
     "execution_count": 13,
     "metadata": {},
     "output_type": "execute_result"
    }
   ],
   "source": [
    "# 결측치 확인\n",
    "pdde.isna().sum()"
   ]
  },
  {
   "cell_type": "code",
   "execution_count": 14,
   "id": "4e029d6f",
   "metadata": {},
   "outputs": [
    {
     "data": {
      "text/plain": [
       "array([2], dtype=int64)"
      ]
     },
     "execution_count": 14,
     "metadata": {},
     "output_type": "execute_result"
    }
   ],
   "source": [
    "# 상품 구매 정보 테이블 내에 점포 코드 결측치는 온라인으로 주문한 것을 확인할 수 있음. 온라인으로 주문한 뒤에 택배로 수령\n",
    "pdde[pdde['점포코드'].isna()]['채널구분'].unique()"
   ]
  },
  {
   "cell_type": "code",
   "execution_count": 15,
   "id": "93c7dfc1",
   "metadata": {},
   "outputs": [],
   "source": [
    "# 결측치 치환 -> na값을 온라인으로 채워줌\n",
    "pdde['점포코드'] = pdde['점포코드'].fillna('온라인')"
   ]
  },
  {
   "cell_type": "code",
   "execution_count": 16,
   "id": "375ec87f",
   "metadata": {},
   "outputs": [
    {
     "data": {
      "text/plain": [
       "고객번호       26917\n",
       "영수증번호    1266589\n",
       "채널구분           2\n",
       "제휴사            6\n",
       "점포코드        6756\n",
       "상품코드        1933\n",
       "구매일자         365\n",
       "구매시간          24\n",
       "구매금액       33791\n",
       "구매수량          85\n",
       "dtype: int64"
      ]
     },
     "execution_count": 16,
     "metadata": {},
     "output_type": "execute_result"
    }
   ],
   "source": [
    "# 데이터 갯수 확인\n",
    "pdde.nunique()"
   ]
  },
  {
   "cell_type": "code",
   "execution_count": 17,
   "id": "1416fd35",
   "metadata": {},
   "outputs": [
    {
     "data": {
      "image/png": "[encoded data removed]",
      "text/plain": [
       "<Figure size 504x288 with 1 Axes>"
      ]
     },
     "metadata": {},
     "output_type": "display_data"
    }
   ],
   "source": [
    "# 채널구분\n",
    "plt.figure(figsize = (7, 4))\n",
    "sns.countplot(x='채널구분', data=pdde)\n",
    "plt.show()"
   ]
  },
  {
   "cell_type": "code",
   "execution_count": 18,
   "id": "01572d52",
   "metadata": {},
   "outputs": [
    {
     "data": {
      "image/png": "[encoded data removed]",
      "text/plain": [
       "<Figure size 504x288 with 1 Axes>"
      ]
     },
     "metadata": {},
     "output_type": "display_data"
    }
   ],
   "source": [
    "# 제휴사\n",
    "plt.figure(figsize = (7, 4))\n",
    "sns.countplot(x='제휴사', data=pdde)\n",
    "plt.show()"
   ]
  },
  {
   "cell_type": "code",
   "execution_count": 19,
   "id": "ba055d2b",
   "metadata": {},
   "outputs": [
    {
     "data": {
      "image/png": "[encoded data removed]",
      "text/plain": [
       "<Figure size 504x288 with 1 Axes>"
      ]
     },
     "metadata": {},
     "output_type": "display_data"
    }
   ],
   "source": [
    "# 구매시간\n",
    "plt.figure(figsize = (7, 4))\n",
    "sns.countplot(x='구매시간', data=pdde)\n",
    "plt.show()"
   ]
  },
  {
   "cell_type": "markdown",
   "id": "ca6088d3",
   "metadata": {},
   "source": [
    "### [3. cop]: 제휴사 이용 정보"
   ]
  },
  {
   "cell_type": "code",
   "execution_count": 20,
   "id": "8bb89c47",
   "metadata": {},
   "outputs": [
    {
     "data": {
      "text/html": [
       "<div>\n",
       "<style scoped>\n",
       "    .dataframe tbody tr th:only-of-type {\n",
       "        vertical-align: middle;\n",
       "    }\n",
       "\n",
       "    .dataframe tbody tr th {\n",
       "        vertical-align: top;\n",
       "    }\n",
       "\n",
       "    .dataframe thead th {\n",
       "        text-align: right;\n",
       "    }\n",
       "</style>\n",
       "<table border=\"1\" class=\"dataframe\">\n",
       "  <thead>\n",
       "    <tr style=\"text-align: right;\">\n",
       "      <th></th>\n",
       "      <th>고객번호</th>\n",
       "      <th>영수증번호</th>\n",
       "      <th>제휴사</th>\n",
       "      <th>점포코드</th>\n",
       "      <th>채널구분</th>\n",
       "      <th>이용일자</th>\n",
       "      <th>방문일자</th>\n",
       "      <th>이용시간</th>\n",
       "      <th>이용금액</th>\n",
       "    </tr>\n",
       "  </thead>\n",
       "  <tbody>\n",
       "    <tr>\n",
       "      <th>0</th>\n",
       "      <td>M839993508</td>\n",
       "      <td>21102612B015763935</td>\n",
       "      <td>B01</td>\n",
       "      <td>B010012</td>\n",
       "      <td>1</td>\n",
       "      <td>20211026</td>\n",
       "      <td>20211026</td>\n",
       "      <td>12</td>\n",
       "      <td>60000</td>\n",
       "    </tr>\n",
       "    <tr>\n",
       "      <th>1</th>\n",
       "      <td>M839993508</td>\n",
       "      <td>21110610B014219744</td>\n",
       "      <td>B01</td>\n",
       "      <td>B010012</td>\n",
       "      <td>1</td>\n",
       "      <td>20211106</td>\n",
       "      <td>20211106</td>\n",
       "      <td>10</td>\n",
       "      <td>17100</td>\n",
       "    </tr>\n",
       "    <tr>\n",
       "      <th>2</th>\n",
       "      <td>M839993508</td>\n",
       "      <td>21021112B013419710</td>\n",
       "      <td>B01</td>\n",
       "      <td>B010012</td>\n",
       "      <td>1</td>\n",
       "      <td>20210211</td>\n",
       "      <td>20210211</td>\n",
       "      <td>12</td>\n",
       "      <td>136500</td>\n",
       "    </tr>\n",
       "  </tbody>\n",
       "</table>\n",
       "</div>"
      ],
      "text/plain": [
       "         고객번호               영수증번호  제휴사     점포코드  채널구분      이용일자      방문일자  \\\n",
       "0  M839993508  21102612B015763935  B01  B010012     1  20211026  20211026   \n",
       "1  M839993508  21110610B014219744  B01  B010012     1  20211106  20211106   \n",
       "2  M839993508  21021112B013419710  B01  B010012     1  20210211  20210211   \n",
       "\n",
       "   이용시간    이용금액  \n",
       "0    12   60000  \n",
       "1    10   17100  \n",
       "2    12  136500  "
      ]
     },
     "execution_count": 20,
     "metadata": {},
     "output_type": "execute_result"
    }
   ],
   "source": [
    "cop.head(3)"
   ]
  },
  {
   "cell_type": "code",
   "execution_count": 21,
   "id": "4823c9a8",
   "metadata": {},
   "outputs": [
    {
     "name": "stdout",
     "output_type": "stream",
     "text": [
      "<class 'pandas.core.frame.DataFrame'>\n",
      "RangeIndex: 248304 entries, 0 to 248303\n",
      "Data columns (total 9 columns):\n",
      " #   Column  Non-Null Count   Dtype \n",
      "---  ------  --------------   ----- \n",
      " 0   고객번호    248304 non-null  object\n",
      " 1   영수증번호   248304 non-null  object\n",
      " 2   제휴사     248304 non-null  object\n",
      " 3   점포코드    248249 non-null  object\n",
      " 4   채널구분    248304 non-null  int64 \n",
      " 5   이용일자    248304 non-null  int64 \n",
      " 6   방문일자    248304 non-null  int64 \n",
      " 7   이용시간    248304 non-null  int64 \n",
      " 8   이용금액    248304 non-null  int64 \n",
      "dtypes: int64(5), object(4)\n",
      "memory usage: 17.0+ MB\n"
     ]
    }
   ],
   "source": [
    "# 데이터 타입 확인\n",
    "cop.info()"
   ]
  },
  {
   "cell_type": "code",
   "execution_count": 22,
   "id": "5cfce343",
   "metadata": {},
   "outputs": [
    {
     "data": {
      "text/plain": [
       "고객번호      0\n",
       "영수증번호     0\n",
       "제휴사       0\n",
       "점포코드     55\n",
       "채널구분      0\n",
       "이용일자      0\n",
       "방문일자      0\n",
       "이용시간      0\n",
       "이용금액      0\n",
       "dtype: int64"
      ]
     },
     "execution_count": 22,
     "metadata": {},
     "output_type": "execute_result"
    }
   ],
   "source": [
    "# 결측치 확인\n",
    "cop.isna().sum()"
   ]
  },
  {
   "cell_type": "code",
   "execution_count": 23,
   "id": "1e81a384",
   "metadata": {},
   "outputs": [
    {
     "data": {
      "text/plain": [
       "array([2], dtype=int64)"
      ]
     },
     "execution_count": 23,
     "metadata": {},
     "output_type": "execute_result"
    }
   ],
   "source": [
    "# 제휴사 이용 정보 테이블 내에 점포 코드 결측치는 온라인으로 주문한 것을 확인할 수 있음. 온라인으로 주문한 뒤에 택배로 수령\n",
    "cop[cop['점포코드'].isna()]['채널구분'].unique()"
   ]
  },
  {
   "cell_type": "code",
   "execution_count": 24,
   "id": "d27ac9ca",
   "metadata": {},
   "outputs": [],
   "source": [
    "# 결측치 치환\n",
    "cop['점포코드'] = cop['점포코드'].fillna('온라인')"
   ]
  },
  {
   "cell_type": "code",
   "execution_count": 25,
   "id": "31d5f219",
   "metadata": {},
   "outputs": [
    {
     "data": {
      "text/plain": [
       "고객번호      21769\n",
       "영수증번호    248304\n",
       "제휴사           6\n",
       "점포코드       2030\n",
       "채널구분          2\n",
       "이용일자        369\n",
       "방문일자        366\n",
       "이용시간         24\n",
       "이용금액       9420\n",
       "dtype: int64"
      ]
     },
     "execution_count": 25,
     "metadata": {},
     "output_type": "execute_result"
    }
   ],
   "source": [
    "# 데이터 갯수 확인\n",
    "cop.nunique()"
   ]
  },
  {
   "cell_type": "code",
   "execution_count": 26,
   "id": "38aa56ae",
   "metadata": {},
   "outputs": [
    {
     "data": {
      "image/png": "[encoded data removed]",
      "text/plain": [
       "<Figure size 504x288 with 1 Axes>"
      ]
     },
     "metadata": {},
     "output_type": "display_data"
    }
   ],
   "source": [
    "# 채널구분\n",
    "plt.figure(figsize = (7, 4))\n",
    "sns.countplot(x='채널구분', data=cop)\n",
    "plt.show()"
   ]
  },
  {
   "cell_type": "code",
   "execution_count": 27,
   "id": "8887b51d",
   "metadata": {},
   "outputs": [
    {
     "data": {
      "image/png": "[encoded data removed]",
      "text/plain": [
       "<Figure size 504x288 with 1 Axes>"
      ]
     },
     "metadata": {},
     "output_type": "display_data"
    }
   ],
   "source": [
    "# 제휴사\n",
    "plt.figure(figsize = (7, 4))\n",
    "sns.countplot(x='제휴사', data=cop)\n",
    "plt.show()"
   ]
  },
  {
   "cell_type": "code",
   "execution_count": 28,
   "id": "c18971f7",
   "metadata": {},
   "outputs": [
    {
     "data": {
      "image/png": "[encoded data removed]",
      "text/plain": [
       "<Figure size 504x288 with 1 Axes>"
      ]
     },
     "metadata": {},
     "output_type": "display_data"
    }
   ],
   "source": [
    "# 이용시간\n",
    "plt.figure(figsize = (7, 4))\n",
    "sns.countplot(x='이용시간', data=cop)\n",
    "plt.show()"
   ]
  },
  {
   "cell_type": "markdown",
   "id": "c1ae4cd6",
   "metadata": {},
   "source": [
    "### [4. clac]: 상품 분류 정보"
   ]
  },
  {
   "cell_type": "code",
   "execution_count": 29,
   "id": "fc8349ca",
   "metadata": {},
   "outputs": [
    {
     "data": {
      "text/html": [
       "<div>\n",
       "<style scoped>\n",
       "    .dataframe tbody tr th:only-of-type {\n",
       "        vertical-align: middle;\n",
       "    }\n",
       "\n",
       "    .dataframe tbody tr th {\n",
       "        vertical-align: top;\n",
       "    }\n",
       "\n",
       "    .dataframe thead th {\n",
       "        text-align: right;\n",
       "    }\n",
       "</style>\n",
       "<table border=\"1\" class=\"dataframe\">\n",
       "  <thead>\n",
       "    <tr style=\"text-align: right;\">\n",
       "      <th></th>\n",
       "      <th>상품코드</th>\n",
       "      <th>소분류명</th>\n",
       "      <th>대분류명</th>\n",
       "      <th>중분류명</th>\n",
       "    </tr>\n",
       "  </thead>\n",
       "  <tbody>\n",
       "    <tr>\n",
       "      <th>0</th>\n",
       "      <td>PD0001</td>\n",
       "      <td>소파</td>\n",
       "      <td>가구</td>\n",
       "      <td>거실가구</td>\n",
       "    </tr>\n",
       "    <tr>\n",
       "      <th>1</th>\n",
       "      <td>PD0002</td>\n",
       "      <td>스툴/리빙의자</td>\n",
       "      <td>가구</td>\n",
       "      <td>거실가구</td>\n",
       "    </tr>\n",
       "    <tr>\n",
       "      <th>2</th>\n",
       "      <td>PD0003</td>\n",
       "      <td>탁자</td>\n",
       "      <td>가구</td>\n",
       "      <td>거실가구</td>\n",
       "    </tr>\n",
       "  </tbody>\n",
       "</table>\n",
       "</div>"
      ],
      "text/plain": [
       "     상품코드     소분류명 대분류명  중분류명\n",
       "0  PD0001       소파   가구  거실가구\n",
       "1  PD0002  스툴/리빙의자   가구  거실가구\n",
       "2  PD0003       탁자   가구  거실가구"
      ]
     },
     "execution_count": 29,
     "metadata": {},
     "output_type": "execute_result"
    }
   ],
   "source": [
    "clac.head(3)"
   ]
  },
  {
   "cell_type": "code",
   "execution_count": 30,
   "id": "65a02e86",
   "metadata": {},
   "outputs": [
    {
     "name": "stdout",
     "output_type": "stream",
     "text": [
      "<class 'pandas.core.frame.DataFrame'>\n",
      "RangeIndex: 1933 entries, 0 to 1932\n",
      "Data columns (total 4 columns):\n",
      " #   Column  Non-Null Count  Dtype \n",
      "---  ------  --------------  ----- \n",
      " 0   상품코드    1933 non-null   object\n",
      " 1   소분류명    1933 non-null   object\n",
      " 2   대분류명    1933 non-null   object\n",
      " 3   중분류명    1933 non-null   object\n",
      "dtypes: object(4)\n",
      "memory usage: 60.5+ KB\n"
     ]
    }
   ],
   "source": [
    "# 데이터 타입 확인\n",
    "clac.info()"
   ]
  },
  {
   "cell_type": "code",
   "execution_count": 31,
   "id": "a45f5e42",
   "metadata": {},
   "outputs": [
    {
     "data": {
      "text/plain": [
       "상품코드    0\n",
       "소분류명    0\n",
       "대분류명    0\n",
       "중분류명    0\n",
       "dtype: int64"
      ]
     },
     "execution_count": 31,
     "metadata": {},
     "output_type": "execute_result"
    }
   ],
   "source": [
    "# 결측치 확인\n",
    "clac.isna().sum()"
   ]
  },
  {
   "cell_type": "code",
   "execution_count": 32,
   "id": "9fcf7bb7",
   "metadata": {},
   "outputs": [
    {
     "data": {
      "text/plain": [
       "상품코드    1933\n",
       "소분류명    1932\n",
       "대분류명      60\n",
       "중분류명     349\n",
       "dtype: int64"
      ]
     },
     "execution_count": 32,
     "metadata": {},
     "output_type": "execute_result"
    }
   ],
   "source": [
    "# 데이터 갯수 확인\n",
    "clac.nunique()"
   ]
  },
  {
   "cell_type": "markdown",
   "id": "7f2c0e73",
   "metadata": {},
   "source": [
    "### [5. br]: 점포 정보"
   ]
  },
  {
   "cell_type": "code",
   "execution_count": 33,
   "id": "5b604039",
   "metadata": {},
   "outputs": [
    {
     "data": {
      "text/html": [
       "<div>\n",
       "<style scoped>\n",
       "    .dataframe tbody tr th:only-of-type {\n",
       "        vertical-align: middle;\n",
       "    }\n",
       "\n",
       "    .dataframe tbody tr th {\n",
       "        vertical-align: top;\n",
       "    }\n",
       "\n",
       "    .dataframe thead th {\n",
       "        text-align: right;\n",
       "    }\n",
       "</style>\n",
       "<table border=\"1\" class=\"dataframe\">\n",
       "  <thead>\n",
       "    <tr style=\"text-align: right;\">\n",
       "      <th></th>\n",
       "      <th>점포코드</th>\n",
       "      <th>제휴사</th>\n",
       "      <th>점포대분류코드</th>\n",
       "      <th>점포중분류코드</th>\n",
       "    </tr>\n",
       "  </thead>\n",
       "  <tbody>\n",
       "    <tr>\n",
       "      <th>0</th>\n",
       "      <td>A010001</td>\n",
       "      <td>A01</td>\n",
       "      <td>Z17</td>\n",
       "      <td>Z17024</td>\n",
       "    </tr>\n",
       "    <tr>\n",
       "      <th>1</th>\n",
       "      <td>A010002</td>\n",
       "      <td>A01</td>\n",
       "      <td>Z17</td>\n",
       "      <td>Z17018</td>\n",
       "    </tr>\n",
       "    <tr>\n",
       "      <th>2</th>\n",
       "      <td>A010003</td>\n",
       "      <td>A01</td>\n",
       "      <td>Z17</td>\n",
       "      <td>Z17011</td>\n",
       "    </tr>\n",
       "  </tbody>\n",
       "</table>\n",
       "</div>"
      ],
      "text/plain": [
       "      점포코드  제휴사 점포대분류코드 점포중분류코드\n",
       "0  A010001  A01     Z17  Z17024\n",
       "1  A010002  A01     Z17  Z17018\n",
       "2  A010003  A01     Z17  Z17011"
      ]
     },
     "execution_count": 33,
     "metadata": {},
     "output_type": "execute_result"
    }
   ],
   "source": [
    "br.head(3)"
   ]
  },
  {
   "cell_type": "code",
   "execution_count": 34,
   "id": "18e5c9c2",
   "metadata": {},
   "outputs": [
    {
     "name": "stdout",
     "output_type": "stream",
     "text": [
      "<class 'pandas.core.frame.DataFrame'>\n",
      "RangeIndex: 8808 entries, 0 to 8807\n",
      "Data columns (total 4 columns):\n",
      " #   Column   Non-Null Count  Dtype \n",
      "---  ------   --------------  ----- \n",
      " 0   점포코드     8808 non-null   object\n",
      " 1   제휴사      8808 non-null   object\n",
      " 2   점포대분류코드  8808 non-null   object\n",
      " 3   점포중분류코드  8808 non-null   object\n",
      "dtypes: object(4)\n",
      "memory usage: 275.4+ KB\n"
     ]
    }
   ],
   "source": [
    "# 데이터 타입 확인\n",
    "br.info()"
   ]
  },
  {
   "cell_type": "code",
   "execution_count": 35,
   "id": "1aa87240",
   "metadata": {},
   "outputs": [
    {
     "data": {
      "text/plain": [
       "점포코드       0\n",
       "제휴사        0\n",
       "점포대분류코드    0\n",
       "점포중분류코드    0\n",
       "dtype: int64"
      ]
     },
     "execution_count": 35,
     "metadata": {},
     "output_type": "execute_result"
    }
   ],
   "source": [
    "# 결측치 확인\n",
    "br.isna().sum()"
   ]
  },
  {
   "cell_type": "code",
   "execution_count": 36,
   "id": "d30b39eb",
   "metadata": {},
   "outputs": [
    {
     "data": {
      "text/plain": [
       "점포코드       8808\n",
       "제휴사          11\n",
       "점포대분류코드      17\n",
       "점포중분류코드     257\n",
       "dtype: int64"
      ]
     },
     "execution_count": 36,
     "metadata": {},
     "output_type": "execute_result"
    }
   ],
   "source": [
    "# 데이터 갯수 확인\n",
    "br.nunique()"
   ]
  },
  {
   "cell_type": "code",
   "execution_count": 37,
   "id": "1d3c7cd9",
   "metadata": {},
   "outputs": [
    {
     "data": {
      "image/png": "[encoded data removed]",
      "text/plain": [
       "<Figure size 504x288 with 1 Axes>"
      ]
     },
     "metadata": {},
     "output_type": "display_data"
    }
   ],
   "source": [
    "# 제휴사\n",
    "plt.figure(figsize = (7, 4))\n",
    "sns.countplot(x='제휴사', data=br)\n",
    "plt.show()"
   ]
  },
  {
   "cell_type": "code",
   "execution_count": 38,
   "id": "39f6558b",
   "metadata": {},
   "outputs": [
    {
     "data": {
      "image/png": "[encoded data removed]",
      "text/plain": [
       "<Figure size 504x288 with 1 Axes>"
      ]
     },
     "metadata": {},
     "output_type": "display_data"
    }
   ],
   "source": [
    "# 점포대분류코드\n",
    "plt.figure(figsize = (7, 4))\n",
    "sns.countplot(x='점포대분류코드', data=br)\n",
    "plt.show()"
   ]
  },
  {
   "cell_type": "markdown",
   "id": "abfa38eb",
   "metadata": {},
   "source": [
    "### [6. lpay]: 엘페이 이용"
   ]
  },
  {
   "cell_type": "code",
   "execution_count": 39,
   "id": "6239703e",
   "metadata": {},
   "outputs": [
    {
     "data": {
      "text/html": [
       "<div>\n",
       "<style scoped>\n",
       "    .dataframe tbody tr th:only-of-type {\n",
       "        vertical-align: middle;\n",
       "    }\n",
       "\n",
       "    .dataframe tbody tr th {\n",
       "        vertical-align: top;\n",
       "    }\n",
       "\n",
       "    .dataframe thead th {\n",
       "        text-align: right;\n",
       "    }\n",
       "</style>\n",
       "<table border=\"1\" class=\"dataframe\">\n",
       "  <thead>\n",
       "    <tr style=\"text-align: right;\">\n",
       "      <th></th>\n",
       "      <th>고객번호</th>\n",
       "      <th>영수증번호</th>\n",
       "      <th>제휴사</th>\n",
       "      <th>채널구분</th>\n",
       "      <th>이용일자</th>\n",
       "      <th>이용시간</th>\n",
       "      <th>이용금액</th>\n",
       "    </tr>\n",
       "  </thead>\n",
       "  <tbody>\n",
       "    <tr>\n",
       "      <th>0</th>\n",
       "      <td>M629656521</td>\n",
       "      <td>210803210311226</td>\n",
       "      <td>A03</td>\n",
       "      <td>1</td>\n",
       "      <td>20210803</td>\n",
       "      <td>21</td>\n",
       "      <td>10900</td>\n",
       "    </tr>\n",
       "    <tr>\n",
       "      <th>1</th>\n",
       "      <td>M216016456</td>\n",
       "      <td>210803130167542</td>\n",
       "      <td>L01</td>\n",
       "      <td>2</td>\n",
       "      <td>20210803</td>\n",
       "      <td>13</td>\n",
       "      <td>6860</td>\n",
       "    </tr>\n",
       "    <tr>\n",
       "      <th>2</th>\n",
       "      <td>M205142844</td>\n",
       "      <td>210803140275112</td>\n",
       "      <td>A02</td>\n",
       "      <td>1</td>\n",
       "      <td>20210803</td>\n",
       "      <td>14</td>\n",
       "      <td>9000</td>\n",
       "    </tr>\n",
       "  </tbody>\n",
       "</table>\n",
       "</div>"
      ],
      "text/plain": [
       "         고객번호            영수증번호  제휴사  채널구분      이용일자  이용시간   이용금액\n",
       "0  M629656521  210803210311226  A03     1  20210803    21  10900\n",
       "1  M216016456  210803130167542  L01     2  20210803    13   6860\n",
       "2  M205142844  210803140275112  A02     1  20210803    14   9000"
      ]
     },
     "execution_count": 39,
     "metadata": {},
     "output_type": "execute_result"
    }
   ],
   "source": [
    "lpay.head(3)"
   ]
  },
  {
   "cell_type": "code",
   "execution_count": 40,
   "id": "c7667cea",
   "metadata": {},
   "outputs": [
    {
     "name": "stdout",
     "output_type": "stream",
     "text": [
      "<class 'pandas.core.frame.DataFrame'>\n",
      "RangeIndex: 353184 entries, 0 to 353183\n",
      "Data columns (total 7 columns):\n",
      " #   Column  Non-Null Count   Dtype \n",
      "---  ------  --------------   ----- \n",
      " 0   고객번호    353184 non-null  object\n",
      " 1   영수증번호   353184 non-null  int64 \n",
      " 2   제휴사     353184 non-null  object\n",
      " 3   채널구분    353184 non-null  int64 \n",
      " 4   이용일자    353184 non-null  int64 \n",
      " 5   이용시간    353184 non-null  int64 \n",
      " 6   이용금액    353184 non-null  int64 \n",
      "dtypes: int64(5), object(2)\n",
      "memory usage: 18.9+ MB\n"
     ]
    }
   ],
   "source": [
    "# 데이터 타입 확인\n",
    "lpay.info()"
   ]
  },
  {
   "cell_type": "code",
   "execution_count": 41,
   "id": "ed028118",
   "metadata": {},
   "outputs": [
    {
     "data": {
      "text/plain": [
       "고객번호     0\n",
       "영수증번호    0\n",
       "제휴사      0\n",
       "채널구분     0\n",
       "이용일자     0\n",
       "이용시간     0\n",
       "이용금액     0\n",
       "dtype: int64"
      ]
     },
     "execution_count": 41,
     "metadata": {},
     "output_type": "execute_result"
    }
   ],
   "source": [
    "# 결측치 확인\n",
    "lpay.isna().sum()"
   ]
  },
  {
   "cell_type": "code",
   "execution_count": 42,
   "id": "3263eaa6",
   "metadata": {},
   "outputs": [
    {
     "data": {
      "text/plain": [
       "고객번호       8906\n",
       "영수증번호    353184\n",
       "제휴사          14\n",
       "채널구분          2\n",
       "이용일자        365\n",
       "이용시간         24\n",
       "이용금액      37755\n",
       "dtype: int64"
      ]
     },
     "execution_count": 42,
     "metadata": {},
     "output_type": "execute_result"
    }
   ],
   "source": [
    "# 데이터 갯수 확인\n",
    "lpay.nunique()"
   ]
  },
  {
   "cell_type": "code",
   "execution_count": 43,
   "id": "63766a5e",
   "metadata": {},
   "outputs": [
    {
     "data": {
      "image/png": "[encoded data removed]",
      "text/plain": [
       "<Figure size 504x288 with 1 Axes>"
      ]
     },
     "metadata": {},
     "output_type": "display_data"
    }
   ],
   "source": [
    "# 제휴사\n",
    "plt.figure(figsize = (7, 4))\n",
    "sns.countplot(x='제휴사', data=lpay)\n",
    "plt.show()"
   ]
  },
  {
   "cell_type": "code",
   "execution_count": 44,
   "id": "c5918201",
   "metadata": {},
   "outputs": [
    {
     "data": {
      "image/png": "[encoded data removed]",
      "text/plain": [
       "<Figure size 504x288 with 1 Axes>"
      ]
     },
     "metadata": {},
     "output_type": "display_data"
    }
   ],
   "source": [
    "# 채널구분\n",
    "plt.figure(figsize = (7, 4))\n",
    "sns.countplot(x='채널구분', data=lpay)\n",
    "plt.show()"
   ]
  },
  {
   "cell_type": "code",
   "execution_count": 45,
   "id": "a9e5faf8",
   "metadata": {},
   "outputs": [
    {
     "data": {
      "image/png": "[encoded data removed]",
      "text/plain": [
       "<Figure size 504x288 with 1 Axes>"
      ]
     },
     "metadata": {},
     "output_type": "display_data"
    }
   ],
   "source": [
    "# 이용시간\n",
    "plt.figure(figsize = (7, 4))\n",
    "sns.countplot(x='이용시간', data=lpay)\n",
    "plt.show()"
   ]
  },
  {
   "cell_type": "markdown",
   "id": "df2c5ec6",
   "metadata": {},
   "source": [
    "# Data Merge"
   ]
  },
  {
   "cell_type": "code",
   "execution_count": 46,
   "id": "7b7881e8",
   "metadata": {},
   "outputs": [
    {
     "name": "stdout",
     "output_type": "stream",
     "text": [
      "pdde : (4144389, 10)\n",
      "copu : (248304, 9)\n",
      "lpay : (353184, 7)\n"
     ]
    }
   ],
   "source": [
    "# 데이터 크기 확인\n",
    "print('pdde :',pdde.shape)\n",
    "print('copu :',cop.shape)\n",
    "print('lpay :',lpay.shape)"
   ]
  },
  {
   "cell_type": "code",
   "execution_count": 47,
   "id": "64fbe495",
   "metadata": {},
   "outputs": [],
   "source": [
    "# # 칼럼별 상관관계 확인\n",
    "# # 제휴사 테이블 중에서 방문일자와 이용일자는 상관관계가 상당히 높게 나타남을 확인\n",
    "# # 제휴사 테이블 내 방문일자 제거\n",
    "# plt.figure(figsize=(15,15))\n",
    "# sns.heatmap(data = cop.corr(), annot=True,fmt = '.2f', linewidths=.5, cmap='Blues')"
   ]
  },
  {
   "cell_type": "code",
   "execution_count": 48,
   "id": "b57c84f9",
   "metadata": {},
   "outputs": [],
   "source": [
    "# 데이터를 통합하기 위하여 칼럼 통합\n",
    "pdde['타입'] = 'Product'\n",
    "cop['타입'] = 'Affiliate'\n",
    "lpay['타입'] = 'Lpay'\n",
    "pdde['방문일자'] = 0\n",
    "lpay['방문일자'] = 0\n",
    "cop['구매수량'] = 0\n",
    "cop['상품코드'] = np.nan\n",
    "lpay['점포코드'] = np.nan\n",
    "lpay['상품코드'] = np.nan\n",
    "lpay['구매수량'] = 0"
   ]
  },
  {
   "cell_type": "code",
   "execution_count": 49,
   "id": "ae25f45d",
   "metadata": {},
   "outputs": [],
   "source": [
    "# 칼럼명을 새롭게 동일하게 통일\n",
    "cop.columns = ['고객번호', '영수증번호', '제휴사', '점포코드', '채널구분', '구매일자', '방문일자', '구매시간', '구매금액', '타입', '구매수량', '상품코드']\n",
    "lpay.columns = ['고객번호', '영수증번호', '제휴사', '채널구분', '구매일자', '구매시간', '구매금액', '타입', '방문일자', '점포코드', '상품코드', '구매수량']\n",
    "\n",
    "# 상품구매데이터를 기준으로 하여 열을 통일\n",
    "cop = cop[['고객번호', '영수증번호', '채널구분', '제휴사', '점포코드', '상품코드', '구매일자', '방문일자', '구매시간', '구매금액', '구매수량', '타입']]\n",
    "lpay = lpay[['고객번호', '영수증번호', '채널구분', '제휴사', '점포코드', '상품코드', '구매일자', '방문일자', '구매시간', '구매금액', '구매수량', '타입']]\n",
    "\n",
    "# 데이터 타입 변경\n",
    "lpay['영수증번호'] = lpay['영수증번호'].astype('object')\n",
    "lpay['점포코드'] = lpay['점포코드'].astype('object')\n",
    "cop['상품코드'] = cop['상품코드'].astype('object')\n",
    "lpay['상품코드'] = lpay['상품코드'].astype('object')\n",
    "pdde['구매금액'] = pdde['구매금액'].astype('int')\n",
    "pdde['방문일자'] = pdde['방문일자'].astype('int64')\n",
    "lpay['방문일자'] = lpay['방문일자'].astype('int64')"
   ]
  },
  {
   "cell_type": "code",
   "execution_count": 50,
   "id": "54609bc9",
   "metadata": {},
   "outputs": [],
   "source": [
    "# 데이터 concat\n",
    "df = pd.concat([pdde,cop,lpay])\n",
    "# 고객 정보 테이븛 통합\n",
    "df = pd.merge(df, demo, on = ['고객번호'], how = 'left')\n",
    "# 상품 분류 테이블 통합\n",
    "df = pd.merge(df, br, on = ['점포코드','제휴사'], how = 'left')\n",
    "# 점포 정보 테이블 통합\n",
    "df = pd.merge(df, clac, on = ['상품코드'], how = 'left')"
   ]
  },
  {
   "cell_type": "code",
   "execution_count": 51,
   "id": "68ee68e5",
   "metadata": {},
   "outputs": [
    {
     "data": {
      "text/plain": [
       "고객번호             0\n",
       "영수증번호            0\n",
       "채널구분             0\n",
       "제휴사              0\n",
       "점포코드        353184\n",
       "상품코드        601488\n",
       "구매일자             0\n",
       "구매시간             0\n",
       "구매금액             0\n",
       "구매수량             0\n",
       "타입               0\n",
       "방문일자             0\n",
       "성별               0\n",
       "연령대              0\n",
       "거주지대분류코드         0\n",
       "점포대분류코드     729023\n",
       "점포중분류코드     729023\n",
       "소분류명        601488\n",
       "대분류명        601488\n",
       "중분류명        601488\n",
       "dtype: int64"
      ]
     },
     "execution_count": 51,
     "metadata": {},
     "output_type": "execute_result"
    }
   ],
   "source": [
    "# 결측치 확인\n",
    "df.isnull().sum()"
   ]
  },
  {
   "cell_type": "code",
   "execution_count": 52,
   "id": "a0dde077",
   "metadata": {},
   "outputs": [
    {
     "name": "stdout",
     "output_type": "stream",
     "text": [
      "<엘페이>\n",
      "고객번호          0\n",
      "영수증번호         0\n",
      "채널구분          0\n",
      "제휴사           0\n",
      "점포코드     353184\n",
      "상품코드     353184\n",
      "구매일자          0\n",
      "방문일자          0\n",
      "구매시간          0\n",
      "구매금액          0\n",
      "구매수량          0\n",
      "타입            0\n",
      "dtype: int64\n",
      "<제휴사>\n",
      "고객번호          0\n",
      "영수증번호         0\n",
      "채널구분          0\n",
      "제휴사           0\n",
      "점포코드          0\n",
      "상품코드     248304\n",
      "구매일자          0\n",
      "방문일자          0\n",
      "구매시간          0\n",
      "구매금액          0\n",
      "구매수량          0\n",
      "타입            0\n",
      "dtype: int64\n",
      "<상품구매>\n",
      "고객번호     0\n",
      "영수증번호    0\n",
      "채널구분     0\n",
      "제휴사      0\n",
      "점포코드     0\n",
      "상품코드     0\n",
      "구매일자     0\n",
      "구매시간     0\n",
      "구매금액     0\n",
      "구매수량     0\n",
      "타입       0\n",
      "방문일자     0\n",
      "dtype: int64\n"
     ]
    }
   ],
   "source": [
    "print('<엘페이>')\n",
    "print(lpay.isnull().sum())\n",
    "print('<제휴사>')\n",
    "print(cop.isnull().sum())\n",
    "print('<상품구매>')\n",
    "print(pdde.isnull().sum())"
   ]
  },
  {
   "cell_type": "code",
   "execution_count": 53,
   "id": "a4b8f1b4",
   "metadata": {},
   "outputs": [
    {
     "data": {
      "text/html": [
       "<div>\n",
       "<style scoped>\n",
       "    .dataframe tbody tr th:only-of-type {\n",
       "        vertical-align: middle;\n",
       "    }\n",
       "\n",
       "    .dataframe tbody tr th {\n",
       "        vertical-align: top;\n",
       "    }\n",
       "\n",
       "    .dataframe thead th {\n",
       "        text-align: right;\n",
       "    }\n",
       "</style>\n",
       "<table border=\"1\" class=\"dataframe\">\n",
       "  <thead>\n",
       "    <tr style=\"text-align: right;\">\n",
       "      <th></th>\n",
       "      <th>고객번호</th>\n",
       "      <th>영수증번호</th>\n",
       "      <th>채널구분</th>\n",
       "      <th>제휴사</th>\n",
       "      <th>점포코드</th>\n",
       "      <th>상품코드</th>\n",
       "      <th>구매일자</th>\n",
       "      <th>구매시간</th>\n",
       "      <th>구매금액</th>\n",
       "      <th>구매수량</th>\n",
       "      <th>타입</th>\n",
       "      <th>방문일자</th>\n",
       "      <th>성별</th>\n",
       "      <th>연령대</th>\n",
       "      <th>거주지대분류코드</th>\n",
       "      <th>점포대분류코드</th>\n",
       "      <th>점포중분류코드</th>\n",
       "      <th>소분류명</th>\n",
       "      <th>대분류명</th>\n",
       "      <th>중분류명</th>\n",
       "    </tr>\n",
       "  </thead>\n",
       "  <tbody>\n",
       "    <tr>\n",
       "      <th>0</th>\n",
       "      <td>M430112881</td>\n",
       "      <td>A01000001113</td>\n",
       "      <td>1</td>\n",
       "      <td>A01</td>\n",
       "      <td>A010039</td>\n",
       "      <td>PD0290</td>\n",
       "      <td>20210101</td>\n",
       "      <td>10</td>\n",
       "      <td>15000</td>\n",
       "      <td>1</td>\n",
       "      <td>Product</td>\n",
       "      <td>0</td>\n",
       "      <td>여성</td>\n",
       "      <td>50대</td>\n",
       "      <td>Z17</td>\n",
       "      <td>Z10</td>\n",
       "      <td>Z10042</td>\n",
       "      <td>남성티셔츠</td>\n",
       "      <td>남성의류</td>\n",
       "      <td>남성의류상의</td>\n",
       "    </tr>\n",
       "    <tr>\n",
       "      <th>1</th>\n",
       "      <td>M646853852</td>\n",
       "      <td>A01000002265</td>\n",
       "      <td>1</td>\n",
       "      <td>A01</td>\n",
       "      <td>A010025</td>\n",
       "      <td>PD1369</td>\n",
       "      <td>20210101</td>\n",
       "      <td>10</td>\n",
       "      <td>79700</td>\n",
       "      <td>1</td>\n",
       "      <td>Product</td>\n",
       "      <td>0</td>\n",
       "      <td>여성</td>\n",
       "      <td>40대</td>\n",
       "      <td>Z13</td>\n",
       "      <td>Z13</td>\n",
       "      <td>Z13001</td>\n",
       "      <td>기타주방일회용품</td>\n",
       "      <td>주방잡화</td>\n",
       "      <td>주방일회용품</td>\n",
       "    </tr>\n",
       "    <tr>\n",
       "      <th>2</th>\n",
       "      <td>M430112881</td>\n",
       "      <td>A01000003148</td>\n",
       "      <td>1</td>\n",
       "      <td>A01</td>\n",
       "      <td>A010039</td>\n",
       "      <td>PD0290</td>\n",
       "      <td>20210101</td>\n",
       "      <td>10</td>\n",
       "      <td>19000</td>\n",
       "      <td>1</td>\n",
       "      <td>Product</td>\n",
       "      <td>0</td>\n",
       "      <td>여성</td>\n",
       "      <td>50대</td>\n",
       "      <td>Z17</td>\n",
       "      <td>Z10</td>\n",
       "      <td>Z10042</td>\n",
       "      <td>남성티셔츠</td>\n",
       "      <td>남성의류</td>\n",
       "      <td>남성의류상의</td>\n",
       "    </tr>\n",
       "  </tbody>\n",
       "</table>\n",
       "</div>"
      ],
      "text/plain": [
       "         고객번호         영수증번호  채널구분  제휴사     점포코드    상품코드      구매일자  구매시간  \\\n",
       "0  M430112881  A01000001113     1  A01  A010039  PD0290  20210101    10   \n",
       "1  M646853852  A01000002265     1  A01  A010025  PD1369  20210101    10   \n",
       "2  M430112881  A01000003148     1  A01  A010039  PD0290  20210101    10   \n",
       "\n",
       "    구매금액  구매수량       타입  방문일자  성별  연령대 거주지대분류코드 점포대분류코드 점포중분류코드      소분류명  \\\n",
       "0  15000     1  Product     0  여성  50대      Z17     Z10  Z10042     남성티셔츠   \n",
       "1  79700     1  Product     0  여성  40대      Z13     Z13  Z13001  기타주방일회용품   \n",
       "2  19000     1  Product     0  여성  50대      Z17     Z10  Z10042     남성티셔츠   \n",
       "\n",
       "   대분류명    중분류명  \n",
       "0  남성의류  남성의류상의  \n",
       "1  주방잡화  주방일회용품  \n",
       "2  남성의류  남성의류상의  "
      ]
     },
     "execution_count": 53,
     "metadata": {},
     "output_type": "execute_result"
    }
   ],
   "source": [
    "df.head(3)"
   ]
  },
  {
   "cell_type": "code",
   "execution_count": 54,
   "id": "7ebb755f",
   "metadata": {},
   "outputs": [],
   "source": [
    "data = df.copy()"
   ]
  },
  {
   "cell_type": "code",
   "execution_count": 55,
   "id": "3d67e0bf",
   "metadata": {},
   "outputs": [],
   "source": [
    "# 데이터 분리\n",
    "df1 = data[data['타입']== 'Product']\n",
    "df2 = data[data['타입']== 'Affiliate']\n",
    "df3 = data[data['타입']== 'Lpay']"
   ]
  },
  {
   "cell_type": "markdown",
   "id": "7ca9a066",
   "metadata": {},
   "source": [
    "## END"
   ]
  }
 ],
 "metadata": {
  "kernelspec": {
   "display_name": "Python 3",
   "language": "python",
   "name": "python3"
  },
  "language_info": {
   "codemirror_mode": {
    "name": "ipython",
    "version": 3
   },
   "file_extension": ".py",
   "mimetype": "text/x-python",
   "name": "python",
   "nbconvert_exporter": "python",
   "pygments_lexer": "ipython3",
   "version": "3.8.8"
  }
 },
 "nbformat": 4,
 "nbformat_minor": 5
}
