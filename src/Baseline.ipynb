{
 "cells": [
  {
   "cell_type": "markdown",
   "id": "b38116c4",
   "metadata": {},
   "source": [
    "# Import library"
   ]
  },
  {
   "cell_type": "code",
   "execution_count": 1,
   "id": "cd0f86d1",
   "metadata": {},
   "outputs": [],
   "source": [
    "# 기본 패키지\n",
    "import numpy as np\n",
    "import pandas as pd\n",
    "\n",
    "# 경고 무시\n",
    "import warnings\n",
    "warnings.filterwarnings(action='ignore')\n",
    "\n",
    "# 시각화 패키지\n",
    "%matplotlib inline\n",
    "import seaborn as sns\n",
    "import matplotlib.pyplot as plt\n",
    "from matplotlib import font_manager, rc\n",
    "\n",
    "# 한글폰트 설정\n",
    "import platform\n",
    "your_os = platform.system()\n",
    "if your_os == 'Linux':\n",
    "    rc('font', family='NanumGothic')\n",
    "elif your_os == 'Windows':\n",
    "    ttf = \"c:/Windows/Fonts/malgun.ttf\"\n",
    "    font_name = font_manager.FontProperties(fname=ttf).get_name()\n",
    "    rc('font', family=font_name)\n",
    "elif your_os == 'Darwin':\n",
    "    rc('font', family='AppleGothic')\n",
    "rc('axes', unicode_minus=False)\n",
    "\n",
    "# 데이터 경로 설정\n",
    "data_path = '../data/LPOINT_BIG_COMP/LPOINT_BIG_COMP_'"
   ]
  },
  {
   "cell_type": "markdown",
   "id": "3cc060d8",
   "metadata": {},
   "source": [
    "# Data Load"
   ]
  },
  {
   "cell_type": "code",
   "execution_count": 2,
   "id": "69f209c7",
   "metadata": {},
   "outputs": [],
   "source": [
    "# 데이터 불러오기\n",
    "demo = pd.read_csv(data_path + '01_DEMO.csv', low_memory=False)\n",
    "pdde = pd.read_csv(data_path + '02_PDDE.csv', low_memory=False)\n",
    "cop = pd.read_csv(data_path + '03_COP_U.csv', low_memory=False)\n",
    "clac = pd.read_csv(data_path + '04_PD_CLAC.csv', low_memory=False)\n",
    "br = pd.read_csv(data_path + '05_BR.csv', low_memory=False)\n",
    "lpay = pd.read_csv(data_path + '06_LPAY.csv', low_memory=False)"
   ]
  },
  {
   "cell_type": "markdown",
   "id": "57443fd7",
   "metadata": {},
   "source": [
    "# Data Preprocessing"
   ]
  },
  {
   "cell_type": "code",
   "execution_count": 3,
   "id": "6c2a8979",
   "metadata": {},
   "outputs": [],
   "source": [
    "# Column명 변경\n",
    "demo.columns = ['고객번호', '성별', '연령대', '거주지대분류코드']\n",
    "pdde.columns = ['고객번호', '영수증번호', '채널구분', '제휴사', '점포코드', '상품코드', '구매일자', '구매시간', '구매금액', '구매수량']\n",
    "cop.columns = ['고객번호', '영수증번호', '제휴사', '점포코드', '채널구분', '이용일자', '방문일자', '이용시간', '이용금액']\n",
    "clac.columns = ['상품코드', '소분류명', '대분류명', '중분류명']\n",
    "br.columns = ['점포코드', '제휴사', '점포대분류코드', '점포중분류코드']\n",
    "lpay.columns = ['고객번호', '영수증번호', '제휴사', '채널구분', '이용일자', '이용시간', '이용금액']"
   ]
  },
  {
   "cell_type": "markdown",
   "id": "2dc02e7b",
   "metadata": {},
   "source": [
    "### [1. demo]: Demo"
   ]
  },
  {
   "cell_type": "code",
   "execution_count": 4,
   "id": "3a8275d3",
   "metadata": {},
   "outputs": [
    {
     "data": {
      "text/html": [
       "<div>\n",
       "<style scoped>\n",
       "    .dataframe tbody tr th:only-of-type {\n",
       "        vertical-align: middle;\n",
       "    }\n",
       "\n",
       "    .dataframe tbody tr th {\n",
       "        vertical-align: top;\n",
       "    }\n",
       "\n",
       "    .dataframe thead th {\n",
       "        text-align: right;\n",
       "    }\n",
       "</style>\n",
       "<table border=\"1\" class=\"dataframe\">\n",
       "  <thead>\n",
       "    <tr style=\"text-align: right;\">\n",
       "      <th></th>\n",
       "      <th>고객번호</th>\n",
       "      <th>성별</th>\n",
       "      <th>연령대</th>\n",
       "      <th>거주지대분류코드</th>\n",
       "    </tr>\n",
       "  </thead>\n",
       "  <tbody>\n",
       "    <tr>\n",
       "      <th>0</th>\n",
       "      <td>M000034966</td>\n",
       "      <td>여성</td>\n",
       "      <td>40대</td>\n",
       "      <td>Z07</td>\n",
       "    </tr>\n",
       "    <tr>\n",
       "      <th>1</th>\n",
       "      <td>M000059535</td>\n",
       "      <td>여성</td>\n",
       "      <td>30대</td>\n",
       "      <td>Z12</td>\n",
       "    </tr>\n",
       "    <tr>\n",
       "      <th>2</th>\n",
       "      <td>M000136117</td>\n",
       "      <td>여성</td>\n",
       "      <td>30대</td>\n",
       "      <td>Z11</td>\n",
       "    </tr>\n",
       "    <tr>\n",
       "      <th>3</th>\n",
       "      <td>M000201112</td>\n",
       "      <td>여성</td>\n",
       "      <td>50대</td>\n",
       "      <td>Z17</td>\n",
       "    </tr>\n",
       "    <tr>\n",
       "      <th>4</th>\n",
       "      <td>M000225114</td>\n",
       "      <td>여성</td>\n",
       "      <td>40대</td>\n",
       "      <td>Z17</td>\n",
       "    </tr>\n",
       "    <tr>\n",
       "      <th>...</th>\n",
       "      <td>...</td>\n",
       "      <td>...</td>\n",
       "      <td>...</td>\n",
       "      <td>...</td>\n",
       "    </tr>\n",
       "    <tr>\n",
       "      <th>29908</th>\n",
       "      <td>M999708287</td>\n",
       "      <td>여성</td>\n",
       "      <td>40대</td>\n",
       "      <td>Z10</td>\n",
       "    </tr>\n",
       "    <tr>\n",
       "      <th>29909</th>\n",
       "      <td>M999770689</td>\n",
       "      <td>여성</td>\n",
       "      <td>30대</td>\n",
       "      <td>Z16</td>\n",
       "    </tr>\n",
       "    <tr>\n",
       "      <th>29910</th>\n",
       "      <td>M999849895</td>\n",
       "      <td>여성</td>\n",
       "      <td>20대</td>\n",
       "      <td>Z04</td>\n",
       "    </tr>\n",
       "    <tr>\n",
       "      <th>29911</th>\n",
       "      <td>M999926092</td>\n",
       "      <td>남성</td>\n",
       "      <td>30대</td>\n",
       "      <td>Z08</td>\n",
       "    </tr>\n",
       "    <tr>\n",
       "      <th>29912</th>\n",
       "      <td>M999962961</td>\n",
       "      <td>여성</td>\n",
       "      <td>50대</td>\n",
       "      <td>Z17</td>\n",
       "    </tr>\n",
       "  </tbody>\n",
       "</table>\n",
       "<p>29913 rows × 4 columns</p>\n",
       "</div>"
      ],
      "text/plain": [
       "             고객번호  성별  연령대 거주지대분류코드\n",
       "0      M000034966  여성  40대      Z07\n",
       "1      M000059535  여성  30대      Z12\n",
       "2      M000136117  여성  30대      Z11\n",
       "3      M000201112  여성  50대      Z17\n",
       "4      M000225114  여성  40대      Z17\n",
       "...           ...  ..  ...      ...\n",
       "29908  M999708287  여성  40대      Z10\n",
       "29909  M999770689  여성  30대      Z16\n",
       "29910  M999849895  여성  20대      Z04\n",
       "29911  M999926092  남성  30대      Z08\n",
       "29912  M999962961  여성  50대      Z17\n",
       "\n",
       "[29913 rows x 4 columns]"
      ]
     },
     "execution_count": 4,
     "metadata": {},
     "output_type": "execute_result"
    }
   ],
   "source": [
    "demo"
   ]
  },
  {
   "cell_type": "code",
   "execution_count": 5,
   "id": "90584da6",
   "metadata": {},
   "outputs": [
    {
     "name": "stdout",
     "output_type": "stream",
     "text": [
      "<class 'pandas.core.frame.DataFrame'>\n",
      "RangeIndex: 29913 entries, 0 to 29912\n",
      "Data columns (total 4 columns):\n",
      " #   Column    Non-Null Count  Dtype \n",
      "---  ------    --------------  ----- \n",
      " 0   고객번호      29913 non-null  object\n",
      " 1   성별        29913 non-null  object\n",
      " 2   연령대       29913 non-null  object\n",
      " 3   거주지대분류코드  29913 non-null  object\n",
      "dtypes: object(4)\n",
      "memory usage: 934.9+ KB\n"
     ]
    }
   ],
   "source": [
    "# 데이터 타입 확인\n",
    "demo.info()"
   ]
  },
  {
   "cell_type": "code",
   "execution_count": 6,
   "id": "90f11dd7",
   "metadata": {},
   "outputs": [
    {
     "data": {
      "text/plain": [
       "고객번호        0\n",
       "성별          0\n",
       "연령대         0\n",
       "거주지대분류코드    0\n",
       "dtype: int64"
      ]
     },
     "execution_count": 6,
     "metadata": {},
     "output_type": "execute_result"
    }
   ],
   "source": [
    "# 결측치 확인\n",
    "demo.isna().sum()"
   ]
  },
  {
   "cell_type": "code",
   "execution_count": 7,
   "id": "085e5ad1",
   "metadata": {},
   "outputs": [
    {
     "data": {
      "text/plain": [
       "고객번호        29913\n",
       "성별              2\n",
       "연령대             6\n",
       "거주지대분류코드       17\n",
       "dtype: int64"
      ]
     },
     "execution_count": 7,
     "metadata": {},
     "output_type": "execute_result"
    }
   ],
   "source": [
    "# 데이터 갯수 확인\n",
    "demo.nunique()"
   ]
  },
  {
   "cell_type": "code",
   "execution_count": 8,
   "id": "07a934e3",
   "metadata": {},
   "outputs": [
    {
     "data": {
      "image/png": "[encoded data removed]",
      "text/plain": [
       "<Figure size 504x288 with 1 Axes>"
      ]
     },
     "metadata": {
      "needs_background": "light"
     },
     "output_type": "display_data"
    }
   ],
   "source": [
    "# 성별\n",
    "plt.figure(figsize = (7, 4))\n",
    "sns.countplot(x='성별', data=demo)\n",
    "plt.show()"
   ]
  },
  {
   "cell_type": "code",
   "execution_count": 9,
   "id": "378ec7be",
   "metadata": {},
   "outputs": [
    {
     "data": {
      "image/png": "[encoded data removed]",
      "text/plain": [
       "<Figure size 504x288 with 1 Axes>"
      ]
     },
     "metadata": {
      "needs_background": "light"
     },
     "output_type": "display_data"
    }
   ],
   "source": [
    "# 연령대\n",
    "plt.figure(figsize = (7, 4))\n",
    "sns.countplot(x='연령대', data=demo)\n",
    "plt.show()"
   ]
  },
  {
   "cell_type": "code",
   "execution_count": 10,
   "id": "bffa475c",
   "metadata": {},
   "outputs": [
    {
     "data": {
      "image/png": "[encoded data removed]",
      "text/plain": [
       "<Figure size 504x288 with 1 Axes>"
      ]
     },
     "metadata": {
      "needs_background": "light"
     },
     "output_type": "display_data"
    }
   ],
   "source": [
    "# 거주지대분류코드\n",
    "plt.figure(figsize = (7, 4))\n",
    "sns.countplot(x='거주지대분류코드', data=demo)\n",
    "plt.show()"
   ]
  },
  {
   "cell_type": "markdown",
   "id": "d69bb365",
   "metadata": {},
   "source": [
    "### [2. pdde]: 상품 구매 정보"
   ]
  },
  {
   "cell_type": "code",
   "execution_count": 11,
   "id": "f05c320a",
   "metadata": {},
   "outputs": [
    {
     "data": {
      "text/html": [
       "<div>\n",
       "<style scoped>\n",
       "    .dataframe tbody tr th:only-of-type {\n",
       "        vertical-align: middle;\n",
       "    }\n",
       "\n",
       "    .dataframe tbody tr th {\n",
       "        vertical-align: top;\n",
       "    }\n",
       "\n",
       "    .dataframe thead th {\n",
       "        text-align: right;\n",
       "    }\n",
       "</style>\n",
       "<table border=\"1\" class=\"dataframe\">\n",
       "  <thead>\n",
       "    <tr style=\"text-align: right;\">\n",
       "      <th></th>\n",
       "      <th>고객번호</th>\n",
       "      <th>영수증번호</th>\n",
       "      <th>채널구분</th>\n",
       "      <th>제휴사</th>\n",
       "      <th>점포코드</th>\n",
       "      <th>상품코드</th>\n",
       "      <th>구매일자</th>\n",
       "      <th>구매시간</th>\n",
       "      <th>구매금액</th>\n",
       "      <th>구매수량</th>\n",
       "    </tr>\n",
       "  </thead>\n",
       "  <tbody>\n",
       "    <tr>\n",
       "      <th>0</th>\n",
       "      <td>M430112881</td>\n",
       "      <td>A01000001113</td>\n",
       "      <td>1</td>\n",
       "      <td>A01</td>\n",
       "      <td>A010039</td>\n",
       "      <td>PD0290</td>\n",
       "      <td>20210101</td>\n",
       "      <td>10</td>\n",
       "      <td>15000.0</td>\n",
       "      <td>1</td>\n",
       "    </tr>\n",
       "    <tr>\n",
       "      <th>1</th>\n",
       "      <td>M646853852</td>\n",
       "      <td>A01000002265</td>\n",
       "      <td>1</td>\n",
       "      <td>A01</td>\n",
       "      <td>A010025</td>\n",
       "      <td>PD1369</td>\n",
       "      <td>20210101</td>\n",
       "      <td>10</td>\n",
       "      <td>79700.0</td>\n",
       "      <td>1</td>\n",
       "    </tr>\n",
       "    <tr>\n",
       "      <th>2</th>\n",
       "      <td>M430112881</td>\n",
       "      <td>A01000003148</td>\n",
       "      <td>1</td>\n",
       "      <td>A01</td>\n",
       "      <td>A010039</td>\n",
       "      <td>PD0290</td>\n",
       "      <td>20210101</td>\n",
       "      <td>10</td>\n",
       "      <td>19000.0</td>\n",
       "      <td>1</td>\n",
       "    </tr>\n",
       "    <tr>\n",
       "      <th>3</th>\n",
       "      <td>M430112881</td>\n",
       "      <td>A01000003148</td>\n",
       "      <td>1</td>\n",
       "      <td>A01</td>\n",
       "      <td>A010039</td>\n",
       "      <td>PD0290</td>\n",
       "      <td>20210101</td>\n",
       "      <td>10</td>\n",
       "      <td>19000.0</td>\n",
       "      <td>1</td>\n",
       "    </tr>\n",
       "    <tr>\n",
       "      <th>4</th>\n",
       "      <td>M430112881</td>\n",
       "      <td>A01000004946</td>\n",
       "      <td>1</td>\n",
       "      <td>A01</td>\n",
       "      <td>A010039</td>\n",
       "      <td>PD0290</td>\n",
       "      <td>20210101</td>\n",
       "      <td>10</td>\n",
       "      <td>19000.0</td>\n",
       "      <td>1</td>\n",
       "    </tr>\n",
       "    <tr>\n",
       "      <th>...</th>\n",
       "      <td>...</td>\n",
       "      <td>...</td>\n",
       "      <td>...</td>\n",
       "      <td>...</td>\n",
       "      <td>...</td>\n",
       "      <td>...</td>\n",
       "      <td>...</td>\n",
       "      <td>...</td>\n",
       "      <td>...</td>\n",
       "      <td>...</td>\n",
       "    </tr>\n",
       "    <tr>\n",
       "      <th>4381738</th>\n",
       "      <td>M533286446</td>\n",
       "      <td>E06052119978</td>\n",
       "      <td>2</td>\n",
       "      <td>A06</td>\n",
       "      <td>NaN</td>\n",
       "      <td>PD0507</td>\n",
       "      <td>20211231</td>\n",
       "      <td>23</td>\n",
       "      <td>50000.0</td>\n",
       "      <td>1</td>\n",
       "    </tr>\n",
       "    <tr>\n",
       "      <th>4381739</th>\n",
       "      <td>M533286446</td>\n",
       "      <td>E06052119978</td>\n",
       "      <td>2</td>\n",
       "      <td>A06</td>\n",
       "      <td>NaN</td>\n",
       "      <td>PD0507</td>\n",
       "      <td>20211231</td>\n",
       "      <td>23</td>\n",
       "      <td>50000.0</td>\n",
       "      <td>1</td>\n",
       "    </tr>\n",
       "    <tr>\n",
       "      <th>4381740</th>\n",
       "      <td>M533286446</td>\n",
       "      <td>E06052119978</td>\n",
       "      <td>2</td>\n",
       "      <td>A06</td>\n",
       "      <td>NaN</td>\n",
       "      <td>PD0507</td>\n",
       "      <td>20211231</td>\n",
       "      <td>23</td>\n",
       "      <td>50000.0</td>\n",
       "      <td>1</td>\n",
       "    </tr>\n",
       "    <tr>\n",
       "      <th>4381741</th>\n",
       "      <td>M533286446</td>\n",
       "      <td>E06052119978</td>\n",
       "      <td>2</td>\n",
       "      <td>A06</td>\n",
       "      <td>NaN</td>\n",
       "      <td>PD0507</td>\n",
       "      <td>20211231</td>\n",
       "      <td>23</td>\n",
       "      <td>50000.0</td>\n",
       "      <td>1</td>\n",
       "    </tr>\n",
       "    <tr>\n",
       "      <th>4381742</th>\n",
       "      <td>M533286446</td>\n",
       "      <td>E06052119978</td>\n",
       "      <td>2</td>\n",
       "      <td>A06</td>\n",
       "      <td>NaN</td>\n",
       "      <td>PD0507</td>\n",
       "      <td>20211231</td>\n",
       "      <td>23</td>\n",
       "      <td>50000.0</td>\n",
       "      <td>1</td>\n",
       "    </tr>\n",
       "  </tbody>\n",
       "</table>\n",
       "<p>4381743 rows × 10 columns</p>\n",
       "</div>"
      ],
      "text/plain": [
       "               고객번호         영수증번호  채널구분  제휴사     점포코드    상품코드      구매일자  구매시간  \\\n",
       "0        M430112881  A01000001113     1  A01  A010039  PD0290  20210101    10   \n",
       "1        M646853852  A01000002265     1  A01  A010025  PD1369  20210101    10   \n",
       "2        M430112881  A01000003148     1  A01  A010039  PD0290  20210101    10   \n",
       "3        M430112881  A01000003148     1  A01  A010039  PD0290  20210101    10   \n",
       "4        M430112881  A01000004946     1  A01  A010039  PD0290  20210101    10   \n",
       "...             ...           ...   ...  ...      ...     ...       ...   ...   \n",
       "4381738  M533286446  E06052119978     2  A06      NaN  PD0507  20211231    23   \n",
       "4381739  M533286446  E06052119978     2  A06      NaN  PD0507  20211231    23   \n",
       "4381740  M533286446  E06052119978     2  A06      NaN  PD0507  20211231    23   \n",
       "4381741  M533286446  E06052119978     2  A06      NaN  PD0507  20211231    23   \n",
       "4381742  M533286446  E06052119978     2  A06      NaN  PD0507  20211231    23   \n",
       "\n",
       "            구매금액  구매수량  \n",
       "0        15000.0     1  \n",
       "1        79700.0     1  \n",
       "2        19000.0     1  \n",
       "3        19000.0     1  \n",
       "4        19000.0     1  \n",
       "...          ...   ...  \n",
       "4381738  50000.0     1  \n",
       "4381739  50000.0     1  \n",
       "4381740  50000.0     1  \n",
       "4381741  50000.0     1  \n",
       "4381742  50000.0     1  \n",
       "\n",
       "[4381743 rows x 10 columns]"
      ]
     },
     "execution_count": 11,
     "metadata": {},
     "output_type": "execute_result"
    }
   ],
   "source": [
    "pdde"
   ]
  },
  {
   "cell_type": "code",
   "execution_count": 12,
   "id": "f53bb6fa",
   "metadata": {},
   "outputs": [],
   "source": [
    "# 중복되는 행 제거\n",
    "pdde.drop_duplicates(subset=None, keep='first', inplace=True, ignore_index=False)"
   ]
  },
  {
   "cell_type": "code",
   "execution_count": 13,
   "id": "d1867cb7",
   "metadata": {},
   "outputs": [
    {
     "data": {
      "text/html": [
       "<div>\n",
       "<style scoped>\n",
       "    .dataframe tbody tr th:only-of-type {\n",
       "        vertical-align: middle;\n",
       "    }\n",
       "\n",
       "    .dataframe tbody tr th {\n",
       "        vertical-align: top;\n",
       "    }\n",
       "\n",
       "    .dataframe thead th {\n",
       "        text-align: right;\n",
       "    }\n",
       "</style>\n",
       "<table border=\"1\" class=\"dataframe\">\n",
       "  <thead>\n",
       "    <tr style=\"text-align: right;\">\n",
       "      <th></th>\n",
       "      <th>고객번호</th>\n",
       "      <th>영수증번호</th>\n",
       "      <th>채널구분</th>\n",
       "      <th>제휴사</th>\n",
       "      <th>점포코드</th>\n",
       "      <th>상품코드</th>\n",
       "      <th>구매일자</th>\n",
       "      <th>구매시간</th>\n",
       "      <th>구매금액</th>\n",
       "      <th>구매수량</th>\n",
       "    </tr>\n",
       "  </thead>\n",
       "  <tbody>\n",
       "    <tr>\n",
       "      <th>0</th>\n",
       "      <td>M430112881</td>\n",
       "      <td>A01000001113</td>\n",
       "      <td>1</td>\n",
       "      <td>A01</td>\n",
       "      <td>A010039</td>\n",
       "      <td>PD0290</td>\n",
       "      <td>20210101</td>\n",
       "      <td>10</td>\n",
       "      <td>15000.0</td>\n",
       "      <td>1</td>\n",
       "    </tr>\n",
       "    <tr>\n",
       "      <th>1</th>\n",
       "      <td>M646853852</td>\n",
       "      <td>A01000002265</td>\n",
       "      <td>1</td>\n",
       "      <td>A01</td>\n",
       "      <td>A010025</td>\n",
       "      <td>PD1369</td>\n",
       "      <td>20210101</td>\n",
       "      <td>10</td>\n",
       "      <td>79700.0</td>\n",
       "      <td>1</td>\n",
       "    </tr>\n",
       "    <tr>\n",
       "      <th>2</th>\n",
       "      <td>M430112881</td>\n",
       "      <td>A01000003148</td>\n",
       "      <td>1</td>\n",
       "      <td>A01</td>\n",
       "      <td>A010039</td>\n",
       "      <td>PD0290</td>\n",
       "      <td>20210101</td>\n",
       "      <td>10</td>\n",
       "      <td>19000.0</td>\n",
       "      <td>1</td>\n",
       "    </tr>\n",
       "    <tr>\n",
       "      <th>4</th>\n",
       "      <td>M430112881</td>\n",
       "      <td>A01000004946</td>\n",
       "      <td>1</td>\n",
       "      <td>A01</td>\n",
       "      <td>A010039</td>\n",
       "      <td>PD0290</td>\n",
       "      <td>20210101</td>\n",
       "      <td>10</td>\n",
       "      <td>19000.0</td>\n",
       "      <td>1</td>\n",
       "    </tr>\n",
       "    <tr>\n",
       "      <th>5</th>\n",
       "      <td>M430112881</td>\n",
       "      <td>A01000005297</td>\n",
       "      <td>1</td>\n",
       "      <td>A01</td>\n",
       "      <td>A010039</td>\n",
       "      <td>PD1692</td>\n",
       "      <td>20210101</td>\n",
       "      <td>10</td>\n",
       "      <td>9900.0</td>\n",
       "      <td>1</td>\n",
       "    </tr>\n",
       "    <tr>\n",
       "      <th>...</th>\n",
       "      <td>...</td>\n",
       "      <td>...</td>\n",
       "      <td>...</td>\n",
       "      <td>...</td>\n",
       "      <td>...</td>\n",
       "      <td>...</td>\n",
       "      <td>...</td>\n",
       "      <td>...</td>\n",
       "      <td>...</td>\n",
       "      <td>...</td>\n",
       "    </tr>\n",
       "    <tr>\n",
       "      <th>4381723</th>\n",
       "      <td>M816318679</td>\n",
       "      <td>E06052115831</td>\n",
       "      <td>2</td>\n",
       "      <td>A06</td>\n",
       "      <td>NaN</td>\n",
       "      <td>PD0507</td>\n",
       "      <td>20211231</td>\n",
       "      <td>22</td>\n",
       "      <td>50000.0</td>\n",
       "      <td>1</td>\n",
       "    </tr>\n",
       "    <tr>\n",
       "      <th>4381724</th>\n",
       "      <td>M816318679</td>\n",
       "      <td>E06052116037</td>\n",
       "      <td>2</td>\n",
       "      <td>A06</td>\n",
       "      <td>NaN</td>\n",
       "      <td>PD0507</td>\n",
       "      <td>20211231</td>\n",
       "      <td>22</td>\n",
       "      <td>10000.0</td>\n",
       "      <td>1</td>\n",
       "    </tr>\n",
       "    <tr>\n",
       "      <th>4381727</th>\n",
       "      <td>M182645944</td>\n",
       "      <td>E06052117103</td>\n",
       "      <td>2</td>\n",
       "      <td>A06</td>\n",
       "      <td>NaN</td>\n",
       "      <td>PD0294</td>\n",
       "      <td>20211231</td>\n",
       "      <td>23</td>\n",
       "      <td>289000.0</td>\n",
       "      <td>1</td>\n",
       "    </tr>\n",
       "    <tr>\n",
       "      <th>4381728</th>\n",
       "      <td>M533286446</td>\n",
       "      <td>E06052118403</td>\n",
       "      <td>2</td>\n",
       "      <td>A06</td>\n",
       "      <td>NaN</td>\n",
       "      <td>PD0507</td>\n",
       "      <td>20211231</td>\n",
       "      <td>23</td>\n",
       "      <td>200000.0</td>\n",
       "      <td>1</td>\n",
       "    </tr>\n",
       "    <tr>\n",
       "      <th>4381733</th>\n",
       "      <td>M533286446</td>\n",
       "      <td>E06052119978</td>\n",
       "      <td>2</td>\n",
       "      <td>A06</td>\n",
       "      <td>NaN</td>\n",
       "      <td>PD0507</td>\n",
       "      <td>20211231</td>\n",
       "      <td>23</td>\n",
       "      <td>50000.0</td>\n",
       "      <td>1</td>\n",
       "    </tr>\n",
       "  </tbody>\n",
       "</table>\n",
       "<p>4144389 rows × 10 columns</p>\n",
       "</div>"
      ],
      "text/plain": [
       "               고객번호         영수증번호  채널구분  제휴사     점포코드    상품코드      구매일자  구매시간  \\\n",
       "0        M430112881  A01000001113     1  A01  A010039  PD0290  20210101    10   \n",
       "1        M646853852  A01000002265     1  A01  A010025  PD1369  20210101    10   \n",
       "2        M430112881  A01000003148     1  A01  A010039  PD0290  20210101    10   \n",
       "4        M430112881  A01000004946     1  A01  A010039  PD0290  20210101    10   \n",
       "5        M430112881  A01000005297     1  A01  A010039  PD1692  20210101    10   \n",
       "...             ...           ...   ...  ...      ...     ...       ...   ...   \n",
       "4381723  M816318679  E06052115831     2  A06      NaN  PD0507  20211231    22   \n",
       "4381724  M816318679  E06052116037     2  A06      NaN  PD0507  20211231    22   \n",
       "4381727  M182645944  E06052117103     2  A06      NaN  PD0294  20211231    23   \n",
       "4381728  M533286446  E06052118403     2  A06      NaN  PD0507  20211231    23   \n",
       "4381733  M533286446  E06052119978     2  A06      NaN  PD0507  20211231    23   \n",
       "\n",
       "             구매금액  구매수량  \n",
       "0         15000.0     1  \n",
       "1         79700.0     1  \n",
       "2         19000.0     1  \n",
       "4         19000.0     1  \n",
       "5          9900.0     1  \n",
       "...           ...   ...  \n",
       "4381723   50000.0     1  \n",
       "4381724   10000.0     1  \n",
       "4381727  289000.0     1  \n",
       "4381728  200000.0     1  \n",
       "4381733   50000.0     1  \n",
       "\n",
       "[4144389 rows x 10 columns]"
      ]
     },
     "execution_count": 13,
     "metadata": {},
     "output_type": "execute_result"
    }
   ],
   "source": [
    "pdde"
   ]
  },
  {
   "cell_type": "code",
   "execution_count": 14,
   "id": "90584da6",
   "metadata": {},
   "outputs": [
    {
     "name": "stdout",
     "output_type": "stream",
     "text": [
      "<class 'pandas.core.frame.DataFrame'>\n",
      "Int64Index: 4144389 entries, 0 to 4381733\n",
      "Data columns (total 10 columns):\n",
      " #   Column  Dtype  \n",
      "---  ------  -----  \n",
      " 0   고객번호    object \n",
      " 1   영수증번호   object \n",
      " 2   채널구분    int64  \n",
      " 3   제휴사     object \n",
      " 4   점포코드    object \n",
      " 5   상품코드    object \n",
      " 6   구매일자    int64  \n",
      " 7   구매시간    int64  \n",
      " 8   구매금액    float64\n",
      " 9   구매수량    int64  \n",
      "dtypes: float64(1), int64(4), object(5)\n",
      "memory usage: 347.8+ MB\n"
     ]
    }
   ],
   "source": [
    "# 데이터 타입 확인\n",
    "pdde.info()"
   ]
  },
  {
   "cell_type": "code",
   "execution_count": 15,
   "id": "90f11dd7",
   "metadata": {},
   "outputs": [
    {
     "data": {
      "text/plain": [
       "고객번호          0\n",
       "영수증번호         0\n",
       "채널구분          0\n",
       "제휴사           0\n",
       "점포코드     375784\n",
       "상품코드          0\n",
       "구매일자          0\n",
       "구매시간          0\n",
       "구매금액          0\n",
       "구매수량          0\n",
       "dtype: int64"
      ]
     },
     "execution_count": 15,
     "metadata": {},
     "output_type": "execute_result"
    }
   ],
   "source": [
    "# 결측치 확인\n",
    "pdde.isna().sum()"
   ]
  },
  {
   "cell_type": "code",
   "execution_count": 16,
   "id": "e173d4d2",
   "metadata": {},
   "outputs": [
    {
     "data": {
      "text/plain": [
       "array([2])"
      ]
     },
     "execution_count": 16,
     "metadata": {},
     "output_type": "execute_result"
    }
   ],
   "source": [
    "# 상품 구매 정보 테이블 내에 점포 코드 결측치는 온라인으로 주문한 것을 확인할 수 있음. 온라인으로 주문한 뒤에 택배로 수령\n",
    "pdde[pdde['점포코드'].isna()]['채널구분'].unique()"
   ]
  },
  {
   "cell_type": "code",
   "execution_count": 17,
   "id": "b65794d6",
   "metadata": {},
   "outputs": [],
   "source": [
    "# 결측치 치환\n",
    "pdde['점포코드'] = pdde['점포코드'].fillna('온라인')"
   ]
  },
  {
   "cell_type": "code",
   "execution_count": 18,
   "id": "085e5ad1",
   "metadata": {},
   "outputs": [
    {
     "data": {
      "text/plain": [
       "고객번호       26917\n",
       "영수증번호    1266589\n",
       "채널구분           2\n",
       "제휴사            6\n",
       "점포코드        6756\n",
       "상품코드        1933\n",
       "구매일자         365\n",
       "구매시간          24\n",
       "구매금액       33791\n",
       "구매수량          85\n",
       "dtype: int64"
      ]
     },
     "execution_count": 18,
     "metadata": {},
     "output_type": "execute_result"
    }
   ],
   "source": [
    "# 데이터 갯수 확인\n",
    "pdde.nunique()"
   ]
  },
  {
   "cell_type": "code",
   "execution_count": 19,
   "id": "c20ff9aa",
   "metadata": {},
   "outputs": [
    {
     "data": {
      "image/png": "[encoded data removed]",
      "text/plain": [
       "<Figure size 504x288 with 1 Axes>"
      ]
     },
     "metadata": {
      "needs_background": "light"
     },
     "output_type": "display_data"
    }
   ],
   "source": [
    "# 채널구분\n",
    "plt.figure(figsize = (7, 4))\n",
    "sns.countplot(x='채널구분', data=pdde)\n",
    "plt.show()"
   ]
  },
  {
   "cell_type": "code",
   "execution_count": 20,
   "id": "6b6f460f",
   "metadata": {},
   "outputs": [
    {
     "data": {
      "image/png": "[encoded data removed]",
      "text/plain": [
       "<Figure size 504x288 with 1 Axes>"
      ]
     },
     "metadata": {
      "needs_background": "light"
     },
     "output_type": "display_data"
    }
   ],
   "source": [
    "# 제휴사\n",
    "plt.figure(figsize = (7, 4))\n",
    "sns.countplot(x='제휴사', data=pdde)\n",
    "plt.show()"
   ]
  },
  {
   "cell_type": "code",
   "execution_count": 21,
   "id": "6c5fd6b0",
   "metadata": {},
   "outputs": [
    {
     "data": {
      "image/png": "[encoded data removed]",
      "text/plain": [
       "<Figure size 504x288 with 1 Axes>"
      ]
     },
     "metadata": {
      "needs_background": "light"
     },
     "output_type": "display_data"
    }
   ],
   "source": [
    "# 구매시간\n",
    "plt.figure(figsize = (7, 4))\n",
    "sns.countplot(x='구매시간', data=pdde)\n",
    "plt.show()"
   ]
  },
  {
   "cell_type": "markdown",
   "id": "ca6088d3",
   "metadata": {},
   "source": [
    "### [3. cop]: 제휴사 이용 정보"
   ]
  },
  {
   "cell_type": "code",
   "execution_count": 22,
   "id": "7cbfcb86",
   "metadata": {},
   "outputs": [
    {
     "data": {
      "text/html": [
       "<div>\n",
       "<style scoped>\n",
       "    .dataframe tbody tr th:only-of-type {\n",
       "        vertical-align: middle;\n",
       "    }\n",
       "\n",
       "    .dataframe tbody tr th {\n",
       "        vertical-align: top;\n",
       "    }\n",
       "\n",
       "    .dataframe thead th {\n",
       "        text-align: right;\n",
       "    }\n",
       "</style>\n",
       "<table border=\"1\" class=\"dataframe\">\n",
       "  <thead>\n",
       "    <tr style=\"text-align: right;\">\n",
       "      <th></th>\n",
       "      <th>고객번호</th>\n",
       "      <th>영수증번호</th>\n",
       "      <th>제휴사</th>\n",
       "      <th>점포코드</th>\n",
       "      <th>채널구분</th>\n",
       "      <th>이용일자</th>\n",
       "      <th>방문일자</th>\n",
       "      <th>이용시간</th>\n",
       "      <th>이용금액</th>\n",
       "    </tr>\n",
       "  </thead>\n",
       "  <tbody>\n",
       "    <tr>\n",
       "      <th>0</th>\n",
       "      <td>M839993508</td>\n",
       "      <td>21102612B015763935</td>\n",
       "      <td>B01</td>\n",
       "      <td>B010012</td>\n",
       "      <td>1</td>\n",
       "      <td>20211026</td>\n",
       "      <td>20211026</td>\n",
       "      <td>12</td>\n",
       "      <td>60000</td>\n",
       "    </tr>\n",
       "    <tr>\n",
       "      <th>1</th>\n",
       "      <td>M839993508</td>\n",
       "      <td>21110610B014219744</td>\n",
       "      <td>B01</td>\n",
       "      <td>B010012</td>\n",
       "      <td>1</td>\n",
       "      <td>20211106</td>\n",
       "      <td>20211106</td>\n",
       "      <td>10</td>\n",
       "      <td>17100</td>\n",
       "    </tr>\n",
       "    <tr>\n",
       "      <th>2</th>\n",
       "      <td>M839993508</td>\n",
       "      <td>21021112B013419710</td>\n",
       "      <td>B01</td>\n",
       "      <td>B010012</td>\n",
       "      <td>1</td>\n",
       "      <td>20210211</td>\n",
       "      <td>20210211</td>\n",
       "      <td>12</td>\n",
       "      <td>136500</td>\n",
       "    </tr>\n",
       "    <tr>\n",
       "      <th>3</th>\n",
       "      <td>M839993508</td>\n",
       "      <td>21092010B012637545</td>\n",
       "      <td>B01</td>\n",
       "      <td>B010012</td>\n",
       "      <td>1</td>\n",
       "      <td>20210920</td>\n",
       "      <td>20210920</td>\n",
       "      <td>10</td>\n",
       "      <td>34200</td>\n",
       "    </tr>\n",
       "    <tr>\n",
       "      <th>4</th>\n",
       "      <td>M839993508</td>\n",
       "      <td>21101009D015920171</td>\n",
       "      <td>D01</td>\n",
       "      <td>D010614</td>\n",
       "      <td>1</td>\n",
       "      <td>20211010</td>\n",
       "      <td>20211010</td>\n",
       "      <td>9</td>\n",
       "      <td>2500</td>\n",
       "    </tr>\n",
       "    <tr>\n",
       "      <th>...</th>\n",
       "      <td>...</td>\n",
       "      <td>...</td>\n",
       "      <td>...</td>\n",
       "      <td>...</td>\n",
       "      <td>...</td>\n",
       "      <td>...</td>\n",
       "      <td>...</td>\n",
       "      <td>...</td>\n",
       "      <td>...</td>\n",
       "    </tr>\n",
       "    <tr>\n",
       "      <th>248299</th>\n",
       "      <td>M058650684</td>\n",
       "      <td>21111614C021426818</td>\n",
       "      <td>C02</td>\n",
       "      <td>C020002</td>\n",
       "      <td>1</td>\n",
       "      <td>20211116</td>\n",
       "      <td>20211116</td>\n",
       "      <td>14</td>\n",
       "      <td>2000</td>\n",
       "    </tr>\n",
       "    <tr>\n",
       "      <th>248300</th>\n",
       "      <td>M058650684</td>\n",
       "      <td>21111619C023223432</td>\n",
       "      <td>C02</td>\n",
       "      <td>C020002</td>\n",
       "      <td>1</td>\n",
       "      <td>20211116</td>\n",
       "      <td>20211116</td>\n",
       "      <td>19</td>\n",
       "      <td>26900</td>\n",
       "    </tr>\n",
       "    <tr>\n",
       "      <th>248301</th>\n",
       "      <td>M014154595</td>\n",
       "      <td>21121209C015324520</td>\n",
       "      <td>C01</td>\n",
       "      <td>C010087</td>\n",
       "      <td>2</td>\n",
       "      <td>20211212</td>\n",
       "      <td>20211212</td>\n",
       "      <td>9</td>\n",
       "      <td>2000</td>\n",
       "    </tr>\n",
       "    <tr>\n",
       "      <th>248302</th>\n",
       "      <td>M510878172</td>\n",
       "      <td>21112719C013369102</td>\n",
       "      <td>C01</td>\n",
       "      <td>C010007</td>\n",
       "      <td>2</td>\n",
       "      <td>20211127</td>\n",
       "      <td>20211127</td>\n",
       "      <td>19</td>\n",
       "      <td>6000</td>\n",
       "    </tr>\n",
       "    <tr>\n",
       "      <th>248303</th>\n",
       "      <td>M761634870</td>\n",
       "      <td>21122419C013829696</td>\n",
       "      <td>C01</td>\n",
       "      <td>C010014</td>\n",
       "      <td>2</td>\n",
       "      <td>20211224</td>\n",
       "      <td>20211225</td>\n",
       "      <td>19</td>\n",
       "      <td>28000</td>\n",
       "    </tr>\n",
       "  </tbody>\n",
       "</table>\n",
       "<p>248304 rows × 9 columns</p>\n",
       "</div>"
      ],
      "text/plain": [
       "              고객번호               영수증번호  제휴사     점포코드  채널구분      이용일자  \\\n",
       "0       M839993508  21102612B015763935  B01  B010012     1  20211026   \n",
       "1       M839993508  21110610B014219744  B01  B010012     1  20211106   \n",
       "2       M839993508  21021112B013419710  B01  B010012     1  20210211   \n",
       "3       M839993508  21092010B012637545  B01  B010012     1  20210920   \n",
       "4       M839993508  21101009D015920171  D01  D010614     1  20211010   \n",
       "...            ...                 ...  ...      ...   ...       ...   \n",
       "248299  M058650684  21111614C021426818  C02  C020002     1  20211116   \n",
       "248300  M058650684  21111619C023223432  C02  C020002     1  20211116   \n",
       "248301  M014154595  21121209C015324520  C01  C010087     2  20211212   \n",
       "248302  M510878172  21112719C013369102  C01  C010007     2  20211127   \n",
       "248303  M761634870  21122419C013829696  C01  C010014     2  20211224   \n",
       "\n",
       "            방문일자  이용시간    이용금액  \n",
       "0       20211026    12   60000  \n",
       "1       20211106    10   17100  \n",
       "2       20210211    12  136500  \n",
       "3       20210920    10   34200  \n",
       "4       20211010     9    2500  \n",
       "...          ...   ...     ...  \n",
       "248299  20211116    14    2000  \n",
       "248300  20211116    19   26900  \n",
       "248301  20211212     9    2000  \n",
       "248302  20211127    19    6000  \n",
       "248303  20211225    19   28000  \n",
       "\n",
       "[248304 rows x 9 columns]"
      ]
     },
     "execution_count": 22,
     "metadata": {},
     "output_type": "execute_result"
    }
   ],
   "source": [
    "cop"
   ]
  },
  {
   "cell_type": "code",
   "execution_count": 23,
   "id": "90584da6",
   "metadata": {},
   "outputs": [
    {
     "name": "stdout",
     "output_type": "stream",
     "text": [
      "<class 'pandas.core.frame.DataFrame'>\n",
      "RangeIndex: 248304 entries, 0 to 248303\n",
      "Data columns (total 9 columns):\n",
      " #   Column  Non-Null Count   Dtype \n",
      "---  ------  --------------   ----- \n",
      " 0   고객번호    248304 non-null  object\n",
      " 1   영수증번호   248304 non-null  object\n",
      " 2   제휴사     248304 non-null  object\n",
      " 3   점포코드    248249 non-null  object\n",
      " 4   채널구분    248304 non-null  int64 \n",
      " 5   이용일자    248304 non-null  int64 \n",
      " 6   방문일자    248304 non-null  int64 \n",
      " 7   이용시간    248304 non-null  int64 \n",
      " 8   이용금액    248304 non-null  int64 \n",
      "dtypes: int64(5), object(4)\n",
      "memory usage: 17.0+ MB\n"
     ]
    }
   ],
   "source": [
    "# 데이터 타입 확인\n",
    "cop.info()"
   ]
  },
  {
   "cell_type": "code",
   "execution_count": 24,
   "id": "90f11dd7",
   "metadata": {},
   "outputs": [
    {
     "data": {
      "text/plain": [
       "고객번호      0\n",
       "영수증번호     0\n",
       "제휴사       0\n",
       "점포코드     55\n",
       "채널구분      0\n",
       "이용일자      0\n",
       "방문일자      0\n",
       "이용시간      0\n",
       "이용금액      0\n",
       "dtype: int64"
      ]
     },
     "execution_count": 24,
     "metadata": {},
     "output_type": "execute_result"
    }
   ],
   "source": [
    "# 결측치 확인\n",
    "cop.isna().sum()"
   ]
  },
  {
   "cell_type": "code",
   "execution_count": 25,
   "id": "e173d4d2",
   "metadata": {},
   "outputs": [
    {
     "data": {
      "text/plain": [
       "array([2])"
      ]
     },
     "execution_count": 25,
     "metadata": {},
     "output_type": "execute_result"
    }
   ],
   "source": [
    "# 제휴사 이용 정보 테이블 내에 점포 코드 결측치는 온라인으로 주문한 것을 확인할 수 있음. 온라인으로 주문한 뒤에 택배로 수령\n",
    "cop[cop['점포코드'].isna()]['채널구분'].unique()"
   ]
  },
  {
   "cell_type": "code",
   "execution_count": 26,
   "id": "b65794d6",
   "metadata": {},
   "outputs": [],
   "source": [
    "# 결측치 치환\n",
    "cop['점포코드'] = cop['점포코드'].fillna('온라인')"
   ]
  },
  {
   "cell_type": "code",
   "execution_count": 27,
   "id": "085e5ad1",
   "metadata": {},
   "outputs": [
    {
     "data": {
      "text/plain": [
       "고객번호      21769\n",
       "영수증번호    248304\n",
       "제휴사           6\n",
       "점포코드       2030\n",
       "채널구분          2\n",
       "이용일자        369\n",
       "방문일자        366\n",
       "이용시간         24\n",
       "이용금액       9420\n",
       "dtype: int64"
      ]
     },
     "execution_count": 27,
     "metadata": {},
     "output_type": "execute_result"
    }
   ],
   "source": [
    "# 데이터 갯수 확인\n",
    "cop.nunique()"
   ]
  },
  {
   "cell_type": "code",
   "execution_count": 28,
   "id": "c20ff9aa",
   "metadata": {},
   "outputs": [
    {
     "data": {
      "image/png": "[encoded data removed]",
      "text/plain": [
       "<Figure size 504x288 with 1 Axes>"
      ]
     },
     "metadata": {
      "needs_background": "light"
     },
     "output_type": "display_data"
    }
   ],
   "source": [
    "# 채널구분\n",
    "plt.figure(figsize = (7, 4))\n",
    "sns.countplot(x='채널구분', data=cop)\n",
    "plt.show()"
   ]
  },
  {
   "cell_type": "code",
   "execution_count": 29,
   "id": "6b6f460f",
   "metadata": {},
   "outputs": [
    {
     "data": {
      "image/png": "[encoded data removed]",
      "text/plain": [
       "<Figure size 504x288 with 1 Axes>"
      ]
     },
     "metadata": {
      "needs_background": "light"
     },
     "output_type": "display_data"
    }
   ],
   "source": [
    "# 제휴사\n",
    "plt.figure(figsize = (7, 4))\n",
    "sns.countplot(x='제휴사', data=cop)\n",
    "plt.show()"
   ]
  },
  {
   "cell_type": "code",
   "execution_count": 30,
   "id": "d020ade7",
   "metadata": {},
   "outputs": [
    {
     "data": {
      "image/png": "[encoded data removed]",
      "text/plain": [
       "<Figure size 504x288 with 1 Axes>"
      ]
     },
     "metadata": {
      "needs_background": "light"
     },
     "output_type": "display_data"
    }
   ],
   "source": [
    "# 이용시간\n",
    "plt.figure(figsize = (7, 4))\n",
    "sns.countplot(x='이용시간', data=cop)\n",
    "plt.show()"
   ]
  },
  {
   "cell_type": "markdown",
   "id": "c1ae4cd6",
   "metadata": {},
   "source": [
    "### [4. clac]: 상품 분류 정보"
   ]
  },
  {
   "cell_type": "code",
   "execution_count": 31,
   "id": "e28ce613",
   "metadata": {},
   "outputs": [
    {
     "data": {
      "text/html": [
       "<div>\n",
       "<style scoped>\n",
       "    .dataframe tbody tr th:only-of-type {\n",
       "        vertical-align: middle;\n",
       "    }\n",
       "\n",
       "    .dataframe tbody tr th {\n",
       "        vertical-align: top;\n",
       "    }\n",
       "\n",
       "    .dataframe thead th {\n",
       "        text-align: right;\n",
       "    }\n",
       "</style>\n",
       "<table border=\"1\" class=\"dataframe\">\n",
       "  <thead>\n",
       "    <tr style=\"text-align: right;\">\n",
       "      <th></th>\n",
       "      <th>상품코드</th>\n",
       "      <th>소분류명</th>\n",
       "      <th>대분류명</th>\n",
       "      <th>중분류명</th>\n",
       "    </tr>\n",
       "  </thead>\n",
       "  <tbody>\n",
       "    <tr>\n",
       "      <th>0</th>\n",
       "      <td>PD0001</td>\n",
       "      <td>소파</td>\n",
       "      <td>가구</td>\n",
       "      <td>거실가구</td>\n",
       "    </tr>\n",
       "    <tr>\n",
       "      <th>1</th>\n",
       "      <td>PD0002</td>\n",
       "      <td>스툴/리빙의자</td>\n",
       "      <td>가구</td>\n",
       "      <td>거실가구</td>\n",
       "    </tr>\n",
       "    <tr>\n",
       "      <th>2</th>\n",
       "      <td>PD0003</td>\n",
       "      <td>탁자</td>\n",
       "      <td>가구</td>\n",
       "      <td>거실가구</td>\n",
       "    </tr>\n",
       "    <tr>\n",
       "      <th>3</th>\n",
       "      <td>PD0004</td>\n",
       "      <td>장식장/진열장</td>\n",
       "      <td>가구</td>\n",
       "      <td>거실가구</td>\n",
       "    </tr>\n",
       "    <tr>\n",
       "      <th>4</th>\n",
       "      <td>PD0005</td>\n",
       "      <td>기타가구</td>\n",
       "      <td>가구</td>\n",
       "      <td>기타가구</td>\n",
       "    </tr>\n",
       "    <tr>\n",
       "      <th>...</th>\n",
       "      <td>...</td>\n",
       "      <td>...</td>\n",
       "      <td>...</td>\n",
       "      <td>...</td>\n",
       "    </tr>\n",
       "    <tr>\n",
       "      <th>1928</th>\n",
       "      <td>PD1929</td>\n",
       "      <td>여성향수</td>\n",
       "      <td>화장품/뷰티케어</td>\n",
       "      <td>향수</td>\n",
       "    </tr>\n",
       "    <tr>\n",
       "      <th>1929</th>\n",
       "      <td>PD1930</td>\n",
       "      <td>남성향수</td>\n",
       "      <td>화장품/뷰티케어</td>\n",
       "      <td>향수</td>\n",
       "    </tr>\n",
       "    <tr>\n",
       "      <th>1930</th>\n",
       "      <td>PD1931</td>\n",
       "      <td>남녀공용향수</td>\n",
       "      <td>화장품/뷰티케어</td>\n",
       "      <td>향수</td>\n",
       "    </tr>\n",
       "    <tr>\n",
       "      <th>1931</th>\n",
       "      <td>PD1932</td>\n",
       "      <td>남성향수세트</td>\n",
       "      <td>화장품/뷰티케어</td>\n",
       "      <td>향수</td>\n",
       "    </tr>\n",
       "    <tr>\n",
       "      <th>1932</th>\n",
       "      <td>PD1933</td>\n",
       "      <td>남녀공용향수세트</td>\n",
       "      <td>화장품/뷰티케어</td>\n",
       "      <td>향수</td>\n",
       "    </tr>\n",
       "  </tbody>\n",
       "</table>\n",
       "<p>1933 rows × 4 columns</p>\n",
       "</div>"
      ],
      "text/plain": [
       "        상품코드      소분류명      대분류명  중분류명\n",
       "0     PD0001        소파        가구  거실가구\n",
       "1     PD0002   스툴/리빙의자        가구  거실가구\n",
       "2     PD0003        탁자        가구  거실가구\n",
       "3     PD0004   장식장/진열장        가구  거실가구\n",
       "4     PD0005      기타가구        가구  기타가구\n",
       "...      ...       ...       ...   ...\n",
       "1928  PD1929      여성향수  화장품/뷰티케어    향수\n",
       "1929  PD1930      남성향수  화장품/뷰티케어    향수\n",
       "1930  PD1931    남녀공용향수  화장품/뷰티케어    향수\n",
       "1931  PD1932    남성향수세트  화장품/뷰티케어    향수\n",
       "1932  PD1933  남녀공용향수세트  화장품/뷰티케어    향수\n",
       "\n",
       "[1933 rows x 4 columns]"
      ]
     },
     "execution_count": 31,
     "metadata": {},
     "output_type": "execute_result"
    }
   ],
   "source": [
    "clac"
   ]
  },
  {
   "cell_type": "code",
   "execution_count": 32,
   "id": "90584da6",
   "metadata": {},
   "outputs": [
    {
     "name": "stdout",
     "output_type": "stream",
     "text": [
      "<class 'pandas.core.frame.DataFrame'>\n",
      "RangeIndex: 1933 entries, 0 to 1932\n",
      "Data columns (total 4 columns):\n",
      " #   Column  Non-Null Count  Dtype \n",
      "---  ------  --------------  ----- \n",
      " 0   상품코드    1933 non-null   object\n",
      " 1   소분류명    1933 non-null   object\n",
      " 2   대분류명    1933 non-null   object\n",
      " 3   중분류명    1933 non-null   object\n",
      "dtypes: object(4)\n",
      "memory usage: 60.5+ KB\n"
     ]
    }
   ],
   "source": [
    "# 데이터 타입 확인\n",
    "clac.info()"
   ]
  },
  {
   "cell_type": "code",
   "execution_count": 33,
   "id": "90f11dd7",
   "metadata": {},
   "outputs": [
    {
     "data": {
      "text/plain": [
       "상품코드    0\n",
       "소분류명    0\n",
       "대분류명    0\n",
       "중분류명    0\n",
       "dtype: int64"
      ]
     },
     "execution_count": 33,
     "metadata": {},
     "output_type": "execute_result"
    }
   ],
   "source": [
    "# 결측치 확인\n",
    "clac.isna().sum()"
   ]
  },
  {
   "cell_type": "code",
   "execution_count": 34,
   "id": "085e5ad1",
   "metadata": {},
   "outputs": [
    {
     "data": {
      "text/plain": [
       "상품코드    1933\n",
       "소분류명    1932\n",
       "대분류명      60\n",
       "중분류명     349\n",
       "dtype: int64"
      ]
     },
     "execution_count": 34,
     "metadata": {},
     "output_type": "execute_result"
    }
   ],
   "source": [
    "# 데이터 갯수 확인\n",
    "clac.nunique()"
   ]
  },
  {
   "cell_type": "markdown",
   "id": "7f2c0e73",
   "metadata": {},
   "source": [
    "### [5. br]: 점포 정보"
   ]
  },
  {
   "cell_type": "code",
   "execution_count": 35,
   "id": "b5f87fb6",
   "metadata": {},
   "outputs": [
    {
     "data": {
      "text/html": [
       "<div>\n",
       "<style scoped>\n",
       "    .dataframe tbody tr th:only-of-type {\n",
       "        vertical-align: middle;\n",
       "    }\n",
       "\n",
       "    .dataframe tbody tr th {\n",
       "        vertical-align: top;\n",
       "    }\n",
       "\n",
       "    .dataframe thead th {\n",
       "        text-align: right;\n",
       "    }\n",
       "</style>\n",
       "<table border=\"1\" class=\"dataframe\">\n",
       "  <thead>\n",
       "    <tr style=\"text-align: right;\">\n",
       "      <th></th>\n",
       "      <th>점포코드</th>\n",
       "      <th>제휴사</th>\n",
       "      <th>점포대분류코드</th>\n",
       "      <th>점포중분류코드</th>\n",
       "    </tr>\n",
       "  </thead>\n",
       "  <tbody>\n",
       "    <tr>\n",
       "      <th>0</th>\n",
       "      <td>A010001</td>\n",
       "      <td>A01</td>\n",
       "      <td>Z17</td>\n",
       "      <td>Z17024</td>\n",
       "    </tr>\n",
       "    <tr>\n",
       "      <th>1</th>\n",
       "      <td>A010002</td>\n",
       "      <td>A01</td>\n",
       "      <td>Z17</td>\n",
       "      <td>Z17018</td>\n",
       "    </tr>\n",
       "    <tr>\n",
       "      <th>2</th>\n",
       "      <td>A010003</td>\n",
       "      <td>A01</td>\n",
       "      <td>Z17</td>\n",
       "      <td>Z17011</td>\n",
       "    </tr>\n",
       "    <tr>\n",
       "      <th>3</th>\n",
       "      <td>A010004</td>\n",
       "      <td>A01</td>\n",
       "      <td>Z16</td>\n",
       "      <td>Z16007</td>\n",
       "    </tr>\n",
       "    <tr>\n",
       "      <th>4</th>\n",
       "      <td>A010005</td>\n",
       "      <td>A01</td>\n",
       "      <td>Z17</td>\n",
       "      <td>Z17005</td>\n",
       "    </tr>\n",
       "    <tr>\n",
       "      <th>...</th>\n",
       "      <td>...</td>\n",
       "      <td>...</td>\n",
       "      <td>...</td>\n",
       "      <td>...</td>\n",
       "    </tr>\n",
       "    <tr>\n",
       "      <th>8803</th>\n",
       "      <td>E010040</td>\n",
       "      <td>E01</td>\n",
       "      <td>Z17</td>\n",
       "      <td>Z17024</td>\n",
       "    </tr>\n",
       "    <tr>\n",
       "      <th>8804</th>\n",
       "      <td>E010041</td>\n",
       "      <td>E01</td>\n",
       "      <td>Z16</td>\n",
       "      <td>Z16005</td>\n",
       "    </tr>\n",
       "    <tr>\n",
       "      <th>8805</th>\n",
       "      <td>E010042</td>\n",
       "      <td>E01</td>\n",
       "      <td>Z17</td>\n",
       "      <td>Z17021</td>\n",
       "    </tr>\n",
       "    <tr>\n",
       "      <th>8806</th>\n",
       "      <td>E010043</td>\n",
       "      <td>E01</td>\n",
       "      <td>Z10</td>\n",
       "      <td>Z10035</td>\n",
       "    </tr>\n",
       "    <tr>\n",
       "      <th>8807</th>\n",
       "      <td>E010044</td>\n",
       "      <td>E01</td>\n",
       "      <td>Z12</td>\n",
       "      <td>Z12014</td>\n",
       "    </tr>\n",
       "  </tbody>\n",
       "</table>\n",
       "<p>8808 rows × 4 columns</p>\n",
       "</div>"
      ],
      "text/plain": [
       "         점포코드  제휴사 점포대분류코드 점포중분류코드\n",
       "0     A010001  A01     Z17  Z17024\n",
       "1     A010002  A01     Z17  Z17018\n",
       "2     A010003  A01     Z17  Z17011\n",
       "3     A010004  A01     Z16  Z16007\n",
       "4     A010005  A01     Z17  Z17005\n",
       "...       ...  ...     ...     ...\n",
       "8803  E010040  E01     Z17  Z17024\n",
       "8804  E010041  E01     Z16  Z16005\n",
       "8805  E010042  E01     Z17  Z17021\n",
       "8806  E010043  E01     Z10  Z10035\n",
       "8807  E010044  E01     Z12  Z12014\n",
       "\n",
       "[8808 rows x 4 columns]"
      ]
     },
     "execution_count": 35,
     "metadata": {},
     "output_type": "execute_result"
    }
   ],
   "source": [
    "br"
   ]
  },
  {
   "cell_type": "code",
   "execution_count": 36,
   "id": "90584da6",
   "metadata": {},
   "outputs": [
    {
     "name": "stdout",
     "output_type": "stream",
     "text": [
      "<class 'pandas.core.frame.DataFrame'>\n",
      "RangeIndex: 8808 entries, 0 to 8807\n",
      "Data columns (total 4 columns):\n",
      " #   Column   Non-Null Count  Dtype \n",
      "---  ------   --------------  ----- \n",
      " 0   점포코드     8808 non-null   object\n",
      " 1   제휴사      8808 non-null   object\n",
      " 2   점포대분류코드  8808 non-null   object\n",
      " 3   점포중분류코드  8808 non-null   object\n",
      "dtypes: object(4)\n",
      "memory usage: 275.4+ KB\n"
     ]
    }
   ],
   "source": [
    "# 데이터 타입 확인\n",
    "br.info()"
   ]
  },
  {
   "cell_type": "code",
   "execution_count": 37,
   "id": "90f11dd7",
   "metadata": {},
   "outputs": [
    {
     "data": {
      "text/plain": [
       "점포코드       0\n",
       "제휴사        0\n",
       "점포대분류코드    0\n",
       "점포중분류코드    0\n",
       "dtype: int64"
      ]
     },
     "execution_count": 37,
     "metadata": {},
     "output_type": "execute_result"
    }
   ],
   "source": [
    "# 결측치 확인\n",
    "br.isna().sum()"
   ]
  },
  {
   "cell_type": "code",
   "execution_count": 38,
   "id": "085e5ad1",
   "metadata": {},
   "outputs": [
    {
     "data": {
      "text/plain": [
       "점포코드       8808\n",
       "제휴사          11\n",
       "점포대분류코드      17\n",
       "점포중분류코드     257\n",
       "dtype: int64"
      ]
     },
     "execution_count": 38,
     "metadata": {},
     "output_type": "execute_result"
    }
   ],
   "source": [
    "# 데이터 갯수 확인\n",
    "br.nunique()"
   ]
  },
  {
   "cell_type": "code",
   "execution_count": 39,
   "id": "6bd107ea",
   "metadata": {},
   "outputs": [
    {
     "data": {
      "image/png": "[encoded data removed]",
      "text/plain": [
       "<Figure size 504x288 with 1 Axes>"
      ]
     },
     "metadata": {
      "needs_background": "light"
     },
     "output_type": "display_data"
    }
   ],
   "source": [
    "# 제휴사\n",
    "plt.figure(figsize = (7, 4))\n",
    "sns.countplot(x='제휴사', data=br)\n",
    "plt.show()"
   ]
  },
  {
   "cell_type": "code",
   "execution_count": 40,
   "id": "552c8c95",
   "metadata": {},
   "outputs": [
    {
     "data": {
      "image/png": "[encoded data removed]",
      "text/plain": [
       "<Figure size 504x288 with 1 Axes>"
      ]
     },
     "metadata": {
      "needs_background": "light"
     },
     "output_type": "display_data"
    }
   ],
   "source": [
    "# 점포대분류코드\n",
    "plt.figure(figsize = (7, 4))\n",
    "sns.countplot(x='점포대분류코드', data=br)\n",
    "plt.show()"
   ]
  },
  {
   "cell_type": "markdown",
   "id": "abfa38eb",
   "metadata": {},
   "source": [
    "### [6. lpay]: 엘페이 이용"
   ]
  },
  {
   "cell_type": "code",
   "execution_count": 41,
   "id": "519773f7",
   "metadata": {},
   "outputs": [
    {
     "data": {
      "text/html": [
       "<div>\n",
       "<style scoped>\n",
       "    .dataframe tbody tr th:only-of-type {\n",
       "        vertical-align: middle;\n",
       "    }\n",
       "\n",
       "    .dataframe tbody tr th {\n",
       "        vertical-align: top;\n",
       "    }\n",
       "\n",
       "    .dataframe thead th {\n",
       "        text-align: right;\n",
       "    }\n",
       "</style>\n",
       "<table border=\"1\" class=\"dataframe\">\n",
       "  <thead>\n",
       "    <tr style=\"text-align: right;\">\n",
       "      <th></th>\n",
       "      <th>고객번호</th>\n",
       "      <th>영수증번호</th>\n",
       "      <th>제휴사</th>\n",
       "      <th>채널구분</th>\n",
       "      <th>이용일자</th>\n",
       "      <th>이용시간</th>\n",
       "      <th>이용금액</th>\n",
       "    </tr>\n",
       "  </thead>\n",
       "  <tbody>\n",
       "    <tr>\n",
       "      <th>0</th>\n",
       "      <td>M629656521</td>\n",
       "      <td>210803210311226</td>\n",
       "      <td>A03</td>\n",
       "      <td>1</td>\n",
       "      <td>20210803</td>\n",
       "      <td>21</td>\n",
       "      <td>10900</td>\n",
       "    </tr>\n",
       "    <tr>\n",
       "      <th>1</th>\n",
       "      <td>M216016456</td>\n",
       "      <td>210803130167542</td>\n",
       "      <td>L01</td>\n",
       "      <td>2</td>\n",
       "      <td>20210803</td>\n",
       "      <td>13</td>\n",
       "      <td>6860</td>\n",
       "    </tr>\n",
       "    <tr>\n",
       "      <th>2</th>\n",
       "      <td>M205142844</td>\n",
       "      <td>210803140275112</td>\n",
       "      <td>A02</td>\n",
       "      <td>1</td>\n",
       "      <td>20210803</td>\n",
       "      <td>14</td>\n",
       "      <td>9000</td>\n",
       "    </tr>\n",
       "    <tr>\n",
       "      <th>3</th>\n",
       "      <td>M737010483</td>\n",
       "      <td>210803040637594</td>\n",
       "      <td>A06</td>\n",
       "      <td>2</td>\n",
       "      <td>20210803</td>\n",
       "      <td>4</td>\n",
       "      <td>36740</td>\n",
       "    </tr>\n",
       "    <tr>\n",
       "      <th>4</th>\n",
       "      <td>M707775545</td>\n",
       "      <td>210803140675502</td>\n",
       "      <td>A06</td>\n",
       "      <td>2</td>\n",
       "      <td>20210803</td>\n",
       "      <td>14</td>\n",
       "      <td>138500</td>\n",
       "    </tr>\n",
       "    <tr>\n",
       "      <th>...</th>\n",
       "      <td>...</td>\n",
       "      <td>...</td>\n",
       "      <td>...</td>\n",
       "      <td>...</td>\n",
       "      <td>...</td>\n",
       "      <td>...</td>\n",
       "      <td>...</td>\n",
       "    </tr>\n",
       "    <tr>\n",
       "      <th>353179</th>\n",
       "      <td>M470112503</td>\n",
       "      <td>210125110644545</td>\n",
       "      <td>A06</td>\n",
       "      <td>2</td>\n",
       "      <td>20210125</td>\n",
       "      <td>11</td>\n",
       "      <td>51800</td>\n",
       "    </tr>\n",
       "    <tr>\n",
       "      <th>353180</th>\n",
       "      <td>M470112503</td>\n",
       "      <td>210104210652271</td>\n",
       "      <td>A06</td>\n",
       "      <td>2</td>\n",
       "      <td>20210104</td>\n",
       "      <td>21</td>\n",
       "      <td>6440</td>\n",
       "    </tr>\n",
       "    <tr>\n",
       "      <th>353181</th>\n",
       "      <td>M748878049</td>\n",
       "      <td>210119200278240</td>\n",
       "      <td>A02</td>\n",
       "      <td>1</td>\n",
       "      <td>20210119</td>\n",
       "      <td>20</td>\n",
       "      <td>17600</td>\n",
       "    </tr>\n",
       "    <tr>\n",
       "      <th>353182</th>\n",
       "      <td>M748878049</td>\n",
       "      <td>210119180267206</td>\n",
       "      <td>A02</td>\n",
       "      <td>1</td>\n",
       "      <td>20210119</td>\n",
       "      <td>18</td>\n",
       "      <td>12400</td>\n",
       "    </tr>\n",
       "    <tr>\n",
       "      <th>353183</th>\n",
       "      <td>M748878049</td>\n",
       "      <td>210119150154756</td>\n",
       "      <td>C01</td>\n",
       "      <td>2</td>\n",
       "      <td>20210119</td>\n",
       "      <td>15</td>\n",
       "      <td>5000</td>\n",
       "    </tr>\n",
       "  </tbody>\n",
       "</table>\n",
       "<p>353184 rows × 7 columns</p>\n",
       "</div>"
      ],
      "text/plain": [
       "              고객번호            영수증번호  제휴사  채널구분      이용일자  이용시간    이용금액\n",
       "0       M629656521  210803210311226  A03     1  20210803    21   10900\n",
       "1       M216016456  210803130167542  L01     2  20210803    13    6860\n",
       "2       M205142844  210803140275112  A02     1  20210803    14    9000\n",
       "3       M737010483  210803040637594  A06     2  20210803     4   36740\n",
       "4       M707775545  210803140675502  A06     2  20210803    14  138500\n",
       "...            ...              ...  ...   ...       ...   ...     ...\n",
       "353179  M470112503  210125110644545  A06     2  20210125    11   51800\n",
       "353180  M470112503  210104210652271  A06     2  20210104    21    6440\n",
       "353181  M748878049  210119200278240  A02     1  20210119    20   17600\n",
       "353182  M748878049  210119180267206  A02     1  20210119    18   12400\n",
       "353183  M748878049  210119150154756  C01     2  20210119    15    5000\n",
       "\n",
       "[353184 rows x 7 columns]"
      ]
     },
     "execution_count": 41,
     "metadata": {},
     "output_type": "execute_result"
    }
   ],
   "source": [
    "lpay"
   ]
  },
  {
   "cell_type": "code",
   "execution_count": 42,
   "id": "90584da6",
   "metadata": {},
   "outputs": [
    {
     "name": "stdout",
     "output_type": "stream",
     "text": [
      "<class 'pandas.core.frame.DataFrame'>\n",
      "RangeIndex: 353184 entries, 0 to 353183\n",
      "Data columns (total 7 columns):\n",
      " #   Column  Non-Null Count   Dtype \n",
      "---  ------  --------------   ----- \n",
      " 0   고객번호    353184 non-null  object\n",
      " 1   영수증번호   353184 non-null  int64 \n",
      " 2   제휴사     353184 non-null  object\n",
      " 3   채널구분    353184 non-null  int64 \n",
      " 4   이용일자    353184 non-null  int64 \n",
      " 5   이용시간    353184 non-null  int64 \n",
      " 6   이용금액    353184 non-null  int64 \n",
      "dtypes: int64(5), object(2)\n",
      "memory usage: 18.9+ MB\n"
     ]
    }
   ],
   "source": [
    "# 데이터 타입 확인\n",
    "lpay.info()"
   ]
  },
  {
   "cell_type": "code",
   "execution_count": 43,
   "id": "90f11dd7",
   "metadata": {},
   "outputs": [
    {
     "data": {
      "text/plain": [
       "고객번호     0\n",
       "영수증번호    0\n",
       "제휴사      0\n",
       "채널구분     0\n",
       "이용일자     0\n",
       "이용시간     0\n",
       "이용금액     0\n",
       "dtype: int64"
      ]
     },
     "execution_count": 43,
     "metadata": {},
     "output_type": "execute_result"
    }
   ],
   "source": [
    "# 결측치 확인\n",
    "lpay.isna().sum()"
   ]
  },
  {
   "cell_type": "code",
   "execution_count": 44,
   "id": "085e5ad1",
   "metadata": {},
   "outputs": [
    {
     "data": {
      "text/plain": [
       "고객번호       8906\n",
       "영수증번호    353184\n",
       "제휴사          14\n",
       "채널구분          2\n",
       "이용일자        365\n",
       "이용시간         24\n",
       "이용금액      37755\n",
       "dtype: int64"
      ]
     },
     "execution_count": 44,
     "metadata": {},
     "output_type": "execute_result"
    }
   ],
   "source": [
    "# 데이터 갯수 확인\n",
    "lpay.nunique()"
   ]
  },
  {
   "cell_type": "code",
   "execution_count": 45,
   "id": "6bd107ea",
   "metadata": {},
   "outputs": [
    {
     "data": {
      "image/png": "[encoded data removed]",
      "text/plain": [
       "<Figure size 504x288 with 1 Axes>"
      ]
     },
     "metadata": {
      "needs_background": "light"
     },
     "output_type": "display_data"
    }
   ],
   "source": [
    "# 제휴사\n",
    "plt.figure(figsize = (7, 4))\n",
    "sns.countplot(x='제휴사', data=lpay)\n",
    "plt.show()"
   ]
  },
  {
   "cell_type": "code",
   "execution_count": 46,
   "id": "c8ea1c80",
   "metadata": {},
   "outputs": [
    {
     "data": {
      "image/png": "[encoded data removed]",
      "text/plain": [
       "<Figure size 504x288 with 1 Axes>"
      ]
     },
     "metadata": {
      "needs_background": "light"
     },
     "output_type": "display_data"
    }
   ],
   "source": [
    "# 채널구분\n",
    "plt.figure(figsize = (7, 4))\n",
    "sns.countplot(x='채널구분', data=lpay)\n",
    "plt.show()"
   ]
  },
  {
   "cell_type": "code",
   "execution_count": 47,
   "id": "fae08d7a",
   "metadata": {},
   "outputs": [
    {
     "data": {
      "image/png": "[encoded data removed]",
      "text/plain": [
       "<Figure size 504x288 with 1 Axes>"
      ]
     },
     "metadata": {
      "needs_background": "light"
     },
     "output_type": "display_data"
    }
   ],
   "source": [
    "# 이용시간\n",
    "plt.figure(figsize = (7, 4))\n",
    "sns.countplot(x='이용시간', data=lpay)\n",
    "plt.show()"
   ]
  },
  {
   "cell_type": "markdown",
   "id": "df2c5ec6",
   "metadata": {},
   "source": [
    "# Data Merge"
   ]
  },
  {
   "cell_type": "code",
   "execution_count": 48,
   "id": "a17827fa",
   "metadata": {},
   "outputs": [
    {
     "name": "stdout",
     "output_type": "stream",
     "text": [
      "pdde : (4144389, 10)\n",
      "copu : (248304, 9)\n",
      "lpay : (353184, 7)\n"
     ]
    }
   ],
   "source": [
    "# 데이터 크기 확인\n",
    "print('pdde :',pdde.shape)\n",
    "print('copu :',cop.shape)\n",
    "print('lpay :',lpay.shape)"
   ]
  },
  {
   "cell_type": "code",
   "execution_count": 49,
   "id": "4004a14a",
   "metadata": {},
   "outputs": [
    {
     "data": {
      "text/plain": [
       "<AxesSubplot:>"
      ]
     },
     "execution_count": 49,
     "metadata": {},
     "output_type": "execute_result"
    },
    {
     "data": {
      "image/png": "[encoded data removed]",
      "text/plain": [
       "<Figure size 1080x1080 with 2 Axes>"
      ]
     },
     "metadata": {
      "needs_background": "light"
     },
     "output_type": "display_data"
    }
   ],
   "source": [
    "# 칼럼별 상관관계 확인\n",
    "# 제휴사 테이블 중에서 방문일자와 이용일자는 상관관계가 상당히 높게 나타남을 확인\n",
    "# 제휴사 테이블 내 방문일자 제거\n",
    "plt.figure(figsize=(15,15))\n",
    "sns.heatmap(data = cop.corr(), annot=True,fmt = '.2f', linewidths=.5, cmap='Blues')"
   ]
  },
  {
   "cell_type": "code",
   "execution_count": 50,
   "id": "a4499848",
   "metadata": {},
   "outputs": [],
   "source": [
    "# 데이터를 통합하기 위하여 칼럼 통합\n",
    "pdde['타입'] = 'Product'\n",
    "cop['타입'] = 'Affiliate'\n",
    "lpay['타입'] = 'Lpay'\n",
    "cop['구매수량'] = 0\n",
    "cop['상품코드'] = np.nan\n",
    "lpay['점포코드'] = np.nan\n",
    "lpay['상품코드'] = np.nan\n",
    "lpay['구매수량'] = 0"
   ]
  },
  {
   "cell_type": "code",
   "execution_count": 52,
   "id": "c044d748",
   "metadata": {},
   "outputs": [],
   "source": [
    "# 칼럼명을 새롭게 동일하게 통일\n",
    "cop.columns = ['고객번호', '영수증번호', '제휴사', '점포코드', '채널구분', '구매일자', '방문일자', '구매시간', '구매금액', '타입','구매수량', '상품코드']\n",
    "lpay.columns = ['고객번호', '영수증번호', '제휴사', '채널구분', '구매일자', '구매시간', '구매금액', '타입', '점포코드', '상품코드', '구매수량']"
   ]
  },
  {
   "cell_type": "code",
   "execution_count": 53,
   "id": "72f635cc",
   "metadata": {},
   "outputs": [],
   "source": [
    "# 상품구매데이터를 기준으로 하여 열을 통일\n",
    "cop = cop[['고객번호','영수증번호','채널구분','제휴사','점포코드','상품코드','구매일자','구매시간','구매금액','구매수량','타입']]\n",
    "lpay = lpay[['고객번호','영수증번호','채널구분','제휴사','점포코드','상품코드','구매일자','구매시간','구매금액','구매수량','타입']]"
   ]
  },
  {
   "cell_type": "code",
   "execution_count": 54,
   "id": "936e22f2",
   "metadata": {},
   "outputs": [],
   "source": [
    "# 데이터 타입 변경\n",
    "lpay['영수증번호'] = lpay['영수증번호'].astype('object')\n",
    "lpay['점포코드'] = lpay['점포코드'].astype('object')\n",
    "cop['상품코드'] = cop['상품코드'].astype('object')\n",
    "lpay['상품코드'] = lpay['상품코드'].astype('object')\n",
    "pdde['구매금액'] = pdde['구매금액'].astype('int')"
   ]
  },
  {
   "cell_type": "code",
   "execution_count": 55,
   "id": "1fcc1e98",
   "metadata": {},
   "outputs": [],
   "source": [
    "# 데이터 concat\n",
    "df = pd.concat([pdde,cop,lpay])"
   ]
  },
  {
   "cell_type": "code",
   "execution_count": 56,
   "id": "0123140f",
   "metadata": {},
   "outputs": [],
   "source": [
    "# 고객 정보 테이븛 통합\n",
    "df = pd.merge(df, demo, on = ['고객번호'], how = 'left')"
   ]
  },
  {
   "cell_type": "code",
   "execution_count": 57,
   "id": "81520c5e",
   "metadata": {},
   "outputs": [],
   "source": [
    "# 상품 분류 테이블 통합\n",
    "df = pd.merge(df, br, on = ['점포코드','제휴사'], how = 'left')"
   ]
  },
  {
   "cell_type": "code",
   "execution_count": 58,
   "id": "9ba693fc",
   "metadata": {},
   "outputs": [],
   "source": [
    "# 점포 정보 테이블 통합\n",
    "df = pd.merge(df, clac, on = ['상품코드'], how = 'left')"
   ]
  },
  {
   "cell_type": "code",
   "execution_count": 59,
   "id": "96bd970b",
   "metadata": {},
   "outputs": [
    {
     "data": {
      "text/plain": [
       "고객번호             0\n",
       "영수증번호            0\n",
       "채널구분             0\n",
       "제휴사              0\n",
       "점포코드        353184\n",
       "상품코드        601488\n",
       "구매일자             0\n",
       "구매시간             0\n",
       "구매금액             0\n",
       "구매수량             0\n",
       "타입               0\n",
       "성별               0\n",
       "연령대              0\n",
       "거주지대분류코드         0\n",
       "점포대분류코드     729023\n",
       "점포중분류코드     729023\n",
       "소분류명        601488\n",
       "대분류명        601488\n",
       "중분류명        601488\n",
       "dtype: int64"
      ]
     },
     "execution_count": 59,
     "metadata": {},
     "output_type": "execute_result"
    }
   ],
   "source": [
    "# 결측치 확인\n",
    "df.isnull().sum()"
   ]
  },
  {
   "cell_type": "code",
   "execution_count": 60,
   "id": "c4377d99",
   "metadata": {},
   "outputs": [
    {
     "name": "stdout",
     "output_type": "stream",
     "text": [
      "<엘페이>\n",
      "고객번호          0\n",
      "영수증번호         0\n",
      "채널구분          0\n",
      "제휴사           0\n",
      "점포코드     353184\n",
      "상품코드     353184\n",
      "구매일자          0\n",
      "구매시간          0\n",
      "구매금액          0\n",
      "구매수량          0\n",
      "타입            0\n",
      "dtype: int64\n",
      "<제휴사>\n",
      "고객번호          0\n",
      "영수증번호         0\n",
      "채널구분          0\n",
      "제휴사           0\n",
      "점포코드          0\n",
      "상품코드     248304\n",
      "구매일자          0\n",
      "구매시간          0\n",
      "구매금액          0\n",
      "구매수량          0\n",
      "타입            0\n",
      "dtype: int64\n",
      "<상품구매>\n",
      "고객번호     0\n",
      "영수증번호    0\n",
      "채널구분     0\n",
      "제휴사      0\n",
      "점포코드     0\n",
      "상품코드     0\n",
      "구매일자     0\n",
      "구매시간     0\n",
      "구매금액     0\n",
      "구매수량     0\n",
      "타입       0\n",
      "dtype: int64\n"
     ]
    }
   ],
   "source": [
    "print('<엘페이>')\n",
    "print(lpay.isnull().sum())\n",
    "print('<제휴사>')\n",
    "print(cop.isnull().sum())\n",
    "print('<상품구매>')\n",
    "print(pdde.isnull().sum())"
   ]
  },
  {
   "cell_type": "code",
   "execution_count": 61,
   "id": "cdf7dc5e",
   "metadata": {},
   "outputs": [
    {
     "data": {
      "text/html": [
       "<div>\n",
       "<style scoped>\n",
       "    .dataframe tbody tr th:only-of-type {\n",
       "        vertical-align: middle;\n",
       "    }\n",
       "\n",
       "    .dataframe tbody tr th {\n",
       "        vertical-align: top;\n",
       "    }\n",
       "\n",
       "    .dataframe thead th {\n",
       "        text-align: right;\n",
       "    }\n",
       "</style>\n",
       "<table border=\"1\" class=\"dataframe\">\n",
       "  <thead>\n",
       "    <tr style=\"text-align: right;\">\n",
       "      <th></th>\n",
       "      <th>고객번호</th>\n",
       "      <th>영수증번호</th>\n",
       "      <th>채널구분</th>\n",
       "      <th>제휴사</th>\n",
       "      <th>점포코드</th>\n",
       "      <th>상품코드</th>\n",
       "      <th>구매일자</th>\n",
       "      <th>구매시간</th>\n",
       "      <th>구매금액</th>\n",
       "      <th>구매수량</th>\n",
       "      <th>타입</th>\n",
       "      <th>성별</th>\n",
       "      <th>연령대</th>\n",
       "      <th>거주지대분류코드</th>\n",
       "      <th>점포대분류코드</th>\n",
       "      <th>점포중분류코드</th>\n",
       "      <th>소분류명</th>\n",
       "      <th>대분류명</th>\n",
       "      <th>중분류명</th>\n",
       "    </tr>\n",
       "  </thead>\n",
       "  <tbody>\n",
       "    <tr>\n",
       "      <th>0</th>\n",
       "      <td>M430112881</td>\n",
       "      <td>A01000001113</td>\n",
       "      <td>1</td>\n",
       "      <td>A01</td>\n",
       "      <td>A010039</td>\n",
       "      <td>PD0290</td>\n",
       "      <td>20210101</td>\n",
       "      <td>10</td>\n",
       "      <td>15000</td>\n",
       "      <td>1</td>\n",
       "      <td>Product</td>\n",
       "      <td>여성</td>\n",
       "      <td>50대</td>\n",
       "      <td>Z17</td>\n",
       "      <td>Z10</td>\n",
       "      <td>Z10042</td>\n",
       "      <td>남성티셔츠</td>\n",
       "      <td>남성의류</td>\n",
       "      <td>남성의류상의</td>\n",
       "    </tr>\n",
       "    <tr>\n",
       "      <th>1</th>\n",
       "      <td>M646853852</td>\n",
       "      <td>A01000002265</td>\n",
       "      <td>1</td>\n",
       "      <td>A01</td>\n",
       "      <td>A010025</td>\n",
       "      <td>PD1369</td>\n",
       "      <td>20210101</td>\n",
       "      <td>10</td>\n",
       "      <td>79700</td>\n",
       "      <td>1</td>\n",
       "      <td>Product</td>\n",
       "      <td>여성</td>\n",
       "      <td>40대</td>\n",
       "      <td>Z13</td>\n",
       "      <td>Z13</td>\n",
       "      <td>Z13001</td>\n",
       "      <td>기타주방일회용품</td>\n",
       "      <td>주방잡화</td>\n",
       "      <td>주방일회용품</td>\n",
       "    </tr>\n",
       "    <tr>\n",
       "      <th>2</th>\n",
       "      <td>M430112881</td>\n",
       "      <td>A01000003148</td>\n",
       "      <td>1</td>\n",
       "      <td>A01</td>\n",
       "      <td>A010039</td>\n",
       "      <td>PD0290</td>\n",
       "      <td>20210101</td>\n",
       "      <td>10</td>\n",
       "      <td>19000</td>\n",
       "      <td>1</td>\n",
       "      <td>Product</td>\n",
       "      <td>여성</td>\n",
       "      <td>50대</td>\n",
       "      <td>Z17</td>\n",
       "      <td>Z10</td>\n",
       "      <td>Z10042</td>\n",
       "      <td>남성티셔츠</td>\n",
       "      <td>남성의류</td>\n",
       "      <td>남성의류상의</td>\n",
       "    </tr>\n",
       "    <tr>\n",
       "      <th>3</th>\n",
       "      <td>M430112881</td>\n",
       "      <td>A01000004946</td>\n",
       "      <td>1</td>\n",
       "      <td>A01</td>\n",
       "      <td>A010039</td>\n",
       "      <td>PD0290</td>\n",
       "      <td>20210101</td>\n",
       "      <td>10</td>\n",
       "      <td>19000</td>\n",
       "      <td>1</td>\n",
       "      <td>Product</td>\n",
       "      <td>여성</td>\n",
       "      <td>50대</td>\n",
       "      <td>Z17</td>\n",
       "      <td>Z10</td>\n",
       "      <td>Z10042</td>\n",
       "      <td>남성티셔츠</td>\n",
       "      <td>남성의류</td>\n",
       "      <td>남성의류상의</td>\n",
       "    </tr>\n",
       "    <tr>\n",
       "      <th>4</th>\n",
       "      <td>M430112881</td>\n",
       "      <td>A01000005297</td>\n",
       "      <td>1</td>\n",
       "      <td>A01</td>\n",
       "      <td>A010039</td>\n",
       "      <td>PD1692</td>\n",
       "      <td>20210101</td>\n",
       "      <td>10</td>\n",
       "      <td>9900</td>\n",
       "      <td>1</td>\n",
       "      <td>Product</td>\n",
       "      <td>여성</td>\n",
       "      <td>50대</td>\n",
       "      <td>Z17</td>\n",
       "      <td>Z10</td>\n",
       "      <td>Z10042</td>\n",
       "      <td>커피/음료</td>\n",
       "      <td>테넌트/음식점</td>\n",
       "      <td>식당</td>\n",
       "    </tr>\n",
       "  </tbody>\n",
       "</table>\n",
       "</div>"
      ],
      "text/plain": [
       "         고객번호         영수증번호  채널구분  제휴사     점포코드    상품코드      구매일자  구매시간  \\\n",
       "0  M430112881  A01000001113     1  A01  A010039  PD0290  20210101    10   \n",
       "1  M646853852  A01000002265     1  A01  A010025  PD1369  20210101    10   \n",
       "2  M430112881  A01000003148     1  A01  A010039  PD0290  20210101    10   \n",
       "3  M430112881  A01000004946     1  A01  A010039  PD0290  20210101    10   \n",
       "4  M430112881  A01000005297     1  A01  A010039  PD1692  20210101    10   \n",
       "\n",
       "    구매금액  구매수량       타입  성별  연령대 거주지대분류코드 점포대분류코드 점포중분류코드      소분류명     대분류명  \\\n",
       "0  15000     1  Product  여성  50대      Z17     Z10  Z10042     남성티셔츠     남성의류   \n",
       "1  79700     1  Product  여성  40대      Z13     Z13  Z13001  기타주방일회용품     주방잡화   \n",
       "2  19000     1  Product  여성  50대      Z17     Z10  Z10042     남성티셔츠     남성의류   \n",
       "3  19000     1  Product  여성  50대      Z17     Z10  Z10042     남성티셔츠     남성의류   \n",
       "4   9900     1  Product  여성  50대      Z17     Z10  Z10042     커피/음료  테넌트/음식점   \n",
       "\n",
       "     중분류명  \n",
       "0  남성의류상의  \n",
       "1  주방일회용품  \n",
       "2  남성의류상의  \n",
       "3  남성의류상의  \n",
       "4      식당  "
      ]
     },
     "execution_count": 61,
     "metadata": {},
     "output_type": "execute_result"
    }
   ],
   "source": [
    "df.head()"
   ]
  },
  {
   "cell_type": "code",
   "execution_count": 62,
   "id": "68146baa",
   "metadata": {},
   "outputs": [],
   "source": [
    "data = df.copy()"
   ]
  },
  {
   "cell_type": "code",
   "execution_count": 63,
   "id": "c3d371da",
   "metadata": {},
   "outputs": [],
   "source": [
    "# 데이터 분리\n",
    "df1 = data[data['타입']== 'Product']\n",
    "df2 = data[data['타입']== 'Affiliate']\n",
    "df3 = data[data['타입']== 'Lpay']"
   ]
  }
 ],
 "metadata": {
  "kernelspec": {
   "display_name": "Python 3.8.0 ('spare')",
   "language": "python",
   "name": "python3"
  },
  "language_info": {
   "codemirror_mode": {
    "name": "ipython",
    "version": 3
   },
   "file_extension": ".py",
   "mimetype": "text/x-python",
   "name": "python",
   "nbconvert_exporter": "python",
   "pygments_lexer": "ipython3",
   "version": "3.8.0"
  },
  "vscode": {
   "interpreter": {
    "hash": "93c970a1fdbd47e24786044b44a9e33cce2c61698b6a8742685f2df39696c10e"
   }
  }
 },
 "nbformat": 4,
 "nbformat_minor": 5
}
