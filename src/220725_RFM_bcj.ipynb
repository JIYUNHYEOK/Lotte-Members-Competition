{
 "cells": [
  {
   "cell_type": "markdown",
   "id": "b38116c4",
   "metadata": {},
   "source": [
    "# Import library"
   ]
  },
  {
   "cell_type": "markdown",
   "id": "57443fd7",
   "metadata": {},
   "source": [
    "# Data Preprocessing"
   ]
  },
  {
   "cell_type": "code",
   "execution_count": 1,
   "id": "61ce0bd7",
   "metadata": {},
   "outputs": [],
   "source": [
    "import numpy as np\n",
    "import pandas as pd\n",
    "import matplotlib.pyplot as plt\n",
    "import seaborn as sns\n",
    "from tqdm import tqdm\n",
    "\n",
    "from matplotlib import font_manager, rc\n",
    "%matplotlib inline\n",
    "\n",
    "import platform\n",
    "your_os = platform.system()\n",
    "if your_os == 'Linux':\n",
    "    rc('font', family='NanumGothic')\n",
    "elif your_os == 'Windows':\n",
    "    ttf = \"c:/Windows/Fonts/malgun.ttf\"\n",
    "    font_name = font_manager.FontProperties(fname=ttf).get_name()\n",
    "    rc('font', family=font_name)\n",
    "elif your_os == 'Darwin':\n",
    "    rc('font', family='AppleGothic')\n",
    "rc('axes', unicode_minus=False)\n",
    "\n",
    "\n",
    "# 배경색 흰색으로 맞춰줌\n",
    "import matplotlib as mpl\n",
    "mpl.rc('figure', facecolor = 'w', edgecolor ='w')"
   ]
  },
  {
   "cell_type": "code",
   "execution_count": 2,
   "id": "f866aaeb",
   "metadata": {},
   "outputs": [],
   "source": [
    "# Data Load\n",
    "demo = pd.read_csv('../data/LPOINT_BIG_COMP_01_DEMO.csv', low_memory=False)\n",
    "pdde = pd.read_csv('../data/LPOINT_BIG_COMP_02_PDDE.csv', low_memory=False)\n",
    "cop = pd.read_csv('../data/LPOINT_BIG_COMP_03_COP_U.csv', low_memory=False)\n",
    "clac = pd.read_csv('../data/LPOINT_BIG_COMP_04_PD_CLAC.csv', low_memory=False)\n",
    "br = pd.read_csv('../data/LPOINT_BIG_COMP_05_BR.csv', low_memory=False)\n",
    "lpay = pd.read_csv('../data/LPOINT_BIG_COMP_06_LPAY.csv', low_memory=False)\n",
    "\n",
    "# Column명 변경\n",
    "demo.columns = ['고객번호', '성별', '연령대', '거주지대분류코드']\n",
    "pdde.columns = ['고객번호', '영수증번호', '채널구분', '제휴사', '점포코드', '상품코드', '구매일자', '구매시간', '구매금액', '구매수량']\n",
    "cop.columns = ['고객번호', '영수증번호', '제휴사', '점포코드', '채널구분', '이용일자', '방문일자', '이용시간', '이용금액']\n",
    "clac.columns = ['상품코드', '소분류명', '대분류명', '중분류명']\n",
    "br.columns = ['점포코드', '제휴사', '점포대분류코드', '점포중분류코드']\n",
    "lpay.columns = ['고객번호', '영수증번호', '제휴사', '채널구분', '이용일자', '이용시간', '이용금액']"
   ]
  },
  {
   "cell_type": "markdown",
   "id": "2dc02e7b",
   "metadata": {},
   "source": [
    "### [1. demo]: Demo"
   ]
  },
  {
   "cell_type": "code",
   "execution_count": 3,
   "id": "45cf02e1",
   "metadata": {},
   "outputs": [],
   "source": [
    "# demo.head(3)"
   ]
  },
  {
   "cell_type": "code",
   "execution_count": 4,
   "id": "5ad9769e",
   "metadata": {},
   "outputs": [],
   "source": [
    "# # 데이터 타입 확인\n",
    "# demo.info()"
   ]
  },
  {
   "cell_type": "code",
   "execution_count": 5,
   "id": "5f855724",
   "metadata": {},
   "outputs": [],
   "source": [
    "# # 결측치 확인\n",
    "# demo.isna().sum()"
   ]
  },
  {
   "cell_type": "code",
   "execution_count": 6,
   "id": "2b8aa580",
   "metadata": {},
   "outputs": [],
   "source": [
    "# # 데이터 갯수 확인\n",
    "# demo.nunique()"
   ]
  },
  {
   "cell_type": "code",
   "execution_count": 7,
   "id": "ad8d0667",
   "metadata": {},
   "outputs": [],
   "source": [
    "# # 성별\n",
    "# plt.figure(figsize = (7, 4))\n",
    "# sns.countplot(x='성별', data=demo)\n",
    "# plt.show()"
   ]
  },
  {
   "cell_type": "code",
   "execution_count": 8,
   "id": "dbc9e665",
   "metadata": {},
   "outputs": [],
   "source": [
    "# # 연령대\n",
    "# plt.figure(figsize = (7, 4))\n",
    "# sns.countplot(x='연령대', data=demo)\n",
    "# plt.show()"
   ]
  },
  {
   "cell_type": "code",
   "execution_count": 9,
   "id": "50ecb80d",
   "metadata": {},
   "outputs": [],
   "source": [
    "# # 거주지대분류코드\n",
    "# plt.figure(figsize = (7, 4))\n",
    "# sns.countplot(x='거주지대분류코드', data=demo)\n",
    "# plt.show()"
   ]
  },
  {
   "cell_type": "markdown",
   "id": "d69bb365",
   "metadata": {},
   "source": [
    "### [2. pdde]: 상품 구매 정보"
   ]
  },
  {
   "cell_type": "code",
   "execution_count": 10,
   "id": "97045104",
   "metadata": {},
   "outputs": [],
   "source": [
    "# pdde.head(3)"
   ]
  },
  {
   "cell_type": "code",
   "execution_count": 11,
   "id": "154538ca",
   "metadata": {},
   "outputs": [],
   "source": [
    "# 중복되는 행 제거 -> 데이터 추출시 고객, 상품 각각 추출하여 중복이 발생한 것으로 판단함\n",
    "pdde.drop_duplicates(subset=None, keep='first', inplace=True, ignore_index=False)"
   ]
  },
  {
   "cell_type": "code",
   "execution_count": 12,
   "id": "57ce4ffd",
   "metadata": {},
   "outputs": [],
   "source": [
    "# # 데이터 타입 확인\n",
    "# pdde.info()"
   ]
  },
  {
   "cell_type": "code",
   "execution_count": 13,
   "id": "d9180f82",
   "metadata": {},
   "outputs": [],
   "source": [
    "# # 결측치 확인\n",
    "# pdde.isna().sum()"
   ]
  },
  {
   "cell_type": "code",
   "execution_count": 14,
   "id": "4e029d6f",
   "metadata": {},
   "outputs": [],
   "source": [
    "# # 상품 구매 정보 테이블 내에 점포 코드 결측치는 온라인으로 주문한 것을 확인할 수 있음. 온라인으로 주문한 뒤에 택배로 수령\n",
    "# pdde[pdde['점포코드'].isna()]['채널구분'].unique()"
   ]
  },
  {
   "cell_type": "code",
   "execution_count": 15,
   "id": "93c7dfc1",
   "metadata": {},
   "outputs": [],
   "source": [
    "# 결측치 치환 -> na값을 온라인으로 채워줌\n",
    "pdde['점포코드'] = pdde['점포코드'].fillna('온라인')"
   ]
  },
  {
   "cell_type": "code",
   "execution_count": 16,
   "id": "375ec87f",
   "metadata": {},
   "outputs": [],
   "source": [
    "# # 데이터 갯수 확인\n",
    "# pdde.nunique()"
   ]
  },
  {
   "cell_type": "code",
   "execution_count": 17,
   "id": "1416fd35",
   "metadata": {},
   "outputs": [],
   "source": [
    "# # 채널구분\n",
    "# plt.figure(figsize = (7, 4))\n",
    "# sns.countplot(x='채널구분', data=pdde)\n",
    "# plt.show()"
   ]
  },
  {
   "cell_type": "code",
   "execution_count": 18,
   "id": "01572d52",
   "metadata": {},
   "outputs": [],
   "source": [
    "# # 제휴사\n",
    "# plt.figure(figsize = (7, 4))\n",
    "# sns.countplot(x='제휴사', data=pdde)\n",
    "# plt.show()"
   ]
  },
  {
   "cell_type": "code",
   "execution_count": 19,
   "id": "ba055d2b",
   "metadata": {},
   "outputs": [],
   "source": [
    "# # 구매시간\n",
    "# plt.figure(figsize = (7, 4))\n",
    "# sns.countplot(x='구매시간', data=pdde)\n",
    "# plt.show()"
   ]
  },
  {
   "cell_type": "markdown",
   "id": "ca6088d3",
   "metadata": {},
   "source": [
    "### [3. cop]: 제휴사 이용 정보"
   ]
  },
  {
   "cell_type": "code",
   "execution_count": 20,
   "id": "8bb89c47",
   "metadata": {},
   "outputs": [],
   "source": [
    "# cop.head(3)"
   ]
  },
  {
   "cell_type": "code",
   "execution_count": 21,
   "id": "4823c9a8",
   "metadata": {},
   "outputs": [],
   "source": [
    "# # 데이터 타입 확인\n",
    "# cop.info()"
   ]
  },
  {
   "cell_type": "code",
   "execution_count": 22,
   "id": "5cfce343",
   "metadata": {},
   "outputs": [],
   "source": [
    "# # 결측치 확인\n",
    "# cop.isna().sum()"
   ]
  },
  {
   "cell_type": "code",
   "execution_count": 23,
   "id": "1e81a384",
   "metadata": {},
   "outputs": [],
   "source": [
    "# # 제휴사 이용 정보 테이블 내에 점포 코드 결측치는 온라인으로 주문한 것을 확인할 수 있음. 온라인으로 주문한 뒤에 택배로 수령\n",
    "# cop[cop['점포코드'].isna()]['채널구분'].unique()"
   ]
  },
  {
   "cell_type": "code",
   "execution_count": 24,
   "id": "d27ac9ca",
   "metadata": {},
   "outputs": [],
   "source": [
    "# 결측치 치환\n",
    "cop['점포코드'] = cop['점포코드'].fillna('온라인')"
   ]
  },
  {
   "cell_type": "code",
   "execution_count": 25,
   "id": "31d5f219",
   "metadata": {},
   "outputs": [],
   "source": [
    "# # 데이터 갯수 확인\n",
    "# cop.nunique()"
   ]
  },
  {
   "cell_type": "code",
   "execution_count": 26,
   "id": "38aa56ae",
   "metadata": {},
   "outputs": [],
   "source": [
    "# # 채널구분\n",
    "# plt.figure(figsize = (7, 4))\n",
    "# sns.countplot(x='채널구분', data=cop)\n",
    "# plt.show()"
   ]
  },
  {
   "cell_type": "code",
   "execution_count": 27,
   "id": "8887b51d",
   "metadata": {},
   "outputs": [],
   "source": [
    "# # 제휴사\n",
    "# plt.figure(figsize = (7, 4))\n",
    "# sns.countplot(x='제휴사', data=cop)\n",
    "# plt.show()"
   ]
  },
  {
   "cell_type": "code",
   "execution_count": 28,
   "id": "c18971f7",
   "metadata": {},
   "outputs": [],
   "source": [
    "# # 이용시간\n",
    "# plt.figure(figsize = (7, 4))\n",
    "# sns.countplot(x='이용시간', data=cop)\n",
    "# plt.show()"
   ]
  },
  {
   "cell_type": "markdown",
   "id": "c1ae4cd6",
   "metadata": {},
   "source": [
    "### [4. clac]: 상품 분류 정보"
   ]
  },
  {
   "cell_type": "code",
   "execution_count": 29,
   "id": "fc8349ca",
   "metadata": {},
   "outputs": [],
   "source": [
    "# clac.head(3)"
   ]
  },
  {
   "cell_type": "code",
   "execution_count": 30,
   "id": "65a02e86",
   "metadata": {},
   "outputs": [],
   "source": [
    "# # 데이터 타입 확인\n",
    "# clac.info()"
   ]
  },
  {
   "cell_type": "code",
   "execution_count": 31,
   "id": "a45f5e42",
   "metadata": {},
   "outputs": [],
   "source": [
    "# # 결측치 확인\n",
    "# clac.isna().sum()"
   ]
  },
  {
   "cell_type": "code",
   "execution_count": 32,
   "id": "9fcf7bb7",
   "metadata": {},
   "outputs": [],
   "source": [
    "# # 데이터 갯수 확인\n",
    "# clac.nunique()"
   ]
  },
  {
   "cell_type": "markdown",
   "id": "7f2c0e73",
   "metadata": {},
   "source": [
    "### [5. br]: 점포 정보"
   ]
  },
  {
   "cell_type": "code",
   "execution_count": 33,
   "id": "5b604039",
   "metadata": {},
   "outputs": [],
   "source": [
    "# br.head(3)"
   ]
  },
  {
   "cell_type": "code",
   "execution_count": 34,
   "id": "18e5c9c2",
   "metadata": {},
   "outputs": [],
   "source": [
    "# # 데이터 타입 확인\n",
    "# br.info()"
   ]
  },
  {
   "cell_type": "code",
   "execution_count": 35,
   "id": "1aa87240",
   "metadata": {},
   "outputs": [],
   "source": [
    "# # 결측치 확인\n",
    "# br.isna().sum()"
   ]
  },
  {
   "cell_type": "code",
   "execution_count": 36,
   "id": "d30b39eb",
   "metadata": {},
   "outputs": [],
   "source": [
    "# # 데이터 갯수 확인\n",
    "# br.nunique()"
   ]
  },
  {
   "cell_type": "code",
   "execution_count": 37,
   "id": "1d3c7cd9",
   "metadata": {},
   "outputs": [],
   "source": [
    "# # 제휴사\n",
    "# plt.figure(figsize = (7, 4))\n",
    "# sns.countplot(x='제휴사', data=br)\n",
    "# plt.show()"
   ]
  },
  {
   "cell_type": "code",
   "execution_count": 38,
   "id": "39f6558b",
   "metadata": {},
   "outputs": [],
   "source": [
    "# # 점포대분류코드\n",
    "# plt.figure(figsize = (7, 4))\n",
    "# sns.countplot(x='점포대분류코드', data=br)\n",
    "# plt.show()"
   ]
  },
  {
   "cell_type": "markdown",
   "id": "abfa38eb",
   "metadata": {},
   "source": [
    "### [6. lpay]: 엘페이 이용"
   ]
  },
  {
   "cell_type": "code",
   "execution_count": 39,
   "id": "6239703e",
   "metadata": {},
   "outputs": [],
   "source": [
    "# lpay.head(3)"
   ]
  },
  {
   "cell_type": "code",
   "execution_count": 40,
   "id": "c7667cea",
   "metadata": {},
   "outputs": [],
   "source": [
    "# # 데이터 타입 확인\n",
    "# lpay.info()"
   ]
  },
  {
   "cell_type": "code",
   "execution_count": 41,
   "id": "ed028118",
   "metadata": {},
   "outputs": [],
   "source": [
    "# # 결측치 확인\n",
    "# lpay.isna().sum()"
   ]
  },
  {
   "cell_type": "code",
   "execution_count": 42,
   "id": "3263eaa6",
   "metadata": {},
   "outputs": [],
   "source": [
    "# # 데이터 갯수 확인\n",
    "# lpay.nunique()"
   ]
  },
  {
   "cell_type": "code",
   "execution_count": 43,
   "id": "63766a5e",
   "metadata": {},
   "outputs": [],
   "source": [
    "# # 제휴사\n",
    "# plt.figure(figsize = (7, 4))\n",
    "# sns.countplot(x='제휴사', data=lpay)\n",
    "# plt.show()"
   ]
  },
  {
   "cell_type": "code",
   "execution_count": 44,
   "id": "c5918201",
   "metadata": {},
   "outputs": [],
   "source": [
    "# # 채널구분\n",
    "# plt.figure(figsize = (7, 4))\n",
    "# sns.countplot(x='채널구분', data=lpay)\n",
    "# plt.show()"
   ]
  },
  {
   "cell_type": "code",
   "execution_count": 45,
   "id": "a9e5faf8",
   "metadata": {},
   "outputs": [],
   "source": [
    "# # 이용시간\n",
    "# plt.figure(figsize = (7, 4))\n",
    "# sns.countplot(x='이용시간', data=lpay)\n",
    "# plt.show()"
   ]
  },
  {
   "cell_type": "markdown",
   "id": "df2c5ec6",
   "metadata": {},
   "source": [
    "# Data Merge"
   ]
  },
  {
   "cell_type": "code",
   "execution_count": 46,
   "id": "7b7881e8",
   "metadata": {},
   "outputs": [],
   "source": [
    "# # 데이터 크기 확인\n",
    "# print('pdde :',pdde.shape)\n",
    "# print('copu :',cop.shape)\n",
    "# print('lpay :',lpay.shape)"
   ]
  },
  {
   "cell_type": "code",
   "execution_count": 47,
   "id": "64fbe495",
   "metadata": {},
   "outputs": [],
   "source": [
    "# # 칼럼별 상관관계 확인\n",
    "# # 제휴사 테이블 중에서 방문일자와 이용일자는 상관관계가 상당히 높게 나타남을 확인\n",
    "# # 제휴사 테이블 내 방문일자 제거\n",
    "# plt.figure(figsize=(15,15))\n",
    "# sns.heatmap(data = cop.corr(), annot=True,fmt = '.2f', linewidths=.5, cmap='Blues')"
   ]
  },
  {
   "cell_type": "code",
   "execution_count": 48,
   "id": "b57c84f9",
   "metadata": {},
   "outputs": [],
   "source": [
    "# 데이터를 통합하기 위하여 칼럼 통합\n",
    "pdde['타입'] = 'Product'\n",
    "cop['타입'] = 'Affiliate'\n",
    "lpay['타입'] = 'Lpay'\n",
    "pdde['방문일자'] = 0\n",
    "lpay['방문일자'] = 0\n",
    "cop['구매수량'] = 0\n",
    "cop['상품코드'] = np.nan\n",
    "lpay['점포코드'] = np.nan\n",
    "lpay['상품코드'] = np.nan\n",
    "lpay['구매수량'] = 0"
   ]
  },
  {
   "cell_type": "code",
   "execution_count": 49,
   "id": "ae25f45d",
   "metadata": {},
   "outputs": [],
   "source": [
    "# 칼럼명을 새롭게 동일하게 통일\n",
    "cop.columns = ['고객번호', '영수증번호', '제휴사', '점포코드', '채널구분', '구매일자', '방문일자', '구매시간', '구매금액', '타입', '구매수량', '상품코드']\n",
    "lpay.columns = ['고객번호', '영수증번호', '제휴사', '채널구분', '구매일자', '구매시간', '구매금액', '타입', '방문일자', '점포코드', '상품코드', '구매수량']\n",
    "\n",
    "# 상품구매데이터를 기준으로 하여 열을 통일\n",
    "cop = cop[['고객번호', '영수증번호', '채널구분', '제휴사', '점포코드', '상품코드', '구매일자', '방문일자', '구매시간', '구매금액', '구매수량', '타입']]\n",
    "lpay = lpay[['고객번호', '영수증번호', '채널구분', '제휴사', '점포코드', '상품코드', '구매일자', '방문일자', '구매시간', '구매금액', '구매수량', '타입']]\n",
    "\n",
    "# 데이터 타입 변경\n",
    "lpay['영수증번호'] = lpay['영수증번호'].astype('object')\n",
    "lpay['점포코드'] = lpay['점포코드'].astype('object')\n",
    "cop['상품코드'] = cop['상품코드'].astype('object')\n",
    "lpay['상품코드'] = lpay['상품코드'].astype('object')\n",
    "pdde['구매금액'] = pdde['구매금액'].astype('int')\n",
    "pdde['방문일자'] = pdde['방문일자'].astype('int64')\n",
    "lpay['방문일자'] = lpay['방문일자'].astype('int64')"
   ]
  },
  {
   "cell_type": "code",
   "execution_count": 50,
   "id": "54609bc9",
   "metadata": {},
   "outputs": [],
   "source": [
    "# 데이터 concat\n",
    "df = pd.concat([pdde,cop,lpay])\n",
    "# 고객 정보 테이븛 통합\n",
    "df = pd.merge(df, demo, on = ['고객번호'], how = 'left')\n",
    "# 상품 분류 테이블 통합\n",
    "df = pd.merge(df, br, on = ['점포코드','제휴사'], how = 'left')\n",
    "# 점포 정보 테이블 통합\n",
    "df = pd.merge(df, clac, on = ['상품코드'], how = 'left')"
   ]
  },
  {
   "cell_type": "code",
   "execution_count": 51,
   "id": "68ee68e5",
   "metadata": {},
   "outputs": [
    {
     "data": {
      "text/plain": [
       "고객번호             0\n",
       "영수증번호            0\n",
       "채널구분             0\n",
       "제휴사              0\n",
       "점포코드        353184\n",
       "상품코드        601488\n",
       "구매일자             0\n",
       "구매시간             0\n",
       "구매금액             0\n",
       "구매수량             0\n",
       "타입               0\n",
       "방문일자             0\n",
       "성별               0\n",
       "연령대              0\n",
       "거주지대분류코드         0\n",
       "점포대분류코드     729023\n",
       "점포중분류코드     729023\n",
       "소분류명        601488\n",
       "대분류명        601488\n",
       "중분류명        601488\n",
       "dtype: int64"
      ]
     },
     "execution_count": 51,
     "metadata": {},
     "output_type": "execute_result"
    }
   ],
   "source": [
    "# 결측치 확인\n",
    "df.isnull().sum()"
   ]
  },
  {
   "cell_type": "code",
   "execution_count": 52,
   "id": "a0dde077",
   "metadata": {},
   "outputs": [],
   "source": [
    "# print('<엘페이>')\n",
    "# print(lpay.isnull().sum())\n",
    "# print('<제휴사>')\n",
    "# print(cop.isnull().sum())\n",
    "# print('<상품구매>')\n",
    "# print(pdde.isnull().sum())"
   ]
  },
  {
   "cell_type": "code",
   "execution_count": 53,
   "id": "7ebb755f",
   "metadata": {},
   "outputs": [],
   "source": [
    "# data = df.copy()"
   ]
  },
  {
   "cell_type": "code",
   "execution_count": 54,
   "id": "3d67e0bf",
   "metadata": {},
   "outputs": [],
   "source": [
    "# # 데이터 분리\n",
    "# df1 = data[data['타입']== 'Product']\n",
    "# df2 = data[data['타입']== 'Affiliate']\n",
    "# df3 = data[data['타입']== 'Lpay']"
   ]
  },
  {
   "cell_type": "code",
   "execution_count": 55,
   "id": "d907241f",
   "metadata": {},
   "outputs": [],
   "source": [
    "df['날짜'] = df['구매일자'].astype(str)\n",
    "df['날짜'] = pd.to_datetime(df['날짜'])\n",
    "# df['날짜'] = df['날짜'].dt.tz_localize('UTC')"
   ]
  },
  {
   "cell_type": "code",
   "execution_count": 56,
   "id": "1f5ad893",
   "metadata": {},
   "outputs": [],
   "source": [
    "df = df.sort_values(by=['날짜'], ascending=[True])\n",
    "df['diff'] = df.groupby('고객번호')['날짜'].diff().fillna('0').astype(str)\n",
    "df['diff'] = df['diff'].apply(lambda x: int(x.split()[0]))"
   ]
  },
  {
   "cell_type": "code",
   "execution_count": 57,
   "id": "86eb86df",
   "metadata": {},
   "outputs": [
    {
     "data": {
      "text/plain": [
       "321"
      ]
     },
     "execution_count": 57,
     "metadata": {},
     "output_type": "execute_result"
    }
   ],
   "source": [
    "df['diff'].nunique()"
   ]
  },
  {
   "cell_type": "code",
   "execution_count": 58,
   "id": "2e352f35",
   "metadata": {},
   "outputs": [],
   "source": [
    "imp = df.groupby('고객번호')[['영수증번호']].count().reset_index()\n",
    "\n",
    "# 구매를 가장 많이한 고객의 고객번호\n",
    "# imp[imp['영수증번호']==13636]"
   ]
  },
  {
   "cell_type": "code",
   "execution_count": 59,
   "id": "b80192bc",
   "metadata": {},
   "outputs": [],
   "source": [
    "# # 구매횟수별로 정렬\n",
    "# imp.sort_values(by=['영수증번호'], ascending=[False])"
   ]
  },
  {
   "cell_type": "code",
   "execution_count": 60,
   "id": "64ad6a6a",
   "metadata": {},
   "outputs": [
    {
     "data": {
      "text/plain": [
       "count    29874.000000\n",
       "mean       158.863125\n",
       "std        226.480154\n",
       "min          1.000000\n",
       "25%         20.000000\n",
       "50%         83.000000\n",
       "75%        211.000000\n",
       "max      13120.000000\n",
       "Name: 영수증번호, dtype: float64"
      ]
     },
     "execution_count": 60,
     "metadata": {},
     "output_type": "execute_result"
    }
   ],
   "source": [
    "imp['영수증번호'].describe()"
   ]
  },
  {
   "cell_type": "markdown",
   "id": "3442b74f",
   "metadata": {},
   "source": [
    "### 3사분위 수 이상 구매한 고객 EDA"
   ]
  },
  {
   "cell_type": "markdown",
   "id": "50e9bfc8",
   "metadata": {},
   "source": [
    "- 연령대 -> 별다른 특이점 찾지 못함"
   ]
  },
  {
   "cell_type": "code",
   "execution_count": 61,
   "id": "f1b7a189",
   "metadata": {},
   "outputs": [],
   "source": [
    "demo_high = demo.loc[demo['고객번호'].isin(imp[imp['영수증번호'] >= 211]['고객번호'].tolist())]"
   ]
  },
  {
   "cell_type": "code",
   "execution_count": 62,
   "id": "ba4cd9e7",
   "metadata": {},
   "outputs": [
    {
     "data": {
      "image/png": "[encoded data removed]",
      "text/plain": [
       "<Figure size 432x288 with 1 Axes>"
      ]
     },
     "metadata": {},
     "output_type": "display_data"
    }
   ],
   "source": [
    "# 3사분위수 이상 구매를 한 고객의 연령대\n",
    "plt.bar(demo_high.groupby('연령대').count()['고객번호'].reset_index()['연령대'], demo_high.groupby('연령대').count()['고객번호'].reset_index()['고객번호'])\n",
    "plt.title('3사분위 이상 구매고객 연령대')\n",
    "plt.show()"
   ]
  },
  {
   "cell_type": "code",
   "execution_count": 63,
   "id": "cc53cf6f",
   "metadata": {},
   "outputs": [
    {
     "data": {
      "image/png": "[encoded data removed]",
      "text/plain": [
       "<Figure size 432x288 with 1 Axes>"
      ]
     },
     "metadata": {},
     "output_type": "display_data"
    }
   ],
   "source": [
    "# 전체 고객의 연령대\n",
    "plt.bar(demo.groupby('연령대').count()['고객번호'].reset_index()['연령대'], demo.groupby('연령대').count()['고객번호'].reset_index()['고객번호'])\n",
    "plt.title('전체 고객 연령대')\n",
    "plt.show()"
   ]
  },
  {
   "cell_type": "markdown",
   "id": "0246f080",
   "metadata": {},
   "source": [
    "- 성별 -> 별다른 특이점 찾지 못함"
   ]
  },
  {
   "cell_type": "code",
   "execution_count": 64,
   "id": "06f29f05",
   "metadata": {},
   "outputs": [
    {
     "data": {
      "text/plain": [
       "성별\n",
       "남성    0.279318\n",
       "여성    0.720682\n",
       "Name: 고객번호, dtype: float64"
      ]
     },
     "execution_count": 64,
     "metadata": {},
     "output_type": "execute_result"
    }
   ],
   "source": [
    "demo_high.groupby('성별').count()['고객번호'] / demo_high.groupby('성별').count()['고객번호'].sum()"
   ]
  },
  {
   "cell_type": "code",
   "execution_count": 65,
   "id": "097f59bc",
   "metadata": {},
   "outputs": [
    {
     "data": {
      "text/plain": [
       "성별\n",
       "남성    0.32862\n",
       "여성    0.67138\n",
       "Name: 고객번호, dtype: float64"
      ]
     },
     "execution_count": 65,
     "metadata": {},
     "output_type": "execute_result"
    }
   ],
   "source": [
    "demo.groupby('성별').count()['고객번호'] / demo.groupby('성별').count()['고객번호'].sum()"
   ]
  },
  {
   "cell_type": "markdown",
   "id": "47bbbc06",
   "metadata": {},
   "source": [
    "- 거주지 -> 의미없음"
   ]
  },
  {
   "cell_type": "code",
   "execution_count": 66,
   "id": "46f306a6",
   "metadata": {},
   "outputs": [
    {
     "data": {
      "image/png": "[encoded data removed]",
      "text/plain": [
       "<Figure size 720x576 with 1 Axes>"
      ]
     },
     "metadata": {},
     "output_type": "display_data"
    }
   ],
   "source": [
    "x = np.arange(len(demo.groupby('거주지대분류코드').count()))\n",
    "\n",
    "plt.figure(figsize=(10, 8))\n",
    "plt.bar(x-0.15, demo.groupby('거주지대분류코드').count().reset_index()['고객번호'] / demo.groupby('거주지대분류코드').count().reset_index()['고객번호'].sum(),0.4, label='all') \n",
    "plt.bar(x+0.15, demo_high.groupby('거주지대분류코드').count().reset_index()['고객번호'] / demo_high.groupby('거주지대분류코드').count().reset_index()['고객번호'].sum(),0.4, label='high') \n",
    "plt.xticks(x, demo.groupby('거주지대분류코드').count().reset_index()['거주지대분류코드'])\n",
    "plt.legend()\n",
    "plt.title('거주지 비교(비율)')\n",
    "plt.show()"
   ]
  },
  {
   "cell_type": "markdown",
   "id": "fe2b4069",
   "metadata": {},
   "source": [
    "- *df에서 특이점을 찾아보자*"
   ]
  },
  {
   "cell_type": "code",
   "execution_count": 67,
   "id": "c3eb430c",
   "metadata": {},
   "outputs": [],
   "source": [
    "df_high = df.loc[df['고객번호'].isin(imp[imp['영수증번호'] >= 211]['고객번호'].tolist())]"
   ]
  },
  {
   "cell_type": "markdown",
   "id": "92c86d27",
   "metadata": {},
   "source": [
    "- 주 구매 채널이 어떻게 되는지 판단"
   ]
  },
  {
   "cell_type": "markdown",
   "id": "995bba9d",
   "metadata": {},
   "source": [
    "    - 전체가 나열된 데이터에서 보았을때, 두 데이터 모두 오프라인에서 구매를 한 비율이 압도적임"
   ]
  },
  {
   "cell_type": "code",
   "execution_count": 68,
   "id": "47a8d374",
   "metadata": {},
   "outputs": [
    {
     "data": {
      "text/plain": [
       "채널구분\n",
       "1    0.860507\n",
       "2    0.139493\n",
       "Name: 고객번호, dtype: float64"
      ]
     },
     "execution_count": 68,
     "metadata": {},
     "output_type": "execute_result"
    }
   ],
   "source": [
    "# 과금러들\n",
    "df_high.groupby('채널구분').count()['고객번호'] / df_high.groupby('채널구분').count()['고객번호'].sum()"
   ]
  },
  {
   "cell_type": "code",
   "execution_count": 69,
   "id": "12a99c4e",
   "metadata": {},
   "outputs": [
    {
     "data": {
      "text/plain": [
       "채널구분\n",
       "1    0.87068\n",
       "2    0.12932\n",
       "Name: 고객번호, dtype: float64"
      ]
     },
     "execution_count": 69,
     "metadata": {},
     "output_type": "execute_result"
    }
   ],
   "source": [
    "# 전체 고객\n",
    "df.groupby('채널구분').count()['고객번호'] / df.groupby('채널구분').count()['고객번호'].sum()"
   ]
  },
  {
   "cell_type": "markdown",
   "id": "092c06da",
   "metadata": {},
   "source": [
    "    - 온라인을 사용해본 사용자의 비율을 확인함 (groupby와 max를 통해)"
   ]
  },
  {
   "cell_type": "markdown",
   "id": "18e23341",
   "metadata": {},
   "source": [
    "*드디어 나름 의미있는 결과가 나타남 -> 과금러들 중에 오프라인만 사용해본 사용자는 32% / 온라인을 사용해본 사용자는 68%*"
   ]
  },
  {
   "cell_type": "markdown",
   "id": "a60a9c44",
   "metadata": {},
   "source": [
    "*전체 고객과 비교해 보았을 때, 온라인을 경험해본 사용자의 수가 높음을 알 수 있음*"
   ]
  },
  {
   "cell_type": "code",
   "execution_count": 70,
   "id": "452a0839",
   "metadata": {},
   "outputs": [
    {
     "data": {
      "image/png": "[encoded data removed]",
      "text/plain": [
       "<Figure size 1080x1080 with 2 Axes>"
      ]
     },
     "metadata": {},
     "output_type": "display_data"
    }
   ],
   "source": [
    "plt.figure(figsize=(15,15))\n",
    "plt.subplot(2, 2, 1)\n",
    "patches_high, texts_high, autotexts_high = plt.pie(\n",
    "    df_high.groupby('고객번호')['채널구분'].max().reset_index().groupby('채널구분').count().reset_index()['고객번호'],\n",
    "    labels = ['오프라인', '온라인'],\n",
    "    labeldistance=1.1,## label이 파이로부터 얼마나 떨어지는가, 1일경우 딱 붙어있음. \n",
    "    explode=[0, 0.1], ##pie가 튀어나오는지 정해줌  \n",
    "    startangle=10,## 어디에서 시작할지, 정해줌  \n",
    "    shadow=True, ##그림자 \n",
    "    autopct='%1.1f%%', ## pi 위에 표시될 글자 형태, 또한 알아서 %로 변환해서 알려줌 \n",
    ")\n",
    "plt.title('과금러들', size = 20)\n",
    "plt.legend(loc = (1, 0.8), fontsize=15)\n",
    "\n",
    "plt.subplot(2, 2, 2)\n",
    "patches, texts, autotexts = plt.pie(\n",
    "    df.groupby('고객번호')['채널구분'].max().reset_index().groupby('채널구분').count().reset_index()['고객번호'],\n",
    "    labels = ['오프라인', '온라인'],\n",
    "    labeldistance=1.1,## label이 파이로부터 얼마나 떨어지는가, 1일경우 딱 붙어있음. \n",
    "    explode=[0, 0.1], ##pie가 튀어나오는지 정해줌  \n",
    "    startangle=10,## 어디에서 시작할지, 정해줌  \n",
    "    shadow=True, ##그림자 \n",
    "    autopct='%1.1f%%', ## pi 위에 표시될 글자 형태, 또한 알아서 %로 변환해서 알려줌 \n",
    ")\n",
    "plt.title('전체 고객', size = 20)\n",
    "\n",
    "for t in autotexts_high:\n",
    "    t.set_color(\"white\")\n",
    "    t.set_fontsize(25)\n",
    "\n",
    "for t in texts_high:\n",
    "    t.set_fontsize(20)\n",
    "\n",
    "for t in autotexts:\n",
    "    t.set_color(\"white\")\n",
    "    t.set_fontsize(25)\n",
    "    \n",
    "for t in texts:\n",
    "    t.set_fontsize(20)    \n",
    "\n",
    "plt.tight_layout()\n",
    "plt.show()"
   ]
  },
  {
   "cell_type": "markdown",
   "id": "6b342fb3",
   "metadata": {},
   "source": [
    "- ing~"
   ]
  },
  {
   "cell_type": "code",
   "execution_count": 71,
   "id": "d30f05ad",
   "metadata": {},
   "outputs": [
    {
     "data": {
      "text/plain": [
       "count    7.504000e+03\n",
       "mean     2.469288e+04\n",
       "std      6.354409e+04\n",
       "min      1.284488e+03\n",
       "25%      6.779114e+03\n",
       "50%      1.072608e+04\n",
       "75%      2.125653e+04\n",
       "max      2.413200e+06\n",
       "Name: 구매금액, dtype: float64"
      ]
     },
     "execution_count": 71,
     "metadata": {},
     "output_type": "execute_result"
    }
   ],
   "source": [
    "df_high.groupby('고객번호')['구매금액'].mean().describe()"
   ]
  },
  {
   "cell_type": "code",
   "execution_count": 73,
   "id": "9aef1be8",
   "metadata": {},
   "outputs": [
    {
     "data": {
      "text/plain": [
       "array(['Affiliate', 'Lpay'], dtype=object)"
      ]
     },
     "execution_count": 73,
     "metadata": {},
     "output_type": "execute_result"
    }
   ],
   "source": [
    "df[df['구매수량'] == 0]['타입'].unique()"
   ]
  },
  {
   "cell_type": "code",
   "execution_count": 75,
   "id": "aff55db9",
   "metadata": {},
   "outputs": [],
   "source": [
    "customer_id = df.groupby('고객번호')[['구매일자']].max().index.tolist()\n",
    "recency = df.groupby('고객번호')[['구매일자']].max()['구매일자'].tolist()\n",
    "frequency = df.groupby('고객번호')[['영수증번호']].count()['영수증번호'].tolist()\n",
    "monetary = df.groupby('고객번호')[['구매금액']].sum()['구매금액'].tolist()\n",
    "\n",
    "df_rfm = pd.DataFrame({'Customer_ID': customer_id, 'Recency': recency, 'Frequency': frequency, 'Monetary': monetary})"
   ]
  },
  {
   "cell_type": "code",
   "execution_count": 76,
   "id": "d558bed8",
   "metadata": {},
   "outputs": [
    {
     "data": {
      "text/html": [
       "<div>\n",
       "<style scoped>\n",
       "    .dataframe tbody tr th:only-of-type {\n",
       "        vertical-align: middle;\n",
       "    }\n",
       "\n",
       "    .dataframe tbody tr th {\n",
       "        vertical-align: top;\n",
       "    }\n",
       "\n",
       "    .dataframe thead th {\n",
       "        text-align: right;\n",
       "    }\n",
       "</style>\n",
       "<table border=\"1\" class=\"dataframe\">\n",
       "  <thead>\n",
       "    <tr style=\"text-align: right;\">\n",
       "      <th></th>\n",
       "      <th>Customer_ID</th>\n",
       "      <th>Recency</th>\n",
       "      <th>Frequency</th>\n",
       "      <th>Monetary</th>\n",
       "    </tr>\n",
       "  </thead>\n",
       "  <tbody>\n",
       "    <tr>\n",
       "      <th>0</th>\n",
       "      <td>M000034966</td>\n",
       "      <td>30758400.0</td>\n",
       "      <td>49</td>\n",
       "      <td>616240</td>\n",
       "    </tr>\n",
       "    <tr>\n",
       "      <th>1</th>\n",
       "      <td>M000059535</td>\n",
       "      <td>5270400.0</td>\n",
       "      <td>1</td>\n",
       "      <td>46000</td>\n",
       "    </tr>\n",
       "    <tr>\n",
       "      <th>2</th>\n",
       "      <td>M000136117</td>\n",
       "      <td>31363200.0</td>\n",
       "      <td>121</td>\n",
       "      <td>28697031</td>\n",
       "    </tr>\n",
       "    <tr>\n",
       "      <th>3</th>\n",
       "      <td>M000201112</td>\n",
       "      <td>28598400.0</td>\n",
       "      <td>20</td>\n",
       "      <td>51420</td>\n",
       "    </tr>\n",
       "    <tr>\n",
       "      <th>4</th>\n",
       "      <td>M000225114</td>\n",
       "      <td>31449600.0</td>\n",
       "      <td>163</td>\n",
       "      <td>2084270</td>\n",
       "    </tr>\n",
       "    <tr>\n",
       "      <th>...</th>\n",
       "      <td>...</td>\n",
       "      <td>...</td>\n",
       "      <td>...</td>\n",
       "      <td>...</td>\n",
       "    </tr>\n",
       "    <tr>\n",
       "      <th>29869</th>\n",
       "      <td>M999708287</td>\n",
       "      <td>21081600.0</td>\n",
       "      <td>2</td>\n",
       "      <td>60000</td>\n",
       "    </tr>\n",
       "    <tr>\n",
       "      <th>29870</th>\n",
       "      <td>M999770689</td>\n",
       "      <td>31449600.0</td>\n",
       "      <td>402</td>\n",
       "      <td>2078770</td>\n",
       "    </tr>\n",
       "    <tr>\n",
       "      <th>29871</th>\n",
       "      <td>M999849895</td>\n",
       "      <td>28857600.0</td>\n",
       "      <td>70</td>\n",
       "      <td>1095312</td>\n",
       "    </tr>\n",
       "    <tr>\n",
       "      <th>29872</th>\n",
       "      <td>M999926092</td>\n",
       "      <td>28944000.0</td>\n",
       "      <td>7</td>\n",
       "      <td>129500</td>\n",
       "    </tr>\n",
       "    <tr>\n",
       "      <th>29873</th>\n",
       "      <td>M999962961</td>\n",
       "      <td>31449600.0</td>\n",
       "      <td>359</td>\n",
       "      <td>15582194</td>\n",
       "    </tr>\n",
       "  </tbody>\n",
       "</table>\n",
       "<p>29874 rows × 4 columns</p>\n",
       "</div>"
      ],
      "text/plain": [
       "      Customer_ID     Recency  Frequency  Monetary\n",
       "0      M000034966  30758400.0         49    616240\n",
       "1      M000059535   5270400.0          1     46000\n",
       "2      M000136117  31363200.0        121  28697031\n",
       "3      M000201112  28598400.0         20     51420\n",
       "4      M000225114  31449600.0        163   2084270\n",
       "...           ...         ...        ...       ...\n",
       "29869  M999708287  21081600.0          2     60000\n",
       "29870  M999770689  31449600.0        402   2078770\n",
       "29871  M999849895  28857600.0         70   1095312\n",
       "29872  M999926092  28944000.0          7    129500\n",
       "29873  M999962961  31449600.0        359  15582194\n",
       "\n",
       "[29874 rows x 4 columns]"
      ]
     },
     "execution_count": 76,
     "metadata": {},
     "output_type": "execute_result"
    }
   ],
   "source": [
    "df_rfm['Recency'] = df_rfm['Recency'].astype(str)\n",
    "df_rfm['Recency'] = pd.to_datetime(df_rfm['Recency'])\n",
    "df_rfm['Recency'] = df_rfm['Recency'] - pd.to_datetime('20210101')\n",
    "df_rfm['Recency'] = [x.total_seconds() for x in df_rfm['Recency']]\n",
    "df_rfm"
   ]
  },
  {
   "cell_type": "code",
   "execution_count": 98,
   "id": "e96d1b83",
   "metadata": {},
   "outputs": [],
   "source": [
    "def get_score(level, data, reverse = False):\n",
    "    '''\n",
    "    Description :\n",
    "    level안에 있는 원소를 기준으로\n",
    "    1 ~ len(level)+ 1 까지 점수를 부여하는 함수\n",
    "    \n",
    "    Parameters :\n",
    "    level = 튜플 또는 리스트 타입의 숫자형 데이터이며 반드시 오름차순으로 정렬되어 있어야함.\n",
    "    예 - [1,2,3,4,5] O, [5,4,3,2,1] X, [1,3,2,10,4] X \n",
    "    data = 점수를 부여할 데이터. 순회가능한(iterable) 데이터 형식\n",
    "    reverse = 점수가 높을 때 그에 해당하는 값을 낮게 설정하고 싶을 때 True\n",
    "    return :\n",
    "    점수를 담고 있는 리스트 반환\n",
    "    '''\n",
    "    score = [] \n",
    "    for j in range(len(data)): \n",
    "        for i in range(len(level)): \n",
    "            if data[j] <= level[i]: \n",
    "                score.append(i+1) \n",
    "                break \n",
    "            elif data[j] > max(level): \n",
    "                score.append(len(level)+1) \n",
    "                break \n",
    "            else: \n",
    "                continue\n",
    "    if reverse:\n",
    "        return [len(level)+2-x for x in score]\n",
    "    else:\n",
    "        return score\n",
    "\n",
    "def get_rfm_grade(df, num_class, rfm_tick_point, rfm_col_map, suffix=None):\n",
    "    '''\n",
    "    Description :\n",
    "    개별 고객에 대한 최근방문일/방문횟수/구매금액 데이터가 주어졌을때\n",
    "    최근방문일/방문횟수/구매금액 점수를 계산하여 주어진 데이터 오른쪽에 붙여줍니다.\n",
    "    \n",
    "    Parameters :\n",
    "    df = pandas.DataFrame 데이터\n",
    "    num_class = 등급(점수) 개수\n",
    "    rfm_tick_point = 최근방문일/방문횟수/구매금액에 대해서 등급을 나눌 기준이 되는 값\n",
    "                    'quantile', 'min_max' 또는 리스트를 통하여 직접 값을 정할 수 있음.\n",
    "                    단, 리스트 사용시 원소의 개수는 반드시 num_class - 1 이어야함.\n",
    "                    quatile = 데이터의 분위수를 기준으로 점수를 매김\n",
    "                    min_max = 데이터의 최소값과 최대값을 동일 간격으로 나누어 점수를 매김\n",
    "    rfm_col_map = 최근방문일/방문횟수/구매금액에 대응하는 칼럼명\n",
    "    예 - {'R':'Recency','F':'Frequency','M':'Monetary'}\n",
    "    suffix = 최근방문일/방문횟수/구매금액에 대응하는 칼럼명 뒤에 붙는 접미사\n",
    "    Return : \n",
    "    pandas.DataFrame\n",
    "    '''\n",
    "    ##### 필요모듈 체크\n",
    "    import pandas as pd\n",
    "    import numpy as np\n",
    "    from sklearn import preprocessing\n",
    "    \n",
    "    ##### 파라미터 체크\n",
    "    if not isinstance(df, pd.DataFrame): ## 데이터는 pd.DataFrame이어야 함.\n",
    "        print('데이터는 pandas.DataFrame 객체여야 합니다.')\n",
    "        return\n",
    "    \n",
    "    if isinstance(rfm_tick_point, dict) == False or isinstance(rfm_col_map, dict) == False: ## rfm_tick_point와 rfm_col_map은 모두 딕셔너리\n",
    "        print(f'rfm_tick_point와 rfm_col_map은 모두 딕셔너리여야합니다.')\n",
    "        return\n",
    "    \n",
    "    if len(rfm_col_map) != 3: ## rfm_col_map에는 반드시 3개의 키를 가져아함.\n",
    "        print(f'rfm_col_map인자는 반드시 3개의 키를 가져야합니다. \\n현재 rfm_col_map에는 {len(rfm_col_map)}개의 키가 있습니다.')\n",
    "        return\n",
    "    \n",
    "    if len(rfm_tick_point) != 3: ## rfm_tick_point에는 반드시 3개의 키를 가져아함.\n",
    "        print(f'rfm_tick_point인자는 반드시 3개의 키를 가져야합니다. \\n현재 rfm_col_map에는 {len(rfm_col_map)}개의 키가 있습니다.')\n",
    "        return\n",
    "    \n",
    "    if set(rfm_tick_point.keys()) != set(rfm_col_map.keys()): ## rfm_tick_point와 rfm_col_map은 같은 키를 가져야함.\n",
    "        print(f'rfm_tick_point와 rfm_col_map은 같은 키를 가져야 합니다.')\n",
    "        return\n",
    "    \n",
    "    if not set(rfm_col_map.values()).issubset(set(df.columns)):\n",
    "        not_in_df = set(rfm_col_map.values())-set(df.columns)\n",
    "        print(f'{not_in_df}이 데이터 칼럼에 있어야 합니다.')\n",
    "        return\n",
    "    \n",
    "    for k, v in rfm_tick_point.items():\n",
    "        if isinstance(v, str):\n",
    "            if not v in ['quantile','min_max']:\n",
    "                print(f'{k}의 값은 \"quantile\" 또는 \"min_max\"중에 하나여야 합니다.')\n",
    "                return\n",
    "        elif isinstance(v,list) or isinstance(v,tuple):\n",
    "            if len(v) != num_class-1:\n",
    "                print(f'{k}에 대응하는 리스트(튜플)의 원소는 {num_class-1}개여야 합니다.')\n",
    "                return\n",
    "    \n",
    "    if suffix:\n",
    "        if not isinstance(suffix, str):\n",
    "            print('suffix인자는 문자열이어야합니다.')\n",
    "            return\n",
    "        \n",
    "    ##### 최근방문일/방문횟수/구매금액 점수 부여\n",
    "    for k, v in rfm_tick_point.items():\n",
    "        if isinstance(v,str):\n",
    "            if v == 'quantile':\n",
    "                ## 데이터 변환\n",
    "                scale = preprocessing.StandardScaler() ## 데이터의 범위 조작하기 쉽게 해주는 클래스 \n",
    "                temp_data = np.array(df[rfm_col_map[k]]) ## 데이터를 Numpy 배열로 변환\n",
    "                temp_data = temp_data.reshape((-1,1)) ## scale을 적용하기위해 1차원 배열을 2차원으로 변환\n",
    "                temp_data = scale.fit_transform(temp_data) ## 데이터를 평균은 0, 표준편차는 1을 갖도록 변환 \n",
    "                temp_data = temp_data.squeeze() ## 데이터를 다시 1차원으로 변환\n",
    "\n",
    "                ## 분위수 벡터\n",
    "                quantiles_level = np.linspace(0,1,num_class+1)[1:-1] ## 분위수를 구할 기준값을 지정 0과 1은 제외\n",
    "                quantiles = [] ## 분위수를 담을 리스트\n",
    "                for ql in quantiles_level:\n",
    "                    quantiles.append(np.quantile(temp_data,ql)) ## 분위수를 계산하고 리스트에 삽입\n",
    "            else: ## min_max인 경우\n",
    "                ## 데이터 변환\n",
    "                temp_data = np.array(df[rfm_col_map[k]])\n",
    "\n",
    "                ## 등분점 계산\n",
    "                quantiles = np.linspace(np.min(temp_data),np.max(temp_data),num_class+1)[1:-1] ## 최소값과 최대값을 점수 개수만큼 등간격으로 분할하는 점\n",
    "        else: ## 직접 구분값을 넣어주는 경우\n",
    "            temp_data = np.array(df[rfm_col_map[k]])\n",
    "            quantiles = v ## 직접 구분값을 넣어줌\n",
    "        score = get_score(quantiles, temp_data) ## 구분값을 기준으로 점수를 부여하고 리스트로 저장한다.\n",
    "        new_col_name = rfm_col_map[k]+'_'+k ## 점수값을 담는 변수의 이름\n",
    "        if suffix:\n",
    "            new_col_name = rfm_col_map[k]+'_'+suffix\n",
    "        df[new_col_name] = score ## 기존데이터 옆에 점수 데이터를 추가한다.\n",
    "    return df"
   ]
  },
  {
   "cell_type": "code",
   "execution_count": 99,
   "id": "c0be2643",
   "metadata": {},
   "outputs": [
    {
     "data": {
      "text/html": [
       "<div>\n",
       "<style scoped>\n",
       "    .dataframe tbody tr th:only-of-type {\n",
       "        vertical-align: middle;\n",
       "    }\n",
       "\n",
       "    .dataframe tbody tr th {\n",
       "        vertical-align: top;\n",
       "    }\n",
       "\n",
       "    .dataframe thead th {\n",
       "        text-align: right;\n",
       "    }\n",
       "</style>\n",
       "<table border=\"1\" class=\"dataframe\">\n",
       "  <thead>\n",
       "    <tr style=\"text-align: right;\">\n",
       "      <th></th>\n",
       "      <th>Customer_ID</th>\n",
       "      <th>Recency_R</th>\n",
       "      <th>Frequency_F</th>\n",
       "      <th>Monetary_M</th>\n",
       "    </tr>\n",
       "  </thead>\n",
       "  <tbody>\n",
       "    <tr>\n",
       "      <th>0</th>\n",
       "      <td>M000034966</td>\n",
       "      <td>3</td>\n",
       "      <td>2</td>\n",
       "      <td>2</td>\n",
       "    </tr>\n",
       "    <tr>\n",
       "      <th>1</th>\n",
       "      <td>M000059535</td>\n",
       "      <td>1</td>\n",
       "      <td>1</td>\n",
       "      <td>1</td>\n",
       "    </tr>\n",
       "    <tr>\n",
       "      <th>2</th>\n",
       "      <td>M000136117</td>\n",
       "      <td>5</td>\n",
       "      <td>3</td>\n",
       "      <td>5</td>\n",
       "    </tr>\n",
       "    <tr>\n",
       "      <th>3</th>\n",
       "      <td>M000201112</td>\n",
       "      <td>2</td>\n",
       "      <td>2</td>\n",
       "      <td>1</td>\n",
       "    </tr>\n",
       "    <tr>\n",
       "      <th>4</th>\n",
       "      <td>M000225114</td>\n",
       "      <td>5</td>\n",
       "      <td>4</td>\n",
       "      <td>4</td>\n",
       "    </tr>\n",
       "    <tr>\n",
       "      <th>...</th>\n",
       "      <td>...</td>\n",
       "      <td>...</td>\n",
       "      <td>...</td>\n",
       "      <td>...</td>\n",
       "    </tr>\n",
       "    <tr>\n",
       "      <th>29869</th>\n",
       "      <td>M999708287</td>\n",
       "      <td>1</td>\n",
       "      <td>1</td>\n",
       "      <td>1</td>\n",
       "    </tr>\n",
       "    <tr>\n",
       "      <th>29870</th>\n",
       "      <td>M999770689</td>\n",
       "      <td>5</td>\n",
       "      <td>5</td>\n",
       "      <td>4</td>\n",
       "    </tr>\n",
       "    <tr>\n",
       "      <th>29871</th>\n",
       "      <td>M999849895</td>\n",
       "      <td>2</td>\n",
       "      <td>3</td>\n",
       "      <td>3</td>\n",
       "    </tr>\n",
       "    <tr>\n",
       "      <th>29872</th>\n",
       "      <td>M999926092</td>\n",
       "      <td>2</td>\n",
       "      <td>1</td>\n",
       "      <td>1</td>\n",
       "    </tr>\n",
       "    <tr>\n",
       "      <th>29873</th>\n",
       "      <td>M999962961</td>\n",
       "      <td>5</td>\n",
       "      <td>5</td>\n",
       "      <td>5</td>\n",
       "    </tr>\n",
       "  </tbody>\n",
       "</table>\n",
       "<p>29874 rows × 4 columns</p>\n",
       "</div>"
      ],
      "text/plain": [
       "      Customer_ID  Recency_R  Frequency_F  Monetary_M\n",
       "0      M000034966          3            2           2\n",
       "1      M000059535          1            1           1\n",
       "2      M000136117          5            3           5\n",
       "3      M000201112          2            2           1\n",
       "4      M000225114          5            4           4\n",
       "...           ...        ...          ...         ...\n",
       "29869  M999708287          1            1           1\n",
       "29870  M999770689          5            5           4\n",
       "29871  M999849895          2            3           3\n",
       "29872  M999926092          2            1           1\n",
       "29873  M999962961          5            5           5\n",
       "\n",
       "[29874 rows x 4 columns]"
      ]
     },
     "execution_count": 99,
     "metadata": {},
     "output_type": "execute_result"
    }
   ],
   "source": [
    "######### 사용 예제\n",
    "rfm_tick_point={'R':'quantile','F':'quantile','M':'quantile'} ## 구매금액에 최소값 최대값을 이용한 방법 적용\n",
    "rfm_col_map={'R':'Recency','F':'Frequency','M':'Monetary'}\n",
    "\n",
    "result = get_rfm_grade(df=df_rfm, num_class=5, rfm_tick_point=rfm_tick_point, rfm_col_map=rfm_col_map)\n",
    "result[['Customer_ID','Recency_R','Frequency_F','Monetary_M']]"
   ]
  },
  {
   "cell_type": "code",
   "execution_count": 100,
   "id": "775be052",
   "metadata": {},
   "outputs": [],
   "source": [
    "# result['Recency_R'].value_counts()"
   ]
  },
  {
   "cell_type": "code",
   "execution_count": 101,
   "id": "137b81f2",
   "metadata": {},
   "outputs": [],
   "source": [
    "# result['Frequency_F'].value_counts()"
   ]
  },
  {
   "cell_type": "code",
   "execution_count": 102,
   "id": "1404168e",
   "metadata": {},
   "outputs": [],
   "source": [
    "# result['Monetary_M'].value_counts()"
   ]
  },
  {
   "cell_type": "code",
   "execution_count": 103,
   "id": "eecb115b",
   "metadata": {},
   "outputs": [],
   "source": [
    "grid_number = 100 ## 눈금 개수, 너무 크게 잡으면 메모리 문제가 발생할 수 있음.\n",
    "weights = []\n",
    "for j in range(grid_number+1):\n",
    "    weights += [(i/grid_number,j/grid_number,(grid_number-i-j)/grid_number)\n",
    "                  for i in range(grid_number+1-j)]\n",
    "num_class = 5 ## 클래스 개수\n",
    "class_level = np.linspace(1,5,num_class+1)[1:-1] ## 클래스를 나누는 지점을 정한다.\n",
    "total_amount_of_sales = result['Monetary'].sum() ## 구매금액 총합 = 총 매출"
   ]
  },
  {
   "cell_type": "code",
   "execution_count": 107,
   "id": "06e3d2e0",
   "metadata": {},
   "outputs": [
    {
     "name": "stderr",
     "output_type": "stream",
     "text": [
      "[Finding Optimal weights]: 100%|███████████████████████████████████████████████████| 5151/5151 [26:45<00:00,  3.21it/s]\n"
     ]
    }
   ],
   "source": [
    "max_std = 0 ## 표준편차 초기값\n",
    "for w in tqdm(weights,position=0,desc = '[Finding Optimal weights]'):\n",
    "    ## 주어진 가중치에 따른 고객별 점수 계산\n",
    "    score = w[0]*result['Recency_R'] + \\\n",
    "                        w[1]*result['Frequency_F'] + \\\n",
    "                        w[2]*result['Monetary_M'] \n",
    "    result['Class'] = get_score(class_level,score,True) ## 점수를 이용하여 고객별 등급 부여\n",
    "    ## 등급별로 구매금액을 집계한다.\n",
    "    grouped_result = result.groupby('Class')['Monetary'].sum().reset_index()\n",
    "    \n",
    "    ## 제약조건 추가 - 등급이 높은 고객들의 매출이 낮은 등급의 고객들보다 커야한다.\n",
    "    grouped_result = grouped_result.sort_values('Class')\n",
    "    \n",
    "    temp_monetary = list(grouped_result['Monetary'])\n",
    "    if temp_monetary != sorted(temp_monetary,reverse=True):\n",
    "        continue\n",
    "    \n",
    "    ## 클래스별 구매금액을 총구매금액으로 나누어 클래스별 매출 기여도 계산\n",
    "    grouped_result['Monetary'] = grouped_result['Monetary'].map(lambda x : x/total_amount_of_sales)\n",
    "    std_sales = grouped_result['Monetary'].std() ## 매출 기여도의 표준편차 계산\n",
    "    if max_std <= std_sales:\n",
    "        max_std = std_sales ## 표준편차 최대값 업데이트\n",
    "        optimal_weights = w  ## 가중치 업데이트"
   ]
  },
  {
   "cell_type": "code",
   "execution_count": 108,
   "id": "39ff8343",
   "metadata": {},
   "outputs": [
    {
     "name": "stdout",
     "output_type": "stream",
     "text": [
      "(0.0, 0.26, 0.74)\n"
     ]
    }
   ],
   "source": [
    "print(optimal_weights)"
   ]
  },
  {
   "cell_type": "markdown",
   "id": "4a8ed82b",
   "metadata": {},
   "source": [
    "- 가중치와 RFM점수를 계산하여 그룹을 나누어줌"
   ]
  },
  {
   "cell_type": "code",
   "execution_count": 109,
   "id": "e8a005a8",
   "metadata": {},
   "outputs": [],
   "source": [
    "score = optimal_weights[0]*result['Recency_R'] + \\\n",
    "        optimal_weights[1]*result['Frequency_F'] + \\\n",
    "        optimal_weights[2]*result['Monetary_M'] ## 고객별 점수 계산\n",
    " \n",
    "result['Class'] = get_score(class_level,score,True) ## 고객별 등급 부여"
   ]
  },
  {
   "cell_type": "markdown",
   "id": "72da315d",
   "metadata": {},
   "source": [
    "- 각 등급별 매출 기여도 확인"
   ]
  },
  {
   "cell_type": "code",
   "execution_count": 111,
   "id": "5a1676f3",
   "metadata": {},
   "outputs": [],
   "source": [
    "## 클래스별 고객 수 계산\n",
    "temp_rfm_score1 = result.groupby('Class')['Customer_ID'].count().reset_index().rename(columns={'Customer_ID':'Count'})\n",
    " \n",
    "## 클래스별 구매금액(매출)계산\n",
    "temp_rfm_score2 = result.groupby('Class')['Monetary'].sum().reset_index()\n",
    " \n",
    "## 클래스별 매출 기여도 계산\n",
    "temp_rfm_score2['Monetary'] = temp_rfm_score2['Monetary'].map(lambda x : x/total_amount_of_sales)\n",
    " \n",
    "## 데이터 결합\n",
    "result_df = pd.merge(temp_rfm_score1,temp_rfm_score2,how='left',on=('Class'))"
   ]
  },
  {
   "cell_type": "code",
   "execution_count": 112,
   "id": "ee9b9cab",
   "metadata": {},
   "outputs": [
    {
     "data": {
      "text/html": [
       "<div>\n",
       "<style scoped>\n",
       "    .dataframe tbody tr th:only-of-type {\n",
       "        vertical-align: middle;\n",
       "    }\n",
       "\n",
       "    .dataframe tbody tr th {\n",
       "        vertical-align: top;\n",
       "    }\n",
       "\n",
       "    .dataframe thead th {\n",
       "        text-align: right;\n",
       "    }\n",
       "</style>\n",
       "<table border=\"1\" class=\"dataframe\">\n",
       "  <thead>\n",
       "    <tr style=\"text-align: right;\">\n",
       "      <th></th>\n",
       "      <th>Class</th>\n",
       "      <th>Count</th>\n",
       "      <th>Monetary</th>\n",
       "    </tr>\n",
       "  </thead>\n",
       "  <tbody>\n",
       "    <tr>\n",
       "      <th>0</th>\n",
       "      <td>1</td>\n",
       "      <td>8005</td>\n",
       "      <td>0.806047</td>\n",
       "    </tr>\n",
       "    <tr>\n",
       "      <th>1</th>\n",
       "      <td>2</td>\n",
       "      <td>4554</td>\n",
       "      <td>0.104676</td>\n",
       "    </tr>\n",
       "    <tr>\n",
       "      <th>2</th>\n",
       "      <td>3</td>\n",
       "      <td>5175</td>\n",
       "      <td>0.058467</td>\n",
       "    </tr>\n",
       "    <tr>\n",
       "      <th>3</th>\n",
       "      <td>4</td>\n",
       "      <td>5124</td>\n",
       "      <td>0.023567</td>\n",
       "    </tr>\n",
       "    <tr>\n",
       "      <th>4</th>\n",
       "      <td>5</td>\n",
       "      <td>7016</td>\n",
       "      <td>0.007243</td>\n",
       "    </tr>\n",
       "  </tbody>\n",
       "</table>\n",
       "</div>"
      ],
      "text/plain": [
       "   Class  Count  Monetary\n",
       "0      1   8005  0.806047\n",
       "1      2   4554  0.104676\n",
       "2      3   5175  0.058467\n",
       "3      4   5124  0.023567\n",
       "4      5   7016  0.007243"
      ]
     },
     "execution_count": 112,
     "metadata": {},
     "output_type": "execute_result"
    }
   ],
   "source": [
    "result_df"
   ]
  },
  {
   "cell_type": "code",
   "execution_count": 114,
   "id": "eb5946d8",
   "metadata": {},
   "outputs": [
    {
     "data": {
      "text/plain": [
       "29874"
      ]
     },
     "execution_count": 114,
     "metadata": {},
     "output_type": "execute_result"
    }
   ],
   "source": [
    "result_df['Count'].sum()"
   ]
  },
  {
   "cell_type": "code",
   "execution_count": 127,
   "id": "ce6f7577",
   "metadata": {},
   "outputs": [
    {
     "data": {
      "text/html": [
       "<div>\n",
       "<style scoped>\n",
       "    .dataframe tbody tr th:only-of-type {\n",
       "        vertical-align: middle;\n",
       "    }\n",
       "\n",
       "    .dataframe tbody tr th {\n",
       "        vertical-align: top;\n",
       "    }\n",
       "\n",
       "    .dataframe thead th {\n",
       "        text-align: right;\n",
       "    }\n",
       "</style>\n",
       "<table border=\"1\" class=\"dataframe\">\n",
       "  <thead>\n",
       "    <tr style=\"text-align: right;\">\n",
       "      <th></th>\n",
       "      <th>Customer_ID</th>\n",
       "      <th>Recency</th>\n",
       "      <th>Frequency</th>\n",
       "      <th>Monetary</th>\n",
       "      <th>Recency_R</th>\n",
       "      <th>Frequency_F</th>\n",
       "      <th>Monetary_M</th>\n",
       "      <th>Class</th>\n",
       "    </tr>\n",
       "  </thead>\n",
       "  <tbody>\n",
       "    <tr>\n",
       "      <th>0</th>\n",
       "      <td>M000034966</td>\n",
       "      <td>30758400.0</td>\n",
       "      <td>49</td>\n",
       "      <td>616240</td>\n",
       "      <td>3</td>\n",
       "      <td>2</td>\n",
       "      <td>2</td>\n",
       "      <td>4</td>\n",
       "    </tr>\n",
       "    <tr>\n",
       "      <th>1</th>\n",
       "      <td>M000059535</td>\n",
       "      <td>5270400.0</td>\n",
       "      <td>1</td>\n",
       "      <td>46000</td>\n",
       "      <td>1</td>\n",
       "      <td>1</td>\n",
       "      <td>1</td>\n",
       "      <td>5</td>\n",
       "    </tr>\n",
       "    <tr>\n",
       "      <th>2</th>\n",
       "      <td>M000136117</td>\n",
       "      <td>31363200.0</td>\n",
       "      <td>121</td>\n",
       "      <td>28697031</td>\n",
       "      <td>5</td>\n",
       "      <td>3</td>\n",
       "      <td>5</td>\n",
       "      <td>1</td>\n",
       "    </tr>\n",
       "    <tr>\n",
       "      <th>3</th>\n",
       "      <td>M000201112</td>\n",
       "      <td>28598400.0</td>\n",
       "      <td>20</td>\n",
       "      <td>51420</td>\n",
       "      <td>2</td>\n",
       "      <td>2</td>\n",
       "      <td>1</td>\n",
       "      <td>5</td>\n",
       "    </tr>\n",
       "    <tr>\n",
       "      <th>4</th>\n",
       "      <td>M000225114</td>\n",
       "      <td>31449600.0</td>\n",
       "      <td>163</td>\n",
       "      <td>2084270</td>\n",
       "      <td>5</td>\n",
       "      <td>4</td>\n",
       "      <td>4</td>\n",
       "      <td>2</td>\n",
       "    </tr>\n",
       "  </tbody>\n",
       "</table>\n",
       "</div>"
      ],
      "text/plain": [
       "  Customer_ID     Recency  Frequency  Monetary  Recency_R  Frequency_F  \\\n",
       "0  M000034966  30758400.0         49    616240          3            2   \n",
       "1  M000059535   5270400.0          1     46000          1            1   \n",
       "2  M000136117  31363200.0        121  28697031          5            3   \n",
       "3  M000201112  28598400.0         20     51420          2            2   \n",
       "4  M000225114  31449600.0        163   2084270          5            4   \n",
       "\n",
       "   Monetary_M  Class  \n",
       "0           2      4  \n",
       "1           1      5  \n",
       "2           5      1  \n",
       "3           1      5  \n",
       "4           4      2  "
      ]
     },
     "execution_count": 127,
     "metadata": {},
     "output_type": "execute_result"
    }
   ],
   "source": [
    "result.head()"
   ]
  },
  {
   "cell_type": "code",
   "execution_count": 126,
   "id": "87a8195f",
   "metadata": {},
   "outputs": [
    {
     "data": {
      "text/plain": [
       "1    5976\n",
       "2    1040\n",
       "Name: Monetary_M, dtype: int64"
      ]
     },
     "execution_count": 126,
     "metadata": {},
     "output_type": "execute_result"
    }
   ],
   "source": [
    "result[result['Class'] == 5]['Monetary_M'].value_counts()"
   ]
  },
  {
   "cell_type": "code",
   "execution_count": 136,
   "id": "0d43934d",
   "metadata": {
    "scrolled": false
   },
   "outputs": [
    {
     "data": {
      "text/plain": [
       "연령대\n",
       "20대    1701\n",
       "30대    1825\n",
       "40대    1596\n",
       "50대    1191\n",
       "60대     529\n",
       "70대     174\n",
       "Name: 고객번호, dtype: int64"
      ]
     },
     "execution_count": 136,
     "metadata": {},
     "output_type": "execute_result"
    }
   ],
   "source": [
    "demo.loc[demo['고객번호'].isin(list(result[result['Class'] == 5]['Customer_ID']))].groupby('연령대').count()['고객번호']"
   ]
  },
  {
   "cell_type": "markdown",
   "id": "7ca9a066",
   "metadata": {},
   "source": [
    "## END"
   ]
  }
 ],
 "metadata": {
  "kernelspec": {
   "display_name": "Python 3",
   "language": "python",
   "name": "python3"
  },
  "language_info": {
   "codemirror_mode": {
    "name": "ipython",
    "version": 3
   },
   "file_extension": ".py",
   "mimetype": "text/x-python",
   "name": "python",
   "nbconvert_exporter": "python",
   "pygments_lexer": "ipython3",
   "version": "3.8.8"
  }
 },
 "nbformat": 4,
 "nbformat_minor": 5
}
